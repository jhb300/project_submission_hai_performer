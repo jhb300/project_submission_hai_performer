{
 "cells": [
  {
   "cell_type": "markdown",
   "id": "6fa28662-5b05-40c9-990e-dc92fc73f41e",
   "metadata": {
    "tags": []
   },
   "source": [
    "# Modelling Exploration Notebook V1\n",
    "\n",
    "This Notebook focuses on comparing different forecast models provided by GluonTS. <br /> \n",
    "Experiments were run using Python 3.9 and PyTorch 1.13. <br /> \n",
    "Compared were:\n",
    "- DeepAR (Salinas et al. 2020): [torch impl](https://github.com/awslabs/gluonts/blob/dev/src/gluonts/torch/model/deepar/estimator.py)\n",
    "- DeepState (Rangapuram et al. 2018): [mx impl](https://github.com/awslabs/gluonts/blob/dev/src/gluonts/mx/model/deepstate/_estimator.py)\n",
    "- MQ-CNN (Wen et al. 2017): [mx impl](https://github.com/awslabs/gluonts/blob/dev/src/gluonts/mx/model/seq2seq/_mq_dnn_estimator.py)"
   ]
  },
  {
   "cell_type": "code",
   "execution_count": 26,
   "id": "c2d66f5d-0c59-438b-9088-1a13ab3908c0",
   "metadata": {
    "tags": []
   },
   "outputs": [],
   "source": [
    "# Required Packages\n",
    "# !pip install -r ./src/requirements.txt"
   ]
  },
  {
   "cell_type": "code",
   "execution_count": 27,
   "id": "4c944b69-de31-4244-b298-156b6361a813",
   "metadata": {
    "tags": []
   },
   "outputs": [],
   "source": [
    "# Imports experiment script\n",
    "from src.forecast_experiment import run_experiment\n",
    "# Import packages\n",
    "from datetime import timedelta\n",
    "import json\n",
    "import matplotlib.pyplot as plt"
   ]
  },
  {
   "cell_type": "markdown",
   "id": "f7caf1fd-5419-4ed7-88fd-caf84c4e6b2f",
   "metadata": {
    "tags": []
   },
   "source": [
    "## Experiment Overview"
   ]
  },
  {
   "cell_type": "markdown",
   "id": "97643bac-9bd2-4fb2-af8b-a27d4b3500f7",
   "metadata": {
    "jp-MarkdownHeadingCollapsed": true,
    "tags": []
   },
   "source": [
    "### Define Configuration Store"
   ]
  },
  {
   "cell_type": "code",
   "execution_count": 41,
   "id": "5f018390-c368-46f7-8e78-cf7c0f95faf4",
   "metadata": {
    "tags": []
   },
   "outputs": [],
   "source": [
    "from sqlalchemy import create_engine, Column, Integer, Float, String, PickleType,  select\n",
    "# from sqlalchemy.ext.declarative import declarative_base\n",
    "from sqlalchemy.orm import declarative_base\n",
    "from sqlalchemy.orm import sessionmaker, relationship"
   ]
  },
  {
   "cell_type": "code",
   "execution_count": 42,
   "id": "0eddc5a7-7e1b-4820-a421-e42692bc7f0c",
   "metadata": {
    "tags": []
   },
   "outputs": [],
   "source": [
    "Base = declarative_base()\n",
    "\n",
    "class Forecast_Experiment(Base):\n",
    "    __tablename__ = 'forecast_experiment'\n",
    "    id = Column('id', Integer, primary_key=True)\n",
    "    model = Column('model name', String(20))\n",
    "    version = Column('version', Integer)\n",
    "    data_config = Column('data_config', PickleType)\n",
    "    model_config = Column('model_config', PickleType)\n",
    "    MASE = Column('MASE', Float)\n",
    "    MAPE = Column('MAPE', Float)\n",
    "    RMSE = Column('RMSE', Float)\n",
    "    wQL_10 = Column('wQL_10', Float)\n",
    "    wQL_50 = Column('wQL_50', Float)\n",
    "    wQL_90 = Column('wQL_90', Float)\n",
    "    avg_wQL = Column('avg_wQL', Float)"
   ]
  },
  {
   "cell_type": "code",
   "execution_count": 43,
   "id": "290176bd-2fba-4211-8c57-0e52740e2c86",
   "metadata": {
    "tags": []
   },
   "outputs": [],
   "source": [
    "# engine = create_engine('sqlite:///:memory:', echo=True)\n",
    "engine = create_engine(\"sqlite:///./config/forecast_config_v2.db\")\n",
    "\n",
    "Base.metadata.create_all(bind=engine)\n",
    "Session = sessionmaker(bind=engine)\n",
    "session = Session()"
   ]
  },
  {
   "cell_type": "markdown",
   "id": "6b5025c1-20ab-4590-80e6-7a1bae15b5c8",
   "metadata": {
    "jp-MarkdownHeadingCollapsed": true,
    "tags": []
   },
   "source": [
    "### Explore Experiments"
   ]
  },
  {
   "cell_type": "code",
   "execution_count": 37,
   "id": "0d5fa574-5d77-4e53-a979-ccf1c60c21b7",
   "metadata": {
    "tags": []
   },
   "outputs": [
    {
     "name": "stdout",
     "output_type": "stream",
     "text": [
      "torch_deepar \n",
      "        - model_config: epochs: 10, prediction_length: 56, num_layers: 2, hidden_size: 40, context_length: 56, lr: 0.001, weight_decay: 1e-08:\n",
      "        - MAPE: 0.19052389496105562,\n",
      "        - avg_wQL: 0.15815992665967143,\n",
      "        \n",
      "torch_deepar \n",
      "        - model_config: epochs: 200, prediction_length: 56, num_layers: 2, hidden_size: 40, context_length: 56, lr: 0.001, weight_decay: 1e-08:\n",
      "        - MAPE: 0.0764770427717032,\n",
      "        - avg_wQL: 0.06275540445735626,\n",
      "        \n",
      "torch_deepar \n",
      "        - model_config: epochs: 400, prediction_length: 56, num_layers: 2, hidden_size: 40, context_length: 56, lr: 0.001, weight_decay: 1e-08:\n",
      "        - MAPE: 0.06384816226114393,\n",
      "        - avg_wQL: 0.05386742979053971,\n",
      "        \n",
      "torch_deepar \n",
      "        - model_config: epochs: 200, prediction_length: 56, num_layers: 4, hidden_size: 40, context_length: 56, lr: 0.001, weight_decay: 1e-08:\n",
      "        - MAPE: 0.10102059509682562,\n",
      "        - avg_wQL: 0.08651877718452138,\n",
      "        \n",
      "torch_deepar \n",
      "        - model_config: epochs: 400, prediction_length: 56, num_layers: 4, hidden_size: 40, context_length: 56, lr: 0.001, weight_decay: 1e-08:\n",
      "        - MAPE: 0.08339516970166147,\n",
      "        - avg_wQL: 0.072370957789048,\n",
      "        \n",
      "torch_deepar \n",
      "        - model_config: epochs: 1000, prediction_length: 56, num_layers: 4, hidden_size: 40, context_length: 56, lr: 0.001, weight_decay: 1e-08:\n",
      "        - MAPE: 0.08206782101100342,\n",
      "        - avg_wQL: 0.07117744262782484,\n",
      "        \n",
      "torch_deepar \n",
      "        - model_config: epochs: 150, prediction_length: 56, num_layers: 4, hidden_size: 40, context_length: 56, lr: 0.001, weight_decay: 1e-08:\n",
      "        - MAPE: 0.12942370844974463,\n",
      "        - avg_wQL: 0.11538632056465804,\n",
      "        \n",
      "torch_deepar \n",
      "        - model_config: epochs: 150, prediction_length: 56, num_layers: 4, hidden_size: 40, context_length: 56, lr: 0.001, weight_decay: 1e-08:\n",
      "        - MAPE: 0.12853513790245066,\n",
      "        - avg_wQL: 0.11614946049906973,\n",
      "        \n",
      "torch_deepar \n",
      "        - model_config: epochs: 400, prediction_length: 56, num_layers: 2, hidden_size: 64, context_length: 56, lr: 0.001, weight_decay: 1e-08:\n",
      "        - MAPE: 0.0787130558043697,\n",
      "        - avg_wQL: 0.06432785136177464,\n",
      "        \n",
      "torch_deepar \n",
      "        - model_config: epochs: 200, prediction_length: 20, num_layers: 2, hidden_size: 64, context_length: 56, lr: 0.001, weight_decay: 1e-08:\n",
      "        - MAPE: 0.25167785215182853,\n",
      "        - avg_wQL: 0.20788216527682826,\n",
      "        \n",
      "torch_deepar \n",
      "        - model_config: epochs: 1000, prediction_length: 20, num_layers: 8, hidden_size: 64, context_length: 56, lr: 0.001, weight_decay: 1e-08:\n",
      "        - MAPE: 0.04679007808624215,\n",
      "        - avg_wQL: 0.03054266891615841,\n",
      "        \n",
      "torch_deepar \n",
      "        - model_config: epochs: 300, prediction_length: 56, num_layers: 2, hidden_size: 32, context_length: 56, lr: 0.001, weight_decay: 1e-08:\n",
      "        - MAPE: 0.10054330305865608,\n",
      "        - avg_wQL: 0.08672542322032918,\n",
      "        \n",
      "torch_deepar \n",
      "        - model_config: epochs: 300, prediction_length: 56, num_layers: 2, hidden_size: 32, context_length: 56, lr: 0.001, weight_decay: 1e-08:\n",
      "        - MAPE: 0.07823470435375625,\n",
      "        - avg_wQL: 0.06519428965834421,\n",
      "        \n",
      "torch_deepar \n",
      "        - model_config: epochs: 300, prediction_length: 56, num_layers: 2, hidden_size: 32, context_length: 56, lr: 0.001, weight_decay: 1e-08:\n",
      "        - MAPE: 0.08441962087801098,\n",
      "        - avg_wQL: 0.06365827316647153,\n",
      "        \n",
      "torch_deepar \n",
      "        - model_config: epochs: 300, prediction_length: 56, num_layers: 2, hidden_size: 32, context_length: 56, lr: 0.001, weight_decay: 1e-08:\n",
      "        - MAPE: 0.10058064841835758,\n",
      "        - avg_wQL: 0.08470685444169242,\n",
      "        \n",
      "torch_deepar \n",
      "        - model_config: epochs: 400, prediction_length: 56, num_layers: 2, hidden_size: 40, context_length: 100, lr: 0.001, weight_decay: 1e-08:\n",
      "        - MAPE: 0.05248577369460426,\n",
      "        - avg_wQL: 0.04011049213329933,\n",
      "        \n",
      "torch_deepar \n",
      "        - model_config: epochs: 400, prediction_length: 56, num_layers: 2, hidden_size: 40, context_length: 200, lr: 0.001, weight_decay: 1e-08:\n",
      "        - MAPE: 0.04867304946676913,\n",
      "        - avg_wQL: 0.035919825705461,\n",
      "        \n",
      "torch_deepar \n",
      "        - model_config: epochs: 400, prediction_length: 56, num_layers: 2, hidden_size: 40, context_length: 400, lr: 0.001, weight_decay: 1e-08:\n",
      "        - MAPE: 0.22394919154192408,\n",
      "        - avg_wQL: 0.19654920751188157,\n",
      "        \n",
      "torch_deepar \n",
      "        - model_config: epochs: 400, prediction_length: 56, num_layers: 2, hidden_size: 60, context_length: 200, lr: 0.001, weight_decay: 1e-08:\n",
      "        - MAPE: 0.04398518378674155,\n",
      "        - avg_wQL: 0.03393084310078053,\n",
      "        \n",
      "torch_deepar \n",
      "        - model_config: epochs: 400, prediction_length: 56, num_layers: 2, hidden_size: 60, context_length: 200, lr: 0.001, weight_decay: 1e-08:\n",
      "        - MAPE: 0.06746928493460931,\n",
      "        - avg_wQL: 0.057841898389463596,\n",
      "        \n",
      "torch_deepar \n",
      "        - model_config: epochs: 400, prediction_length: 56, num_layers: 2, hidden_size: 30, context_length: 200, lr: 0.001, weight_decay: 1e-08:\n",
      "        - MAPE: 0.056454077139499466,\n",
      "        - avg_wQL: 0.04784904657624198,\n",
      "        \n",
      "torch_deepar \n",
      "        - model_config: epochs: 800, prediction_length: 56, num_layers: 2, hidden_size: 60, context_length: 200, lr: 0.01, weight_decay: 1e-08:\n",
      "        - MAPE: 0.09268907259963062,\n",
      "        - avg_wQL: 0.08449144843247199,\n",
      "        \n",
      "torch_deepar \n",
      "        - model_config: epochs: 800, prediction_length: 56, num_layers: 2, hidden_size: 60, context_length: 200, lr: 0.01, weight_decay: 1e-12:\n",
      "        - MAPE: 0.09130275377223995,\n",
      "        - avg_wQL: 0.08104598101304648,\n",
      "        \n",
      "torch_deepar \n",
      "        - model_config: epochs: 800, prediction_length: 56, num_layers: 4, hidden_size: 60, context_length: 200, lr: 0.1, weight_decay: 0.0001:\n",
      "        - MAPE: 0.22200159424287763,\n",
      "        - avg_wQL: 0.19354116256310616,\n",
      "        \n",
      "mx_deepstate \n",
      "        - model_config: epochs: 10, prediction_length: 56, num_layers: 4, hidden_size: 20, lr: 0.1, weight_decay: 0.0001:\n",
      "        - MAPE: 0.1119645166753836,\n",
      "        - avg_wQL: 0.08272028619775758,\n",
      "        \n",
      "mx_deepstate \n",
      "        - model_config: epochs: 50, prediction_length: 56, num_layers: 2, hidden_size: 20, lr: 0.1, weight_decay: 0.0001:\n",
      "        - MAPE: 0.09030437530567002,\n",
      "        - avg_wQL: 0.06600377101445432,\n",
      "        \n"
     ]
    }
   ],
   "source": [
    "q1 = select(Forecast_Experiment)\n",
    "q1_result = session.execute(q1) \n",
    "\n",
    "for s in q1_result.scalars():\n",
    "    print(f\"\"\"{s.model} \n",
    "        - model_config: {str(s.model_config)[1:-1].replace(\"'\",\"\")}:\n",
    "        - MAPE: {s.MAPE},\n",
    "        - avg_wQL: {s.avg_wQL},\n",
    "        \"\"\"\n",
    "    )"
   ]
  },
  {
   "cell_type": "markdown",
   "id": "9311b35a-d43c-4502-878c-9fd0773ad097",
   "metadata": {
    "jp-MarkdownHeadingCollapsed": true,
    "tags": []
   },
   "source": [
    "### Migrate Experiments"
   ]
  },
  {
   "cell_type": "markdown",
   "id": "e7181a0d-1fda-43bb-90be-6204d1f9f71c",
   "metadata": {},
   "source": [
    "The Experiments from the modelling_experimentation_v1 notebook were stored in two different Tables. <br />\n",
    "I exported them to a json file and used the below code to read the file and store previous experiments in the new database with dynamic config attributes."
   ]
  },
  {
   "cell_type": "code",
   "execution_count": 30,
   "id": "8af8550e-8bc6-4e4f-aa90-a382316c3edd",
   "metadata": {
    "tags": []
   },
   "outputs": [],
   "source": [
    "import json\n",
    " \n",
    "# Opening JSON file\n",
    "with open('data_v2.json') as json_file:\n",
    "    data = json.load(json_file)"
   ]
  },
  {
   "cell_type": "code",
   "execution_count": 36,
   "id": "e61a2f2e-bc86-43e1-a679-03c1bdf8098a",
   "metadata": {
    "tags": []
   },
   "outputs": [],
   "source": [
    "for e in data:\n",
    "    experiment_config = Forecast_Experiment(\n",
    "        model = e['name'],\n",
    "        version = 1,\n",
    "        data_config = {\n",
    "            'target':e['target'],\n",
    "            'past_rts_col':e['past_rts_col'],\n",
    "            'windows':1,\n",
    "        },\n",
    "        model_config = {\n",
    "            'epochs':e['epochs'],\n",
    "            'prediction_length':e['prediction_length'],\n",
    "            'num_layers':e['num_layers'],\n",
    "            'hidden_size':e['hidden_size'],\n",
    "            # 'context_length':e['context_length'],\n",
    "            'lr':e['lr'],\n",
    "            'weight_decay':e['weight_decay'],\n",
    "        },\n",
    "        MASE = e['MASE'],\n",
    "        MAPE = e['MAPE'],\n",
    "        RMSE = e['RMSE'],\n",
    "        wQL_10 = e['wQL_10'],\n",
    "        wQL_50 = e['wQL_50'],\n",
    "        wQL_90 = e['wQL_90'],\n",
    "        avg_wQL = e['avg_wQL']\n",
    "    )\n",
    "    session.add(experiment_config)\n",
    "    session.commit()"
   ]
  },
  {
   "cell_type": "markdown",
   "id": "6064ad00-6aeb-4a4b-81f7-1d0bb4ead289",
   "metadata": {
    "tags": []
   },
   "source": [
    "## DeepAR ([torch](https://github.com/awslabs/gluonts/blob/dev/src/gluonts/torch/model/deepar/estimator.py))"
   ]
  },
  {
   "cell_type": "markdown",
   "id": "630727a2-99a1-43a1-816e-c8ebb79bc83f",
   "metadata": {},
   "source": [
    "DeepAR is a methodology for producing accurate probabilistic forecasts, based on training an autoregressive recurrent neural network model on a large number of related time series."
   ]
  },
  {
   "cell_type": "code",
   "execution_count": 17,
   "id": "c2309421-6814-40f1-a4b0-19c3adb59411",
   "metadata": {
    "tags": []
   },
   "outputs": [],
   "source": [
    "from gluonts.torch import DeepAREstimator"
   ]
  },
  {
   "cell_type": "code",
   "execution_count": 13,
   "id": "c056fdcc-6c1f-4f1a-a783-27889e87af49",
   "metadata": {
    "tags": []
   },
   "outputs": [],
   "source": [
    "# Data specs\n",
    "input_paths = [\n",
    "    \"../data_engineering/financial_ts/indices.csv\",\n",
    "    \"../data_engineering/financial_ts/ww_gdp.csv\",\n",
    "    \"../data_engineering/timeseries_data/ts_dgelt_events.csv\"\n",
    "]\n",
    "target_col = 'ts_MSCI_World'\n",
    "with open('./config/past_rts_cols.json', 'r') as fp:\n",
    "    past_rts_col = json.load(fp)['version_1']\n",
    "windows = 1\n",
    "\n",
    "# Estimator specs\n",
    "version = 1\n",
    "prediction_length=56\n",
    "max_epochs = 2\n",
    "num_layers=4\n",
    "hidden_size=60\n",
    "context_length = 200 # implement in script\n",
    "weight_decay = 1e-4\n",
    "lr = 1e-1\n",
    "\n",
    "# Trainer specs\n",
    "accelerator = \"cpu\"\n",
    "devices = 1"
   ]
  },
  {
   "cell_type": "code",
   "execution_count": 14,
   "id": "fb0fe261-1e72-47c7-b972-a6354e7a326a",
   "metadata": {
    "tags": []
   },
   "outputs": [],
   "source": [
    "# Define estimator\n",
    "deepar_estimator = DeepAREstimator(\n",
    "    prediction_length=prediction_length,\n",
    "    num_layers=num_layers,  \n",
    "    hidden_size=hidden_size, \n",
    "    weight_decay=weight_decay,\n",
    "    context_length=context_length,\n",
    "    lr = lr,\n",
    "    freq=\"W\",\n",
    "    trainer_kwargs={\n",
    "        \"max_epochs\": max_epochs, \n",
    "        \"accelerator\":accelerator, \n",
    "        \"devices\":devices,\n",
    "    }\n",
    ")"
   ]
  },
  {
   "cell_type": "code",
   "execution_count": 16,
   "id": "7fbecab8-444d-4fe4-bde3-1569fc5eb167",
   "metadata": {
    "tags": []
   },
   "outputs": [],
   "source": [
    "# Start Experiment\n",
    "forecasts, tss, agg_metrics = run_experiment(\n",
    "    input_paths=input_paths,\n",
    "    target_col=target_col,\n",
    "    prediction_length=prediction_length,\n",
    "    windows=windows,\n",
    "    past_rts_col=past_rts_col,\n",
    "    estimator=deepar_estimator,\n",
    ")"
   ]
  },
  {
   "cell_type": "code",
   "execution_count": 19,
   "id": "b3908486-3c33-4f06-ad3e-224520caca97",
   "metadata": {
    "tags": []
   },
   "outputs": [],
   "source": [
    "# Plot Forecast\n",
    "for ts, forecast in zip(tss, forecasts):\n",
    "    plt.plot(ts.to_timestamp())\n",
    "    forecast.plot()"
   ]
  },
  {
   "cell_type": "code",
   "execution_count": null,
   "id": "a36dbe32-57b9-4d92-abc5-591a9948e7e7",
   "metadata": {},
   "outputs": [],
   "source": [
    "# Add experiment to database store\n",
    "experiment_config = Forecast_Experiment(\n",
    "    model = 'torch_deepar',\n",
    "    version = version,\n",
    "    data_config = {\n",
    "        'target':target_col,\n",
    "        'past_rts_col':past_rts_col,\n",
    "        'windows':windows,\n",
    "    },\n",
    "    model_config = {\n",
    "        'epochs':max_epochs,\n",
    "        'prediction_length':prediction_length,\n",
    "        'num_layers':num_layers,\n",
    "        'hidden_size':hidden_size,\n",
    "        'context_length':context_length,\n",
    "        'lr':lr,\n",
    "        'weight_decay':weight_decay,\n",
    "    },\n",
    "    MASE = agg_metrics['MASE'],\n",
    "    MAPE = agg_metrics['MAPE'],\n",
    "    RMSE = agg_metrics['RMSE'],\n",
    "    wQL_10 = agg_metrics['wQuantileLoss[0.1]'],\n",
    "    wQL_50 = agg_metrics['wQuantileLoss[0.5]'],\n",
    "    wQL_90 = agg_metrics['wQuantileLoss[0.9]'],\n",
    "    avg_wQL = agg_metrics['mean_wQuantileLoss']\n",
    ")\n",
    "session.add(experiment_config)\n",
    "session.commit()"
   ]
  },
  {
   "cell_type": "markdown",
   "id": "ab88f6d4-e890-41bb-9ab4-3a9523b18c30",
   "metadata": {
    "jp-MarkdownHeadingCollapsed": true,
    "tags": []
   },
   "source": [
    "## DeepState ([mx](https://github.com/awslabs/gluonts/blob/dev/src/gluonts/mx/model/deepstate/_estimator.py))"
   ]
  },
  {
   "cell_type": "markdown",
   "id": "827b8258-5a20-4598-a301-b91465d1cdcd",
   "metadata": {},
   "source": [
    "DeepState is a novel approach to probabilistic time series forecasting that combines state space models with deep learning. By parametrizing a per-time-series linear state space model with a jointly-learned recurrent neural network, our method retains desired properties of state space models such as data efficiency and interpretability, while making use of the ability to learn complex patterns from raw data offered by deep learning approaches."
   ]
  },
  {
   "cell_type": "code",
   "execution_count": 25,
   "id": "44abff25-80bb-4ebe-a376-d1e8312f6479",
   "metadata": {
    "tags": []
   },
   "outputs": [],
   "source": [
    "from gluonts.mx import DeepStateEstimator\n",
    "from gluonts.mx import Trainer"
   ]
  },
  {
   "cell_type": "code",
   "execution_count": 45,
   "id": "3fb5510f-278b-48b8-9e93-6f955156b850",
   "metadata": {
    "tags": []
   },
   "outputs": [],
   "source": [
    "# Data specs\n",
    "input_paths = [\n",
    "    \"../data_engineering/financial_ts/indices.csv\",\n",
    "    \"../data_engineering/financial_ts/ww_gdp.csv\",\n",
    "    \"../data_engineering/timeseries_data/ts_dgelt_events.csv\"\n",
    "]\n",
    "target_col = 'ts_MSCI_World'\n",
    "with open('./config/past_rts_cols.json', 'r') as fp:\n",
    "    past_rts_col = json.load(fp)['version_1']\n",
    "windows = 1\n",
    "\n",
    "# Estimator specs\n",
    "version = 1\n",
    "prediction_length=56\n",
    "num_layers=2\n",
    "hidden_size=20\n",
    "\n",
    "# Trainer specs\n",
    "max_epochs = 2\n",
    "lr = 1e-1\n",
    "weight_decay = 1e-4"
   ]
  },
  {
   "cell_type": "code",
   "execution_count": 35,
   "id": "990009b6-8107-4f2d-a7eb-d0b013f4048f",
   "metadata": {
    "tags": []
   },
   "outputs": [],
   "source": [
    "# Define estimator\n",
    "deepstate_estimator = DeepStateEstimator(\n",
    "    prediction_length=prediction_length,\n",
    "    num_layers=num_layers, \n",
    "    num_cells=hidden_size, \n",
    "    use_feat_static_cat=False,\n",
    "    cardinality=[],\n",
    "    trainer = Trainer(\n",
    "        epochs=max_epochs,\n",
    "        learning_rate=lr,\n",
    "        weight_decay=weight_decay,\n",
    "    ),\n",
    "    freq=\"W\",\n",
    ")"
   ]
  },
  {
   "cell_type": "code",
   "execution_count": 36,
   "id": "f7e30987-b4de-41db-b228-d9bdaed3a658",
   "metadata": {
    "tags": []
   },
   "outputs": [
    {
     "name": "stderr",
     "output_type": "stream",
     "text": [
      "\n",
      "  0%|          | 0/50 [00:00<?, ?it/s]\u001b[A\n",
      "  4%|▍         | 2/50 [00:11<04:35,  5.74s/it, epoch=1/2, avg_epoch_loss=7.57]\u001b[A\n",
      " 16%|█▌        | 8/50 [00:21<01:42,  2.45s/it, epoch=1/2, avg_epoch_loss=7.27]\u001b[A\n",
      " 28%|██▊       | 14/50 [00:31<01:13,  2.04s/it, epoch=1/2, avg_epoch_loss=6.94]\u001b[A\n",
      " 40%|████      | 20/50 [00:41<00:56,  1.88s/it, epoch=1/2, avg_epoch_loss=6.8] \u001b[A\n",
      " 52%|█████▏    | 26/50 [00:52<00:44,  1.84s/it, epoch=1/2, avg_epoch_loss=6.71]\u001b[A\n",
      " 66%|██████▌   | 33/50 [01:03<00:30,  1.77s/it, epoch=1/2, avg_epoch_loss=6.65]\u001b[A\n",
      " 80%|████████  | 40/50 [01:15<00:17,  1.73s/it, epoch=1/2, avg_epoch_loss=6.59]\u001b[A\n",
      "100%|██████████| 50/50 [01:32<00:00,  1.85s/it, epoch=1/2, avg_epoch_loss=6.55]\u001b[A\n",
      "\n",
      "  0%|          | 0/50 [00:00<?, ?it/s]\u001b[A\n",
      " 14%|█▍        | 7/50 [00:11<01:11,  1.66s/it, epoch=2/2, avg_epoch_loss=6.27]\u001b[A\n",
      " 28%|██▊       | 14/50 [00:23<01:01,  1.71s/it, epoch=2/2, avg_epoch_loss=6.25]\u001b[A\n",
      " 40%|████      | 20/50 [00:34<00:51,  1.70s/it, epoch=2/2, avg_epoch_loss=6.23]\u001b[A\n",
      " 52%|█████▏    | 26/50 [00:44<00:40,  1.70s/it, epoch=2/2, avg_epoch_loss=6.19]\u001b[A\n",
      " 64%|██████▍   | 32/50 [00:54<00:30,  1.70s/it, epoch=2/2, avg_epoch_loss=6.19]\u001b[A\n",
      " 76%|███████▌  | 38/50 [01:04<00:20,  1.70s/it, epoch=2/2, avg_epoch_loss=6.18]\u001b[A\n",
      " 88%|████████▊ | 44/50 [01:14<00:10,  1.70s/it, epoch=2/2, avg_epoch_loss=6.16]\u001b[A\n",
      "100%|██████████| 50/50 [01:25<00:00,  1.70s/it, epoch=2/2, avg_epoch_loss=6.14]\u001b[A\n",
      "\n",
      "Running evaluation: 1it [00:01,  1.01s/it]\n"
     ]
    }
   ],
   "source": [
    "# Start Experiment\n",
    "forecasts, tss, agg_metrics = run_experiment(\n",
    "    input_paths=input_paths,\n",
    "    target_col=target_col,\n",
    "    prediction_length=prediction_length,\n",
    "    windows=windows,\n",
    "    past_rts_col=past_rts_col,\n",
    "    estimator=deepstate_estimator,\n",
    ")"
   ]
  },
  {
   "cell_type": "code",
   "execution_count": 39,
   "id": "5799173a-ed67-4c22-a577-6942e6f28745",
   "metadata": {
    "tags": []
   },
   "outputs": [
    {
     "data": {
      "image/png": "[encoded data removed]",
      "text/plain": [
       "<Figure size 432x288 with 1 Axes>"
      ]
     },
     "metadata": {
      "needs_background": "light"
     },
     "output_type": "display_data"
    }
   ],
   "source": [
    "# Plot forecast\n",
    "for ts, forecast in zip(tss, forecasts):\n",
    "    plt.plot(ts.to_timestamp())\n",
    "    forecast.plot()"
   ]
  },
  {
   "cell_type": "code",
   "execution_count": 46,
   "id": "938d84d4-10c8-45bb-bf0e-d823ff04c327",
   "metadata": {
    "tags": []
   },
   "outputs": [],
   "source": [
    "# Add experiment to database store\n",
    "experiment_config = Forecast_Experiment(\n",
    "    model = 'mx_deepstate',\n",
    "    version = version,\n",
    "    data_config = {\n",
    "        'target':target_col,\n",
    "        'past_rts_col':past_rts_col,\n",
    "        'windows':windows,\n",
    "    },\n",
    "    model_config = {\n",
    "        'epochs':max_epochs,\n",
    "        'prediction_length':prediction_length,\n",
    "        'num_layers':num_layers,\n",
    "        'hidden_size':hidden_size,\n",
    "        'lr':lr,\n",
    "        'weight_decay':weight_decay,\n",
    "    },\n",
    "    MASE = agg_metrics['MASE'],\n",
    "    MAPE = agg_metrics['MAPE'],\n",
    "    RMSE = agg_metrics['RMSE'],\n",
    "    wQL_10 = agg_metrics['wQuantileLoss[0.1]'],\n",
    "    wQL_50 = agg_metrics['wQuantileLoss[0.5]'],\n",
    "    wQL_90 = agg_metrics['wQuantileLoss[0.9]'],\n",
    "    avg_wQL = agg_metrics['mean_wQuantileLoss']\n",
    ")\n",
    "session.add(experiment_config)\n",
    "session.commit() "
   ]
  },
  {
   "cell_type": "markdown",
   "id": "e1cbfe2d-c175-4846-8999-8c56aca7cbcf",
   "metadata": {
    "jp-MarkdownHeadingCollapsed": true,
    "tags": []
   },
   "source": [
    "## MQ-CNN ([mx](https://github.com/awslabs/gluonts/blob/dev/src/gluonts/mx/model/seq2seq/_mq_dnn_estimator.py))"
   ]
  },
  {
   "cell_type": "markdown",
   "id": "bbbc5d17-c691-4a4b-b57f-c82ef22ff9b2",
   "metadata": {},
   "source": [
    "MQ-CNN is a general probabilistic multi-step time series regression model. It exploits the expressiveness and temporal nature of Sequence-to-Sequence Neural Networks (e.g. recurrent and convolutional structures), the nonparametric nature of Quantile Regression and the efficiency of Direct Multi-Horizon Forecasting.\n"
   ]
  },
  {
   "cell_type": "code",
   "execution_count": 38,
   "id": "8430f487-7d10-4a37-ba99-8230db875ffc",
   "metadata": {
    "tags": []
   },
   "outputs": [],
   "source": [
    "from gluonts.mx import MQCNNEstimator\n",
    "from gluonts.mx import Trainer"
   ]
  },
  {
   "cell_type": "code",
   "execution_count": null,
   "id": "cb96de68-bdc3-46d1-b70a-9d716ed17d3d",
   "metadata": {},
   "outputs": [],
   "source": [
    "# Data specs\n",
    "input_paths = [\n",
    "    \"../data_engineering/financial_ts/indices.csv\",\n",
    "    \"../data_engineering/financial_ts/ww_gdp.csv\",\n",
    "    \"../data_engineering/timeseries_data/ts_dgelt_events.csv\"\n",
    "]\n",
    "target_col = 'ts_MSCI_World'\n",
    "with open('./config/past_rts_cols.json', 'r') as fp:\n",
    "    past_rts_col = json.load(fp)['version_1']\n",
    "windows = 1\n",
    "\n",
    "# Estimator specs\n",
    "version = 1\n",
    "prediction_length=56\n",
    "num_layers=2\n",
    "hidden_size=20\n",
    "\n",
    "# Trainer specs\n",
    "max_epochs = 2\n",
    "lr = 1e-1\n",
    "weight_decay = 1e-4"
   ]
  },
  {
   "cell_type": "code",
   "execution_count": null,
   "id": "4756d1e8-f9c3-498f-acd9-9adbeedaf8fa",
   "metadata": {},
   "outputs": [],
   "source": [
    "deepstate_estimator = DeepStateEstimator(\n",
    "    prediction_length=prediction_length,\n",
    "    num_layers=num_layers, \n",
    "    num_cells=hidden_size, \n",
    "    use_feat_static_cat=False,\n",
    "    cardinality=[],\n",
    "    trainer = Trainer(\n",
    "        epochs=max_epochs,\n",
    "        learning_rate=lr,\n",
    "        weight_decay=weight_decay,\n",
    "    ),\n",
    "    freq=\"W\",\n",
    ")"
   ]
  },
  {
   "cell_type": "code",
   "execution_count": null,
   "id": "d84ef8ff-8060-460c-8b53-2ea1f59dab3a",
   "metadata": {},
   "outputs": [],
   "source": [
    "# Start Experiment\n",
    "forecasts, tss, agg_metrics = run_experiment(\n",
    "    input_paths=input_paths,\n",
    "    target_col=target_col,\n",
    "    prediction_length=prediction_length,\n",
    "    windows=windows,\n",
    "    past_rts_col=past_rts_col,\n",
    "    estimator=deepstate_estimator,\n",
    ")"
   ]
  },
  {
   "cell_type": "code",
   "execution_count": null,
   "id": "c9f7eab6-682c-411f-9009-c4a1aa7d0159",
   "metadata": {},
   "outputs": [],
   "source": [
    "# Plot forecast\n",
    "for ts, forecast in zip(tss, forecasts):\n",
    "    plt.plot(ts.to_timestamp())\n",
    "    forecast.plot()"
   ]
  },
  {
   "cell_type": "code",
   "execution_count": null,
   "id": "b9a3000d-5888-4b19-b79d-9ebd467389b5",
   "metadata": {},
   "outputs": [],
   "source": [
    "# Add experiment to database store\n",
    "experiment_config = Forecast_Experiment(\n",
    "    model = 'mx_deepstate',\n",
    "    version = version,\n",
    "    data_config = {\n",
    "        'target':target_col,\n",
    "        'past_rts_col':past_rts_col,\n",
    "        'windows':windows,\n",
    "    },\n",
    "    model_config = {\n",
    "        'epochs':max_epochs,\n",
    "        'prediction_length':prediction_length,\n",
    "        'num_layers':num_layers,\n",
    "        'hidden_size':hidden_size,\n",
    "        'lr':lr,\n",
    "        'weight_decay':weight_decay,\n",
    "    },\n",
    "    MASE = agg_metrics['MASE'],\n",
    "    MAPE = agg_metrics['MAPE'],\n",
    "    RMSE = agg_metrics['RMSE'],\n",
    "    wQL_10 = agg_metrics['wQuantileLoss[0.1]'],\n",
    "    wQL_50 = agg_metrics['wQuantileLoss[0.5]'],\n",
    "    wQL_90 = agg_metrics['wQuantileLoss[0.9]'],\n",
    "    avg_wQL = agg_metrics['mean_wQuantileLoss']\n",
    ")\n",
    "session.add(experiment_config)\n",
    "session.commit() "
   ]
  }
 ],
 "metadata": {
  "availableInstances": [
   {
    "_defaultOrder": 0,
    "_isFastLaunch": true,
    "category": "General purpose",
    "gpuNum": 0,
    "hideHardwareSpecs": false,
    "memoryGiB": 4,
    "name": "ml.t3.medium",
    "vcpuNum": 2
   },
   {
    "_defaultOrder": 1,
    "_isFastLaunch": false,
    "category": "General purpose",
    "gpuNum": 0,
    "hideHardwareSpecs": false,
    "memoryGiB": 8,
    "name": "ml.t3.large",
    "vcpuNum": 2
   },
   {
    "_defaultOrder": 2,
    "_isFastLaunch": false,
    "category": "General purpose",
    "gpuNum": 0,
    "hideHardwareSpecs": false,
    "memoryGiB": 16,
    "name": "ml.t3.xlarge",
    "vcpuNum": 4
   },
   {
    "_defaultOrder": 3,
    "_isFastLaunch": false,
    "category": "General purpose",
    "gpuNum": 0,
    "hideHardwareSpecs": false,
    "memoryGiB": 32,
    "name": "ml.t3.2xlarge",
    "vcpuNum": 8
   },
   {
    "_defaultOrder": 4,
    "_isFastLaunch": true,
    "category": "General purpose",
    "gpuNum": 0,
    "hideHardwareSpecs": false,
    "memoryGiB": 8,
    "name": "ml.m5.large",
    "vcpuNum": 2
   },
   {
    "_defaultOrder": 5,
    "_isFastLaunch": false,
    "category": "General purpose",
    "gpuNum": 0,
    "hideHardwareSpecs": false,
    "memoryGiB": 16,
    "name": "ml.m5.xlarge",
    "vcpuNum": 4
   },
   {
    "_defaultOrder": 6,
    "_isFastLaunch": false,
    "category": "General purpose",
    "gpuNum": 0,
    "hideHardwareSpecs": false,
    "memoryGiB": 32,
    "name": "ml.m5.2xlarge",
    "vcpuNum": 8
   },
   {
    "_defaultOrder": 7,
    "_isFastLaunch": false,
    "category": "General purpose",
    "gpuNum": 0,
    "hideHardwareSpecs": false,
    "memoryGiB": 64,
    "name": "ml.m5.4xlarge",
    "vcpuNum": 16
   },
   {
    "_defaultOrder": 8,
    "_isFastLaunch": false,
    "category": "General purpose",
    "gpuNum": 0,
    "hideHardwareSpecs": false,
    "memoryGiB": 128,
    "name": "ml.m5.8xlarge",
    "vcpuNum": 32
   },
   {
    "_defaultOrder": 9,
    "_isFastLaunch": false,
    "category": "General purpose",
    "gpuNum": 0,
    "hideHardwareSpecs": false,
    "memoryGiB": 192,
    "name": "ml.m5.12xlarge",
    "vcpuNum": 48
   },
   {
    "_defaultOrder": 10,
    "_isFastLaunch": false,
    "category": "General purpose",
    "gpuNum": 0,
    "hideHardwareSpecs": false,
    "memoryGiB": 256,
    "name": "ml.m5.16xlarge",
    "vcpuNum": 64
   },
   {
    "_defaultOrder": 11,
    "_isFastLaunch": false,
    "category": "General purpose",
    "gpuNum": 0,
    "hideHardwareSpecs": false,
    "memoryGiB": 384,
    "name": "ml.m5.24xlarge",
    "vcpuNum": 96
   },
   {
    "_defaultOrder": 12,
    "_isFastLaunch": false,
    "category": "General purpose",
    "gpuNum": 0,
    "hideHardwareSpecs": false,
    "memoryGiB": 8,
    "name": "ml.m5d.large",
    "vcpuNum": 2
   },
   {
    "_defaultOrder": 13,
    "_isFastLaunch": false,
    "category": "General purpose",
    "gpuNum": 0,
    "hideHardwareSpecs": false,
    "memoryGiB": 16,
    "name": "ml.m5d.xlarge",
    "vcpuNum": 4
   },
   {
    "_defaultOrder": 14,
    "_isFastLaunch": false,
    "category": "General purpose",
    "gpuNum": 0,
    "hideHardwareSpecs": false,
    "memoryGiB": 32,
    "name": "ml.m5d.2xlarge",
    "vcpuNum": 8
   },
   {
    "_defaultOrder": 15,
    "_isFastLaunch": false,
    "category": "General purpose",
    "gpuNum": 0,
    "hideHardwareSpecs": false,
    "memoryGiB": 64,
    "name": "ml.m5d.4xlarge",
    "vcpuNum": 16
   },
   {
    "_defaultOrder": 16,
    "_isFastLaunch": false,
    "category": "General purpose",
    "gpuNum": 0,
    "hideHardwareSpecs": false,
    "memoryGiB": 128,
    "name": "ml.m5d.8xlarge",
    "vcpuNum": 32
   },
   {
    "_defaultOrder": 17,
    "_isFastLaunch": false,
    "category": "General purpose",
    "gpuNum": 0,
    "hideHardwareSpecs": false,
    "memoryGiB": 192,
    "name": "ml.m5d.12xlarge",
    "vcpuNum": 48
   },
   {
    "_defaultOrder": 18,
    "_isFastLaunch": false,
    "category": "General purpose",
    "gpuNum": 0,
    "hideHardwareSpecs": false,
    "memoryGiB": 256,
    "name": "ml.m5d.16xlarge",
    "vcpuNum": 64
   },
   {
    "_defaultOrder": 19,
    "_isFastLaunch": false,
    "category": "General purpose",
    "gpuNum": 0,
    "hideHardwareSpecs": false,
    "memoryGiB": 384,
    "name": "ml.m5d.24xlarge",
    "vcpuNum": 96
   },
   {
    "_defaultOrder": 20,
    "_isFastLaunch": false,
    "category": "General purpose",
    "gpuNum": 0,
    "hideHardwareSpecs": true,
    "memoryGiB": 0,
    "name": "ml.geospatial.interactive",
    "supportedImageNames": [
     "sagemaker-geospatial-v1-0"
    ],
    "vcpuNum": 0
   },
   {
    "_defaultOrder": 21,
    "_isFastLaunch": true,
    "category": "Compute optimized",
    "gpuNum": 0,
    "hideHardwareSpecs": false,
    "memoryGiB": 4,
    "name": "ml.c5.large",
    "vcpuNum": 2
   },
   {
    "_defaultOrder": 22,
    "_isFastLaunch": false,
    "category": "Compute optimized",
    "gpuNum": 0,
    "hideHardwareSpecs": false,
    "memoryGiB": 8,
    "name": "ml.c5.xlarge",
    "vcpuNum": 4
   },
   {
    "_defaultOrder": 23,
    "_isFastLaunch": false,
    "category": "Compute optimized",
    "gpuNum": 0,
    "hideHardwareSpecs": false,
    "memoryGiB": 16,
    "name": "ml.c5.2xlarge",
    "vcpuNum": 8
   },
   {
    "_defaultOrder": 24,
    "_isFastLaunch": false,
    "category": "Compute optimized",
    "gpuNum": 0,
    "hideHardwareSpecs": false,
    "memoryGiB": 32,
    "name": "ml.c5.4xlarge",
    "vcpuNum": 16
   },
   {
    "_defaultOrder": 25,
    "_isFastLaunch": false,
    "category": "Compute optimized",
    "gpuNum": 0,
    "hideHardwareSpecs": false,
    "memoryGiB": 72,
    "name": "ml.c5.9xlarge",
    "vcpuNum": 36
   },
   {
    "_defaultOrder": 26,
    "_isFastLaunch": false,
    "category": "Compute optimized",
    "gpuNum": 0,
    "hideHardwareSpecs": false,
    "memoryGiB": 96,
    "name": "ml.c5.12xlarge",
    "vcpuNum": 48
   },
   {
    "_defaultOrder": 27,
    "_isFastLaunch": false,
    "category": "Compute optimized",
    "gpuNum": 0,
    "hideHardwareSpecs": false,
    "memoryGiB": 144,
    "name": "ml.c5.18xlarge",
    "vcpuNum": 72
   },
   {
    "_defaultOrder": 28,
    "_isFastLaunch": false,
    "category": "Compute optimized",
    "gpuNum": 0,
    "hideHardwareSpecs": false,
    "memoryGiB": 192,
    "name": "ml.c5.24xlarge",
    "vcpuNum": 96
   },
   {
    "_defaultOrder": 29,
    "_isFastLaunch": true,
    "category": "Accelerated computing",
    "gpuNum": 1,
    "hideHardwareSpecs": false,
    "memoryGiB": 16,
    "name": "ml.g4dn.xlarge",
    "vcpuNum": 4
   },
   {
    "_defaultOrder": 30,
    "_isFastLaunch": false,
    "category": "Accelerated computing",
    "gpuNum": 1,
    "hideHardwareSpecs": false,
    "memoryGiB": 32,
    "name": "ml.g4dn.2xlarge",
    "vcpuNum": 8
   },
   {
    "_defaultOrder": 31,
    "_isFastLaunch": false,
    "category": "Accelerated computing",
    "gpuNum": 1,
    "hideHardwareSpecs": false,
    "memoryGiB": 64,
    "name": "ml.g4dn.4xlarge",
    "vcpuNum": 16
   },
   {
    "_defaultOrder": 32,
    "_isFastLaunch": false,
    "category": "Accelerated computing",
    "gpuNum": 1,
    "hideHardwareSpecs": false,
    "memoryGiB": 128,
    "name": "ml.g4dn.8xlarge",
    "vcpuNum": 32
   },
   {
    "_defaultOrder": 33,
    "_isFastLaunch": false,
    "category": "Accelerated computing",
    "gpuNum": 4,
    "hideHardwareSpecs": false,
    "memoryGiB": 192,
    "name": "ml.g4dn.12xlarge",
    "vcpuNum": 48
   },
   {
    "_defaultOrder": 34,
    "_isFastLaunch": false,
    "category": "Accelerated computing",
    "gpuNum": 1,
    "hideHardwareSpecs": false,
    "memoryGiB": 256,
    "name": "ml.g4dn.16xlarge",
    "vcpuNum": 64
   },
   {
    "_defaultOrder": 35,
    "_isFastLaunch": false,
    "category": "Accelerated computing",
    "gpuNum": 1,
    "hideHardwareSpecs": false,
    "memoryGiB": 61,
    "name": "ml.p3.2xlarge",
    "vcpuNum": 8
   },
   {
    "_defaultOrder": 36,
    "_isFastLaunch": false,
    "category": "Accelerated computing",
    "gpuNum": 4,
    "hideHardwareSpecs": false,
    "memoryGiB": 244,
    "name": "ml.p3.8xlarge",
    "vcpuNum": 32
   },
   {
    "_defaultOrder": 37,
    "_isFastLaunch": false,
    "category": "Accelerated computing",
    "gpuNum": 8,
    "hideHardwareSpecs": false,
    "memoryGiB": 488,
    "name": "ml.p3.16xlarge",
    "vcpuNum": 64
   },
   {
    "_defaultOrder": 38,
    "_isFastLaunch": false,
    "category": "Accelerated computing",
    "gpuNum": 8,
    "hideHardwareSpecs": false,
    "memoryGiB": 768,
    "name": "ml.p3dn.24xlarge",
    "vcpuNum": 96
   },
   {
    "_defaultOrder": 39,
    "_isFastLaunch": false,
    "category": "Memory Optimized",
    "gpuNum": 0,
    "hideHardwareSpecs": false,
    "memoryGiB": 16,
    "name": "ml.r5.large",
    "vcpuNum": 2
   },
   {
    "_defaultOrder": 40,
    "_isFastLaunch": false,
    "category": "Memory Optimized",
    "gpuNum": 0,
    "hideHardwareSpecs": false,
    "memoryGiB": 32,
    "name": "ml.r5.xlarge",
    "vcpuNum": 4
   },
   {
    "_defaultOrder": 41,
    "_isFastLaunch": false,
    "category": "Memory Optimized",
    "gpuNum": 0,
    "hideHardwareSpecs": false,
    "memoryGiB": 64,
    "name": "ml.r5.2xlarge",
    "vcpuNum": 8
   },
   {
    "_defaultOrder": 42,
    "_isFastLaunch": false,
    "category": "Memory Optimized",
    "gpuNum": 0,
    "hideHardwareSpecs": false,
    "memoryGiB": 128,
    "name": "ml.r5.4xlarge",
    "vcpuNum": 16
   },
   {
    "_defaultOrder": 43,
    "_isFastLaunch": false,
    "category": "Memory Optimized",
    "gpuNum": 0,
    "hideHardwareSpecs": false,
    "memoryGiB": 256,
    "name": "ml.r5.8xlarge",
    "vcpuNum": 32
   },
   {
    "_defaultOrder": 44,
    "_isFastLaunch": false,
    "category": "Memory Optimized",
    "gpuNum": 0,
    "hideHardwareSpecs": false,
    "memoryGiB": 384,
    "name": "ml.r5.12xlarge",
    "vcpuNum": 48
   },
   {
    "_defaultOrder": 45,
    "_isFastLaunch": false,
    "category": "Memory Optimized",
    "gpuNum": 0,
    "hideHardwareSpecs": false,
    "memoryGiB": 512,
    "name": "ml.r5.16xlarge",
    "vcpuNum": 64
   },
   {
    "_defaultOrder": 46,
    "_isFastLaunch": false,
    "category": "Memory Optimized",
    "gpuNum": 0,
    "hideHardwareSpecs": false,
    "memoryGiB": 768,
    "name": "ml.r5.24xlarge",
    "vcpuNum": 96
   },
   {
    "_defaultOrder": 47,
    "_isFastLaunch": false,
    "category": "Accelerated computing",
    "gpuNum": 1,
    "hideHardwareSpecs": false,
    "memoryGiB": 16,
    "name": "ml.g5.xlarge",
    "vcpuNum": 4
   },
   {
    "_defaultOrder": 48,
    "_isFastLaunch": false,
    "category": "Accelerated computing",
    "gpuNum": 1,
    "hideHardwareSpecs": false,
    "memoryGiB": 32,
    "name": "ml.g5.2xlarge",
    "vcpuNum": 8
   },
   {
    "_defaultOrder": 49,
    "_isFastLaunch": false,
    "category": "Accelerated computing",
    "gpuNum": 1,
    "hideHardwareSpecs": false,
    "memoryGiB": 64,
    "name": "ml.g5.4xlarge",
    "vcpuNum": 16
   },
   {
    "_defaultOrder": 50,
    "_isFastLaunch": false,
    "category": "Accelerated computing",
    "gpuNum": 1,
    "hideHardwareSpecs": false,
    "memoryGiB": 128,
    "name": "ml.g5.8xlarge",
    "vcpuNum": 32
   },
   {
    "_defaultOrder": 51,
    "_isFastLaunch": false,
    "category": "Accelerated computing",
    "gpuNum": 1,
    "hideHardwareSpecs": false,
    "memoryGiB": 256,
    "name": "ml.g5.16xlarge",
    "vcpuNum": 64
   },
   {
    "_defaultOrder": 52,
    "_isFastLaunch": false,
    "category": "Accelerated computing",
    "gpuNum": 4,
    "hideHardwareSpecs": false,
    "memoryGiB": 192,
    "name": "ml.g5.12xlarge",
    "vcpuNum": 48
   },
   {
    "_defaultOrder": 53,
    "_isFastLaunch": false,
    "category": "Accelerated computing",
    "gpuNum": 4,
    "hideHardwareSpecs": false,
    "memoryGiB": 384,
    "name": "ml.g5.24xlarge",
    "vcpuNum": 96
   },
   {
    "_defaultOrder": 54,
    "_isFastLaunch": false,
    "category": "Accelerated computing",
    "gpuNum": 8,
    "hideHardwareSpecs": false,
    "memoryGiB": 768,
    "name": "ml.g5.48xlarge",
    "vcpuNum": 192
   },
   {
    "_defaultOrder": 55,
    "_isFastLaunch": false,
    "category": "Accelerated computing",
    "gpuNum": 8,
    "hideHardwareSpecs": false,
    "memoryGiB": 1152,
    "name": "ml.p4d.24xlarge",
    "vcpuNum": 96
   },
   {
    "_defaultOrder": 56,
    "_isFastLaunch": false,
    "category": "Accelerated computing",
    "gpuNum": 8,
    "hideHardwareSpecs": false,
    "memoryGiB": 1152,
    "name": "ml.p4de.24xlarge",
    "vcpuNum": 96
   }
  ],
  "instance_type": "ml.g4dn.xlarge",
  "kernelspec": {
   "display_name": "Python 3 (PyTorch 1.13 Python 3.9 CPU Optimized)",
   "language": "python",
   "name": "python3__SAGEMAKER_INTERNAL__arn:aws:sagemaker:us-east-1:081325390199:image/pytorch-1.13-cpu-py39"
  },
  "language_info": {
   "codemirror_mode": {
    "name": "ipython",
    "version": 3
   },
   "file_extension": ".py",
   "mimetype": "text/x-python",
   "name": "python",
   "nbconvert_exporter": "python",
   "pygments_lexer": "ipython3",
   "version": "3.9.16"
  }
 },
 "nbformat": 4,
 "nbformat_minor": 5
}
