{
 "cells": [
  {
   "attachments": {},
   "cell_type": "markdown",
   "metadata": {},
   "source": [
    "# Topic time series engineering\n",
    "\n",
    "This Jupyter Notebook contains the engineering that takes the topics from the clustering as input and creates time series from it. Those time series can then be used as features for the time series forecasting of index funds.\n",
    "\n",
    "This process is copied to timeseries_engineering.py after initial debugging. It will be extended there.\n"
   ]
  },
  {
   "cell_type": "code",
   "execution_count": 2,
   "metadata": {},
   "outputs": [],
   "source": [
    "# Add the repo to the python paths if not yet existing there - for the data_engineering input\n",
    "import sys\n",
    "import os\n",
    "\n",
    "repo_path = os.getcwd().split('project_submission_haiperformer')[0] + 'project_submission_haiperformer'\n",
    "sys.path.append(repo_path) if repo_path not in sys.path else None"
   ]
  },
  {
   "cell_type": "code",
   "execution_count": 4,
   "metadata": {},
   "outputs": [],
   "source": [
    "import pandas as pd\n",
    "from data_engineering.src.util.timeseries_engineering_helpers import normalize_datetime"
   ]
  },
  {
   "cell_type": "code",
   "execution_count": 5,
   "metadata": {},
   "outputs": [
    {
     "data": {
      "text/html": [
       "<div>\n",
       "<style scoped>\n",
       "    .dataframe tbody tr th:only-of-type {\n",
       "        vertical-align: middle;\n",
       "    }\n",
       "\n",
       "    .dataframe tbody tr th {\n",
       "        vertical-align: top;\n",
       "    }\n",
       "\n",
       "    .dataframe thead th {\n",
       "        text-align: right;\n",
       "    }\n",
       "</style>\n",
       "<table border=\"1\" class=\"dataframe\">\n",
       "  <thead>\n",
       "    <tr style=\"text-align: right;\">\n",
       "      <th></th>\n",
       "      <th>published_at</th>\n",
       "      <th>topic_class</th>\n",
       "    </tr>\n",
       "  </thead>\n",
       "  <tbody>\n",
       "    <tr>\n",
       "      <th>0</th>\n",
       "      <td>2021-09-29T17:09:39+0000</td>\n",
       "      <td>[(449, 0.09099977), (561, 0.091001034), (753, ...</td>\n",
       "    </tr>\n",
       "    <tr>\n",
       "      <th>1</th>\n",
       "      <td>2016-06-24T13:50:48-0400</td>\n",
       "      <td>[(488, 0.046972986), (562, 0.92542994), (658, ...</td>\n",
       "    </tr>\n",
       "    <tr>\n",
       "      <th>2</th>\n",
       "      <td>2014-03-25T13:29:45-0400</td>\n",
       "      <td>[(530, 0.9982684)]</td>\n",
       "    </tr>\n",
       "    <tr>\n",
       "      <th>3</th>\n",
       "      <td>2009-04-22T19:49:03+0000</td>\n",
       "      <td>[(161, 0.03850209), (164, 0.09252543), (196, 0...</td>\n",
       "    </tr>\n",
       "    <tr>\n",
       "      <th>4</th>\n",
       "      <td>2018-04-14T14:59:04+0000</td>\n",
       "      <td>NaN</td>\n",
       "    </tr>\n",
       "  </tbody>\n",
       "</table>\n",
       "</div>"
      ],
      "text/plain": [
       "               published_at                                        topic_class\n",
       "0  2021-09-29T17:09:39+0000  [(449, 0.09099977), (561, 0.091001034), (753, ...\n",
       "1  2016-06-24T13:50:48-0400  [(488, 0.046972986), (562, 0.92542994), (658, ...\n",
       "2  2014-03-25T13:29:45-0400                                 [(530, 0.9982684)]\n",
       "3  2009-04-22T19:49:03+0000  [(161, 0.03850209), (164, 0.09252543), (196, 0...\n",
       "4  2018-04-14T14:59:04+0000                                                NaN"
      ]
     },
     "execution_count": 5,
     "metadata": {},
     "output_type": "execute_result"
    }
   ],
   "source": [
    "file_name = \"data_lda_model_topics_1000_passes_20_cnbc_news_dataset_processed.csv\"\n",
    "df = pd.read_csv(\n",
    "    f\"../../modelling/output_data/{file_name}\", low_memory=False, index_col=0\n",
    ")\n",
    "df.head()"
   ]
  },
  {
   "cell_type": "code",
   "execution_count": 10,
   "metadata": {},
   "outputs": [],
   "source": [
    "df['published_at'] = pd.to_datetime(df['published_at'], utc=True)\n",
    "\n",
    "# Datetime objs are normalized to be at midnight\n",
    "df['published_at'] = df['published_at'].apply(normalize_datetime)\n",
    "\n",
    "min_date = df['published_at'].min()\n",
    "max_date = df['published_at'].max()\n",
    "\n",
    "df.set_index('published_at', inplace=True)\n",
    "\n",
    "date_range = pd.date_range(min_date, max_date, freq='D')"
   ]
  },
  {
   "cell_type": "code",
   "execution_count": null,
   "metadata": {},
   "outputs": [
    {
     "data": {
      "text/plain": [
       "DatetimeIndex(['2006-12-04 00:00:00+00:00', '2006-12-05 00:00:00+00:00',\n",
       "               '2006-12-06 00:00:00+00:00', '2006-12-07 00:00:00+00:00',\n",
       "               '2006-12-08 00:00:00+00:00', '2006-12-09 00:00:00+00:00',\n",
       "               '2006-12-10 00:00:00+00:00', '2006-12-11 00:00:00+00:00',\n",
       "               '2006-12-12 00:00:00+00:00', '2006-12-13 00:00:00+00:00',\n",
       "               ...\n",
       "               '2021-10-09 00:00:00+00:00', '2021-10-10 00:00:00+00:00',\n",
       "               '2021-10-11 00:00:00+00:00', '2021-10-12 00:00:00+00:00',\n",
       "               '2021-10-13 00:00:00+00:00', '2021-10-14 00:00:00+00:00',\n",
       "               '2021-10-15 00:00:00+00:00', '2021-10-16 00:00:00+00:00',\n",
       "               '2021-10-17 00:00:00+00:00', '2021-10-18 00:00:00+00:00'],\n",
       "              dtype='datetime64[ns, UTC]', length=5433, freq='D')"
      ]
     },
     "execution_count": 4,
     "metadata": {},
     "output_type": "execute_result"
    }
   ],
   "source": [
    "date_range"
   ]
  },
  {
   "cell_type": "code",
   "execution_count": 11,
   "metadata": {},
   "outputs": [],
   "source": [
    "accumulated_scores = pd.DataFrame(index=date_range)\n",
    "\n",
    "for index, row in df.iterrows():\n",
    "\n",
    "    if pd.notna(row['topic_class']):\n",
    "        topic_class = eval(row['topic_class'])\n",
    "    else:\n",
    "        continue\n",
    "\n",
    "    # Accumulate the scores for each topic number\n",
    "    for topic, score in topic_class:\n",
    "        if topic in accumulated_scores.columns:\n",
    "            if index in accumulated_scores.index:\n",
    "                accumulated_scores.loc[index, topic] = accumulated_scores.loc[index, topic] + score\n",
    "            else:\n",
    "                accumulated_scores.loc[index, topic] = score\n",
    "        else:\n",
    "            accumulated_scores[topic] = 0\n",
    "            accumulated_scores.loc[index, topic] = score\n",
    "\n",
    "# Fill missing values with 0\n",
    "accumulated_scores.fillna(0, inplace=True)"
   ]
  },
  {
   "cell_type": "code",
   "execution_count": 13,
   "metadata": {},
   "outputs": [
    {
     "data": {
      "text/html": [
       "<div>\n",
       "<style scoped>\n",
       "    .dataframe tbody tr th:only-of-type {\n",
       "        vertical-align: middle;\n",
       "    }\n",
       "\n",
       "    .dataframe tbody tr th {\n",
       "        vertical-align: top;\n",
       "    }\n",
       "\n",
       "    .dataframe thead th {\n",
       "        text-align: right;\n",
       "    }\n",
       "</style>\n",
       "<table border=\"1\" class=\"dataframe\">\n",
       "  <thead>\n",
       "    <tr style=\"text-align: right;\">\n",
       "      <th></th>\n",
       "      <th>449</th>\n",
       "      <th>561</th>\n",
       "      <th>753</th>\n",
       "      <th>756</th>\n",
       "      <th>801</th>\n",
       "      <th>938</th>\n",
       "      <th>488</th>\n",
       "      <th>562</th>\n",
       "      <th>658</th>\n",
       "      <th>530</th>\n",
       "      <th>...</th>\n",
       "      <th>635</th>\n",
       "      <th>962</th>\n",
       "      <th>241</th>\n",
       "      <th>201</th>\n",
       "      <th>187</th>\n",
       "      <th>316</th>\n",
       "      <th>749</th>\n",
       "      <th>957</th>\n",
       "      <th>114</th>\n",
       "      <th>590</th>\n",
       "    </tr>\n",
       "  </thead>\n",
       "  <tbody>\n",
       "    <tr>\n",
       "      <th>2006-12-04 19:51:48+00:00</th>\n",
       "      <td>0.0</td>\n",
       "      <td>0.0</td>\n",
       "      <td>0.0</td>\n",
       "      <td>0.0</td>\n",
       "      <td>0.0</td>\n",
       "      <td>0.0</td>\n",
       "      <td>0.0</td>\n",
       "      <td>0.0</td>\n",
       "      <td>0.0</td>\n",
       "      <td>0.0</td>\n",
       "      <td>...</td>\n",
       "      <td>0.0</td>\n",
       "      <td>0.0</td>\n",
       "      <td>0.0</td>\n",
       "      <td>0.0</td>\n",
       "      <td>0.0</td>\n",
       "      <td>0.0</td>\n",
       "      <td>0.0</td>\n",
       "      <td>0.0</td>\n",
       "      <td>0.0</td>\n",
       "      <td>0.0</td>\n",
       "    </tr>\n",
       "    <tr>\n",
       "      <th>2006-12-05 19:51:48+00:00</th>\n",
       "      <td>0.0</td>\n",
       "      <td>0.0</td>\n",
       "      <td>0.0</td>\n",
       "      <td>0.0</td>\n",
       "      <td>0.0</td>\n",
       "      <td>0.0</td>\n",
       "      <td>0.0</td>\n",
       "      <td>0.0</td>\n",
       "      <td>0.0</td>\n",
       "      <td>0.0</td>\n",
       "      <td>...</td>\n",
       "      <td>0.0</td>\n",
       "      <td>0.0</td>\n",
       "      <td>0.0</td>\n",
       "      <td>0.0</td>\n",
       "      <td>0.0</td>\n",
       "      <td>0.0</td>\n",
       "      <td>0.0</td>\n",
       "      <td>0.0</td>\n",
       "      <td>0.0</td>\n",
       "      <td>0.0</td>\n",
       "    </tr>\n",
       "    <tr>\n",
       "      <th>2006-12-06 19:51:48+00:00</th>\n",
       "      <td>0.0</td>\n",
       "      <td>0.0</td>\n",
       "      <td>0.0</td>\n",
       "      <td>0.0</td>\n",
       "      <td>0.0</td>\n",
       "      <td>0.0</td>\n",
       "      <td>0.0</td>\n",
       "      <td>0.0</td>\n",
       "      <td>0.0</td>\n",
       "      <td>0.0</td>\n",
       "      <td>...</td>\n",
       "      <td>0.0</td>\n",
       "      <td>0.0</td>\n",
       "      <td>0.0</td>\n",
       "      <td>0.0</td>\n",
       "      <td>0.0</td>\n",
       "      <td>0.0</td>\n",
       "      <td>0.0</td>\n",
       "      <td>0.0</td>\n",
       "      <td>0.0</td>\n",
       "      <td>0.0</td>\n",
       "    </tr>\n",
       "    <tr>\n",
       "      <th>2006-12-07 19:51:48+00:00</th>\n",
       "      <td>0.0</td>\n",
       "      <td>0.0</td>\n",
       "      <td>0.0</td>\n",
       "      <td>0.0</td>\n",
       "      <td>0.0</td>\n",
       "      <td>0.0</td>\n",
       "      <td>0.0</td>\n",
       "      <td>0.0</td>\n",
       "      <td>0.0</td>\n",
       "      <td>0.0</td>\n",
       "      <td>...</td>\n",
       "      <td>0.0</td>\n",
       "      <td>0.0</td>\n",
       "      <td>0.0</td>\n",
       "      <td>0.0</td>\n",
       "      <td>0.0</td>\n",
       "      <td>0.0</td>\n",
       "      <td>0.0</td>\n",
       "      <td>0.0</td>\n",
       "      <td>0.0</td>\n",
       "      <td>0.0</td>\n",
       "    </tr>\n",
       "    <tr>\n",
       "      <th>2006-12-08 19:51:48+00:00</th>\n",
       "      <td>0.0</td>\n",
       "      <td>0.0</td>\n",
       "      <td>0.0</td>\n",
       "      <td>0.0</td>\n",
       "      <td>0.0</td>\n",
       "      <td>0.0</td>\n",
       "      <td>0.0</td>\n",
       "      <td>0.0</td>\n",
       "      <td>0.0</td>\n",
       "      <td>0.0</td>\n",
       "      <td>...</td>\n",
       "      <td>0.0</td>\n",
       "      <td>0.0</td>\n",
       "      <td>0.0</td>\n",
       "      <td>0.0</td>\n",
       "      <td>0.0</td>\n",
       "      <td>0.0</td>\n",
       "      <td>0.0</td>\n",
       "      <td>0.0</td>\n",
       "      <td>0.0</td>\n",
       "      <td>0.0</td>\n",
       "    </tr>\n",
       "  </tbody>\n",
       "</table>\n",
       "<p>5 rows × 389 columns</p>\n",
       "</div>"
      ],
      "text/plain": [
       "                           449  561  753  756  801  938  488  562  658  530  \\\n",
       "2006-12-04 19:51:48+00:00  0.0  0.0  0.0  0.0  0.0  0.0  0.0  0.0  0.0  0.0   \n",
       "2006-12-05 19:51:48+00:00  0.0  0.0  0.0  0.0  0.0  0.0  0.0  0.0  0.0  0.0   \n",
       "2006-12-06 19:51:48+00:00  0.0  0.0  0.0  0.0  0.0  0.0  0.0  0.0  0.0  0.0   \n",
       "2006-12-07 19:51:48+00:00  0.0  0.0  0.0  0.0  0.0  0.0  0.0  0.0  0.0  0.0   \n",
       "2006-12-08 19:51:48+00:00  0.0  0.0  0.0  0.0  0.0  0.0  0.0  0.0  0.0  0.0   \n",
       "\n",
       "                           ...  635  962  241  201  187  316  749  957  114  \\\n",
       "2006-12-04 19:51:48+00:00  ...  0.0  0.0  0.0  0.0  0.0  0.0  0.0  0.0  0.0   \n",
       "2006-12-05 19:51:48+00:00  ...  0.0  0.0  0.0  0.0  0.0  0.0  0.0  0.0  0.0   \n",
       "2006-12-06 19:51:48+00:00  ...  0.0  0.0  0.0  0.0  0.0  0.0  0.0  0.0  0.0   \n",
       "2006-12-07 19:51:48+00:00  ...  0.0  0.0  0.0  0.0  0.0  0.0  0.0  0.0  0.0   \n",
       "2006-12-08 19:51:48+00:00  ...  0.0  0.0  0.0  0.0  0.0  0.0  0.0  0.0  0.0   \n",
       "\n",
       "                           590  \n",
       "2006-12-04 19:51:48+00:00  0.0  \n",
       "2006-12-05 19:51:48+00:00  0.0  \n",
       "2006-12-06 19:51:48+00:00  0.0  \n",
       "2006-12-07 19:51:48+00:00  0.0  \n",
       "2006-12-08 19:51:48+00:00  0.0  \n",
       "\n",
       "[5 rows x 389 columns]"
      ]
     },
     "execution_count": 13,
     "metadata": {},
     "output_type": "execute_result"
    }
   ],
   "source": [
    "accumulated_scores.head()"
   ]
  },
  {
   "cell_type": "code",
   "execution_count": null,
   "metadata": {},
   "outputs": [],
   "source": [
    "accumulated_scores.to_csv(f\"../timeseries_data/ts_{file_name}\", index=True)"
   ]
  },
  {
   "cell_type": "markdown",
   "metadata": {},
   "source": [
    "### Visualization"
   ]
  },
  {
   "cell_type": "code",
   "execution_count": 12,
   "metadata": {},
   "outputs": [],
   "source": [
    "import matplotlib.pyplot as plt"
   ]
  },
  {
   "cell_type": "code",
   "execution_count": 14,
   "metadata": {},
   "outputs": [
    {
     "data": {
      "image/png": "[encoded data removed]",
      "text/plain": [
       "<Figure size 1440x720 with 1 Axes>"
      ]
     },
     "metadata": {
      "needs_background": "light"
     },
     "output_type": "display_data"
    }
   ],
   "source": [
    "plt.rcParams[\"figure.figsize\"] = [20, 10]\n",
    "accumulated_scores.plot(lw=0.8)\n",
    "plt.xlabel(\"Date\")\n",
    "plt.ylabel(\"Value\")\n",
    "plt.title(\"CNBC News Topic Visualization\")\n",
    "plt.legend().remove()\n",
    "plt.show()"
   ]
  }
 ],
 "metadata": {
  "kernelspec": {
   "display_name": "project_submission_haiperformer",
   "language": "python",
   "name": "python3"
  },
  "language_info": {
   "codemirror_mode": {
    "name": "ipython",
    "version": 3
   },
   "file_extension": ".py",
   "mimetype": "text/x-python",
   "name": "python",
   "nbconvert_exporter": "python",
   "pygments_lexer": "ipython3",
   "version": "3.9.13"
  },
  "orig_nbformat": 4
 },
 "nbformat": 4,
 "nbformat_minor": 2
}
