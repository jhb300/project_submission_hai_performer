{
 "cells": [
  {
   "attachments": {},
   "cell_type": "markdown",
   "metadata": {},
   "source": [
    "# Exploratory Data Engineering\n",
    "This notebook contains initial exploratory data pre-processing efforts that will later be copied into a proper script named preprocessing.py.\n",
    "THIS NOTEBOOK IS NOT NEEDED ANYMORE DUE TO THE CHANGE TO GDELT DATA."
   ]
  },
  {
   "cell_type": "code",
   "execution_count": 1,
   "metadata": {},
   "outputs": [
    {
     "name": "stderr",
     "output_type": "stream",
     "text": [
      "[nltk_data] Downloading package stopwords to\n",
      "[nltk_data]     C:\\Users\\janhe\\AppData\\Roaming\\nltk_data...\n",
      "[nltk_data]   Package stopwords is already up-to-date!\n",
      "[nltk_data] Downloading package wordnet to\n",
      "[nltk_data]     C:\\Users\\janhe\\AppData\\Roaming\\nltk_data...\n",
      "[nltk_data]   Package wordnet is already up-to-date!\n",
      "[nltk_data] Downloading package punkt to\n",
      "[nltk_data]     C:\\Users\\janhe\\AppData\\Roaming\\nltk_data...\n",
      "[nltk_data]   Package punkt is already up-to-date!\n"
     ]
    }
   ],
   "source": [
    "import pandas as pd\n",
    "from preprocessing_helpers import classic_nlp_preprocessing, replace_html_number_codes"
   ]
  },
  {
   "cell_type": "code",
   "execution_count": 2,
   "metadata": {},
   "outputs": [
    {
     "data": {
      "text/html": [
       "<div>\n",
       "<style scoped>\n",
       "    .dataframe tbody tr th:only-of-type {\n",
       "        vertical-align: middle;\n",
       "    }\n",
       "\n",
       "    .dataframe tbody tr th {\n",
       "        vertical-align: top;\n",
       "    }\n",
       "\n",
       "    .dataframe thead th {\n",
       "        text-align: right;\n",
       "    }\n",
       "</style>\n",
       "<table border=\"1\" class=\"dataframe\">\n",
       "  <thead>\n",
       "    <tr style=\"text-align: right;\">\n",
       "      <th></th>\n",
       "      <th>title</th>\n",
       "      <th>url</th>\n",
       "      <th>published_at</th>\n",
       "      <th>author</th>\n",
       "      <th>publisher</th>\n",
       "      <th>short_description</th>\n",
       "      <th>keywords</th>\n",
       "      <th>header_image</th>\n",
       "      <th>raw_description</th>\n",
       "      <th>description</th>\n",
       "      <th>scraped_at</th>\n",
       "    </tr>\n",
       "  </thead>\n",
       "  <tbody>\n",
       "    <tr>\n",
       "      <th>0</th>\n",
       "      <td>Santoli’s Wednesday market notes: Could Septem...</td>\n",
       "      <td>https://www.cnbc.com/2021/09/29/santolis-wedne...</td>\n",
       "      <td>2021-09-29T17:09:39+0000</td>\n",
       "      <td>Michael Santoli</td>\n",
       "      <td>CNBC</td>\n",
       "      <td>This is the daily notebook of Mike Santoli, CN...</td>\n",
       "      <td>cnbc, Premium, Articles, Investment strategy, ...</td>\n",
       "      <td>https://image.cnbcfm.com/api/v1/image/10694960...</td>\n",
       "      <td>&lt;div class=\"group\"&gt;&lt;p&gt;&lt;em&gt;This is the daily no...</td>\n",
       "      <td>This is the daily notebook of Mike Santoli, CN...</td>\n",
       "      <td>2021-10-30 14:11:23.709372</td>\n",
       "    </tr>\n",
       "    <tr>\n",
       "      <th>1</th>\n",
       "      <td>My take on the early Brexit winners and losers</td>\n",
       "      <td>https://www.cnbc.com/2016/06/24/ian-bremmers-t...</td>\n",
       "      <td>2016-06-24T13:50:48-0400</td>\n",
       "      <td>NaN</td>\n",
       "      <td>CNBC</td>\n",
       "      <td>This commentary originally ran on Facebook. Bo...</td>\n",
       "      <td>Articles, Politics, Europe News, European Cent...</td>\n",
       "      <td>https://fm.cnbc.com/applications/cnbc.com/reso...</td>\n",
       "      <td>NaN</td>\n",
       "      <td>NaN</td>\n",
       "      <td>2021-10-30 14:11:23.820139</td>\n",
       "    </tr>\n",
       "    <tr>\n",
       "      <th>2</th>\n",
       "      <td>Europe&amp;#039;s recovery depends on Renzi&amp;#039;s...</td>\n",
       "      <td>https://www.cnbc.com/2014/03/25/europes-recove...</td>\n",
       "      <td>2014-03-25T13:29:45-0400</td>\n",
       "      <td>NaN</td>\n",
       "      <td>CNBC</td>\n",
       "      <td>In spring, ambitious reforms began in Italy. U...</td>\n",
       "      <td>Articles, Business News, Economy, Europe Econo...</td>\n",
       "      <td>https://fm.cnbc.com/applications/cnbc.com/reso...</td>\n",
       "      <td>NaN</td>\n",
       "      <td>NaN</td>\n",
       "      <td>2021-10-30 14:11:23.854710</td>\n",
       "    </tr>\n",
       "    <tr>\n",
       "      <th>3</th>\n",
       "      <td>US Moves Closer to Becoming A Major Shareholde...</td>\n",
       "      <td>https://www.cnbc.com/2009/04/22/us-moves-close...</td>\n",
       "      <td>2009-04-22T19:49:03+0000</td>\n",
       "      <td>Michelle Caruso-Cabrera</td>\n",
       "      <td>CNBC</td>\n",
       "      <td>The US government is increasingly likely to co...</td>\n",
       "      <td>cnbc, Articles, General Motors Co, Business Ne...</td>\n",
       "      <td>https://image.cnbcfm.com/api/v1/image/24947979...</td>\n",
       "      <td>&lt;div class=\"group\"&gt;&lt;p&gt;The US government is inc...</td>\n",
       "      <td>The US government is increasingly likely to co...</td>\n",
       "      <td>2021-10-30 14:11:24.261143</td>\n",
       "    </tr>\n",
       "    <tr>\n",
       "      <th>4</th>\n",
       "      <td>Trump: 'Mission accomplished' on 'perfectly ex...</td>\n",
       "      <td>https://www.cnbc.com/2018/04/14/trump-mission-...</td>\n",
       "      <td>2018-04-14T14:59:04+0000</td>\n",
       "      <td>Javier E. David</td>\n",
       "      <td>CNBC</td>\n",
       "      <td>NaN</td>\n",
       "      <td>cnbc, Articles, George W. Bush, Vladimir Putin...</td>\n",
       "      <td>https://image.cnbcfm.com/api/v1/image/10513177...</td>\n",
       "      <td>&lt;div class=\"group\"&gt;&lt;/div&gt;,&lt;div class=\"group\"&gt;&lt;...</td>\n",
       "      <td>President Donald Trump hailed the U.S.-led int...</td>\n",
       "      <td>2021-10-30 14:11:24.489490</td>\n",
       "    </tr>\n",
       "  </tbody>\n",
       "</table>\n",
       "</div>"
      ],
      "text/plain": [
       "                                               title   \n",
       "0  Santoli’s Wednesday market notes: Could Septem...  \\\n",
       "1     My take on the early Brexit winners and losers   \n",
       "2  Europe&#039;s recovery depends on Renzi&#039;s...   \n",
       "3  US Moves Closer to Becoming A Major Shareholde...   \n",
       "4  Trump: 'Mission accomplished' on 'perfectly ex...   \n",
       "\n",
       "                                                 url   \n",
       "0  https://www.cnbc.com/2021/09/29/santolis-wedne...  \\\n",
       "1  https://www.cnbc.com/2016/06/24/ian-bremmers-t...   \n",
       "2  https://www.cnbc.com/2014/03/25/europes-recove...   \n",
       "3  https://www.cnbc.com/2009/04/22/us-moves-close...   \n",
       "4  https://www.cnbc.com/2018/04/14/trump-mission-...   \n",
       "\n",
       "               published_at                   author publisher   \n",
       "0  2021-09-29T17:09:39+0000          Michael Santoli      CNBC  \\\n",
       "1  2016-06-24T13:50:48-0400                      NaN      CNBC   \n",
       "2  2014-03-25T13:29:45-0400                      NaN      CNBC   \n",
       "3  2009-04-22T19:49:03+0000  Michelle Caruso-Cabrera      CNBC   \n",
       "4  2018-04-14T14:59:04+0000          Javier E. David      CNBC   \n",
       "\n",
       "                                   short_description   \n",
       "0  This is the daily notebook of Mike Santoli, CN...  \\\n",
       "1  This commentary originally ran on Facebook. Bo...   \n",
       "2  In spring, ambitious reforms began in Italy. U...   \n",
       "3  The US government is increasingly likely to co...   \n",
       "4                                                NaN   \n",
       "\n",
       "                                            keywords   \n",
       "0  cnbc, Premium, Articles, Investment strategy, ...  \\\n",
       "1  Articles, Politics, Europe News, European Cent...   \n",
       "2  Articles, Business News, Economy, Europe Econo...   \n",
       "3  cnbc, Articles, General Motors Co, Business Ne...   \n",
       "4  cnbc, Articles, George W. Bush, Vladimir Putin...   \n",
       "\n",
       "                                        header_image   \n",
       "0  https://image.cnbcfm.com/api/v1/image/10694960...  \\\n",
       "1  https://fm.cnbc.com/applications/cnbc.com/reso...   \n",
       "2  https://fm.cnbc.com/applications/cnbc.com/reso...   \n",
       "3  https://image.cnbcfm.com/api/v1/image/24947979...   \n",
       "4  https://image.cnbcfm.com/api/v1/image/10513177...   \n",
       "\n",
       "                                     raw_description   \n",
       "0  <div class=\"group\"><p><em>This is the daily no...  \\\n",
       "1                                                NaN   \n",
       "2                                                NaN   \n",
       "3  <div class=\"group\"><p>The US government is inc...   \n",
       "4  <div class=\"group\"></div>,<div class=\"group\"><...   \n",
       "\n",
       "                                         description   \n",
       "0  This is the daily notebook of Mike Santoli, CN...  \\\n",
       "1                                                NaN   \n",
       "2                                                NaN   \n",
       "3  The US government is increasingly likely to co...   \n",
       "4  President Donald Trump hailed the U.S.-led int...   \n",
       "\n",
       "                   scraped_at  \n",
       "0  2021-10-30 14:11:23.709372  \n",
       "1  2021-10-30 14:11:23.820139  \n",
       "2  2021-10-30 14:11:23.854710  \n",
       "3  2021-10-30 14:11:24.261143  \n",
       "4  2021-10-30 14:11:24.489490  "
      ]
     },
     "execution_count": 2,
     "metadata": {},
     "output_type": "execute_result"
    }
   ],
   "source": [
    "# Read in for the cnbc news dataset\n",
    "df = pd.read_csv(\"nlp_data/cnbc_news_dataset.csv\", header=0, low_memory=False)\n",
    "df.head()"
   ]
  },
  {
   "cell_type": "code",
   "execution_count": 3,
   "metadata": {},
   "outputs": [],
   "source": [
    "# Get rid of attributes that are not of interest for now\n",
    "drop_list = ['url', 'author', 'publisher', 'header_image', 'raw_description', 'scraped_at']\n",
    "df.drop(drop_list, axis=1, inplace=True)"
   ]
  },
  {
   "cell_type": "code",
   "execution_count": 4,
   "metadata": {},
   "outputs": [
    {
     "name": "stdout",
     "output_type": "stream",
     "text": [
      "There are 1426 distinct keywords\n"
     ]
    }
   ],
   "source": [
    "# Get the number of distinct keywords\n",
    "all_keywords = []\n",
    "df['keywords'].apply(lambda x: all_keywords.extend(x.split(',')))\n",
    "print(f\"There are {len(set(all_keywords))} distinct keywords\")"
   ]
  },
  {
   "cell_type": "code",
   "execution_count": 5,
   "metadata": {},
   "outputs": [
    {
     "name": "stdout",
     "output_type": "stream",
     "text": [
      "The mean length of a short description is 262.735632183908\n",
      "The min length of a short description is 3.0\n",
      "The max length of a short description is 5931.0\n",
      "The mean length of a long description is 527.7284991568297\n",
      "The min length of a long description is 11.0\n",
      "The max length of a long description is 5931.0\n"
     ]
    }
   ],
   "source": [
    "short_desc_len = df['short_description'].apply(lambda x: len(x.split(\" \")) if type(x) == str else None)\n",
    "short_desc_len = short_desc_len[~short_desc_len.isna()]\n",
    "\n",
    "print(f\"The mean length of a short description is {short_desc_len.mean()}\")\n",
    "print(f\"The min length of a short description is {short_desc_len.min()}\")\n",
    "print(f\"The max length of a short description is {short_desc_len.max()}\")\n",
    "\n",
    "long_desc_len = df['description'].apply(lambda x: len(x.split(\" \")) if type(x) == str else None)\n",
    "long_desc_len = long_desc_len[~long_desc_len.isna()]\n",
    "\n",
    "print(f\"The mean length of a long description is {long_desc_len.mean()}\")\n",
    "print(f\"The min length of a long description is {long_desc_len.min()}\")\n",
    "print(f\"The max length of a long description is {long_desc_len.max()}\")"
   ]
  },
  {
   "cell_type": "code",
   "execution_count": 6,
   "metadata": {},
   "outputs": [
    {
     "data": {
      "text/plain": [
       "Index(['title', 'published_at', 'short_description', 'keywords',\n",
       "       'description'],\n",
       "      dtype='object')"
      ]
     },
     "execution_count": 6,
     "metadata": {},
     "output_type": "execute_result"
    }
   ],
   "source": [
    "df.columns"
   ]
  },
  {
   "cell_type": "code",
   "execution_count": 7,
   "metadata": {},
   "outputs": [],
   "source": [
    "# Replace HTML number codes\n",
    "text_cols = ['title', 'short_description', 'description']\n",
    "for col in text_cols:\n",
    "    df[col] = df[col].apply(replace_html_number_codes)"
   ]
  },
  {
   "cell_type": "code",
   "execution_count": 8,
   "metadata": {},
   "outputs": [],
   "source": [
    "df = classic_nlp_preprocessing(df, text_cols)"
   ]
  },
  {
   "cell_type": "code",
   "execution_count": 9,
   "metadata": {},
   "outputs": [
    {
     "data": {
      "text/html": [
       "<div>\n",
       "<style scoped>\n",
       "    .dataframe tbody tr th:only-of-type {\n",
       "        vertical-align: middle;\n",
       "    }\n",
       "\n",
       "    .dataframe tbody tr th {\n",
       "        vertical-align: top;\n",
       "    }\n",
       "\n",
       "    .dataframe thead th {\n",
       "        text-align: right;\n",
       "    }\n",
       "</style>\n",
       "<table border=\"1\" class=\"dataframe\">\n",
       "  <thead>\n",
       "    <tr style=\"text-align: right;\">\n",
       "      <th></th>\n",
       "      <th>title</th>\n",
       "      <th>published_at</th>\n",
       "      <th>short_description</th>\n",
       "      <th>keywords</th>\n",
       "      <th>description</th>\n",
       "      <th>title_lowered</th>\n",
       "      <th>title_tokenized</th>\n",
       "      <th>title_removed_stopwords</th>\n",
       "      <th>title_lemmatized</th>\n",
       "      <th>short_description_lowered</th>\n",
       "      <th>short_description_tokenized</th>\n",
       "      <th>short_description_removed_stopwords</th>\n",
       "      <th>short_description_lemmatized</th>\n",
       "      <th>description_lowered</th>\n",
       "      <th>description_tokenized</th>\n",
       "      <th>description_removed_stopwords</th>\n",
       "      <th>description_lemmatized</th>\n",
       "    </tr>\n",
       "  </thead>\n",
       "  <tbody>\n",
       "    <tr>\n",
       "      <th>0</th>\n",
       "      <td>Santoli’s Wednesday market notes: Could Septem...</td>\n",
       "      <td>2021-09-29T17:09:39+0000</td>\n",
       "      <td>This is the daily notebook of Mike Santoli, CN...</td>\n",
       "      <td>cnbc, Premium, Articles, Investment strategy, ...</td>\n",
       "      <td>This is the daily notebook of Mike Santoli, CN...</td>\n",
       "      <td>santoli’s wednesday market notes could septemb...</td>\n",
       "      <td>[santoli, ’, s, wednesday, market, notes, coul...</td>\n",
       "      <td>[santoli, wednesday, market, notes, could, sep...</td>\n",
       "      <td>[santoli, wednesday, market, note, could, sept...</td>\n",
       "      <td>this is the daily notebook of mike santoli cnb...</td>\n",
       "      <td>[this, is, the, daily, notebook, of, mike, san...</td>\n",
       "      <td>[daily, notebook, mike, santoli, cnbcs, senior...</td>\n",
       "      <td>[daily, notebook, mike, santoli, cnbcs, senior...</td>\n",
       "      <td>this is the daily notebook of mike santoli cnb...</td>\n",
       "      <td>[this, is, the, daily, notebook, of, mike, san...</td>\n",
       "      <td>[daily, notebook, mike, santoli, cnbcs, senior...</td>\n",
       "      <td>[daily, notebook, mike, santoli, cnbcs, senior...</td>\n",
       "    </tr>\n",
       "    <tr>\n",
       "      <th>1</th>\n",
       "      <td>My take on the early Brexit winners and losers</td>\n",
       "      <td>2016-06-24T13:50:48-0400</td>\n",
       "      <td>This commentary originally ran on Facebook. Bo...</td>\n",
       "      <td>Articles, Politics, Europe News, European Cent...</td>\n",
       "      <td>NaN</td>\n",
       "      <td>my take on the early brexit winners and losers</td>\n",
       "      <td>[my, take, on, the, early, brexit, winners, an...</td>\n",
       "      <td>[take, early, brexit, winners, losers]</td>\n",
       "      <td>[take, early, brexit, winner, loser]</td>\n",
       "      <td>this commentary originally ran on facebook bor...</td>\n",
       "      <td>[this, commentary, originally, ran, on, facebo...</td>\n",
       "      <td>[commentary, originally, ran, facebook, boris,...</td>\n",
       "      <td>[commentary, originally, ran, facebook, boris,...</td>\n",
       "      <td>NaN</td>\n",
       "      <td>None</td>\n",
       "      <td>None</td>\n",
       "      <td>None</td>\n",
       "    </tr>\n",
       "    <tr>\n",
       "      <th>2</th>\n",
       "      <td>Europe's recovery depends on Renzi's Italy</td>\n",
       "      <td>2014-03-25T13:29:45-0400</td>\n",
       "      <td>In spring, ambitious reforms began in Italy. U...</td>\n",
       "      <td>Articles, Business News, Economy, Europe Econo...</td>\n",
       "      <td>NaN</td>\n",
       "      <td>europes recovery depends on renzis italy</td>\n",
       "      <td>[europes, recovery, depends, on, renzis, italy]</td>\n",
       "      <td>[europes, recovery, depends, renzis, italy]</td>\n",
       "      <td>[europe, recovery, depends, renzis, italy]</td>\n",
       "      <td>in spring ambitious reforms began in italy und...</td>\n",
       "      <td>[in, spring, ambitious, reforms, began, in, it...</td>\n",
       "      <td>[spring, ambitious, reforms, began, italy, mat...</td>\n",
       "      <td>[spring, ambitious, reform, began, italy, matt...</td>\n",
       "      <td>NaN</td>\n",
       "      <td>None</td>\n",
       "      <td>None</td>\n",
       "      <td>None</td>\n",
       "    </tr>\n",
       "    <tr>\n",
       "      <th>3</th>\n",
       "      <td>US Moves Closer to Becoming A Major Shareholde...</td>\n",
       "      <td>2009-04-22T19:49:03+0000</td>\n",
       "      <td>The US government is increasingly likely to co...</td>\n",
       "      <td>cnbc, Articles, General Motors Co, Business Ne...</td>\n",
       "      <td>The US government is increasingly likely to co...</td>\n",
       "      <td>us moves closer to becoming a major shareholde...</td>\n",
       "      <td>[us, moves, closer, to, becoming, a, major, sh...</td>\n",
       "      <td>[us, moves, closer, becoming, major, sharehold...</td>\n",
       "      <td>[us, move, closer, becoming, major, shareholde...</td>\n",
       "      <td>the us government is increasingly likely to co...</td>\n",
       "      <td>[the, us, government, is, increasingly, likely...</td>\n",
       "      <td>[us, government, increasingly, likely, convert...</td>\n",
       "      <td>[us, government, increasingly, likely, convert...</td>\n",
       "      <td>the us government is increasingly likely to co...</td>\n",
       "      <td>[the, us, government, is, increasingly, likely...</td>\n",
       "      <td>[us, government, increasingly, likely, convert...</td>\n",
       "      <td>[us, government, increasingly, likely, convert...</td>\n",
       "    </tr>\n",
       "    <tr>\n",
       "      <th>4</th>\n",
       "      <td>Trump: 'Mission accomplished' on 'perfectly ex...</td>\n",
       "      <td>2018-04-14T14:59:04+0000</td>\n",
       "      <td>NaN</td>\n",
       "      <td>cnbc, Articles, George W. Bush, Vladimir Putin...</td>\n",
       "      <td>President Donald Trump hailed the U.S.-led int...</td>\n",
       "      <td>trump mission accomplished on perfectly execut...</td>\n",
       "      <td>[trump, mission, accomplished, on, perfectly, ...</td>\n",
       "      <td>[trump, mission, accomplished, perfectly, exec...</td>\n",
       "      <td>[trump, mission, accomplished, perfectly, exec...</td>\n",
       "      <td>NaN</td>\n",
       "      <td>None</td>\n",
       "      <td>None</td>\n",
       "      <td>None</td>\n",
       "      <td>president donald trump hailed the usled interv...</td>\n",
       "      <td>[president, donald, trump, hailed, the, usled,...</td>\n",
       "      <td>[president, donald, trump, hailed, usled, inte...</td>\n",
       "      <td>[president, donald, trump, hailed, usled, inte...</td>\n",
       "    </tr>\n",
       "  </tbody>\n",
       "</table>\n",
       "</div>"
      ],
      "text/plain": [
       "                                               title   \n",
       "0  Santoli’s Wednesday market notes: Could Septem...  \\\n",
       "1     My take on the early Brexit winners and losers   \n",
       "2         Europe's recovery depends on Renzi's Italy   \n",
       "3  US Moves Closer to Becoming A Major Shareholde...   \n",
       "4  Trump: 'Mission accomplished' on 'perfectly ex...   \n",
       "\n",
       "               published_at   \n",
       "0  2021-09-29T17:09:39+0000  \\\n",
       "1  2016-06-24T13:50:48-0400   \n",
       "2  2014-03-25T13:29:45-0400   \n",
       "3  2009-04-22T19:49:03+0000   \n",
       "4  2018-04-14T14:59:04+0000   \n",
       "\n",
       "                                   short_description   \n",
       "0  This is the daily notebook of Mike Santoli, CN...  \\\n",
       "1  This commentary originally ran on Facebook. Bo...   \n",
       "2  In spring, ambitious reforms began in Italy. U...   \n",
       "3  The US government is increasingly likely to co...   \n",
       "4                                                NaN   \n",
       "\n",
       "                                            keywords   \n",
       "0  cnbc, Premium, Articles, Investment strategy, ...  \\\n",
       "1  Articles, Politics, Europe News, European Cent...   \n",
       "2  Articles, Business News, Economy, Europe Econo...   \n",
       "3  cnbc, Articles, General Motors Co, Business Ne...   \n",
       "4  cnbc, Articles, George W. Bush, Vladimir Putin...   \n",
       "\n",
       "                                         description   \n",
       "0  This is the daily notebook of Mike Santoli, CN...  \\\n",
       "1                                                NaN   \n",
       "2                                                NaN   \n",
       "3  The US government is increasingly likely to co...   \n",
       "4  President Donald Trump hailed the U.S.-led int...   \n",
       "\n",
       "                                       title_lowered   \n",
       "0  santoli’s wednesday market notes could septemb...  \\\n",
       "1     my take on the early brexit winners and losers   \n",
       "2           europes recovery depends on renzis italy   \n",
       "3  us moves closer to becoming a major shareholde...   \n",
       "4  trump mission accomplished on perfectly execut...   \n",
       "\n",
       "                                     title_tokenized   \n",
       "0  [santoli, ’, s, wednesday, market, notes, coul...  \\\n",
       "1  [my, take, on, the, early, brexit, winners, an...   \n",
       "2    [europes, recovery, depends, on, renzis, italy]   \n",
       "3  [us, moves, closer, to, becoming, a, major, sh...   \n",
       "4  [trump, mission, accomplished, on, perfectly, ...   \n",
       "\n",
       "                             title_removed_stopwords   \n",
       "0  [santoli, wednesday, market, notes, could, sep...  \\\n",
       "1             [take, early, brexit, winners, losers]   \n",
       "2        [europes, recovery, depends, renzis, italy]   \n",
       "3  [us, moves, closer, becoming, major, sharehold...   \n",
       "4  [trump, mission, accomplished, perfectly, exec...   \n",
       "\n",
       "                                    title_lemmatized   \n",
       "0  [santoli, wednesday, market, note, could, sept...  \\\n",
       "1               [take, early, brexit, winner, loser]   \n",
       "2         [europe, recovery, depends, renzis, italy]   \n",
       "3  [us, move, closer, becoming, major, shareholde...   \n",
       "4  [trump, mission, accomplished, perfectly, exec...   \n",
       "\n",
       "                           short_description_lowered   \n",
       "0  this is the daily notebook of mike santoli cnb...  \\\n",
       "1  this commentary originally ran on facebook bor...   \n",
       "2  in spring ambitious reforms began in italy und...   \n",
       "3  the us government is increasingly likely to co...   \n",
       "4                                                NaN   \n",
       "\n",
       "                         short_description_tokenized   \n",
       "0  [this, is, the, daily, notebook, of, mike, san...  \\\n",
       "1  [this, commentary, originally, ran, on, facebo...   \n",
       "2  [in, spring, ambitious, reforms, began, in, it...   \n",
       "3  [the, us, government, is, increasingly, likely...   \n",
       "4                                               None   \n",
       "\n",
       "                 short_description_removed_stopwords   \n",
       "0  [daily, notebook, mike, santoli, cnbcs, senior...  \\\n",
       "1  [commentary, originally, ran, facebook, boris,...   \n",
       "2  [spring, ambitious, reforms, began, italy, mat...   \n",
       "3  [us, government, increasingly, likely, convert...   \n",
       "4                                               None   \n",
       "\n",
       "                        short_description_lemmatized   \n",
       "0  [daily, notebook, mike, santoli, cnbcs, senior...  \\\n",
       "1  [commentary, originally, ran, facebook, boris,...   \n",
       "2  [spring, ambitious, reform, began, italy, matt...   \n",
       "3  [us, government, increasingly, likely, convert...   \n",
       "4                                               None   \n",
       "\n",
       "                                 description_lowered   \n",
       "0  this is the daily notebook of mike santoli cnb...  \\\n",
       "1                                                NaN   \n",
       "2                                                NaN   \n",
       "3  the us government is increasingly likely to co...   \n",
       "4  president donald trump hailed the usled interv...   \n",
       "\n",
       "                               description_tokenized   \n",
       "0  [this, is, the, daily, notebook, of, mike, san...  \\\n",
       "1                                               None   \n",
       "2                                               None   \n",
       "3  [the, us, government, is, increasingly, likely...   \n",
       "4  [president, donald, trump, hailed, the, usled,...   \n",
       "\n",
       "                       description_removed_stopwords   \n",
       "0  [daily, notebook, mike, santoli, cnbcs, senior...  \\\n",
       "1                                               None   \n",
       "2                                               None   \n",
       "3  [us, government, increasingly, likely, convert...   \n",
       "4  [president, donald, trump, hailed, usled, inte...   \n",
       "\n",
       "                              description_lemmatized  \n",
       "0  [daily, notebook, mike, santoli, cnbcs, senior...  \n",
       "1                                               None  \n",
       "2                                               None  \n",
       "3  [us, government, increasingly, likely, convert...  \n",
       "4  [president, donald, trump, hailed, usled, inte...  "
      ]
     },
     "execution_count": 9,
     "metadata": {},
     "output_type": "execute_result"
    }
   ],
   "source": [
    "df.head()"
   ]
  },
  {
   "cell_type": "code",
   "execution_count": 10,
   "metadata": {},
   "outputs": [],
   "source": [
    "df.to_csv('./nlp_data/cnbc_news_dataset_processed.csv')"
   ]
  },
  {
   "attachments": {},
   "cell_type": "markdown",
   "metadata": {},
   "source": [
    "## Custom analysis of the newsSpace dataset\n",
    "This additional exploratory analysis is to evaluate the quality of the newsSpace dataset.\n",
    "\n",
    "NOTE: The dataset needed for this has not been added to the repository, because it is too large."
   ]
  },
  {
   "cell_type": "code",
   "execution_count": 11,
   "metadata": {},
   "outputs": [
    {
     "ename": "FileNotFoundError",
     "evalue": "[Errno 2] No such file or directory: 'nlp_data/newsSpace_processed.csv'",
     "output_type": "error",
     "traceback": [
      "\u001b[1;31m---------------------------------------------------------------------------\u001b[0m",
      "\u001b[1;31mFileNotFoundError\u001b[0m                         Traceback (most recent call last)",
      "Cell \u001b[1;32mIn[11], line 1\u001b[0m\n\u001b[1;32m----> 1\u001b[0m df \u001b[39m=\u001b[39m pd\u001b[39m.\u001b[39;49mread_csv(\u001b[39m\"\u001b[39;49m\u001b[39mnlp_data/newsSpace_processed.csv\u001b[39;49m\u001b[39m\"\u001b[39;49m, header\u001b[39m=\u001b[39;49m\u001b[39m0\u001b[39;49m, low_memory\u001b[39m=\u001b[39;49m\u001b[39mFalse\u001b[39;49;00m)\n\u001b[0;32m      2\u001b[0m df\u001b[39m.\u001b[39mhead()\n",
      "File \u001b[1;32mc:\\Users\\janhe\\Desktop\\Uni\\Data Exploration Project\\project_submission_haiperformer\\lib\\site-packages\\pandas\\io\\parsers\\readers.py:912\u001b[0m, in \u001b[0;36mread_csv\u001b[1;34m(filepath_or_buffer, sep, delimiter, header, names, index_col, usecols, dtype, engine, converters, true_values, false_values, skipinitialspace, skiprows, skipfooter, nrows, na_values, keep_default_na, na_filter, verbose, skip_blank_lines, parse_dates, infer_datetime_format, keep_date_col, date_parser, date_format, dayfirst, cache_dates, iterator, chunksize, compression, thousands, decimal, lineterminator, quotechar, quoting, doublequote, escapechar, comment, encoding, encoding_errors, dialect, on_bad_lines, delim_whitespace, low_memory, memory_map, float_precision, storage_options, dtype_backend)\u001b[0m\n\u001b[0;32m    899\u001b[0m kwds_defaults \u001b[39m=\u001b[39m _refine_defaults_read(\n\u001b[0;32m    900\u001b[0m     dialect,\n\u001b[0;32m    901\u001b[0m     delimiter,\n\u001b[1;32m   (...)\u001b[0m\n\u001b[0;32m    908\u001b[0m     dtype_backend\u001b[39m=\u001b[39mdtype_backend,\n\u001b[0;32m    909\u001b[0m )\n\u001b[0;32m    910\u001b[0m kwds\u001b[39m.\u001b[39mupdate(kwds_defaults)\n\u001b[1;32m--> 912\u001b[0m \u001b[39mreturn\u001b[39;00m _read(filepath_or_buffer, kwds)\n",
      "File \u001b[1;32mc:\\Users\\janhe\\Desktop\\Uni\\Data Exploration Project\\project_submission_haiperformer\\lib\\site-packages\\pandas\\io\\parsers\\readers.py:577\u001b[0m, in \u001b[0;36m_read\u001b[1;34m(filepath_or_buffer, kwds)\u001b[0m\n\u001b[0;32m    574\u001b[0m _validate_names(kwds\u001b[39m.\u001b[39mget(\u001b[39m\"\u001b[39m\u001b[39mnames\u001b[39m\u001b[39m\"\u001b[39m, \u001b[39mNone\u001b[39;00m))\n\u001b[0;32m    576\u001b[0m \u001b[39m# Create the parser.\u001b[39;00m\n\u001b[1;32m--> 577\u001b[0m parser \u001b[39m=\u001b[39m TextFileReader(filepath_or_buffer, \u001b[39m*\u001b[39m\u001b[39m*\u001b[39mkwds)\n\u001b[0;32m    579\u001b[0m \u001b[39mif\u001b[39;00m chunksize \u001b[39mor\u001b[39;00m iterator:\n\u001b[0;32m    580\u001b[0m     \u001b[39mreturn\u001b[39;00m parser\n",
      "File \u001b[1;32mc:\\Users\\janhe\\Desktop\\Uni\\Data Exploration Project\\project_submission_haiperformer\\lib\\site-packages\\pandas\\io\\parsers\\readers.py:1407\u001b[0m, in \u001b[0;36mTextFileReader.__init__\u001b[1;34m(self, f, engine, **kwds)\u001b[0m\n\u001b[0;32m   1404\u001b[0m     \u001b[39mself\u001b[39m\u001b[39m.\u001b[39moptions[\u001b[39m\"\u001b[39m\u001b[39mhas_index_names\u001b[39m\u001b[39m\"\u001b[39m] \u001b[39m=\u001b[39m kwds[\u001b[39m\"\u001b[39m\u001b[39mhas_index_names\u001b[39m\u001b[39m\"\u001b[39m]\n\u001b[0;32m   1406\u001b[0m \u001b[39mself\u001b[39m\u001b[39m.\u001b[39mhandles: IOHandles \u001b[39m|\u001b[39m \u001b[39mNone\u001b[39;00m \u001b[39m=\u001b[39m \u001b[39mNone\u001b[39;00m\n\u001b[1;32m-> 1407\u001b[0m \u001b[39mself\u001b[39m\u001b[39m.\u001b[39m_engine \u001b[39m=\u001b[39m \u001b[39mself\u001b[39;49m\u001b[39m.\u001b[39;49m_make_engine(f, \u001b[39mself\u001b[39;49m\u001b[39m.\u001b[39;49mengine)\n",
      "File \u001b[1;32mc:\\Users\\janhe\\Desktop\\Uni\\Data Exploration Project\\project_submission_haiperformer\\lib\\site-packages\\pandas\\io\\parsers\\readers.py:1661\u001b[0m, in \u001b[0;36mTextFileReader._make_engine\u001b[1;34m(self, f, engine)\u001b[0m\n\u001b[0;32m   1659\u001b[0m     \u001b[39mif\u001b[39;00m \u001b[39m\"\u001b[39m\u001b[39mb\u001b[39m\u001b[39m\"\u001b[39m \u001b[39mnot\u001b[39;00m \u001b[39min\u001b[39;00m mode:\n\u001b[0;32m   1660\u001b[0m         mode \u001b[39m+\u001b[39m\u001b[39m=\u001b[39m \u001b[39m\"\u001b[39m\u001b[39mb\u001b[39m\u001b[39m\"\u001b[39m\n\u001b[1;32m-> 1661\u001b[0m \u001b[39mself\u001b[39m\u001b[39m.\u001b[39mhandles \u001b[39m=\u001b[39m get_handle(\n\u001b[0;32m   1662\u001b[0m     f,\n\u001b[0;32m   1663\u001b[0m     mode,\n\u001b[0;32m   1664\u001b[0m     encoding\u001b[39m=\u001b[39;49m\u001b[39mself\u001b[39;49m\u001b[39m.\u001b[39;49moptions\u001b[39m.\u001b[39;49mget(\u001b[39m\"\u001b[39;49m\u001b[39mencoding\u001b[39;49m\u001b[39m\"\u001b[39;49m, \u001b[39mNone\u001b[39;49;00m),\n\u001b[0;32m   1665\u001b[0m     compression\u001b[39m=\u001b[39;49m\u001b[39mself\u001b[39;49m\u001b[39m.\u001b[39;49moptions\u001b[39m.\u001b[39;49mget(\u001b[39m\"\u001b[39;49m\u001b[39mcompression\u001b[39;49m\u001b[39m\"\u001b[39;49m, \u001b[39mNone\u001b[39;49;00m),\n\u001b[0;32m   1666\u001b[0m     memory_map\u001b[39m=\u001b[39;49m\u001b[39mself\u001b[39;49m\u001b[39m.\u001b[39;49moptions\u001b[39m.\u001b[39;49mget(\u001b[39m\"\u001b[39;49m\u001b[39mmemory_map\u001b[39;49m\u001b[39m\"\u001b[39;49m, \u001b[39mFalse\u001b[39;49;00m),\n\u001b[0;32m   1667\u001b[0m     is_text\u001b[39m=\u001b[39;49mis_text,\n\u001b[0;32m   1668\u001b[0m     errors\u001b[39m=\u001b[39;49m\u001b[39mself\u001b[39;49m\u001b[39m.\u001b[39;49moptions\u001b[39m.\u001b[39;49mget(\u001b[39m\"\u001b[39;49m\u001b[39mencoding_errors\u001b[39;49m\u001b[39m\"\u001b[39;49m, \u001b[39m\"\u001b[39;49m\u001b[39mstrict\u001b[39;49m\u001b[39m\"\u001b[39;49m),\n\u001b[0;32m   1669\u001b[0m     storage_options\u001b[39m=\u001b[39;49m\u001b[39mself\u001b[39;49m\u001b[39m.\u001b[39;49moptions\u001b[39m.\u001b[39;49mget(\u001b[39m\"\u001b[39;49m\u001b[39mstorage_options\u001b[39;49m\u001b[39m\"\u001b[39;49m, \u001b[39mNone\u001b[39;49;00m),\n\u001b[0;32m   1670\u001b[0m )\n\u001b[0;32m   1671\u001b[0m \u001b[39massert\u001b[39;00m \u001b[39mself\u001b[39m\u001b[39m.\u001b[39mhandles \u001b[39mis\u001b[39;00m \u001b[39mnot\u001b[39;00m \u001b[39mNone\u001b[39;00m\n\u001b[0;32m   1672\u001b[0m f \u001b[39m=\u001b[39m \u001b[39mself\u001b[39m\u001b[39m.\u001b[39mhandles\u001b[39m.\u001b[39mhandle\n",
      "File \u001b[1;32mc:\\Users\\janhe\\Desktop\\Uni\\Data Exploration Project\\project_submission_haiperformer\\lib\\site-packages\\pandas\\io\\common.py:859\u001b[0m, in \u001b[0;36mget_handle\u001b[1;34m(path_or_buf, mode, encoding, compression, memory_map, is_text, errors, storage_options)\u001b[0m\n\u001b[0;32m    854\u001b[0m \u001b[39melif\u001b[39;00m \u001b[39misinstance\u001b[39m(handle, \u001b[39mstr\u001b[39m):\n\u001b[0;32m    855\u001b[0m     \u001b[39m# Check whether the filename is to be opened in binary mode.\u001b[39;00m\n\u001b[0;32m    856\u001b[0m     \u001b[39m# Binary mode does not support 'encoding' and 'newline'.\u001b[39;00m\n\u001b[0;32m    857\u001b[0m     \u001b[39mif\u001b[39;00m ioargs\u001b[39m.\u001b[39mencoding \u001b[39mand\u001b[39;00m \u001b[39m\"\u001b[39m\u001b[39mb\u001b[39m\u001b[39m\"\u001b[39m \u001b[39mnot\u001b[39;00m \u001b[39min\u001b[39;00m ioargs\u001b[39m.\u001b[39mmode:\n\u001b[0;32m    858\u001b[0m         \u001b[39m# Encoding\u001b[39;00m\n\u001b[1;32m--> 859\u001b[0m         handle \u001b[39m=\u001b[39m \u001b[39mopen\u001b[39;49m(\n\u001b[0;32m    860\u001b[0m             handle,\n\u001b[0;32m    861\u001b[0m             ioargs\u001b[39m.\u001b[39;49mmode,\n\u001b[0;32m    862\u001b[0m             encoding\u001b[39m=\u001b[39;49mioargs\u001b[39m.\u001b[39;49mencoding,\n\u001b[0;32m    863\u001b[0m             errors\u001b[39m=\u001b[39;49merrors,\n\u001b[0;32m    864\u001b[0m             newline\u001b[39m=\u001b[39;49m\u001b[39m\"\u001b[39;49m\u001b[39m\"\u001b[39;49m,\n\u001b[0;32m    865\u001b[0m         )\n\u001b[0;32m    866\u001b[0m     \u001b[39melse\u001b[39;00m:\n\u001b[0;32m    867\u001b[0m         \u001b[39m# Binary mode\u001b[39;00m\n\u001b[0;32m    868\u001b[0m         handle \u001b[39m=\u001b[39m \u001b[39mopen\u001b[39m(handle, ioargs\u001b[39m.\u001b[39mmode)\n",
      "\u001b[1;31mFileNotFoundError\u001b[0m: [Errno 2] No such file or directory: 'nlp_data/newsSpace_processed.csv'"
     ]
    }
   ],
   "source": [
    "df = pd.read_csv(\"nlp_data/newsSpace_processed.csv\", header=0, low_memory=False)\n",
    "df.head()"
   ]
  },
  {
   "cell_type": "code",
   "execution_count": null,
   "metadata": {},
   "outputs": [
    {
     "data": {
      "text/plain": [
       "142557"
      ]
     },
     "execution_count": 49,
     "metadata": {},
     "output_type": "execute_result"
    }
   ],
   "source": [
    "# Total number of entries\n",
    "df.shape[0]"
   ]
  },
  {
   "cell_type": "code",
   "execution_count": null,
   "metadata": {},
   "outputs": [
    {
     "data": {
      "text/plain": [
       "0"
      ]
     },
     "execution_count": 51,
     "metadata": {},
     "output_type": "execute_result"
    }
   ],
   "source": [
    "# Number of posts where the title is NaN\n",
    "df[df['title'].isna()].shape[0]"
   ]
  },
  {
   "cell_type": "code",
   "execution_count": null,
   "metadata": {},
   "outputs": [
    {
     "data": {
      "text/plain": [
       "2"
      ]
     },
     "execution_count": 52,
     "metadata": {},
     "output_type": "execute_result"
    }
   ],
   "source": [
    "# Number of posts where the description is NaN\n",
    "df[df['description'].isna()].shape[0]"
   ]
  },
  {
   "cell_type": "code",
   "execution_count": null,
   "metadata": {},
   "outputs": [
    {
     "data": {
      "text/plain": [
       "142557"
      ]
     },
     "execution_count": 53,
     "metadata": {},
     "output_type": "execute_result"
    }
   ],
   "source": [
    "# Number of posts where the pubdate is 0000-00-00 00:00:00\n",
    "df[df['pubdate'] != '0000-00-00 00:00:00'].shape[0]"
   ]
  },
  {
   "cell_type": "code",
   "execution_count": null,
   "metadata": {},
   "outputs": [
    {
     "data": {
      "text/plain": [
       "0"
      ]
     },
     "execution_count": 54,
     "metadata": {},
     "output_type": "execute_result"
    }
   ],
   "source": [
    "# Number of posts where the title is 0000-00-00 00:00:00\n",
    "df[df['title'] == '0000-00-00 00:00:00'].shape[0]"
   ]
  },
  {
   "cell_type": "code",
   "execution_count": null,
   "metadata": {},
   "outputs": [
    {
     "data": {
      "text/plain": [
       "(142557, 14)"
      ]
     },
     "execution_count": 55,
     "metadata": {},
     "output_type": "execute_result"
    }
   ],
   "source": [
    "# Number of posts where the pubdate is legitimate\n",
    "pattern = r'\\d{4}-\\d{2}-\\d{2} \\d{2}:\\d{2}:\\d{2}'\n",
    "filtered_df = df[df['pubdate'] != '0000-00-00 00:00:00']\n",
    "\n",
    "# Applying the regular expression pattern on 'pubdate' column and counting the matches\n",
    "df[pd.notna(df['pubdate']) & df['pubdate'].str.match(pattern)].shape"
   ]
  },
  {
   "attachments": {},
   "cell_type": "markdown",
   "metadata": {},
   "source": [
    "### Final checks\n",
    "This is to ensure that the filtering didn't affect any portion of the datasets timeline disproportionally.\n",
    "\n",
    "NOTE: The dataset needed for this has not been added to the repository, because it is too large."
   ]
  },
  {
   "cell_type": "code",
   "execution_count": null,
   "metadata": {},
   "outputs": [],
   "source": [
    "# Additional import\n",
    "import matplotlib.pyplot as plt"
   ]
  },
  {
   "cell_type": "code",
   "execution_count": null,
   "metadata": {},
   "outputs": [],
   "source": [
    "df_for_counting = pd.DataFrame(index=pd.to_datetime(df['pubdate'], format='%Y-%m-%d %H:%M:%S'))"
   ]
  },
  {
   "cell_type": "code",
   "execution_count": null,
   "metadata": {},
   "outputs": [
    {
     "data": {
      "image/png": "[encoded data removed]",
      "text/plain": [
       "<Figure size 640x480 with 2 Axes>"
      ]
     },
     "metadata": {},
     "output_type": "display_data"
    }
   ],
   "source": [
    "daily_counts = df_for_counting.resample('D').size()\n",
    "\n",
    "# Same with the original DataFrame for comparison\n",
    "df_raw = pd.read_csv(\"nlp_data/newsSpace.csv\", header=0, low_memory=False)\n",
    "df_raw['pubdate'] = df_raw['pubdate'].replace(\"0000-00-00 00:00:00\", \"\")\n",
    "df_raw.index = pd.to_datetime(df_raw['pubdate'])\n",
    "raw_daily_counts = df_raw.resample('D').size()\n",
    "\n",
    "\n",
    "fig, (ax1, ax2) = plt.subplots(2, 1)\n",
    "ax1.plot(daily_counts)\n",
    "ax2.plot(raw_daily_counts)\n",
    "\n",
    "# Customize the plot\n",
    "plt.grid(True)\n",
    "\n",
    "# Show the plot\n",
    "plt.show()"
   ]
  }
 ],
 "metadata": {
  "kernelspec": {
   "display_name": "project_submission_haiperformer",
   "language": "python",
   "name": "python3"
  },
  "language_info": {
   "codemirror_mode": {
    "name": "ipython",
    "version": 3
   },
   "file_extension": ".py",
   "mimetype": "text/x-python",
   "name": "python",
   "nbconvert_exporter": "python",
   "pygments_lexer": "ipython3",
   "version": "3.9.2"
  },
  "orig_nbformat": 4
 },
 "nbformat": 4,
 "nbformat_minor": 2
}
