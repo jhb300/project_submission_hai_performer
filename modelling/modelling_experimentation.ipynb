{
 "cells": [
  {
   "attachments": {},
   "cell_type": "markdown",
   "metadata": {},
   "source": [
    "# Modelling Exploration Notebook\n",
    "- Latent dirichlet allocation\n",
    "- Text Classification into fixed categories\n",
    "- Embed text and build clusers form the embedding space"
   ]
  },
  {
   "attachments": {},
   "cell_type": "markdown",
   "metadata": {},
   "source": [
    "# DeepAR"
   ]
  },
  {
   "attachments": {},
   "cell_type": "markdown",
   "metadata": {},
   "source": [
    "## Experiments"
   ]
  },
  {
   "attachments": {},
   "cell_type": "markdown",
   "metadata": {},
   "source": [
    "## DeepAR Modelling"
   ]
  },
  {
   "cell_type": "code",
   "execution_count": 1,
   "metadata": {},
   "outputs": [],
   "source": [
    "# import deepar experiment method\n",
    "from src.deepar_script import run_deepar_experiment"
   ]
  },
  {
   "cell_type": "code",
   "execution_count": 2,
   "metadata": {},
   "outputs": [],
   "source": [
    "input_paths = [\n",
    "    \"../data_engineering/financial_ts/indices.csv\",\n",
    "    \"../data_engineering/financial_ts/ww_gdp.csv\",\n",
    "    \"../data_engineering/timeseries_data/ts_dgelt_events.csv\"\n",
    "]\n",
    "prediction_length=56\n",
    "num_layers=2\n",
    "hidden_size=40\n",
    "max_epochs = 400"
   ]
  },
  {
   "cell_type": "code",
   "execution_count": 3,
   "metadata": {},
   "outputs": [],
   "source": [
    "df = run_deepar_experiment(input_paths)"
   ]
  },
  {
   "cell_type": "code",
   "execution_count": 4,
   "metadata": {},
   "outputs": [
    {
     "data": {
      "text/plain": [
       "'[\\'Week\\', \\'tts_NASDAQ\\', \\'tts_S&P\\', \\'tts_IT_ETF\\', \\'tts_United_States_Oil_Fund(USO)\\', \\'tts_Farming_ETF\\', \\'tts_MSCI_World\\', \\'tts_Emerging_markets\\', \\'tts_DAX\\', \\'tts_Aruba\\', \\'tts_Africa Eastern and Southern\\', \\'tts_Afghanistan\\', \\'tts_Africa Western and Central\\', \\'tts_Angola\\', \\'tts_Albania\\', \\'tts_Andorra\\', \\'tts_Arab World\\', \\'tts_United Arab Emirates\\', \\'tts_Argentina\\', \\'tts_Armenia\\', \\'tts_American Samoa\\', \\'tts_Antigua and Barbuda\\', \\'tts_Australia\\', \\'tts_Austria\\', \\'tts_Azerbaijan\\', \\'tts_Burundi\\', \\'tts_Belgium\\', \\'tts_Benin\\', \\'tts_Burkina Faso\\', \\'tts_Bangladesh\\', \\'tts_Bulgaria\\', \\'tts_Bahrain\\', \\'tts_Bahamas\\', \\'tts_Bosnia and Herzegovina\\', \\'tts_Belarus\\', \\'tts_Belize\\', \\'tts_Bermuda\\', \\'tts_Bolivia\\', \\'tts_Brazil\\', \\'tts_Barbados\\', \\'tts_Brunei Darussalam\\', \\'tts_Bhutan\\', \\'tts_Botswana\\', \\'tts_Central African Republic\\', \\'tts_Canada\\', \\'tts_Central Europe and the Baltics\\', \\'tts_Switzerland\\', \\'tts_Channel Islands\\', \\'tts_Chile\\', \\'tts_China\\', \"tts_Cote d\\'Ivoire\", \\'tts_Cameroon\\', \\'tts_Congo\\', \\'tts_Congo.1\\', \\'tts_Colombia\\', \\'tts_Comoros\\', \\'tts_Cabo Verde\\', \\'tts_Costa Rica\\', \\'tts_Caribbean small states\\', \\'tts_Cuba\\', \\'tts_Curacao\\', \\'tts_Cayman Islands\\', \\'tts_Cyprus\\', \\'tts_Czechia\\', \\'tts_Germany\\', \\'tts_Djibouti\\', \\'tts_Dominica\\', \\'tts_Denmark\\', \\'tts_Dominican Republic\\', \\'tts_Algeria\\', \\'tts_East Asia & Pacific (excluding high income)\\', \\'tts_Early-demographic dividend\\', \\'tts_East Asia & Pacific\\', \\'tts_Europe & Central Asia (excluding high income)\\', \\'tts_Europe & Central Asia\\', \\'tts_Ecuador\\', \\'tts_Egypt\\', \\'tts_Euro area\\', \\'tts_Eritrea\\', \\'tts_Spain\\', \\'tts_Estonia\\', \\'tts_Ethiopia\\', \\'tts_European Union\\', \\'tts_Fragile and conflict affected situations\\', \\'tts_Finland\\', \\'tts_Fiji\\', \\'tts_France\\', \\'tts_Faroe Islands\\', \\'tts_Micronesia\\', \\'tts_Gabon\\', \\'tts_United Kingdom\\', \\'tts_Georgia\\', \\'tts_Ghana\\', \\'tts_Gibraltar\\', \\'tts_Guinea\\', \\'tts_Gambia\\', \\'tts_Guinea-Bissau\\', \\'tts_Equatorial Guinea\\', \\'tts_Greece\\', \\'tts_Grenada\\', \\'tts_Greenland\\', \\'tts_Guatemala\\', \\'tts_Guam\\', \\'tts_Guyana\\', \\'tts_High income\\', \\'tts_Hong Kong SAR\\', \\'tts_Honduras\\', \\'tts_Heavily indebted poor countries (HIPC)\\', \\'tts_Croatia\\', \\'tts_Haiti\\', \\'tts_Hungary\\', \\'tts_IBRD only\\', \\'tts_IDA & IBRD total\\', \\'tts_IDA total\\', \\'tts_IDA blend\\', \\'tts_Indonesia\\', \\'tts_IDA only\\', \\'tts_Isle of Man\\', \\'tts_India\\', \\'tts_Not classified\\', \\'tts_Ireland\\', \\'tts_Iran\\', \\'tts_Iraq\\', \\'tts_Iceland\\', \\'tts_Israel\\', \\'tts_Italy\\', \\'tts_Jamaica\\', \\'tts_Jordan\\', \\'tts_Japan\\', \\'tts_Kazakhstan\\', \\'tts_Kenya\\', \\'tts_Kyrgyz Republic\\', \\'tts_Cambodia\\', \\'tts_Kiribati\\', \\'tts_St. Kitts and Nevis\\', \\'tts_Korea\\', \\'tts_Kuwait\\', \\'tts_Latin America & Caribbean (excluding high income)\\', \\'tts_Lao PDR\\', \\'tts_Lebanon\\', \\'tts_Liberia\\', \\'tts_Libya\\', \\'tts_St. Lucia\\', \\'tts_Latin America & Caribbean\\', \\'tts_Least developed countries: UN classification\\', \\'tts_Low income\\', \\'tts_Liechtenstein\\', \\'tts_Sri Lanka\\', \\'tts_Lower middle income\\', \\'tts_Low & middle income\\', \\'tts_Lesotho\\', \\'tts_Late-demographic dividend\\', \\'tts_Lithuania\\', \\'tts_Luxembourg\\', \\'tts_Latvia\\', \\'tts_Macao SAR\\', \\'tts_St. Martin (French part)\\', \\'tts_Morocco\\', \\'tts_Monaco\\', \\'tts_Moldova\\', \\'tts_Madagascar\\', \\'tts_Maldives\\', \\'tts_Middle East & North Africa\\', \\'tts_Mexico\\', \\'tts_Marshall Islands\\', \\'tts_Middle income\\', \\'tts_North Macedonia\\', \\'tts_Mali\\', \\'tts_Malta\\', \\'tts_Myanmar\\', \\'tts_Middle East & North Africa (excluding high income)\\', \\'tts_Montenegro\\', \\'tts_Mongolia\\', \\'tts_Northern Mariana Islands\\', \\'tts_Mozambique\\', \\'tts_Mauritania\\', \\'tts_Mauritius\\', \\'tts_Malawi\\', \\'tts_Malaysia\\', \\'tts_North America\\', \\'tts_Namibia\\', \\'tts_New Caledonia\\', \\'tts_Niger\\', \\'tts_Nigeria\\', \\'tts_Nicaragua\\', \\'tts_Netherlands\\', \\'tts_Norway\\', \\'tts_Nepal\\', \\'tts_Nauru\\', \\'tts_New Zealand\\', \\'tts_OECD members\\', \\'tts_Oman\\', \\'tts_Other small states\\', \\'tts_Pakistan\\', \\'tts_Panama\\', \\'tts_Peru\\', \\'tts_Philippines\\', \\'tts_Palau\\', \\'tts_Papua New Guinea\\', \\'tts_Poland\\', \\'tts_Pre-demographic dividend\\', \\'tts_Puerto Rico\\', \\'tts_Korea.1\\', \\'tts_Portugal\\', \\'tts_Paraguay\\', \\'tts_West Bank and Gaza\\', \\'tts_Pacific island small states\\', \\'tts_Post-demographic dividend\\', \\'tts_French Polynesia\\', \\'tts_Qatar\\', \\'tts_Romania\\', \\'tts_Russian Federation\\', \\'tts_Rwanda\\', \\'tts_South Asia\\', \\'tts_Saudi Arabia\\', \\'tts_Sudan\\', \\'tts_Senegal\\', \\'tts_Singapore\\', \\'tts_Solomon Islands\\', \\'tts_Sierra Leone\\', \\'tts_El Salvador\\', \\'tts_San Marino\\', \\'tts_Somalia\\', \\'tts_Serbia\\', \\'tts_Sub-Saharan Africa (excluding high income)\\', \\'tts_South Sudan\\', \\'tts_Sub-Saharan Africa\\', \\'tts_Small states\\', \\'tts_Sao Tome and Principe\\', \\'tts_Suriname\\', \\'tts_Slovak Republic\\', \\'tts_Slovenia\\', \\'tts_Sweden\\', \\'tts_Eswatini\\', \\'tts_Sint Maarten (Dutch part)\\', \\'tts_Seychelles\\', \\'tts_Syrian Arab Republic\\', \\'tts_Turks and Caicos Islands\\', \\'tts_Chad\\', \\'tts_East Asia & Pacific (IDA & IBRD countries)\\', \\'tts_Europe & Central Asia (IDA & IBRD countries)\\', \\'tts_Togo\\', \\'tts_Thailand\\', \\'tts_Tajikistan\\', \\'tts_Turkmenistan\\', \\'tts_Latin America & the Caribbean (IDA & IBRD countries)\\', \\'tts_Timor-Leste\\', \\'tts_Middle East & North Africa (IDA & IBRD countries)\\', \\'tts_Tonga\\', \\'tts_South Asia (IDA & IBRD)\\', \\'tts_Sub-Saharan Africa (IDA & IBRD countries)\\', \\'tts_Trinidad and Tobago\\', \\'tts_Tunisia\\', \\'tts_Turkiye\\', \\'tts_Tuvalu\\', \\'tts_Tanzania\\', \\'tts_Uganda\\', \\'tts_Ukraine\\', \\'tts_Upper middle income\\', \\'tts_Uruguay\\', \\'tts_United States\\', \\'tts_Uzbekistan\\', \\'tts_St. Vincent and the Grenadines\\', \\'tts_Venezuela\\', \\'tts_British Virgin Islands\\', \\'tts_Virgin Islands (U.S.)\\', \\'tts_Vietnam\\', \\'tts_Vanuatu\\', \\'tts_World\\', \\'tts_Samoa\\', \\'tts_Kosovo\\', \\'tts_Yemen\\', \\'tts_South Africa\\', \\'tts_Zambia\\', \\'tts_Zimbabwe\\', \\'tts_10\\', \\'tts_11\\', \\'tts_12\\', \\'tts_13\\', \\'tts_14\\', \\'tts_15\\', \\'tts_16\\', \\'tts_17\\', \\'tts_18\\', \\'tts_19\\', \\'tts_20\\', \\'tts_21\\', \\'tts_22\\', \\'tts_23\\', \\'tts_24\\', \\'tts_25\\', \\'tts_26\\', \\'tts_27\\', \\'tts_28\\', \\'tts_30\\', \\'tts_31\\', \\'tts_32\\', \\'tts_33\\', \\'tts_34\\', \\'tts_35\\', \\'tts_36\\', \\'tts_37\\', \\'tts_38\\', \\'tts_39\\', \\'tts_40\\', \\'tts_41\\', \\'tts_42\\', \\'tts_43\\', \\'tts_44\\', \\'tts_45\\', \\'tts_46\\', \\'tts_50\\', \\'tts_51\\', \\'tts_52\\', \\'tts_53\\', \\'tts_54\\', \\'tts_55\\', \\'tts_56\\', \\'tts_57\\', \\'tts_60\\', \\'tts_61\\', \\'tts_62\\', \\'tts_63\\', \\'tts_64\\', \\'tts_70\\', \\'tts_71\\', \\'tts_72\\', \\'tts_73\\', \\'tts_74\\', \\'tts_75\\', \\'tts_80\\', \\'tts_81\\', \\'tts_82\\', \\'tts_83\\', \\'tts_84\\', \\'tts_85\\', \\'tts_86\\', \\'tts_87\\', \\'tts_90\\', \\'tts_91\\', \\'tts_92\\', \\'tts_93\\', \\'tts_94\\', \\'tts_100\\', \\'tts_101\\', \\'tts_105\\', \\'tts_106\\', \\'tts_107\\', \\'tts_110\\', \\'tts_111\\', \\'tts_112\\', \\'tts_113\\', \\'tts_114\\', \\'tts_115\\', \\'tts_120\\', \\'tts_121\\', \\'tts_122\\', \\'tts_123\\', \\'tts_124\\', \\'tts_125\\', \\'tts_127\\', \\'tts_128\\', \\'tts_129\\', \\'tts_130\\', \\'tts_131\\', \\'tts_132\\', \\'tts_133\\', \\'tts_134\\', \\'tts_137\\', \\'tts_138\\', \\'tts_139\\', \\'tts_140\\', \\'tts_141\\', \\'tts_142\\', \\'tts_143\\', \\'tts_144\\', \\'tts_145\\', \\'tts_150\\', \\'tts_151\\', \\'tts_152\\', \\'tts_153\\', \\'tts_154\\', \\'tts_160\\', \\'tts_161\\', \\'tts_162\\', \\'tts_163\\', \\'tts_164\\', \\'tts_166\\', \\'tts_170\\', \\'tts_171\\', \\'tts_172\\', \\'tts_173\\', \\'tts_174\\', \\'tts_175\\', \\'tts_180\\', \\'tts_181\\', \\'tts_182\\', \\'tts_183\\', \\'tts_185\\', \\'tts_186\\', \\'tts_190\\', \\'tts_191\\', \\'tts_192\\', \\'tts_193\\', \\'tts_194\\', \\'tts_195\\', \\'tts_196\\', \\'tts_201\\', \\'tts_202\\', \\'tts_203\\', \\'tts_211\\', \\'tts_212\\', \\'tts_213\\', \\'tts_214\\', \\'tts_231\\', \\'tts_232\\', \\'tts_233\\', \\'tts_234\\', \\'tts_241\\', \\'tts_242\\', \\'tts_243\\', \\'tts_244\\', \\'tts_251\\', \\'tts_253\\', \\'tts_256\\', \\'tts_311\\', \\'tts_312\\', \\'tts_314\\', \\'tts_331\\', \\'tts_332\\', \\'tts_333\\', \\'tts_334\\', \\'tts_341\\', \\'tts_344\\', \\'tts_351\\', \\'tts_353\\', \\'tts_355\\', \\'tts_356\\', \\'tts_811\\', \\'tts_813\\', \\'tts_814\\', \\'tts_831\\', \\'tts_833\\', \\'tts_834\\', \\'tts_841\\', \\'tts_842\\', \\'tts_861\\', \\'tts_862\\', \\'tts_863\\', \\'tts_871\\', \\'tts_872\\', \\'tts_873\\', \\'tts_874\\', \\'tts_1013\\', \\'tts_1014\\', \\'tts_1031\\', \\'tts_1034\\', \\'tts_1041\\', \\'tts_1043\\', \\'tts_1044\\', \\'tts_1053\\', \\'tts_1056\\', \\'tts_1121\\', \\'tts_1122\\', \\'tts_1123\\', \\'tts_1124\\', \\'tts_1125\\', \\'tts_1222\\', \\'tts_1233\\', \\'tts_1241\\', \\'tts_1243\\', \\'tts_1244\\', \\'tts_1246\\', \\'tts_1311\\', \\'tts_1312\\', \\'tts_1313\\', \\'tts_1383\\', \\'tts_1384\\', \\'tts_1411\\', \\'tts_1412\\', \\'tts_1621\\', \\'tts_1711\\', \\'tts_1712\\', \\'tts_1721\\', \\'tts_1722\\', \\'tts_1723\\', \\'tts_1724\\', \\'tts_1821\\', \\'tts_1822\\', \\'tts_1823\\', \\'tts_1831\\', \\'tts_1832\\']'"
      ]
     },
     "execution_count": 4,
     "metadata": {},
     "output_type": "execute_result"
    }
   ],
   "source": []
  },
  {
   "attachments": {},
   "cell_type": "markdown",
   "metadata": {},
   "source": [
    "# NLP"
   ]
  },
  {
   "attachments": {},
   "cell_type": "markdown",
   "metadata": {},
   "source": [
    "## Experiments"
   ]
  },
  {
   "cell_type": "code",
   "execution_count": 2,
   "metadata": {},
   "outputs": [],
   "source": [
    "from sqlalchemy import create_engine, Column, Integer, String, ForeignKey, select\n",
    "from sqlalchemy.ext.declarative import declarative_base\n",
    "from sqlalchemy.orm import sessionmaker, relationship"
   ]
  },
  {
   "cell_type": "code",
   "execution_count": 3,
   "metadata": {},
   "outputs": [],
   "source": [
    "Base = declarative_base()\n",
    "\n",
    "class Experiment(Base):\n",
    "    __tablename__ = 'lda_experiment'\n",
    "    id = Column('id', Integer, primary_key=True)\n",
    "    model = Column('model_path', String(100))\n",
    "    dataset = Column('dataset_path', String(100))\n",
    "    num_topics = Column('num_topics', Integer)\n",
    "    epochs = Column('passes', Integer)\n"
   ]
  },
  {
   "cell_type": "code",
   "execution_count": 4,
   "metadata": {},
   "outputs": [],
   "source": [
    "# engine = create_engine('sqlite:///:memory:', echo=True)\n",
    "engine = create_engine(\"sqlite:///config/experiment_config.db\")\n",
    "\n",
    "Base.metadata.create_all(bind=engine)\n",
    "Session = sessionmaker(bind=engine)\n",
    "session = Session()"
   ]
  },
  {
   "attachments": {},
   "cell_type": "markdown",
   "metadata": {},
   "source": [
    "### Query Experiments"
   ]
  },
  {
   "cell_type": "code",
   "execution_count": 5,
   "metadata": {},
   "outputs": [
    {
     "name": "stdout",
     "output_type": "stream",
     "text": [
      "lda_model_topics_5_passes_10\n",
      "lda_model_topics_10_passes_10\n",
      "lda_model_topics_50_passes_10\n",
      "lda_model_topics_100_passes_10\n",
      "lda_model_topics_500_passes_10\n",
      "lda_model_topics_1000_passes_10\n",
      "lda_model_topics_10_passes_20\n",
      "lda_model_topics_50_passes_20\n",
      "lda_model_topics_100_passes_20\n",
      "lda_model_topics_500_passes_20\n",
      "lda_model_topics_1000_passes_20\n",
      "lda_model_topics_10_passes_50\n",
      "lda_model_topics_50_passes_50\n",
      "lda_model_topics_100_passes_50\n",
      "lda_model_topics_500_passes_50\n",
      "lda_model_topics_1000_passes_50\n",
      "lda_model_topics_1000_passes_50_on_title_lemmatized\n"
     ]
    }
   ],
   "source": [
    "q1 = select(Experiment)\n",
    "q1_result = session.execute(q1) \n",
    "for s in q1_result.scalars():\n",
    "    print(f\"{s.model}\")"
   ]
  },
  {
   "attachments": {},
   "cell_type": "markdown",
   "metadata": {},
   "source": [
    "## [LDA Modelling](https://towardsdatascience.com/nlp-extracting-the-main-topics-from-your-dataset-using-lda-in-minutes-21486f5aa925)\n"
   ]
  },
  {
   "cell_type": "code",
   "execution_count": 8,
   "metadata": {},
   "outputs": [
    {
     "name": "stdout",
     "output_type": "stream",
     "text": [
      "Intel MKL WARNING: Support of Intel(R) Streaming SIMD Extensions 4.2 (Intel(R) SSE4.2) enabled only processors has been deprecated. Intel oneAPI Math Kernel Library 2025.0 will require Intel(R) Advanced Vector Extensions (Intel(R) AVX) instructions.\n",
      "Intel MKL WARNING: Support of Intel(R) Streaming SIMD Extensions 4.2 (Intel(R) SSE4.2) enabled only processors has been deprecated. Intel oneAPI Math Kernel Library 2025.0 will require Intel(R) Advanced Vector Extensions (Intel(R) AVX) instructions.\n"
     ]
    }
   ],
   "source": [
    "# import lda experiment method\n",
    "from src.lda_script import run_lda_experiment"
   ]
  },
  {
   "attachments": {},
   "cell_type": "markdown",
   "metadata": {},
   "source": [
    "### Create Single Experiment"
   ]
  },
  {
   "cell_type": "code",
   "execution_count": 5,
   "metadata": {},
   "outputs": [],
   "source": [
    "num_topics = 1000\n",
    "num_passes = 50\n",
    "dataset_name = 'cnbc_news_dataset_processed'\n",
    "data_input_path = f'../data_engineering/nlp_data/{dataset_name}.csv'\n",
    "data_output_path = './output_data/'\n",
    "# input_column='short_description_lemmatized'\n",
    "input_column='title_lemmatized'"
   ]
  },
  {
   "cell_type": "code",
   "execution_count": 6,
   "metadata": {},
   "outputs": [
    {
     "name": "stdout",
     "output_type": "stream",
     "text": [
      "Intel MKL WARNING: Support of Intel(R) Streaming SIMD Extensions 4.2 (Intel(R) SSE4.2) enabled only processors has been deprecated. Intel oneAPI Math Kernel Library 2025.0 will require Intel(R) Advanced Vector Extensions (Intel(R) AVX) instructions.\n",
      "Intel MKL WARNING: Support of Intel(R) Streaming SIMD Extensions 4.2 (Intel(R) SSE4.2) enabled only processors has been deprecated. Intel oneAPI Math Kernel Library 2025.0 will require Intel(R) Advanced Vector Extensions (Intel(R) AVX) instructions.\n",
      "Intel MKL WARNING: Support of Intel(R) Streaming SIMD Extensions 4.2 (Intel(R) SSE4.2) enabled only processors has been deprecated. Intel oneAPI Math Kernel Library 2025.0 will require Intel(R) Advanced Vector Extensions (Intel(R) AVX) instructions.\n",
      "Intel MKL WARNING: Support of Intel(R) Streaming SIMD Extensions 4.2 (Intel(R) SSE4.2) enabled only processors has been deprecated. Intel oneAPI Math Kernel Library 2025.0 will require Intel(R) Advanced Vector Extensions (Intel(R) AVX) instructions.\n",
      "Intel MKL WARNING: Support of Intel(R) Streaming SIMD Extensions 4.2 (Intel(R) SSE4.2) enabled only processors has been deprecated. Intel oneAPI Math Kernel Library 2025.0 will require Intel(R) Advanced Vector Extensions (Intel(R) AVX) instructions.\n",
      "Intel MKL WARNING: Support of Intel(R) Streaming SIMD Extensions 4.2 (Intel(R) SSE4.2) enabled only processors has been deprecated. Intel oneAPI Math Kernel Library 2025.0 will require Intel(R) Advanced Vector Extensions (Intel(R) AVX) instructions.\n",
      "Intel MKL WARNING: Support of Intel(R) Streaming SIMD Extensions 4.2 (Intel(R) SSE4.2) enabled only processors has been deprecated. Intel oneAPI Math Kernel Library 2025.0 will require Intel(R) Advanced Vector Extensions (Intel(R) AVX) instructions.\n",
      "Intel MKL WARNING: Support of Intel(R) Streaming SIMD Extensions 4.2 (Intel(R) SSE4.2) enabled only processors has been deprecated. Intel oneAPI Math Kernel Library 2025.0 will require Intel(R) Advanced Vector Extensions (Intel(R) AVX) instructions.\n",
      "Intel MKL WARNING: Support of Intel(R) Streaming SIMD Extensions 4.2 (Intel(R) SSE4.2) enabled only processors has been deprecated. Intel oneAPI Math Kernel Library 2025.0 will require Intel(R) Advanced Vector Extensions (Intel(R) AVX) instructions.\n",
      "Intel MKL WARNING: Support of Intel(R) Streaming SIMD Extensions 4.2 (Intel(R) SSE4.2) enabled only processors has been deprecated. Intel oneAPI Math Kernel Library 2025.0 will require Intel(R) Advanced Vector Extensions (Intel(R) AVX) instructions.\n",
      "Intel MKL WARNING: Support of Intel(R) Streaming SIMD Extensions 4.2 (Intel(R) SSE4.2) enabled only processors has been deprecated. Intel oneAPI Math Kernel Library 2025.0 will require Intel(R) Advanced Vector Extensions (Intel(R) AVX) instructions.\n",
      "Intel MKL WARNING: Support of Intel(R) Streaming SIMD Extensions 4.2 (Intel(R) SSE4.2) enabled only processors has been deprecated. Intel oneAPI Math Kernel Library 2025.0 will require Intel(R) Advanced Vector Extensions (Intel(R) AVX) instructions.\n",
      "Intel MKL WARNING: Support of Intel(R) Streaming SIMD Extensions 4.2 (Intel(R) SSE4.2) enabled only processors has been deprecated. Intel oneAPI Math Kernel Library 2025.0 will require Intel(R) Advanced Vector Extensions (Intel(R) AVX) instructions.\n",
      "Intel MKL WARNING: Support of Intel(R) Streaming SIMD Extensions 4.2 (Intel(R) SSE4.2) enabled only processors has been deprecated. Intel oneAPI Math Kernel Library 2025.0 will require Intel(R) Advanced Vector Extensions (Intel(R) AVX) instructions.\n",
      "Intel MKL WARNING: Support of Intel(R) Streaming SIMD Extensions 4.2 (Intel(R) SSE4.2) enabled only processors has been deprecated. Intel oneAPI Math Kernel Library 2025.0 will require Intel(R) Advanced Vector Extensions (Intel(R) AVX) instructions.\n",
      "Intel MKL WARNING: Support of Intel(R) Streaming SIMD Extensions 4.2 (Intel(R) SSE4.2) enabled only processors has been deprecated. Intel oneAPI Math Kernel Library 2025.0 will require Intel(R) Advanced Vector Extensions (Intel(R) AVX) instructions.\n"
     ]
    },
    {
     "name": "stderr",
     "output_type": "stream",
     "text": [
      "/opt/anaconda3/envs/datascience/lib/python3.11/site-packages/gensim/models/ldamodel.py:850: RuntimeWarning: overflow encountered in exp2\n",
      "  perwordbound, np.exp2(-perwordbound), len(chunk), corpus_words\n"
     ]
    }
   ],
   "source": [
    "\n",
    "# Start Experiment\n",
    "run_lda_experiment(\n",
    "    num_topics=num_topics,\n",
    "    num_passes=num_passes,\n",
    "    data_input_path=data_input_path,\n",
    "    data_output_path=data_output_path,\n",
    "    dataset_name=dataset_name,\n",
    "    input_column=input_column\n",
    ")"
   ]
  },
  {
   "cell_type": "code",
   "execution_count": 11,
   "metadata": {},
   "outputs": [],
   "source": [
    "model_name = f'lda_model_topics_{num_topics}_passes_{num_passes}_on_{input_column}'\n",
    "experiment_config = Experiment(\n",
    "    model = model_name, \n",
    "    dataset = dataset_name, \n",
    "    num_topics=num_topics, \n",
    "    epochs=num_passes\n",
    ")\n",
    "session.add(experiment_config)\n",
    "session.commit()"
   ]
  },
  {
   "attachments": {},
   "cell_type": "markdown",
   "metadata": {},
   "source": [
    "### Create Set of Experiments"
   ]
  },
  {
   "cell_type": "code",
   "execution_count": 6,
   "metadata": {},
   "outputs": [],
   "source": [
    "# num_topics = 1000\n",
    "# num_passes = 50\n",
    "dataset_name = 'cnbc_news_dataset_processed'\n",
    "data_input_path = f'../data_engineering/nlp_data/{dataset_name}.csv'\n",
    "data_output_path = './output_data/'\n",
    "# input_column='short_description_lemmatized'\n",
    "input_column='title_lemmatized'"
   ]
  },
  {
   "cell_type": "code",
   "execution_count": 9,
   "metadata": {},
   "outputs": [
    {
     "name": "stdout",
     "output_type": "stream",
     "text": [
      "Intel MKL WARNING: Support of Intel(R) Streaming SIMD Extensions 4.2 (Intel(R) SSE4.2) enabled only processors has been deprecated. Intel oneAPI Math Kernel Library 2025.0 will require Intel(R) Advanced Vector Extensions (Intel(R) AVX) instructions.\n",
      "Intel MKL WARNING: Support of Intel(R) Streaming SIMD Extensions 4.2 (Intel(R) SSE4.2) enabled only processors has been deprecated. Intel oneAPI Math Kernel Library 2025.0 will require Intel(R) Advanced Vector Extensions (Intel(R) AVX) instructions.\n",
      "Intel MKL WARNING: Support of Intel(R) Streaming SIMD Extensions 4.2 (Intel(R) SSE4.2) enabled only processors has been deprecated. Intel oneAPI Math Kernel Library 2025.0 will require Intel(R) Advanced Vector Extensions (Intel(R) AVX) instructions.\n",
      "Intel MKL WARNING: Support of Intel(R) Streaming SIMD Extensions 4.2 (Intel(R) SSE4.2) enabled only processors has been deprecated. Intel oneAPI Math Kernel Library 2025.0 will require Intel(R) Advanced Vector Extensions (Intel(R) AVX) instructions.\n",
      "Intel MKL WARNING: Support of Intel(R) Streaming SIMD Extensions 4.2 (Intel(R) SSE4.2) enabled only processors has been deprecated. Intel oneAPI Math Kernel Library 2025.0 will require Intel(R) Advanced Vector Extensions (Intel(R) AVX) instructions.\n",
      "Intel MKL WARNING: Support of Intel(R) Streaming SIMD Extensions 4.2 (Intel(R) SSE4.2) enabled only processors has been deprecated. Intel oneAPI Math Kernel Library 2025.0 will require Intel(R) Advanced Vector Extensions (Intel(R) AVX) instructions.\n",
      "Intel MKL WARNING: Support of Intel(R) Streaming SIMD Extensions 4.2 (Intel(R) SSE4.2) enabled only processors has been deprecated. Intel oneAPI Math Kernel Library 2025.0 will require Intel(R) Advanced Vector Extensions (Intel(R) AVX) instructions.\n",
      "Intel MKL WARNING: Support of Intel(R) Streaming SIMD Extensions 4.2 (Intel(R) SSE4.2) enabled only processors has been deprecated. Intel oneAPI Math Kernel Library 2025.0 will require Intel(R) Advanced Vector Extensions (Intel(R) AVX) instructions.\n",
      "Intel MKL WARNING: Support of Intel(R) Streaming SIMD Extensions 4.2 (Intel(R) SSE4.2) enabled only processors has been deprecated. Intel oneAPI Math Kernel Library 2025.0 will require Intel(R) Advanced Vector Extensions (Intel(R) AVX) instructions.\n",
      "Intel MKL WARNING: Support of Intel(R) Streaming SIMD Extensions 4.2 (Intel(R) SSE4.2) enabled only processors has been deprecated. Intel oneAPI Math Kernel Library 2025.0 will require Intel(R) Advanced Vector Extensions (Intel(R) AVX) instructions.\n",
      "Intel MKL WARNING: Support of Intel(R) Streaming SIMD Extensions 4.2 (Intel(R) SSE4.2) enabled only processors has been deprecated. Intel oneAPI Math Kernel Library 2025.0 will require Intel(R) Advanced Vector Extensions (Intel(R) AVX) instructions.\n",
      "Intel MKL WARNING: Support of Intel(R) Streaming SIMD Extensions 4.2 (Intel(R) SSE4.2) enabled only processors has been deprecated. Intel oneAPI Math Kernel Library 2025.0 will require Intel(R) Advanced Vector Extensions (Intel(R) AVX) instructions.\n",
      "Intel MKL WARNING: Support of Intel(R) Streaming SIMD Extensions 4.2 (Intel(R) SSE4.2) enabled only processors has been deprecated. Intel oneAPI Math Kernel Library 2025.0 will require Intel(R) Advanced Vector Extensions (Intel(R) AVX) instructions.\n",
      "Intel MKL WARNING: Support of Intel(R) Streaming SIMD Extensions 4.2 (Intel(R) SSE4.2) enabled only processors has been deprecated. Intel oneAPI Math Kernel Library 2025.0 will require Intel(R) Advanced Vector Extensions (Intel(R) AVX) instructions.\n",
      "Intel MKL WARNING: Support of Intel(R) Streaming SIMD Extensions 4.2 (Intel(R) SSE4.2) enabled only processors has been deprecated. Intel oneAPI Math Kernel Library 2025.0 will require Intel(R) Advanced Vector Extensions (Intel(R) AVX) instructions.\n",
      "Intel MKL WARNING: Support of Intel(R) Streaming SIMD Extensions 4.2 (Intel(R) SSE4.2) enabled only processors has been deprecated. Intel oneAPI Math Kernel Library 2025.0 will require Intel(R) Advanced Vector Extensions (Intel(R) AVX) instructions.\n"
     ]
    },
    {
     "ename": "NameError",
     "evalue": "name 'num_topics' is not defined",
     "output_type": "error",
     "traceback": [
      "\u001b[0;31m---------------------------------------------------------------------------\u001b[0m",
      "\u001b[0;31mNameError\u001b[0m                                 Traceback (most recent call last)",
      "Cell \u001b[0;32mIn[9], line 13\u001b[0m\n\u001b[1;32m      4\u001b[0m run_lda_experiment(\n\u001b[1;32m      5\u001b[0m     num_topics\u001b[39m=\u001b[39mnum_t,\n\u001b[1;32m      6\u001b[0m     num_passes\u001b[39m=\u001b[39mnum_p,\n\u001b[0;32m   (...)\u001b[0m\n\u001b[1;32m     10\u001b[0m     input_column\u001b[39m=\u001b[39minput_column\n\u001b[1;32m     11\u001b[0m )   \n\u001b[1;32m     12\u001b[0m \u001b[39m# Save model and config\u001b[39;00m\n\u001b[0;32m---> 13\u001b[0m model_name \u001b[39m=\u001b[39m \u001b[39mf\u001b[39m\u001b[39m'\u001b[39m\u001b[39mlda_model_topics_\u001b[39m\u001b[39m{\u001b[39;00mnum_topics\u001b[39m}\u001b[39;00m\u001b[39m_passes_\u001b[39m\u001b[39m{\u001b[39;00mnum_passes\u001b[39m}\u001b[39;00m\u001b[39m_on_\u001b[39m\u001b[39m{\u001b[39;00minput_column\u001b[39m}\u001b[39;00m\u001b[39m'\u001b[39m\n\u001b[1;32m     14\u001b[0m experiment_config \u001b[39m=\u001b[39m Experiment(\n\u001b[1;32m     15\u001b[0m     model \u001b[39m=\u001b[39m model_name, \n\u001b[1;32m     16\u001b[0m     dataset \u001b[39m=\u001b[39m dataset_name, \n\u001b[1;32m     17\u001b[0m     num_topics\u001b[39m=\u001b[39mnum_t, \n\u001b[1;32m     18\u001b[0m     epochs\u001b[39m=\u001b[39mnum_p\n\u001b[1;32m     19\u001b[0m )\n\u001b[1;32m     20\u001b[0m session\u001b[39m.\u001b[39madd(experiment_config)\n",
      "\u001b[0;31mNameError\u001b[0m: name 'num_topics' is not defined"
     ]
    }
   ],
   "source": [
    "for num_t in [5,10,50,100,500,1000]:\n",
    "    for num_p in [5,10,50,100,500,1000]:\n",
    "        # Start Experiment\n",
    "        run_lda_experiment(\n",
    "            num_topics=num_t,\n",
    "            num_passes=num_p,\n",
    "            data_input_path=data_input_path,\n",
    "            data_output_path=data_output_path,\n",
    "            dataset_name=dataset_name,\n",
    "            input_column=input_column\n",
    "        )   \n",
    "        # Save model and config\n",
    "        model_name = f'lda_model_topics_{num_t}_passes_{num_p}_on_{input_column}'\n",
    "        experiment_config = Experiment(\n",
    "            model = model_name, \n",
    "            dataset = dataset_name, \n",
    "            num_topics=num_t, \n",
    "            epochs=num_p\n",
    "        )\n",
    "        session.add(experiment_config)\n",
    "        session.commit()\n"
   ]
  },
  {
   "cell_type": "code",
   "execution_count": null,
   "metadata": {},
   "outputs": [],
   "source": []
  }
 ],
 "metadata": {
  "availableInstances": [
   {
    "_defaultOrder": 0,
    "_isFastLaunch": true,
    "category": "General purpose",
    "gpuNum": 0,
    "hideHardwareSpecs": false,
    "memoryGiB": 4,
    "name": "ml.t3.medium",
    "vcpuNum": 2
   },
   {
    "_defaultOrder": 1,
    "_isFastLaunch": false,
    "category": "General purpose",
    "gpuNum": 0,
    "hideHardwareSpecs": false,
    "memoryGiB": 8,
    "name": "ml.t3.large",
    "vcpuNum": 2
   },
   {
    "_defaultOrder": 2,
    "_isFastLaunch": false,
    "category": "General purpose",
    "gpuNum": 0,
    "hideHardwareSpecs": false,
    "memoryGiB": 16,
    "name": "ml.t3.xlarge",
    "vcpuNum": 4
   },
   {
    "_defaultOrder": 3,
    "_isFastLaunch": false,
    "category": "General purpose",
    "gpuNum": 0,
    "hideHardwareSpecs": false,
    "memoryGiB": 32,
    "name": "ml.t3.2xlarge",
    "vcpuNum": 8
   },
   {
    "_defaultOrder": 4,
    "_isFastLaunch": true,
    "category": "General purpose",
    "gpuNum": 0,
    "hideHardwareSpecs": false,
    "memoryGiB": 8,
    "name": "ml.m5.large",
    "vcpuNum": 2
   },
   {
    "_defaultOrder": 5,
    "_isFastLaunch": false,
    "category": "General purpose",
    "gpuNum": 0,
    "hideHardwareSpecs": false,
    "memoryGiB": 16,
    "name": "ml.m5.xlarge",
    "vcpuNum": 4
   },
   {
    "_defaultOrder": 6,
    "_isFastLaunch": false,
    "category": "General purpose",
    "gpuNum": 0,
    "hideHardwareSpecs": false,
    "memoryGiB": 32,
    "name": "ml.m5.2xlarge",
    "vcpuNum": 8
   },
   {
    "_defaultOrder": 7,
    "_isFastLaunch": false,
    "category": "General purpose",
    "gpuNum": 0,
    "hideHardwareSpecs": false,
    "memoryGiB": 64,
    "name": "ml.m5.4xlarge",
    "vcpuNum": 16
   },
   {
    "_defaultOrder": 8,
    "_isFastLaunch": false,
    "category": "General purpose",
    "gpuNum": 0,
    "hideHardwareSpecs": false,
    "memoryGiB": 128,
    "name": "ml.m5.8xlarge",
    "vcpuNum": 32
   },
   {
    "_defaultOrder": 9,
    "_isFastLaunch": false,
    "category": "General purpose",
    "gpuNum": 0,
    "hideHardwareSpecs": false,
    "memoryGiB": 192,
    "name": "ml.m5.12xlarge",
    "vcpuNum": 48
   },
   {
    "_defaultOrder": 10,
    "_isFastLaunch": false,
    "category": "General purpose",
    "gpuNum": 0,
    "hideHardwareSpecs": false,
    "memoryGiB": 256,
    "name": "ml.m5.16xlarge",
    "vcpuNum": 64
   },
   {
    "_defaultOrder": 11,
    "_isFastLaunch": false,
    "category": "General purpose",
    "gpuNum": 0,
    "hideHardwareSpecs": false,
    "memoryGiB": 384,
    "name": "ml.m5.24xlarge",
    "vcpuNum": 96
   },
   {
    "_defaultOrder": 12,
    "_isFastLaunch": false,
    "category": "General purpose",
    "gpuNum": 0,
    "hideHardwareSpecs": false,
    "memoryGiB": 8,
    "name": "ml.m5d.large",
    "vcpuNum": 2
   },
   {
    "_defaultOrder": 13,
    "_isFastLaunch": false,
    "category": "General purpose",
    "gpuNum": 0,
    "hideHardwareSpecs": false,
    "memoryGiB": 16,
    "name": "ml.m5d.xlarge",
    "vcpuNum": 4
   },
   {
    "_defaultOrder": 14,
    "_isFastLaunch": false,
    "category": "General purpose",
    "gpuNum": 0,
    "hideHardwareSpecs": false,
    "memoryGiB": 32,
    "name": "ml.m5d.2xlarge",
    "vcpuNum": 8
   },
   {
    "_defaultOrder": 15,
    "_isFastLaunch": false,
    "category": "General purpose",
    "gpuNum": 0,
    "hideHardwareSpecs": false,
    "memoryGiB": 64,
    "name": "ml.m5d.4xlarge",
    "vcpuNum": 16
   },
   {
    "_defaultOrder": 16,
    "_isFastLaunch": false,
    "category": "General purpose",
    "gpuNum": 0,
    "hideHardwareSpecs": false,
    "memoryGiB": 128,
    "name": "ml.m5d.8xlarge",
    "vcpuNum": 32
   },
   {
    "_defaultOrder": 17,
    "_isFastLaunch": false,
    "category": "General purpose",
    "gpuNum": 0,
    "hideHardwareSpecs": false,
    "memoryGiB": 192,
    "name": "ml.m5d.12xlarge",
    "vcpuNum": 48
   },
   {
    "_defaultOrder": 18,
    "_isFastLaunch": false,
    "category": "General purpose",
    "gpuNum": 0,
    "hideHardwareSpecs": false,
    "memoryGiB": 256,
    "name": "ml.m5d.16xlarge",
    "vcpuNum": 64
   },
   {
    "_defaultOrder": 19,
    "_isFastLaunch": false,
    "category": "General purpose",
    "gpuNum": 0,
    "hideHardwareSpecs": false,
    "memoryGiB": 384,
    "name": "ml.m5d.24xlarge",
    "vcpuNum": 96
   },
   {
    "_defaultOrder": 20,
    "_isFastLaunch": false,
    "category": "General purpose",
    "gpuNum": 0,
    "hideHardwareSpecs": true,
    "memoryGiB": 0,
    "name": "ml.geospatial.interactive",
    "supportedImageNames": [
     "sagemaker-geospatial-v1-0"
    ],
    "vcpuNum": 0
   },
   {
    "_defaultOrder": 21,
    "_isFastLaunch": true,
    "category": "Compute optimized",
    "gpuNum": 0,
    "hideHardwareSpecs": false,
    "memoryGiB": 4,
    "name": "ml.c5.large",
    "vcpuNum": 2
   },
   {
    "_defaultOrder": 22,
    "_isFastLaunch": false,
    "category": "Compute optimized",
    "gpuNum": 0,
    "hideHardwareSpecs": false,
    "memoryGiB": 8,
    "name": "ml.c5.xlarge",
    "vcpuNum": 4
   },
   {
    "_defaultOrder": 23,
    "_isFastLaunch": false,
    "category": "Compute optimized",
    "gpuNum": 0,
    "hideHardwareSpecs": false,
    "memoryGiB": 16,
    "name": "ml.c5.2xlarge",
    "vcpuNum": 8
   },
   {
    "_defaultOrder": 24,
    "_isFastLaunch": false,
    "category": "Compute optimized",
    "gpuNum": 0,
    "hideHardwareSpecs": false,
    "memoryGiB": 32,
    "name": "ml.c5.4xlarge",
    "vcpuNum": 16
   },
   {
    "_defaultOrder": 25,
    "_isFastLaunch": false,
    "category": "Compute optimized",
    "gpuNum": 0,
    "hideHardwareSpecs": false,
    "memoryGiB": 72,
    "name": "ml.c5.9xlarge",
    "vcpuNum": 36
   },
   {
    "_defaultOrder": 26,
    "_isFastLaunch": false,
    "category": "Compute optimized",
    "gpuNum": 0,
    "hideHardwareSpecs": false,
    "memoryGiB": 96,
    "name": "ml.c5.12xlarge",
    "vcpuNum": 48
   },
   {
    "_defaultOrder": 27,
    "_isFastLaunch": false,
    "category": "Compute optimized",
    "gpuNum": 0,
    "hideHardwareSpecs": false,
    "memoryGiB": 144,
    "name": "ml.c5.18xlarge",
    "vcpuNum": 72
   },
   {
    "_defaultOrder": 28,
    "_isFastLaunch": false,
    "category": "Compute optimized",
    "gpuNum": 0,
    "hideHardwareSpecs": false,
    "memoryGiB": 192,
    "name": "ml.c5.24xlarge",
    "vcpuNum": 96
   },
   {
    "_defaultOrder": 29,
    "_isFastLaunch": true,
    "category": "Accelerated computing",
    "gpuNum": 1,
    "hideHardwareSpecs": false,
    "memoryGiB": 16,
    "name": "ml.g4dn.xlarge",
    "vcpuNum": 4
   },
   {
    "_defaultOrder": 30,
    "_isFastLaunch": false,
    "category": "Accelerated computing",
    "gpuNum": 1,
    "hideHardwareSpecs": false,
    "memoryGiB": 32,
    "name": "ml.g4dn.2xlarge",
    "vcpuNum": 8
   },
   {
    "_defaultOrder": 31,
    "_isFastLaunch": false,
    "category": "Accelerated computing",
    "gpuNum": 1,
    "hideHardwareSpecs": false,
    "memoryGiB": 64,
    "name": "ml.g4dn.4xlarge",
    "vcpuNum": 16
   },
   {
    "_defaultOrder": 32,
    "_isFastLaunch": false,
    "category": "Accelerated computing",
    "gpuNum": 1,
    "hideHardwareSpecs": false,
    "memoryGiB": 128,
    "name": "ml.g4dn.8xlarge",
    "vcpuNum": 32
   },
   {
    "_defaultOrder": 33,
    "_isFastLaunch": false,
    "category": "Accelerated computing",
    "gpuNum": 4,
    "hideHardwareSpecs": false,
    "memoryGiB": 192,
    "name": "ml.g4dn.12xlarge",
    "vcpuNum": 48
   },
   {
    "_defaultOrder": 34,
    "_isFastLaunch": false,
    "category": "Accelerated computing",
    "gpuNum": 1,
    "hideHardwareSpecs": false,
    "memoryGiB": 256,
    "name": "ml.g4dn.16xlarge",
    "vcpuNum": 64
   },
   {
    "_defaultOrder": 35,
    "_isFastLaunch": false,
    "category": "Accelerated computing",
    "gpuNum": 1,
    "hideHardwareSpecs": false,
    "memoryGiB": 61,
    "name": "ml.p3.2xlarge",
    "vcpuNum": 8
   },
   {
    "_defaultOrder": 36,
    "_isFastLaunch": false,
    "category": "Accelerated computing",
    "gpuNum": 4,
    "hideHardwareSpecs": false,
    "memoryGiB": 244,
    "name": "ml.p3.8xlarge",
    "vcpuNum": 32
   },
   {
    "_defaultOrder": 37,
    "_isFastLaunch": false,
    "category": "Accelerated computing",
    "gpuNum": 8,
    "hideHardwareSpecs": false,
    "memoryGiB": 488,
    "name": "ml.p3.16xlarge",
    "vcpuNum": 64
   },
   {
    "_defaultOrder": 38,
    "_isFastLaunch": false,
    "category": "Accelerated computing",
    "gpuNum": 8,
    "hideHardwareSpecs": false,
    "memoryGiB": 768,
    "name": "ml.p3dn.24xlarge",
    "vcpuNum": 96
   },
   {
    "_defaultOrder": 39,
    "_isFastLaunch": false,
    "category": "Memory Optimized",
    "gpuNum": 0,
    "hideHardwareSpecs": false,
    "memoryGiB": 16,
    "name": "ml.r5.large",
    "vcpuNum": 2
   },
   {
    "_defaultOrder": 40,
    "_isFastLaunch": false,
    "category": "Memory Optimized",
    "gpuNum": 0,
    "hideHardwareSpecs": false,
    "memoryGiB": 32,
    "name": "ml.r5.xlarge",
    "vcpuNum": 4
   },
   {
    "_defaultOrder": 41,
    "_isFastLaunch": false,
    "category": "Memory Optimized",
    "gpuNum": 0,
    "hideHardwareSpecs": false,
    "memoryGiB": 64,
    "name": "ml.r5.2xlarge",
    "vcpuNum": 8
   },
   {
    "_defaultOrder": 42,
    "_isFastLaunch": false,
    "category": "Memory Optimized",
    "gpuNum": 0,
    "hideHardwareSpecs": false,
    "memoryGiB": 128,
    "name": "ml.r5.4xlarge",
    "vcpuNum": 16
   },
   {
    "_defaultOrder": 43,
    "_isFastLaunch": false,
    "category": "Memory Optimized",
    "gpuNum": 0,
    "hideHardwareSpecs": false,
    "memoryGiB": 256,
    "name": "ml.r5.8xlarge",
    "vcpuNum": 32
   },
   {
    "_defaultOrder": 44,
    "_isFastLaunch": false,
    "category": "Memory Optimized",
    "gpuNum": 0,
    "hideHardwareSpecs": false,
    "memoryGiB": 384,
    "name": "ml.r5.12xlarge",
    "vcpuNum": 48
   },
   {
    "_defaultOrder": 45,
    "_isFastLaunch": false,
    "category": "Memory Optimized",
    "gpuNum": 0,
    "hideHardwareSpecs": false,
    "memoryGiB": 512,
    "name": "ml.r5.16xlarge",
    "vcpuNum": 64
   },
   {
    "_defaultOrder": 46,
    "_isFastLaunch": false,
    "category": "Memory Optimized",
    "gpuNum": 0,
    "hideHardwareSpecs": false,
    "memoryGiB": 768,
    "name": "ml.r5.24xlarge",
    "vcpuNum": 96
   },
   {
    "_defaultOrder": 47,
    "_isFastLaunch": false,
    "category": "Accelerated computing",
    "gpuNum": 1,
    "hideHardwareSpecs": false,
    "memoryGiB": 16,
    "name": "ml.g5.xlarge",
    "vcpuNum": 4
   },
   {
    "_defaultOrder": 48,
    "_isFastLaunch": false,
    "category": "Accelerated computing",
    "gpuNum": 1,
    "hideHardwareSpecs": false,
    "memoryGiB": 32,
    "name": "ml.g5.2xlarge",
    "vcpuNum": 8
   },
   {
    "_defaultOrder": 49,
    "_isFastLaunch": false,
    "category": "Accelerated computing",
    "gpuNum": 1,
    "hideHardwareSpecs": false,
    "memoryGiB": 64,
    "name": "ml.g5.4xlarge",
    "vcpuNum": 16
   },
   {
    "_defaultOrder": 50,
    "_isFastLaunch": false,
    "category": "Accelerated computing",
    "gpuNum": 1,
    "hideHardwareSpecs": false,
    "memoryGiB": 128,
    "name": "ml.g5.8xlarge",
    "vcpuNum": 32
   },
   {
    "_defaultOrder": 51,
    "_isFastLaunch": false,
    "category": "Accelerated computing",
    "gpuNum": 1,
    "hideHardwareSpecs": false,
    "memoryGiB": 256,
    "name": "ml.g5.16xlarge",
    "vcpuNum": 64
   },
   {
    "_defaultOrder": 52,
    "_isFastLaunch": false,
    "category": "Accelerated computing",
    "gpuNum": 4,
    "hideHardwareSpecs": false,
    "memoryGiB": 192,
    "name": "ml.g5.12xlarge",
    "vcpuNum": 48
   },
   {
    "_defaultOrder": 53,
    "_isFastLaunch": false,
    "category": "Accelerated computing",
    "gpuNum": 4,
    "hideHardwareSpecs": false,
    "memoryGiB": 384,
    "name": "ml.g5.24xlarge",
    "vcpuNum": 96
   },
   {
    "_defaultOrder": 54,
    "_isFastLaunch": false,
    "category": "Accelerated computing",
    "gpuNum": 8,
    "hideHardwareSpecs": false,
    "memoryGiB": 768,
    "name": "ml.g5.48xlarge",
    "vcpuNum": 192
   },
   {
    "_defaultOrder": 55,
    "_isFastLaunch": false,
    "category": "Accelerated computing",
    "gpuNum": 8,
    "hideHardwareSpecs": false,
    "memoryGiB": 1152,
    "name": "ml.p4d.24xlarge",
    "vcpuNum": 96
   },
   {
    "_defaultOrder": 56,
    "_isFastLaunch": false,
    "category": "Accelerated computing",
    "gpuNum": 8,
    "hideHardwareSpecs": false,
    "memoryGiB": 1152,
    "name": "ml.p4de.24xlarge",
    "vcpuNum": 96
   }
  ],
  "instance_type": "ml.t3.medium",
  "kernelspec": {
   "display_name": "datascience",
   "language": "python",
   "name": "python3"
  },
  "language_info": {
   "codemirror_mode": {
    "name": "ipython",
    "version": 3
   },
   "file_extension": ".py",
   "mimetype": "text/x-python",
   "name": "python",
   "nbconvert_exporter": "python",
   "pygments_lexer": "ipython3",
   "version": "3.11.3"
  }
 },
 "nbformat": 4,
 "nbformat_minor": 4
}
