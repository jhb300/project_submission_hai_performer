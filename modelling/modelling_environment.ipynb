{
 "cells": [
  {
   "attachments": {},
   "cell_type": "markdown",
   "id": "6fa28662-5b05-40c9-990e-dc92fc73f41e",
   "metadata": {
    "tags": []
   },
   "source": [
    "# Modelling Exploration Notebook V1\n",
    "\n",
    "This Notebook compares different forecast models provided by GluonTS. <br />\n",
    "Experiments are run using Python 3.9 and PyTorch 1.13. <br />\n",
    "Compared were:\n",
    "\n",
    "- DeepAR (Salinas et al. 2020): [torch impl](https://github.com/awslabs/gluonts/blob/dev/src/gluonts/torch/model/deepar/estimator.py)\n",
    "- DeepState (Rangapuram et al. 2018): [mx impl](https://github.com/awslabs/gluonts/blob/dev/src/gluonts/mx/model/deepstate/_estimator.py)\n",
    "- MQ-CNN (Wen et al. 2017): [mx impl](https://github.com/awslabs/gluonts/blob/dev/src/gluonts/mx/model/seq2seq/_mq_dnn_estimator.py)\n"
   ]
  },
  {
   "cell_type": "code",
   "execution_count": 1,
   "id": "4c944b69-de31-4244-b298-156b6361a813",
   "metadata": {
    "tags": []
   },
   "outputs": [],
   "source": [
    "# Imports experiment script\n",
    "from src.forecast_experiment import run_experiment\n",
    "from src.forecast_util import plot_forecast\n",
    "\n",
    "# Import packages\n",
    "from datetime import timedelta\n",
    "import json\n",
    "import pickle"
   ]
  },
  {
   "attachments": {},
   "cell_type": "markdown",
   "id": "f7caf1fd-5419-4ed7-88fd-caf84c4e6b2f",
   "metadata": {
    "tags": []
   },
   "source": [
    "## Experiment Overview\n"
   ]
  },
  {
   "attachments": {},
   "cell_type": "markdown",
   "id": "97643bac-9bd2-4fb2-af8b-a27d4b3500f7",
   "metadata": {
    "tags": []
   },
   "source": [
    "### Define Configuration Store\n"
   ]
  },
  {
   "cell_type": "code",
   "execution_count": 2,
   "id": "5f018390-c368-46f7-8e78-cf7c0f95faf4",
   "metadata": {
    "tags": []
   },
   "outputs": [],
   "source": [
    "from sqlalchemy import create_engine, Column, Integer, Float, String, PickleType, select\n",
    "from sqlalchemy.orm import declarative_base\n",
    "from sqlalchemy.orm import sessionmaker"
   ]
  },
  {
   "cell_type": "code",
   "execution_count": 3,
   "id": "0eddc5a7-7e1b-4820-a421-e42692bc7f0c",
   "metadata": {
    "tags": []
   },
   "outputs": [],
   "source": [
    "Base = declarative_base()\n",
    "\n",
    "\n",
    "class Forecast_Experiment(Base):\n",
    "    __tablename__ = \"forecast_experiment\"\n",
    "    id = Column(\"id\", Integer, primary_key=True)\n",
    "    model = Column(\"model name\", String(20))\n",
    "    version = Column(\"version\", Integer)\n",
    "    data_config = Column(\"data_config\", PickleType)\n",
    "    model_config = Column(\"model_config\", PickleType)\n",
    "    MASE = Column(\"MASE\", Float)\n",
    "    MAPE = Column(\"MAPE\", Float)\n",
    "    RMSE = Column(\"RMSE\", Float)\n",
    "    wQL_10 = Column(\"wQL_10\", Float)\n",
    "    wQL_50 = Column(\"wQL_50\", Float)\n",
    "    wQL_90 = Column(\"wQL_90\", Float)\n",
    "    avg_wQL = Column(\"avg_wQL\", Float)"
   ]
  },
  {
   "cell_type": "code",
   "execution_count": 4,
   "id": "290176bd-2fba-4211-8c57-0e52740e2c86",
   "metadata": {
    "tags": []
   },
   "outputs": [],
   "source": [
    "engine = create_engine(\"sqlite:///./config/forecast_config_v2.db\")\n",
    "\n",
    "Base.metadata.create_all(bind=engine)\n",
    "Session = sessionmaker(bind=engine)\n",
    "session = Session()"
   ]
  },
  {
   "attachments": {},
   "cell_type": "markdown",
   "id": "6b5025c1-20ab-4590-80e6-7a1bae15b5c8",
   "metadata": {
    "jp-MarkdownHeadingCollapsed": true,
    "tags": []
   },
   "source": [
    "### Explore Experiments\n"
   ]
  },
  {
   "attachments": {},
   "cell_type": "markdown",
   "id": "c727ec93-8e7b-402d-b333-4a462bc30b24",
   "metadata": {},
   "source": [
    "The model name follows this naming convention: {framework}\\_{model_name}. <br />\n",
    "\n",
    "- The framework specifies the Machine Learning Framework used to implement the model (mxnet, torch, tensorflow)\n",
    "- The model_name specifies the Algorithm used (e.g. DeepAR).\n",
    "\n",
    "The version field is used to track the stage of experiments as defined below. This means general progression of modelling insights as well as updated data sources.\n",
    "\n",
    "- version 1: first exploration\n",
    "  - \"../data_engineering/financial_ts/indices.csv\",\n",
    "  - \"../data_engineering/financial_ts/ww_gdp.csv\",\n",
    "  - \"../data_engineering/timeseries_data/ts_dgelt_events.csv\"\n",
    "- version 2: specific exploration\n",
    "  - \"../data_engineering/financial_ts/indices.csv\",\n",
    "  - \"../data_engineering/financial_ts/ww_gdp.csv\",\n",
    "  - \"../data_engineering/timeseries_data/ts_gdelt_5k_per_year_data.csv\"\n"
   ]
  },
  {
   "cell_type": "code",
   "execution_count": 5,
   "id": "0d5fa574-5d77-4e53-a979-ccf1c60c21b7",
   "metadata": {
    "tags": []
   },
   "outputs": [
    {
     "name": "stdout",
     "output_type": "stream",
     "text": [
      "torch_deepar: 2 \n",
      "        - model_config: epochs: 50, prediction_length: 52, num_layers: 3, hidden_size: 20, context_length: 100, lr: 0.001, weight_decay: 1e-15:\n",
      "        - MAPE: 0.04146326392940672,\n",
      "        - avg_wQL: 0.027844774271000128,\n",
      "        \n",
      "torch_deepar_8year_v6_without_gdelt: 2 \n",
      "        - model_config: epochs: 100, prediction_length: 52, num_layers: 3, hidden_size: 20, context_length: 200, lr: 0.001, weight_decay: 1e-15:\n",
      "        - MAPE: 0.04183947846963372,\n",
      "        - avg_wQL: 0.02852174773958928,\n",
      "        \n",
      "torch_deepar: 1 \n",
      "        - model_config: epochs: 1000, prediction_length: 20, num_layers: 8, hidden_size: 64, context_length: 56, lr: 0.001, weight_decay: 1e-08:\n",
      "        - MAPE: 0.04679007808624215,\n",
      "        - avg_wQL: 0.03054266891615841,\n",
      "        \n",
      "torch_deepar: 2 \n",
      "        - model_config: epochs: 400, prediction_length: 56, num_layers: 2, hidden_size: 30, context_length: 200, lr: 0.001, weight_decay: 1e-08:\n",
      "        - MAPE: 0.055167913723884784,\n",
      "        - avg_wQL: 0.03286426267727689,\n",
      "        \n",
      "torch_deepar: 1 \n",
      "        - model_config: epochs: 400, prediction_length: 56, num_layers: 2, hidden_size: 60, context_length: 200, lr: 0.001, weight_decay: 1e-08:\n",
      "        - MAPE: 0.04398518378674155,\n",
      "        - avg_wQL: 0.03393084310078053,\n",
      "        \n",
      "torch_deepar: 1 \n",
      "        - model_config: epochs: 400, prediction_length: 56, num_layers: 2, hidden_size: 40, context_length: 200, lr: 0.001, weight_decay: 1e-08:\n",
      "        - MAPE: 0.04867304946676913,\n",
      "        - avg_wQL: 0.035919825705461,\n",
      "        \n",
      "torch_deepar: 2 \n",
      "        - model_config: epochs: 1000, prediction_length: 56, num_layers: 4, hidden_size: 60, context_length: 300, lr: 0.001, weight_decay: 1e-08:\n",
      "        - MAPE: 0.04665613701881827,\n",
      "        - avg_wQL: 0.03606927100394287,\n",
      "        \n",
      "torch_deepar: 2 \n",
      "        - model_config: epochs: 1000, prediction_length: 56, num_layers: 4, hidden_size: 60, context_length: 300, lr: 0.001, weight_decay: 1e-08:\n",
      "        - MAPE: 0.04665613701881827,\n",
      "        - avg_wQL: 0.03606927100394287,\n",
      "        \n",
      "torch_deepar_8year_v5: 2 \n",
      "        - model_config: epochs: 100, prediction_length: 52, num_layers: 3, hidden_size: 20, context_length: 100, lr: 0.001, weight_decay: 1e-15:\n",
      "        - MAPE: 0.06573801982525308,\n",
      "        - avg_wQL: 0.03715761612330358,\n",
      "        \n",
      "torch_deepar: 1 \n",
      "        - model_config: epochs: 400, prediction_length: 56, num_layers: 2, hidden_size: 40, context_length: 100, lr: 0.001, weight_decay: 1e-08:\n",
      "        - MAPE: 0.05248577369460426,\n",
      "        - avg_wQL: 0.04011049213329933,\n",
      "        \n",
      "torch_deepar: 2 \n",
      "        - model_config: epochs: 400, prediction_length: 56, num_layers: 2, hidden_size: 60, context_length: 200, lr: 0.001, weight_decay: 1e-05:\n",
      "        - MAPE: 0.05103931774311256,\n",
      "        - avg_wQL: 0.040317348717606304,\n",
      "        \n",
      "torch_deepar: 2 \n",
      "        - model_config: epochs: 400, prediction_length: 56, num_layers: 2, hidden_size: 60, context_length: 200, lr: 0.001, weight_decay: 1e-08:\n",
      "        - MAPE: 0.055704708274585346,\n",
      "        - avg_wQL: 0.041371540689176804,\n",
      "        \n",
      "torch_deepar: 2 \n",
      "        - model_config: epochs: 200, prediction_length: 56, num_layers: 2, hidden_size: 20, context_length: 400, lr: 0.001, weight_decay: 1e-08:\n",
      "        - MAPE: 0.06409700965445742,\n",
      "        - avg_wQL: 0.04282526523470926,\n",
      "        \n",
      "torch_deepar: 2 \n",
      "        - model_config: epochs: 400, prediction_length: 56, num_layers: 2, hidden_size: 30, context_length: 200, lr: 0.1, weight_decay: 0.0001:\n",
      "        - MAPE: 0.05557307158335289,\n",
      "        - avg_wQL: 0.045208654212207905,\n",
      "        \n",
      "torch_deepar: 2 \n",
      "        - model_config: epochs: 400, prediction_length: 56, num_layers: 4, hidden_size: 60, context_length: 300, lr: 0.001, weight_decay: 1e-08:\n",
      "        - MAPE: 0.0703915960181048,\n",
      "        - avg_wQL: 0.04703754465001462,\n",
      "        \n",
      "torch_deepar: 2 \n",
      "        - model_config: epochs: 400, prediction_length: 56, num_layers: 2, hidden_size: 60, context_length: 200, lr: 0.001, weight_decay: 1e-08:\n",
      "        - MAPE: 0.06316901784989756,\n",
      "        - avg_wQL: 0.04718477997915712,\n",
      "        \n",
      "torch_deepar: 2 \n",
      "        - model_config: epochs: 1000, prediction_length: 56, num_layers: 4, hidden_size: 60, context_length: 300, lr: 0.001, weight_decay: 1e-08:\n",
      "        - MAPE: 0.057003285989495785,\n",
      "        - avg_wQL: 0.04783012792751911,\n",
      "        \n",
      "torch_deepar: 1 \n",
      "        - model_config: epochs: 400, prediction_length: 56, num_layers: 2, hidden_size: 30, context_length: 200, lr: 0.001, weight_decay: 1e-08:\n",
      "        - MAPE: 0.056454077139499466,\n",
      "        - avg_wQL: 0.04784904657624198,\n",
      "        \n",
      "torch_deepar: 2 \n",
      "        - model_config: epochs: 400, prediction_length: 56, num_layers: 2, hidden_size: 60, context_length: 200, lr: 0.001, weight_decay: 1e-08:\n",
      "        - MAPE: 0.06346447954491127,\n",
      "        - avg_wQL: 0.0526158360274502,\n",
      "        \n",
      "torch_deepar: 2 \n",
      "        - model_config: epochs: 5, prediction_length: 56, num_layers: 4, hidden_size: 60, context_length: 10, lr: 0.1, weight_decay: 0.0001:\n",
      "        - MAPE: 0.06090133739451243,\n",
      "        - avg_wQL: 0.05269659064679453,\n",
      "        \n",
      "torch_deepar: 1 \n",
      "        - model_config: epochs: 400, prediction_length: 56, num_layers: 2, hidden_size: 40, context_length: 56, lr: 0.001, weight_decay: 1e-08:\n",
      "        - MAPE: 0.06384816226114393,\n",
      "        - avg_wQL: 0.05386742979053971,\n",
      "        \n",
      "torch_deepar: 1 \n",
      "        - model_config: epochs: 400, prediction_length: 56, num_layers: 2, hidden_size: 60, context_length: 200, lr: 0.001, weight_decay: 1e-08:\n",
      "        - MAPE: 0.06746928493460931,\n",
      "        - avg_wQL: 0.057841898389463596,\n",
      "        \n",
      "torch_deepar: 2 \n",
      "        - model_config: epochs: 400, prediction_length: 56, num_layers: 4, hidden_size: 60, context_length: 300, lr: 0.001, weight_decay: 1e-08:\n",
      "        - MAPE: 0.07819202414584644,\n",
      "        - avg_wQL: 0.058367956984819426,\n",
      "        \n",
      "torch_deepar: 2 \n",
      "        - model_config: epochs: 400, prediction_length: 56, num_layers: 4, hidden_size: 60, context_length: 300, lr: 0.001, weight_decay: 1e-08:\n",
      "        - MAPE: 0.09186536841930154,\n",
      "        - avg_wQL: 0.05915777452642898,\n",
      "        \n",
      "torch_deepar: 2 \n",
      "        - model_config: epochs: 600, prediction_length: 52, num_layers: 3, hidden_size: 20, context_length: 600, lr: 0.001, weight_decay: 1e-10:\n",
      "        - MAPE: 0.09603837645327268,\n",
      "        - avg_wQL: 0.059615424475839895,\n",
      "        \n",
      "torch_deepar: 2 \n",
      "        - model_config: epochs: 400, prediction_length: 56, num_layers: 4, hidden_size: 60, context_length: 300, lr: 0.001, weight_decay: 1e-08:\n",
      "        - MAPE: 0.08710225326968449,\n",
      "        - avg_wQL: 0.06171603122853909,\n",
      "        \n",
      "torch_deepar: 2 \n",
      "        - model_config: epochs: 400, prediction_length: 56, num_layers: 4, hidden_size: 60, context_length: 300, lr: 0.001, weight_decay: 1e-08:\n",
      "        - MAPE: 0.09055507485177554,\n",
      "        - avg_wQL: 0.061985215894757965,\n",
      "        \n",
      "torch_deepar: 1 \n",
      "        - model_config: epochs: 200, prediction_length: 56, num_layers: 2, hidden_size: 40, context_length: 56, lr: 0.001, weight_decay: 1e-08:\n",
      "        - MAPE: 0.0764770427717032,\n",
      "        - avg_wQL: 0.06275540445735626,\n",
      "        \n",
      "torch_deepar: 1 \n",
      "        - model_config: epochs: 300, prediction_length: 56, num_layers: 2, hidden_size: 32, context_length: 56, lr: 0.001, weight_decay: 1e-08:\n",
      "        - MAPE: 0.08441962087801098,\n",
      "        - avg_wQL: 0.06365827316647153,\n",
      "        \n",
      "torch_deepar: 2 \n",
      "        - model_config: epochs: 400, prediction_length: 56, num_layers: 4, hidden_size: 60, context_length: 300, lr: 0.001, weight_decay: 1e-08:\n",
      "        - MAPE: 0.09344925272300468,\n",
      "        - avg_wQL: 0.06413296443118363,\n",
      "        \n",
      "torch_deepar: 1 \n",
      "        - model_config: epochs: 400, prediction_length: 56, num_layers: 2, hidden_size: 64, context_length: 56, lr: 0.001, weight_decay: 1e-08:\n",
      "        - MAPE: 0.0787130558043697,\n",
      "        - avg_wQL: 0.06432785136177464,\n",
      "        \n",
      "torch_deepar: 1 \n",
      "        - model_config: epochs: 300, prediction_length: 56, num_layers: 2, hidden_size: 32, context_length: 56, lr: 0.001, weight_decay: 1e-08:\n",
      "        - MAPE: 0.07823470435375625,\n",
      "        - avg_wQL: 0.06519428965834421,\n",
      "        \n",
      "mx_deepstate: 1 \n",
      "        - model_config: epochs: 50, prediction_length: 56, num_layers: 2, hidden_size: 20, lr: 0.1, weight_decay: 0.0001:\n",
      "        - MAPE: 0.09030437530567002,\n",
      "        - avg_wQL: 0.06600377101445432,\n",
      "        \n",
      "torch_deepar: 2 \n",
      "        - model_config: epochs: 400, prediction_length: 56, num_layers: 2, hidden_size: 30, context_length: 200, lr: 0.1, weight_decay: 0.0001:\n",
      "        - MAPE: 0.07931145766148774,\n",
      "        - avg_wQL: 0.06866067877851623,\n",
      "        \n",
      "torch_deepar: 2 \n",
      "        - model_config: epochs: 400, prediction_length: 56, num_layers: 2, hidden_size: 60, context_length: 200, lr: 0.001, weight_decay: 1e-05:\n",
      "        - MAPE: 0.0769861438260427,\n",
      "        - avg_wQL: 0.06878020284059505,\n",
      "        \n",
      "torch_deepar: 2 \n",
      "        - model_config: epochs: 400, prediction_length: 56, num_layers: 2, hidden_size: 60, context_length: 200, lr: 0.001, weight_decay: 1e-05:\n",
      "        - MAPE: 0.0769861438260427,\n",
      "        - avg_wQL: 0.06878020284059505,\n",
      "        \n",
      "torch_deepar: 2 \n",
      "        - model_config: epochs: 400, prediction_length: 56, num_layers: 2, hidden_size: 20, context_length: 200, lr: 0.001, weight_decay: 1e-08:\n",
      "        - MAPE: 0.11649705408936625,\n",
      "        - avg_wQL: 0.07086978219556295,\n",
      "        \n",
      "torch_deepar: 1 \n",
      "        - model_config: epochs: 1000, prediction_length: 56, num_layers: 4, hidden_size: 40, context_length: 56, lr: 0.001, weight_decay: 1e-08:\n",
      "        - MAPE: 0.08206782101100342,\n",
      "        - avg_wQL: 0.07117744262782484,\n",
      "        \n",
      "torch_deepar: 1 \n",
      "        - model_config: epochs: 400, prediction_length: 56, num_layers: 4, hidden_size: 40, context_length: 56, lr: 0.001, weight_decay: 1e-08:\n",
      "        - MAPE: 0.08339516970166147,\n",
      "        - avg_wQL: 0.072370957789048,\n",
      "        \n",
      "torch_deepar: 2 \n",
      "        - model_config: epochs: 300, prediction_length: 56, num_layers: 2, hidden_size: 60, context_length: 400, lr: 0.001, weight_decay: 1e-15:\n",
      "        - MAPE: 0.13083896337186712,\n",
      "        - avg_wQL: 0.07376790061066966,\n",
      "        \n",
      "torch_deepar: 2 \n",
      "        - model_config: epochs: 200, prediction_length: 56, num_layers: 2, hidden_size: 20, context_length: 400, lr: 0.001, weight_decay: 1e-15:\n",
      "        - MAPE: 0.12428457052108022,\n",
      "        - avg_wQL: 0.07651406359682812,\n",
      "        \n",
      "mx_deepstate: 1 \n",
      "        - model_config: epochs: 2, prediction_length: 56, num_layers: 2, hidden_size: 20, lr: 0.1, weight_decay: 0.0001:\n",
      "        - MAPE: 0.1108473783394698,\n",
      "        - avg_wQL: 0.08067005791488152,\n",
      "        \n",
      "torch_deepar: 1 \n",
      "        - model_config: epochs: 800, prediction_length: 56, num_layers: 2, hidden_size: 60, context_length: 200, lr: 0.01, weight_decay: 1e-12:\n",
      "        - MAPE: 0.09130275377223995,\n",
      "        - avg_wQL: 0.08104598101304648,\n",
      "        \n",
      "torch_deepar_8year_v6_without_gdelt: 2 \n",
      "        - model_config: epochs: 100, prediction_length: 52, num_layers: 3, hidden_size: 20, context_length: 200, lr: 0.001, weight_decay: 1e-15:\n",
      "        - MAPE: 0.10811931679185142,\n",
      "        - avg_wQL: 0.08173181763848843,\n",
      "        \n",
      "mx_deepstate: 1 \n",
      "        - model_config: epochs: 10, prediction_length: 56, num_layers: 4, hidden_size: 20, lr: 0.1, weight_decay: 0.0001:\n",
      "        - MAPE: 0.1119645166753836,\n",
      "        - avg_wQL: 0.08272028619775758,\n",
      "        \n",
      "torch_deepar: 1 \n",
      "        - model_config: epochs: 800, prediction_length: 56, num_layers: 2, hidden_size: 60, context_length: 200, lr: 0.01, weight_decay: 1e-08:\n",
      "        - MAPE: 0.09268907259963062,\n",
      "        - avg_wQL: 0.08449144843247199,\n",
      "        \n",
      "torch_deepar: 1 \n",
      "        - model_config: epochs: 300, prediction_length: 56, num_layers: 2, hidden_size: 32, context_length: 56, lr: 0.001, weight_decay: 1e-08:\n",
      "        - MAPE: 0.10058064841835758,\n",
      "        - avg_wQL: 0.08470685444169242,\n",
      "        \n",
      "torch_deepar: 1 \n",
      "        - model_config: epochs: 200, prediction_length: 56, num_layers: 4, hidden_size: 40, context_length: 56, lr: 0.001, weight_decay: 1e-08:\n",
      "        - MAPE: 0.10102059509682562,\n",
      "        - avg_wQL: 0.08651877718452138,\n",
      "        \n",
      "torch_deepar: 1 \n",
      "        - model_config: epochs: 300, prediction_length: 56, num_layers: 2, hidden_size: 32, context_length: 56, lr: 0.001, weight_decay: 1e-08:\n",
      "        - MAPE: 0.10054330305865608,\n",
      "        - avg_wQL: 0.08672542322032918,\n",
      "        \n",
      "mx_deepstate: 1 \n",
      "        - model_config: epochs: 100, prediction_length: 56, num_layers: 2, hidden_size: 20, lr: 0.1, weight_decay: 0.0001:\n",
      "        - MAPE: 0.10430476766436828,\n",
      "        - avg_wQL: 0.08676782569739282,\n",
      "        \n",
      "torch_deepar: 2 \n",
      "        - model_config: epochs: 200, prediction_length: 56, num_layers: 3, hidden_size: 20, context_length: 400, lr: 0.001, weight_decay: 1e-15:\n",
      "        - MAPE: 0.13977280020622126,\n",
      "        - avg_wQL: 0.08681776294458365,\n",
      "        \n",
      "torch_deepar_8year_v6: 2 \n",
      "        - model_config: epochs: 100, prediction_length: 52, num_layers: 3, hidden_size: 20, context_length: 200, lr: 0.001, weight_decay: 1e-15:\n",
      "        - MAPE: 0.11038471689702727,\n",
      "        - avg_wQL: 0.08727259890344737,\n",
      "        \n",
      "torch_deepar: 2 \n",
      "        - model_config: epochs: 400, prediction_length: 56, num_layers: 4, hidden_size: 60, context_length: 300, lr: 0.001, weight_decay: 1e-08:\n",
      "        - MAPE: 0.15554826204735622,\n",
      "        - avg_wQL: 0.09357274963246727,\n",
      "        \n",
      "torch_deepar: 2 \n",
      "        - model_config: epochs: 400, prediction_length: 56, num_layers: 4, hidden_size: 60, context_length: 300, lr: 0.001, weight_decay: 1e-08:\n",
      "        - MAPE: 0.15554826204735622,\n",
      "        - avg_wQL: 0.09357274963246727,\n",
      "        \n",
      "torch_deepar: 2 \n",
      "        - model_config: epochs: 400, prediction_length: 56, num_layers: 4, hidden_size: 60, context_length: 200, lr: 0.001, weight_decay: 1e-08:\n",
      "        - MAPE: 0.16970836334544726,\n",
      "        - avg_wQL: 0.09402084096292614,\n",
      "        \n",
      "torch_deepar: 2 \n",
      "        - model_config: epochs: 400, prediction_length: 56, num_layers: 4, hidden_size: 60, context_length: 300, lr: 0.001, weight_decay: 1e-08:\n",
      "        - MAPE: 0.20133851132458783,\n",
      "        - avg_wQL: 0.10437686679404388,\n",
      "        \n",
      "torch_deepar: 2 \n",
      "        - model_config: epochs: 400, prediction_length: 56, num_layers: 2, hidden_size: 30, context_length: 200, lr: 0.1, weight_decay: 0.0001:\n",
      "        - MAPE: 0.12306848115696842,\n",
      "        - avg_wQL: 0.10899705472969862,\n",
      "        \n",
      "torch_deepar: 1 \n",
      "        - model_config: epochs: 150, prediction_length: 56, num_layers: 4, hidden_size: 40, context_length: 56, lr: 0.001, weight_decay: 1e-08:\n",
      "        - MAPE: 0.12942370844974463,\n",
      "        - avg_wQL: 0.11538632056465804,\n",
      "        \n",
      "torch_deepar: 1 \n",
      "        - model_config: epochs: 150, prediction_length: 56, num_layers: 4, hidden_size: 40, context_length: 56, lr: 0.001, weight_decay: 1e-08:\n",
      "        - MAPE: 0.12853513790245066,\n",
      "        - avg_wQL: 0.11614946049906973,\n",
      "        \n",
      "torch_deepar: 2 \n",
      "        - model_config: epochs: 100, prediction_length: 56, num_layers: 2, hidden_size: 20, context_length: 400, lr: 0.001, weight_decay: 1e-15:\n",
      "        - MAPE: 0.17058962703885724,\n",
      "        - avg_wQL: 0.12550638547766876,\n",
      "        \n",
      "torch_deepar: 2 \n",
      "        - model_config: epochs: 400, prediction_length: 56, num_layers: 4, hidden_size: 60, context_length: 300, lr: 0.001, weight_decay: 1e-08:\n",
      "        - MAPE: 0.18625326585657662,\n",
      "        - avg_wQL: 0.13191439292750215,\n",
      "        \n",
      "torch_deepar: 2 \n",
      "        - model_config: epochs: 700, prediction_length: 56, num_layers: 2, hidden_size: 20, context_length: 400, lr: 0.001, weight_decay: 1e-08:\n",
      "        - MAPE: 0.22271268327130617,\n",
      "        - avg_wQL: 0.15410995471714498,\n",
      "        \n",
      "torch_deepar: 1 \n",
      "        - model_config: epochs: 10, prediction_length: 56, num_layers: 2, hidden_size: 40, context_length: 56, lr: 0.001, weight_decay: 1e-08:\n",
      "        - MAPE: 0.19052389496105562,\n",
      "        - avg_wQL: 0.15815992665967143,\n",
      "        \n",
      "torch_deepar: 2 \n",
      "        - model_config: epochs: 400, prediction_length: 56, num_layers: 4, hidden_size: 60, context_length: 300, lr: 0.001, weight_decay: 1e-08:\n",
      "        - MAPE: 0.23076076903814485,\n",
      "        - avg_wQL: 0.17123132800967697,\n",
      "        \n",
      "torch_deepar: 2 \n",
      "        - model_config: epochs: 400, prediction_length: 52, num_layers: 2, hidden_size: 60, context_length: 200, lr: 0.001, weight_decay: 1e-08:\n",
      "        - MAPE: 0.21328808125755966,\n",
      "        - avg_wQL: 0.18068404144518144,\n",
      "        \n",
      "mx_cnnqr: 1 \n",
      "        - model_config: epochs: 200, prediction_length: 56, channels_seq: [30, 30, 30], decoder_mlp_dim_seq: [30], use_past_feat_dynamic_real: True, context_length: 100, lr: 0.1, weight_decay: 0.0001:\n",
      "        - MAPE: 0.2417252501092042,\n",
      "        - avg_wQL: 0.18749234860593558,\n",
      "        \n",
      "torch_deepar: 1 \n",
      "        - model_config: epochs: 800, prediction_length: 56, num_layers: 4, hidden_size: 60, context_length: 200, lr: 0.1, weight_decay: 0.0001:\n",
      "        - MAPE: 0.22200159424287763,\n",
      "        - avg_wQL: 0.19354116256310616,\n",
      "        \n",
      "torch_deepar: 1 \n",
      "        - model_config: epochs: 400, prediction_length: 56, num_layers: 2, hidden_size: 40, context_length: 400, lr: 0.001, weight_decay: 1e-08:\n",
      "        - MAPE: 0.22394919154192408,\n",
      "        - avg_wQL: 0.19654920751188157,\n",
      "        \n",
      "torch_deepar: 1 \n",
      "        - model_config: epochs: 200, prediction_length: 20, num_layers: 2, hidden_size: 64, context_length: 56, lr: 0.001, weight_decay: 1e-08:\n",
      "        - MAPE: 0.25167785215182853,\n",
      "        - avg_wQL: 0.20788216527682826,\n",
      "        \n",
      "torch_deepar: 2 \n",
      "        - model_config: epochs: 400, prediction_length: 56, num_layers: 4, hidden_size: 60, context_length: 300, lr: 0.001, weight_decay: 1e-08:\n",
      "        - MAPE: 0.28858971446140125,\n",
      "        - avg_wQL: 0.23761275510490618,\n",
      "        \n",
      "mx_cnnqr: 1 \n",
      "        - model_config: epochs: 200, prediction_length: 56, channels_seq: [30, 30, 30], decoder_mlp_dim_seq: [30], use_past_feat_dynamic_real: True, context_length: 50, lr: 0.1, weight_decay: 0.0001:\n",
      "        - MAPE: 0.2794973623576261,\n",
      "        - avg_wQL: 0.2423958617427915,\n",
      "        \n",
      "torch_deepar: 2 \n",
      "        - model_config: epochs: 400, prediction_length: 56, num_layers: 2, hidden_size: 60, context_length: 200, lr: 0.001, weight_decay: 1e-05:\n",
      "        - MAPE: 0.30842208699405455,\n",
      "        - avg_wQL: 0.26665722136462083,\n",
      "        \n",
      "torch_deepar: 2 \n",
      "        - model_config: epochs: 400, prediction_length: 56, num_layers: 2, hidden_size: 60, context_length: 200, lr: 0.001, weight_decay: 1e-05:\n",
      "        - MAPE: 0.30842208699405455,\n",
      "        - avg_wQL: 0.26665722136462083,\n",
      "        \n",
      "mx_cnnqr: 1 \n",
      "        - model_config: epochs: 20, prediction_length: 56, channels_seq: [30, 30, 30], decoder_mlp_dim_seq: [30], use_past_feat_dynamic_real: True, context_length: 56, lr: 0.1, weight_decay: 0.0001:\n",
      "        - MAPE: 0.30076605988563465,\n",
      "        - avg_wQL: 0.28156998906825137,\n",
      "        \n",
      "torch_deepar: 2 \n",
      "        - model_config: epochs: 200, prediction_length: 56, num_layers: 2, hidden_size: 20, context_length: 400, lr: 0.001, weight_decay: 1e-08:\n",
      "        - MAPE: 0.3630472821078767,\n",
      "        - avg_wQL: 0.3287237739886113,\n",
      "        \n",
      "torch_deepar: 2 \n",
      "        - model_config: epochs: 400, prediction_length: 52, num_layers: 2, hidden_size: 60, context_length: 200, lr: 0.001, weight_decay: 1e-08:\n",
      "        - MAPE: 1.1075938741213083,\n",
      "        - avg_wQL: 0.5946988923514114,\n",
      "        \n"
     ]
    }
   ],
   "source": [
    "# Query experiment Table and print results:\n",
    "q1 = select(Forecast_Experiment).order_by(Forecast_Experiment.avg_wQL)\n",
    "q1_result = session.execute(q1)\n",
    "\n",
    "for s in q1_result.scalars():\n",
    "    print(\n",
    "        f\"\"\"{s.model}: {s.version} \n",
    "        - model_config: {str(s.model_config)[1:-1].replace(\"'\",\"\")}:\n",
    "        - MAPE: {s.MAPE},\n",
    "        - avg_wQL: {s.avg_wQL},\n",
    "        \"\"\"\n",
    "    )"
   ]
  },
  {
   "attachments": {},
   "cell_type": "markdown",
   "id": "9311b35a-d43c-4502-878c-9fd0773ad097",
   "metadata": {
    "jp-MarkdownHeadingCollapsed": true,
    "tags": []
   },
   "source": [
    "### Migrate Experiments\n"
   ]
  },
  {
   "attachments": {},
   "cell_type": "markdown",
   "id": "e7181a0d-1fda-43bb-90be-6204d1f9f71c",
   "metadata": {},
   "source": [
    "The Experiments from the modelling_experimentation_v1 notebook are stored in two different tables. <br>\n",
    "They are exported to a json file with the following code to read the file and store previous experiments in the new database with dynamic config attributes.\n"
   ]
  },
  {
   "cell_type": "code",
   "execution_count": 6,
   "id": "8af8550e-8bc6-4e4f-aa90-a382316c3edd",
   "metadata": {
    "tags": []
   },
   "outputs": [],
   "source": [
    "# Open JSON file with experiment data\n",
    "# with open(\"data_v2.json\") as json_file:\n",
    "#     data = json.load(json_file)"
   ]
  },
  {
   "cell_type": "code",
   "execution_count": 7,
   "id": "e61a2f2e-bc86-43e1-a679-03c1bdf8098a",
   "metadata": {
    "tags": []
   },
   "outputs": [],
   "source": [
    "# for e in data:\n",
    "#     experiment_config = Forecast_Experiment(\n",
    "#         model=e[\"name\"],\n",
    "#         version=1,\n",
    "#         data_config={\n",
    "#             \"target\": e[\"target\"],\n",
    "#             \"past_rts_col\": e[\"past_rts_col\"],\n",
    "#             \"windows\": 1,\n",
    "#         },\n",
    "#         model_config={\n",
    "#             \"epochs\": e[\"epochs\"],\n",
    "#             \"prediction_length\": e[\"prediction_length\"],\n",
    "#             \"num_layers\": e[\"num_layers\"],\n",
    "#             \"hidden_size\": e[\"hidden_size\"],\n",
    "#             # 'context_length':e['context_length'],\n",
    "#             \"lr\": e[\"lr\"],\n",
    "#             \"weight_decay\": e[\"weight_decay\"],\n",
    "#         },\n",
    "#         MASE=e[\"MASE\"],\n",
    "#         MAPE=e[\"MAPE\"],\n",
    "#         RMSE=e[\"RMSE\"],\n",
    "#         wQL_10=e[\"wQL_10\"],\n",
    "#         wQL_50=e[\"wQL_50\"],\n",
    "#         wQL_90=e[\"wQL_90\"],\n",
    "#         avg_wQL=e[\"avg_wQL\"],\n",
    "#     )\n",
    "#     session.add(experiment_config)\n",
    "#     session.commit()"
   ]
  },
  {
   "attachments": {},
   "cell_type": "markdown",
   "id": "6064ad00-6aeb-4a4b-81f7-1d0bb4ead289",
   "metadata": {
    "tags": []
   },
   "source": [
    "## DeepAR ([torch](https://github.com/awslabs/gluonts/blob/dev/src/gluonts/torch/model/deepar/estimator.py))\n"
   ]
  },
  {
   "attachments": {},
   "cell_type": "markdown",
   "id": "630727a2-99a1-43a1-816e-c8ebb79bc83f",
   "metadata": {},
   "source": [
    "DeepAR is a methodology for producing accurate probabilistic forecasts, based on training an autoregressive recurrent neural network model on a large number of related time series.\n"
   ]
  },
  {
   "cell_type": "code",
   "execution_count": 8,
   "id": "c2309421-6814-40f1-a4b0-19c3adb59411",
   "metadata": {
    "tags": []
   },
   "outputs": [],
   "source": [
    "from gluonts.torch import DeepAREstimator"
   ]
  },
  {
   "cell_type": "code",
   "execution_count": 9,
   "id": "c056fdcc-6c1f-4f1a-a783-27889e87af49",
   "metadata": {
    "tags": []
   },
   "outputs": [],
   "source": [
    "# Data specs\n",
    "input_paths = [\n",
    "    \"../data_engineering/financial_ts/indices.csv\",\n",
    "    \"../data_engineering/financial_ts/ww_gdp.csv\",\n",
    "    \"../data_engineering/timeseries_data/ts_gdelt_5k_per_year_data.csv\",\n",
    "]\n",
    "\n",
    "target_col = \"ts_S&P\"  # switch to ts_S&P\n",
    "with open(\"./config/past_rts_cols_v2.json\", \"r\") as fp:\n",
    "    past_rts_col = json.load(fp)[\"version_2\"]\n",
    "windows = 8\n",
    "\n",
    "# Estimator specs\n",
    "version = 2\n",
    "prediction_length = 52\n",
    "max_epochs = 100\n",
    "num_layers = 3\n",
    "hidden_size = 20\n",
    "context_length = 200\n",
    "weight_decay = 1e-15\n",
    "lr = 0.001\n",
    "offset = -(prediction_length * windows)\n",
    "\n",
    "# Trainer specs\n",
    "accelerator = \"cpu\"\n",
    "devices = \"auto\""
   ]
  },
  {
   "cell_type": "code",
   "execution_count": 10,
   "id": "fb0fe261-1e72-47c7-b972-a6354e7a326a",
   "metadata": {
    "tags": []
   },
   "outputs": [],
   "source": [
    "# Define estimator\n",
    "deepar_estimator = DeepAREstimator(\n",
    "    prediction_length=prediction_length,\n",
    "    num_layers=num_layers,\n",
    "    hidden_size=hidden_size,\n",
    "    weight_decay=weight_decay,\n",
    "    context_length=context_length,\n",
    "    lr=lr,\n",
    "    freq=\"W\",\n",
    "    trainer_kwargs={\n",
    "        \"max_epochs\": max_epochs,\n",
    "        \"accelerator\": accelerator,\n",
    "        \"devices\": devices,\n",
    "    },\n",
    ")"
   ]
  },
  {
   "cell_type": "code",
   "execution_count": 11,
   "id": "7fbecab8-444d-4fe4-bde3-1569fc5eb167",
   "metadata": {
    "tags": []
   },
   "outputs": [
    {
     "name": "stderr",
     "output_type": "stream",
     "text": [
      "GPU available: False, used: False\n",
      "TPU available: False, using: 0 TPU cores\n",
      "IPU available: False, using: 0 IPUs\n",
      "HPU available: False, using: 0 HPUs\n",
      "/opt/anaconda3/lib/python3.9/site-packages/pytorch_lightning/trainer/connectors/logger_connector/logger_connector.py:67: UserWarning: Starting from v1.9.0, `tensorboardX` has been removed as a dependency of the `pytorch_lightning` package, due to potential conflicts with other packages in the ML ecosystem. For this reason, `logger=True` will use `CSVLogger` as the default logger, unless the `tensorboard` or `tensorboardX` packages are found. Please `pip install lightning[extra]` or one of them to enable TensorBoard support by default\n",
      "  warning_cache.warn(\n",
      "/opt/anaconda3/lib/python3.9/site-packages/pytorch_lightning/trainer/configuration_validator.py:70: PossibleUserWarning: You defined a `validation_step` but have no `val_dataloader`. Skipping val loop.\n",
      "  rank_zero_warn(\n",
      "\n",
      "  | Name  | Type        | Params | In sizes | Out sizes   \n",
      "----------------------------------------------------------------\n",
      "0 | model | DeepARModel | 10.5 K | ?        | [1, 100, 52]\n",
      "----------------------------------------------------------------\n",
      "10.5 K    Trainable params\n",
      "0         Non-trainable params\n",
      "10.5 K    Total params\n",
      "0.042     Total estimated model params size (MB)\n"
     ]
    },
    {
     "data": {
      "application/vnd.jupyter.widget-view+json": {
       "model_id": "d03eeed89e2f49c1bf2ab1aa945bd12f",
       "version_major": 2,
       "version_minor": 0
      },
      "text/plain": [
       "Training: 0it [00:00, ?it/s]"
      ]
     },
     "metadata": {},
     "output_type": "display_data"
    },
    {
     "name": "stderr",
     "output_type": "stream",
     "text": [
      "Epoch 0, global step 50: 'train_loss' reached 5.72828 (best 5.72828), saving model to '/Users/adavidho/Documents/University/DHBW/Semester 4/Data Exploration/Project/project_submission_haiperformer/modelling/lightning_logs/version_6/checkpoints/epoch=0-step=50.ckpt' as top 1\n",
      "`Trainer.fit` stopped: `max_epochs=1` reached.\n",
      "Running evaluation: 1it [00:00,  6.89it/s]\n"
     ]
    }
   ],
   "source": [
    "# Start Experiment\n",
    "forecasts, tss, agg_metrics = run_experiment(\n",
    "    input_paths=input_paths,\n",
    "    target_col=target_col,\n",
    "    prediction_length=prediction_length,\n",
    "    windows=windows,\n",
    "    offset=offset,\n",
    "    past_rts_col=past_rts_col,\n",
    "    estimator=deepar_estimator,\n",
    ")"
   ]
  },
  {
   "cell_type": "code",
   "execution_count": 12,
   "id": "72237209-08ae-42ba-af3f-4c4a6028f344",
   "metadata": {
    "tags": []
   },
   "outputs": [
    {
     "data": {
      "image/png": "[encoded data removed]",
      "text/plain": [
       "<Figure size 640x480 with 1 Axes>"
      ]
     },
     "metadata": {},
     "output_type": "display_data"
    }
   ],
   "source": [
    "# Plot forecast\n",
    "plot_forecast(\n",
    "    tss=tss,\n",
    "    forecasts=forecasts,\n",
    "    path=\"./8year_test.svg\",\n",
    ")"
   ]
  },
  {
   "cell_type": "code",
   "execution_count": 13,
   "id": "4cd98f23-0253-4e67-b0ba-1fb9f5653190",
   "metadata": {
    "tags": []
   },
   "outputs": [],
   "source": [
    "with open(\"8year_test_tss.pkl\", \"wb\") as outp:\n",
    "    pickle.dump(tss, outp, pickle.HIGHEST_PROTOCOL)\n",
    "\n",
    "with open(\"8year_test_forecasts.pkl\", \"wb\") as outp:\n",
    "    pickle.dump(forecasts, outp, pickle.HIGHEST_PROTOCOL)"
   ]
  },
  {
   "cell_type": "code",
   "execution_count": 14,
   "id": "a36dbe32-57b9-4d92-abc5-591a9948e7e7",
   "metadata": {},
   "outputs": [],
   "source": [
    "# Add experiment to database store\n",
    "experiment_config = Forecast_Experiment(\n",
    "    model=\"torch_deepar_8year_v6\",\n",
    "    version=version,\n",
    "    data_config={\n",
    "        \"target\": target_col,\n",
    "        \"past_rts_col\": past_rts_col,\n",
    "        \"windows\": windows,\n",
    "    },\n",
    "    model_config={\n",
    "        \"epochs\": max_epochs,\n",
    "        \"prediction_length\": prediction_length,\n",
    "        \"num_layers\": num_layers,\n",
    "        \"hidden_size\": hidden_size,\n",
    "        \"context_length\": context_length,\n",
    "        \"lr\": lr,\n",
    "        \"weight_decay\": weight_decay,\n",
    "    },\n",
    "    MASE=agg_metrics[\"MASE\"],\n",
    "    MAPE=agg_metrics[\"MAPE\"],\n",
    "    RMSE=agg_metrics[\"RMSE\"],\n",
    "    wQL_10=agg_metrics[\"wQuantileLoss[0.1]\"],\n",
    "    wQL_50=agg_metrics[\"wQuantileLoss[0.5]\"],\n",
    "    wQL_90=agg_metrics[\"wQuantileLoss[0.9]\"],\n",
    "    avg_wQL=agg_metrics[\"mean_wQuantileLoss\"],\n",
    ")\n",
    "session.add(experiment_config)\n",
    "session.commit()"
   ]
  },
  {
   "attachments": {},
   "cell_type": "markdown",
   "id": "ab88f6d4-e890-41bb-9ab4-3a9523b18c30",
   "metadata": {
    "tags": []
   },
   "source": [
    "## DeepState ([mx](https://github.com/awslabs/gluonts/blob/dev/src/gluonts/mx/model/deepstate/_estimator.py))\n"
   ]
  },
  {
   "attachments": {},
   "cell_type": "markdown",
   "id": "827b8258-5a20-4598-a301-b91465d1cdcd",
   "metadata": {},
   "source": [
    "DeepState is a novel approach to probabilistic time series forecasting that combines state space models with deep learning. By parametrizing a per-time-series linear state space model with a jointly-learned recurrent neural network, our method retains desired properties of state space models such as data efficiency and interpretability, while making use of the ability to learn complex patterns from raw data offered by deep learning approaches.\n"
   ]
  },
  {
   "cell_type": "code",
   "execution_count": 15,
   "id": "44abff25-80bb-4ebe-a376-d1e8312f6479",
   "metadata": {
    "tags": []
   },
   "outputs": [],
   "source": [
    "from gluonts.mx import DeepStateEstimator\n",
    "from gluonts.mx import Trainer"
   ]
  },
  {
   "cell_type": "code",
   "execution_count": 16,
   "id": "3fb5510f-278b-48b8-9e93-6f955156b850",
   "metadata": {
    "tags": []
   },
   "outputs": [],
   "source": [
    "# Data specs\n",
    "input_paths = [\n",
    "    \"../data_engineering/financial_ts/indices.csv\",\n",
    "    \"../data_engineering/financial_ts/ww_gdp.csv\",\n",
    "    \"../data_engineering/timeseries_data/ts_gdelt_5k_per_year_data.csv\",\n",
    "]\n",
    "\n",
    "target_col = \"ts_S&P\"\n",
    "with open(\"./config/past_rts_cols_v2.json\", \"r\") as fp:\n",
    "    past_rts_col = json.load(fp)[\"version_2\"]\n",
    "windows = 1\n",
    "\n",
    "# Estimator specs\n",
    "version = 1\n",
    "prediction_length = 56\n",
    "num_layers = 2\n",
    "hidden_size = 20\n",
    "offset = -(prediction_length * windows)\n",
    "\n",
    "# Trainer specs\n",
    "max_epochs = 100\n",
    "lr = 1e-1\n",
    "weight_decay = 1e-4"
   ]
  },
  {
   "cell_type": "code",
   "execution_count": 17,
   "id": "990009b6-8107-4f2d-a7eb-d0b013f4048f",
   "metadata": {
    "tags": []
   },
   "outputs": [],
   "source": [
    "# Define estimator\n",
    "deepstate_estimator = DeepStateEstimator(\n",
    "    prediction_length=prediction_length,\n",
    "    num_layers=num_layers,\n",
    "    num_cells=hidden_size,\n",
    "    use_feat_static_cat=False,\n",
    "    cardinality=[],\n",
    "    trainer=Trainer(\n",
    "        epochs=max_epochs,\n",
    "        learning_rate=lr,\n",
    "        weight_decay=weight_decay,\n",
    "    ),\n",
    "    freq=\"W\",\n",
    ")"
   ]
  },
  {
   "cell_type": "code",
   "execution_count": 18,
   "id": "f7e30987-b4de-41db-b228-d9bdaed3a658",
   "metadata": {
    "tags": []
   },
   "outputs": [
    {
     "name": "stderr",
     "output_type": "stream",
     "text": [
      "100%|██████████| 50/50 [01:25<00:00,  1.72s/it, epoch=1/1, avg_epoch_loss=6.85]\n",
      "Running evaluation: 1it [00:00,  5.66it/s]\n"
     ]
    }
   ],
   "source": [
    "# Start Experiment\n",
    "forecasts, tss, agg_metrics = run_experiment(\n",
    "    input_paths=input_paths,\n",
    "    target_col=target_col,\n",
    "    prediction_length=prediction_length,\n",
    "    windows=windows,\n",
    "    offset=offset,\n",
    "    past_rts_col=past_rts_col,\n",
    "    estimator=deepstate_estimator,\n",
    ")"
   ]
  },
  {
   "cell_type": "code",
   "execution_count": 19,
   "id": "5799173a-ed67-4c22-a577-6942e6f28745",
   "metadata": {
    "tags": []
   },
   "outputs": [
    {
     "data": {
      "image/png": "[encoded data removed]",
      "text/plain": [
       "<Figure size 640x480 with 1 Axes>"
      ]
     },
     "metadata": {},
     "output_type": "display_data"
    }
   ],
   "source": [
    "# Plot forecast\n",
    "plot_forecast(\n",
    "    tss=tss,\n",
    "    forecasts=forecasts,\n",
    "    # path=\"./plot.svg\",\n",
    ")"
   ]
  },
  {
   "cell_type": "code",
   "execution_count": 20,
   "id": "938d84d4-10c8-45bb-bf0e-d823ff04c327",
   "metadata": {
    "tags": []
   },
   "outputs": [],
   "source": [
    "# Add experiment to database store\n",
    "experiment_config = Forecast_Experiment(\n",
    "    model=\"mx_deepstate\",\n",
    "    version=version,\n",
    "    data_config={\n",
    "        \"target\": target_col,\n",
    "        \"past_rts_col\": past_rts_col,\n",
    "        \"windows\": windows,\n",
    "    },\n",
    "    model_config={\n",
    "        \"epochs\": max_epochs,\n",
    "        \"prediction_length\": prediction_length,\n",
    "        \"num_layers\": num_layers,\n",
    "        \"hidden_size\": hidden_size,\n",
    "        \"lr\": lr,\n",
    "        \"weight_decay\": weight_decay,\n",
    "    },\n",
    "    MASE=agg_metrics[\"MASE\"],\n",
    "    MAPE=agg_metrics[\"MAPE\"],\n",
    "    RMSE=agg_metrics[\"RMSE\"],\n",
    "    wQL_10=agg_metrics[\"wQuantileLoss[0.1]\"],\n",
    "    wQL_50=agg_metrics[\"wQuantileLoss[0.5]\"],\n",
    "    wQL_90=agg_metrics[\"wQuantileLoss[0.9]\"],\n",
    "    avg_wQL=agg_metrics[\"mean_wQuantileLoss\"],\n",
    ")\n",
    "session.add(experiment_config)\n",
    "session.commit()"
   ]
  },
  {
   "attachments": {},
   "cell_type": "markdown",
   "id": "e1cbfe2d-c175-4846-8999-8c56aca7cbcf",
   "metadata": {
    "tags": []
   },
   "source": [
    "## MQ-CNN ([mx](https://github.com/awslabs/gluonts/blob/dev/src/gluonts/mx/model/seq2seq/_mq_dnn_estimator.py))\n"
   ]
  },
  {
   "attachments": {},
   "cell_type": "markdown",
   "id": "bbbc5d17-c691-4a4b-b57f-c82ef22ff9b2",
   "metadata": {},
   "source": [
    "MQ-CNN is a general probabilistic multi-step time series regression model. It exploits the expressiveness and temporal nature of Sequence-to-Sequence Neural Networks (e.g. recurrent and convolutional structures), the nonparametric nature of Quantile Regression and the efficiency of Direct Multi-Horizon Forecasting.\n"
   ]
  },
  {
   "cell_type": "code",
   "execution_count": 21,
   "id": "8430f487-7d10-4a37-ba99-8230db875ffc",
   "metadata": {
    "tags": []
   },
   "outputs": [],
   "source": [
    "from gluonts.mx import MQCNNEstimator\n",
    "from gluonts.mx import Trainer"
   ]
  },
  {
   "cell_type": "code",
   "execution_count": 22,
   "id": "cb96de68-bdc3-46d1-b70a-9d716ed17d3d",
   "metadata": {},
   "outputs": [],
   "source": [
    "# Data specs\n",
    "input_paths = [\n",
    "    \"../data_engineering/financial_ts/indices.csv\",\n",
    "    \"../data_engineering/financial_ts/ww_gdp.csv\",\n",
    "    \"../data_engineering/timeseries_data/ts_gdelt_5k_per_year_data.csv\",\n",
    "]\n",
    "\n",
    "target_col = \"ts_S&P\"\n",
    "with open(\"./config/past_rts_cols_v2.json\", \"r\") as fp:\n",
    "    past_rts_col = json.load(fp)[\"version_2\"]\n",
    "windows = 1\n",
    "\n",
    "# Estimator specs\n",
    "version = 1\n",
    "prediction_length = 56\n",
    "decoder_mlp_dim_seq = [30]\n",
    "channels_seq = [30, 30, 30]\n",
    "use_past_feat_dynamic_real = True\n",
    "context_length = 50\n",
    "offset = -(prediction_length * windows)\n",
    "\n",
    "# Trainer specs\n",
    "max_epochs = 100\n",
    "lr = 1e-1\n",
    "weight_decay = 1e-4"
   ]
  },
  {
   "cell_type": "code",
   "execution_count": 23,
   "id": "4756d1e8-f9c3-498f-acd9-9adbeedaf8fa",
   "metadata": {
    "tags": []
   },
   "outputs": [],
   "source": [
    "mqcnn_estimator = MQCNNEstimator(\n",
    "    prediction_length=prediction_length,\n",
    "    channels_seq=channels_seq,\n",
    "    use_past_feat_dynamic_real=use_past_feat_dynamic_real,\n",
    "    decoder_mlp_dim_seq=decoder_mlp_dim_seq,\n",
    "    context_length=context_length,\n",
    "    freq=\"W\",\n",
    "    trainer=Trainer(\n",
    "        epochs=max_epochs,\n",
    "        learning_rate=lr,\n",
    "        weight_decay=weight_decay,\n",
    "    ),\n",
    ")"
   ]
  },
  {
   "cell_type": "code",
   "execution_count": 24,
   "id": "d84ef8ff-8060-460c-8b53-2ea1f59dab3a",
   "metadata": {
    "tags": []
   },
   "outputs": [
    {
     "name": "stderr",
     "output_type": "stream",
     "text": [
      "100%|██████████| 50/50 [00:13<00:00,  3.79it/s, epoch=1/1, avg_epoch_loss=38.9]\n",
      "Running evaluation: 1it [00:00,  5.56it/s]\n"
     ]
    }
   ],
   "source": [
    "# Start Experiment\n",
    "forecasts, tss, agg_metrics = run_experiment(\n",
    "    input_paths=input_paths,\n",
    "    target_col=target_col,\n",
    "    prediction_length=prediction_length,\n",
    "    windows=windows,\n",
    "    offset=offset,\n",
    "    past_rts_col=past_rts_col,\n",
    "    estimator=mqcnn_estimator,\n",
    ")"
   ]
  },
  {
   "cell_type": "code",
   "execution_count": 25,
   "id": "c9f7eab6-682c-411f-9009-c4a1aa7d0159",
   "metadata": {
    "tags": []
   },
   "outputs": [
    {
     "data": {
      "image/png": "[encoded data removed]",
      "text/plain": [
       "<Figure size 640x480 with 1 Axes>"
      ]
     },
     "metadata": {},
     "output_type": "display_data"
    }
   ],
   "source": [
    "# Plot forecast\n",
    "plot_forecast(\n",
    "    tss=tss,\n",
    "    forecasts=forecasts,\n",
    "    # path=\"./plot.svg\",\n",
    ")"
   ]
  },
  {
   "cell_type": "code",
   "execution_count": 26,
   "id": "b9a3000d-5888-4b19-b79d-9ebd467389b5",
   "metadata": {
    "tags": []
   },
   "outputs": [
    {
     "name": "stdout",
     "output_type": "stream",
     "text": [
      "done\n"
     ]
    }
   ],
   "source": [
    "# Add experiment to database store\n",
    "experiment_config = Forecast_Experiment(\n",
    "    model=\"mx_cnnqr\",\n",
    "    version=version,\n",
    "    data_config={\n",
    "        \"target\": target_col,\n",
    "        \"past_rts_col\": past_rts_col,\n",
    "        \"windows\": windows,\n",
    "    },\n",
    "    model_config={\n",
    "        \"epochs\": max_epochs,\n",
    "        \"prediction_length\": prediction_length,\n",
    "        \"channels_seq\": channels_seq,\n",
    "        \"decoder_mlp_dim_seq\": decoder_mlp_dim_seq,\n",
    "        \"use_past_feat_dynamic_real\": use_past_feat_dynamic_real,\n",
    "        \"context_length\": context_length,\n",
    "        \"lr\": lr,\n",
    "        \"weight_decay\": weight_decay,\n",
    "    },\n",
    "    MASE=agg_metrics[\"MASE\"],\n",
    "    MAPE=agg_metrics[\"MAPE\"],\n",
    "    RMSE=agg_metrics[\"RMSE\"],\n",
    "    wQL_10=agg_metrics[\"wQuantileLoss[0.1]\"],\n",
    "    wQL_50=agg_metrics[\"wQuantileLoss[0.5]\"],\n",
    "    wQL_90=agg_metrics[\"wQuantileLoss[0.9]\"],\n",
    "    avg_wQL=agg_metrics[\"mean_wQuantileLoss\"],\n",
    ")\n",
    "session.add(experiment_config)\n",
    "session.commit()\n",
    "print(\"done\")"
   ]
  }
 ],
 "metadata": {
  "availableInstances": [
   {
    "_defaultOrder": 0,
    "_isFastLaunch": true,
    "category": "General purpose",
    "gpuNum": 0,
    "hideHardwareSpecs": false,
    "memoryGiB": 4,
    "name": "ml.t3.medium",
    "vcpuNum": 2
   },
   {
    "_defaultOrder": 1,
    "_isFastLaunch": false,
    "category": "General purpose",
    "gpuNum": 0,
    "hideHardwareSpecs": false,
    "memoryGiB": 8,
    "name": "ml.t3.large",
    "vcpuNum": 2
   },
   {
    "_defaultOrder": 2,
    "_isFastLaunch": false,
    "category": "General purpose",
    "gpuNum": 0,
    "hideHardwareSpecs": false,
    "memoryGiB": 16,
    "name": "ml.t3.xlarge",
    "vcpuNum": 4
   },
   {
    "_defaultOrder": 3,
    "_isFastLaunch": false,
    "category": "General purpose",
    "gpuNum": 0,
    "hideHardwareSpecs": false,
    "memoryGiB": 32,
    "name": "ml.t3.2xlarge",
    "vcpuNum": 8
   },
   {
    "_defaultOrder": 4,
    "_isFastLaunch": true,
    "category": "General purpose",
    "gpuNum": 0,
    "hideHardwareSpecs": false,
    "memoryGiB": 8,
    "name": "ml.m5.large",
    "vcpuNum": 2
   },
   {
    "_defaultOrder": 5,
    "_isFastLaunch": false,
    "category": "General purpose",
    "gpuNum": 0,
    "hideHardwareSpecs": false,
    "memoryGiB": 16,
    "name": "ml.m5.xlarge",
    "vcpuNum": 4
   },
   {
    "_defaultOrder": 6,
    "_isFastLaunch": false,
    "category": "General purpose",
    "gpuNum": 0,
    "hideHardwareSpecs": false,
    "memoryGiB": 32,
    "name": "ml.m5.2xlarge",
    "vcpuNum": 8
   },
   {
    "_defaultOrder": 7,
    "_isFastLaunch": false,
    "category": "General purpose",
    "gpuNum": 0,
    "hideHardwareSpecs": false,
    "memoryGiB": 64,
    "name": "ml.m5.4xlarge",
    "vcpuNum": 16
   },
   {
    "_defaultOrder": 8,
    "_isFastLaunch": false,
    "category": "General purpose",
    "gpuNum": 0,
    "hideHardwareSpecs": false,
    "memoryGiB": 128,
    "name": "ml.m5.8xlarge",
    "vcpuNum": 32
   },
   {
    "_defaultOrder": 9,
    "_isFastLaunch": false,
    "category": "General purpose",
    "gpuNum": 0,
    "hideHardwareSpecs": false,
    "memoryGiB": 192,
    "name": "ml.m5.12xlarge",
    "vcpuNum": 48
   },
   {
    "_defaultOrder": 10,
    "_isFastLaunch": false,
    "category": "General purpose",
    "gpuNum": 0,
    "hideHardwareSpecs": false,
    "memoryGiB": 256,
    "name": "ml.m5.16xlarge",
    "vcpuNum": 64
   },
   {
    "_defaultOrder": 11,
    "_isFastLaunch": false,
    "category": "General purpose",
    "gpuNum": 0,
    "hideHardwareSpecs": false,
    "memoryGiB": 384,
    "name": "ml.m5.24xlarge",
    "vcpuNum": 96
   },
   {
    "_defaultOrder": 12,
    "_isFastLaunch": false,
    "category": "General purpose",
    "gpuNum": 0,
    "hideHardwareSpecs": false,
    "memoryGiB": 8,
    "name": "ml.m5d.large",
    "vcpuNum": 2
   },
   {
    "_defaultOrder": 13,
    "_isFastLaunch": false,
    "category": "General purpose",
    "gpuNum": 0,
    "hideHardwareSpecs": false,
    "memoryGiB": 16,
    "name": "ml.m5d.xlarge",
    "vcpuNum": 4
   },
   {
    "_defaultOrder": 14,
    "_isFastLaunch": false,
    "category": "General purpose",
    "gpuNum": 0,
    "hideHardwareSpecs": false,
    "memoryGiB": 32,
    "name": "ml.m5d.2xlarge",
    "vcpuNum": 8
   },
   {
    "_defaultOrder": 15,
    "_isFastLaunch": false,
    "category": "General purpose",
    "gpuNum": 0,
    "hideHardwareSpecs": false,
    "memoryGiB": 64,
    "name": "ml.m5d.4xlarge",
    "vcpuNum": 16
   },
   {
    "_defaultOrder": 16,
    "_isFastLaunch": false,
    "category": "General purpose",
    "gpuNum": 0,
    "hideHardwareSpecs": false,
    "memoryGiB": 128,
    "name": "ml.m5d.8xlarge",
    "vcpuNum": 32
   },
   {
    "_defaultOrder": 17,
    "_isFastLaunch": false,
    "category": "General purpose",
    "gpuNum": 0,
    "hideHardwareSpecs": false,
    "memoryGiB": 192,
    "name": "ml.m5d.12xlarge",
    "vcpuNum": 48
   },
   {
    "_defaultOrder": 18,
    "_isFastLaunch": false,
    "category": "General purpose",
    "gpuNum": 0,
    "hideHardwareSpecs": false,
    "memoryGiB": 256,
    "name": "ml.m5d.16xlarge",
    "vcpuNum": 64
   },
   {
    "_defaultOrder": 19,
    "_isFastLaunch": false,
    "category": "General purpose",
    "gpuNum": 0,
    "hideHardwareSpecs": false,
    "memoryGiB": 384,
    "name": "ml.m5d.24xlarge",
    "vcpuNum": 96
   },
   {
    "_defaultOrder": 20,
    "_isFastLaunch": false,
    "category": "General purpose",
    "gpuNum": 0,
    "hideHardwareSpecs": true,
    "memoryGiB": 0,
    "name": "ml.geospatial.interactive",
    "supportedImageNames": [
     "sagemaker-geospatial-v1-0"
    ],
    "vcpuNum": 0
   },
   {
    "_defaultOrder": 21,
    "_isFastLaunch": true,
    "category": "Compute optimized",
    "gpuNum": 0,
    "hideHardwareSpecs": false,
    "memoryGiB": 4,
    "name": "ml.c5.large",
    "vcpuNum": 2
   },
   {
    "_defaultOrder": 22,
    "_isFastLaunch": false,
    "category": "Compute optimized",
    "gpuNum": 0,
    "hideHardwareSpecs": false,
    "memoryGiB": 8,
    "name": "ml.c5.xlarge",
    "vcpuNum": 4
   },
   {
    "_defaultOrder": 23,
    "_isFastLaunch": false,
    "category": "Compute optimized",
    "gpuNum": 0,
    "hideHardwareSpecs": false,
    "memoryGiB": 16,
    "name": "ml.c5.2xlarge",
    "vcpuNum": 8
   },
   {
    "_defaultOrder": 24,
    "_isFastLaunch": false,
    "category": "Compute optimized",
    "gpuNum": 0,
    "hideHardwareSpecs": false,
    "memoryGiB": 32,
    "name": "ml.c5.4xlarge",
    "vcpuNum": 16
   },
   {
    "_defaultOrder": 25,
    "_isFastLaunch": false,
    "category": "Compute optimized",
    "gpuNum": 0,
    "hideHardwareSpecs": false,
    "memoryGiB": 72,
    "name": "ml.c5.9xlarge",
    "vcpuNum": 36
   },
   {
    "_defaultOrder": 26,
    "_isFastLaunch": false,
    "category": "Compute optimized",
    "gpuNum": 0,
    "hideHardwareSpecs": false,
    "memoryGiB": 96,
    "name": "ml.c5.12xlarge",
    "vcpuNum": 48
   },
   {
    "_defaultOrder": 27,
    "_isFastLaunch": false,
    "category": "Compute optimized",
    "gpuNum": 0,
    "hideHardwareSpecs": false,
    "memoryGiB": 144,
    "name": "ml.c5.18xlarge",
    "vcpuNum": 72
   },
   {
    "_defaultOrder": 28,
    "_isFastLaunch": false,
    "category": "Compute optimized",
    "gpuNum": 0,
    "hideHardwareSpecs": false,
    "memoryGiB": 192,
    "name": "ml.c5.24xlarge",
    "vcpuNum": 96
   },
   {
    "_defaultOrder": 29,
    "_isFastLaunch": true,
    "category": "Accelerated computing",
    "gpuNum": 1,
    "hideHardwareSpecs": false,
    "memoryGiB": 16,
    "name": "ml.g4dn.xlarge",
    "vcpuNum": 4
   },
   {
    "_defaultOrder": 30,
    "_isFastLaunch": false,
    "category": "Accelerated computing",
    "gpuNum": 1,
    "hideHardwareSpecs": false,
    "memoryGiB": 32,
    "name": "ml.g4dn.2xlarge",
    "vcpuNum": 8
   },
   {
    "_defaultOrder": 31,
    "_isFastLaunch": false,
    "category": "Accelerated computing",
    "gpuNum": 1,
    "hideHardwareSpecs": false,
    "memoryGiB": 64,
    "name": "ml.g4dn.4xlarge",
    "vcpuNum": 16
   },
   {
    "_defaultOrder": 32,
    "_isFastLaunch": false,
    "category": "Accelerated computing",
    "gpuNum": 1,
    "hideHardwareSpecs": false,
    "memoryGiB": 128,
    "name": "ml.g4dn.8xlarge",
    "vcpuNum": 32
   },
   {
    "_defaultOrder": 33,
    "_isFastLaunch": false,
    "category": "Accelerated computing",
    "gpuNum": 4,
    "hideHardwareSpecs": false,
    "memoryGiB": 192,
    "name": "ml.g4dn.12xlarge",
    "vcpuNum": 48
   },
   {
    "_defaultOrder": 34,
    "_isFastLaunch": false,
    "category": "Accelerated computing",
    "gpuNum": 1,
    "hideHardwareSpecs": false,
    "memoryGiB": 256,
    "name": "ml.g4dn.16xlarge",
    "vcpuNum": 64
   },
   {
    "_defaultOrder": 35,
    "_isFastLaunch": false,
    "category": "Accelerated computing",
    "gpuNum": 1,
    "hideHardwareSpecs": false,
    "memoryGiB": 61,
    "name": "ml.p3.2xlarge",
    "vcpuNum": 8
   },
   {
    "_defaultOrder": 36,
    "_isFastLaunch": false,
    "category": "Accelerated computing",
    "gpuNum": 4,
    "hideHardwareSpecs": false,
    "memoryGiB": 244,
    "name": "ml.p3.8xlarge",
    "vcpuNum": 32
   },
   {
    "_defaultOrder": 37,
    "_isFastLaunch": false,
    "category": "Accelerated computing",
    "gpuNum": 8,
    "hideHardwareSpecs": false,
    "memoryGiB": 488,
    "name": "ml.p3.16xlarge",
    "vcpuNum": 64
   },
   {
    "_defaultOrder": 38,
    "_isFastLaunch": false,
    "category": "Accelerated computing",
    "gpuNum": 8,
    "hideHardwareSpecs": false,
    "memoryGiB": 768,
    "name": "ml.p3dn.24xlarge",
    "vcpuNum": 96
   },
   {
    "_defaultOrder": 39,
    "_isFastLaunch": false,
    "category": "Memory Optimized",
    "gpuNum": 0,
    "hideHardwareSpecs": false,
    "memoryGiB": 16,
    "name": "ml.r5.large",
    "vcpuNum": 2
   },
   {
    "_defaultOrder": 40,
    "_isFastLaunch": false,
    "category": "Memory Optimized",
    "gpuNum": 0,
    "hideHardwareSpecs": false,
    "memoryGiB": 32,
    "name": "ml.r5.xlarge",
    "vcpuNum": 4
   },
   {
    "_defaultOrder": 41,
    "_isFastLaunch": false,
    "category": "Memory Optimized",
    "gpuNum": 0,
    "hideHardwareSpecs": false,
    "memoryGiB": 64,
    "name": "ml.r5.2xlarge",
    "vcpuNum": 8
   },
   {
    "_defaultOrder": 42,
    "_isFastLaunch": false,
    "category": "Memory Optimized",
    "gpuNum": 0,
    "hideHardwareSpecs": false,
    "memoryGiB": 128,
    "name": "ml.r5.4xlarge",
    "vcpuNum": 16
   },
   {
    "_defaultOrder": 43,
    "_isFastLaunch": false,
    "category": "Memory Optimized",
    "gpuNum": 0,
    "hideHardwareSpecs": false,
    "memoryGiB": 256,
    "name": "ml.r5.8xlarge",
    "vcpuNum": 32
   },
   {
    "_defaultOrder": 44,
    "_isFastLaunch": false,
    "category": "Memory Optimized",
    "gpuNum": 0,
    "hideHardwareSpecs": false,
    "memoryGiB": 384,
    "name": "ml.r5.12xlarge",
    "vcpuNum": 48
   },
   {
    "_defaultOrder": 45,
    "_isFastLaunch": false,
    "category": "Memory Optimized",
    "gpuNum": 0,
    "hideHardwareSpecs": false,
    "memoryGiB": 512,
    "name": "ml.r5.16xlarge",
    "vcpuNum": 64
   },
   {
    "_defaultOrder": 46,
    "_isFastLaunch": false,
    "category": "Memory Optimized",
    "gpuNum": 0,
    "hideHardwareSpecs": false,
    "memoryGiB": 768,
    "name": "ml.r5.24xlarge",
    "vcpuNum": 96
   },
   {
    "_defaultOrder": 47,
    "_isFastLaunch": false,
    "category": "Accelerated computing",
    "gpuNum": 1,
    "hideHardwareSpecs": false,
    "memoryGiB": 16,
    "name": "ml.g5.xlarge",
    "vcpuNum": 4
   },
   {
    "_defaultOrder": 48,
    "_isFastLaunch": false,
    "category": "Accelerated computing",
    "gpuNum": 1,
    "hideHardwareSpecs": false,
    "memoryGiB": 32,
    "name": "ml.g5.2xlarge",
    "vcpuNum": 8
   },
   {
    "_defaultOrder": 49,
    "_isFastLaunch": false,
    "category": "Accelerated computing",
    "gpuNum": 1,
    "hideHardwareSpecs": false,
    "memoryGiB": 64,
    "name": "ml.g5.4xlarge",
    "vcpuNum": 16
   },
   {
    "_defaultOrder": 50,
    "_isFastLaunch": false,
    "category": "Accelerated computing",
    "gpuNum": 1,
    "hideHardwareSpecs": false,
    "memoryGiB": 128,
    "name": "ml.g5.8xlarge",
    "vcpuNum": 32
   },
   {
    "_defaultOrder": 51,
    "_isFastLaunch": false,
    "category": "Accelerated computing",
    "gpuNum": 1,
    "hideHardwareSpecs": false,
    "memoryGiB": 256,
    "name": "ml.g5.16xlarge",
    "vcpuNum": 64
   },
   {
    "_defaultOrder": 52,
    "_isFastLaunch": false,
    "category": "Accelerated computing",
    "gpuNum": 4,
    "hideHardwareSpecs": false,
    "memoryGiB": 192,
    "name": "ml.g5.12xlarge",
    "vcpuNum": 48
   },
   {
    "_defaultOrder": 53,
    "_isFastLaunch": false,
    "category": "Accelerated computing",
    "gpuNum": 4,
    "hideHardwareSpecs": false,
    "memoryGiB": 384,
    "name": "ml.g5.24xlarge",
    "vcpuNum": 96
   },
   {
    "_defaultOrder": 54,
    "_isFastLaunch": false,
    "category": "Accelerated computing",
    "gpuNum": 8,
    "hideHardwareSpecs": false,
    "memoryGiB": 768,
    "name": "ml.g5.48xlarge",
    "vcpuNum": 192
   },
   {
    "_defaultOrder": 55,
    "_isFastLaunch": false,
    "category": "Accelerated computing",
    "gpuNum": 8,
    "hideHardwareSpecs": false,
    "memoryGiB": 1152,
    "name": "ml.p4d.24xlarge",
    "vcpuNum": 96
   },
   {
    "_defaultOrder": 56,
    "_isFastLaunch": false,
    "category": "Accelerated computing",
    "gpuNum": 8,
    "hideHardwareSpecs": false,
    "memoryGiB": 1152,
    "name": "ml.p4de.24xlarge",
    "vcpuNum": 96
   }
  ],
  "instance_type": "ml.g4dn.xlarge",
  "kernelspec": {
   "display_name": "Python 3 (ipykernel)",
   "language": "python",
   "name": "python3"
  },
  "language_info": {
   "codemirror_mode": {
    "name": "ipython",
    "version": 3
   },
   "file_extension": ".py",
   "mimetype": "text/x-python",
   "name": "python",
   "nbconvert_exporter": "python",
   "pygments_lexer": "ipython3",
   "version": "3.9.13"
  }
 },
 "nbformat": 4,
 "nbformat_minor": 5
}
