{
 "cells": [
  {
   "cell_type": "markdown",
   "id": "6fa28662-5b05-40c9-990e-dc92fc73f41e",
   "metadata": {
    "tags": []
   },
   "source": [
    "# Modelling Exploration Notebook V1\n",
    "\n",
    "This Notebook focuses on comparing different forecast models provided by GluonTS. <br /> \n",
    "Experiments were run using Python 3.9 and PyTorch 1.13. <br /> \n",
    "Compared were:\n",
    "- DeepAR (Salinas et al. 2020): [torch impl](https://github.com/awslabs/gluonts/blob/dev/src/gluonts/torch/model/deepar/estimator.py)\n",
    "- DeepState (Rangapuram et al. 2018): [mx impl](https://github.com/awslabs/gluonts/blob/dev/src/gluonts/mx/model/deepstate/_estimator.py)\n",
    "- MQ-CNN (Wen et al. 2017): [mx impl](https://github.com/awslabs/gluonts/blob/dev/src/gluonts/mx/model/seq2seq/_mq_dnn_estimator.py)"
   ]
  },
  {
   "cell_type": "code",
   "execution_count": 3,
   "id": "c2d66f5d-0c59-438b-9088-1a13ab3908c0",
   "metadata": {
    "tags": []
   },
   "outputs": [],
   "source": [
    "# Required Packages\n",
    "# !pip install -r ./src/requirements.txt"
   ]
  },
  {
   "cell_type": "code",
   "execution_count": 57,
   "id": "4c944b69-de31-4244-b298-156b6361a813",
   "metadata": {
    "tags": []
   },
   "outputs": [],
   "source": [
    "# Imports experiment script\n",
    "from src.forecast_experiment import run_experiment\n",
    "from src.forecast_util import plot_forecast\n",
    "# Import packages\n",
    "from datetime import timedelta\n",
    "import json"
   ]
  },
  {
   "cell_type": "markdown",
   "id": "f7caf1fd-5419-4ed7-88fd-caf84c4e6b2f",
   "metadata": {
    "tags": []
   },
   "source": [
    "## Experiment Overview"
   ]
  },
  {
   "cell_type": "markdown",
   "id": "97643bac-9bd2-4fb2-af8b-a27d4b3500f7",
   "metadata": {
    "tags": []
   },
   "source": [
    "### Define Configuration Store"
   ]
  },
  {
   "cell_type": "code",
   "execution_count": 58,
   "id": "5f018390-c368-46f7-8e78-cf7c0f95faf4",
   "metadata": {
    "tags": []
   },
   "outputs": [],
   "source": [
    "from sqlalchemy import create_engine, Column, Integer, Float, String, PickleType,  select\n",
    "# from sqlalchemy.ext.declarative import declarative_base\n",
    "from sqlalchemy.orm import declarative_base\n",
    "from sqlalchemy.orm import sessionmaker, relationship"
   ]
  },
  {
   "cell_type": "code",
   "execution_count": 59,
   "id": "0eddc5a7-7e1b-4820-a421-e42692bc7f0c",
   "metadata": {
    "tags": []
   },
   "outputs": [],
   "source": [
    "Base = declarative_base()\n",
    "\n",
    "class Forecast_Experiment(Base):\n",
    "    __tablename__ = 'forecast_experiment'\n",
    "    id = Column('id', Integer, primary_key=True)\n",
    "    model = Column('model name', String(20))\n",
    "    version = Column('version', Integer)\n",
    "    data_config = Column('data_config', PickleType)\n",
    "    model_config = Column('model_config', PickleType)\n",
    "    MASE = Column('MASE', Float)\n",
    "    MAPE = Column('MAPE', Float)\n",
    "    RMSE = Column('RMSE', Float)\n",
    "    wQL_10 = Column('wQL_10', Float)\n",
    "    wQL_50 = Column('wQL_50', Float)\n",
    "    wQL_90 = Column('wQL_90', Float)\n",
    "    avg_wQL = Column('avg_wQL', Float)"
   ]
  },
  {
   "cell_type": "code",
   "execution_count": 60,
   "id": "290176bd-2fba-4211-8c57-0e52740e2c86",
   "metadata": {
    "tags": []
   },
   "outputs": [],
   "source": [
    "# engine = create_engine('sqlite:///:memory:', echo=True)\n",
    "engine = create_engine(\"sqlite:///./config/forecast_config_v2.db\")\n",
    "\n",
    "Base.metadata.create_all(bind=engine)\n",
    "Session = sessionmaker(bind=engine)\n",
    "session = Session()"
   ]
  },
  {
   "cell_type": "markdown",
   "id": "6b5025c1-20ab-4590-80e6-7a1bae15b5c8",
   "metadata": {
    "jp-MarkdownHeadingCollapsed": true,
    "tags": []
   },
   "source": [
    "### Explore Experiments"
   ]
  },
  {
   "cell_type": "markdown",
   "id": "c727ec93-8e7b-402d-b333-4a462bc30b24",
   "metadata": {},
   "source": [
    "The model name follows this naming convention: {framework}_{model_name}. <br />\n",
    "- The framework specifies the Machine Learning Framework used to implement the model (mxnet, torch, tensorflow)\n",
    "- The model_name specifies the Algorithm used (e.g. DeepAR). \n",
    "\n",
    "The version field is used to track the stage of experiments as defined below. This means general progression of modelling insights as well as updated data sources.\n",
    "\n",
    "- version 1: first exploration\n",
    "    - \"../data_engineering/financial_ts/indices.csv\",\n",
    "    - \"../data_engineering/financial_ts/ww_gdp.csv\",\n",
    "    - \"../data_engineering/timeseries_data/ts_dgelt_events.csv\"\n",
    "- version 2: specific exploration\n",
    "    - \"../data_engineering/financial_ts/indices.csv\",\n",
    "    - \"../data_engineering/financial_ts/ww_gdp.csv\",\n",
    "    - \"../data_engineering/timeseries_data/ts_gdelt_5k_per_year_data.csv\""
   ]
  },
  {
   "cell_type": "code",
   "execution_count": 31,
   "id": "0d5fa574-5d77-4e53-a979-ccf1c60c21b7",
   "metadata": {
    "tags": []
   },
   "outputs": [
    {
     "name": "stdout",
     "output_type": "stream",
     "text": [
      "torch_deepar: 1 \n",
      "        - model_config: epochs: 1000, prediction_length: 20, num_layers: 8, hidden_size: 64, context_length: 56, lr: 0.001, weight_decay: 1e-08:\n",
      "        - MAPE: 0.04679007808624215,\n",
      "        - avg_wQL: 0.03054266891615841,\n",
      "        \n",
      "torch_deepar: 1 \n",
      "        - model_config: epochs: 400, prediction_length: 56, num_layers: 2, hidden_size: 60, context_length: 200, lr: 0.001, weight_decay: 1e-08:\n",
      "        - MAPE: 0.04398518378674155,\n",
      "        - avg_wQL: 0.03393084310078053,\n",
      "        \n",
      "torch_deepar: 1 \n",
      "        - model_config: epochs: 400, prediction_length: 56, num_layers: 2, hidden_size: 40, context_length: 200, lr: 0.001, weight_decay: 1e-08:\n",
      "        - MAPE: 0.04867304946676913,\n",
      "        - avg_wQL: 0.035919825705461,\n",
      "        \n",
      "torch_deepar: 1 \n",
      "        - model_config: epochs: 400, prediction_length: 56, num_layers: 2, hidden_size: 40, context_length: 100, lr: 0.001, weight_decay: 1e-08:\n",
      "        - MAPE: 0.05248577369460426,\n",
      "        - avg_wQL: 0.04011049213329933,\n",
      "        \n",
      "torch_deepar: 2 \n",
      "        - model_config: epochs: 400, prediction_length: 56, num_layers: 2, hidden_size: 60, context_length: 200, lr: 0.001, weight_decay: 1e-08:\n",
      "        - MAPE: 0.055704708274585346,\n",
      "        - avg_wQL: 0.041371540689176804,\n",
      "        \n",
      "torch_deepar: 2 \n",
      "        - model_config: epochs: 400, prediction_length: 56, num_layers: 2, hidden_size: 30, context_length: 200, lr: 0.1, weight_decay: 0.0001:\n",
      "        - MAPE: 0.05557307158335289,\n",
      "        - avg_wQL: 0.045208654212207905,\n",
      "        \n",
      "torch_deepar: 1 \n",
      "        - model_config: epochs: 400, prediction_length: 56, num_layers: 2, hidden_size: 30, context_length: 200, lr: 0.001, weight_decay: 1e-08:\n",
      "        - MAPE: 0.056454077139499466,\n",
      "        - avg_wQL: 0.04784904657624198,\n",
      "        \n",
      "torch_deepar: 2 \n",
      "        - model_config: epochs: 5, prediction_length: 56, num_layers: 4, hidden_size: 60, context_length: 10, lr: 0.1, weight_decay: 0.0001:\n",
      "        - MAPE: 0.06090133739451243,\n",
      "        - avg_wQL: 0.05269659064679453,\n",
      "        \n",
      "torch_deepar: 1 \n",
      "        - model_config: epochs: 400, prediction_length: 56, num_layers: 2, hidden_size: 40, context_length: 56, lr: 0.001, weight_decay: 1e-08:\n",
      "        - MAPE: 0.06384816226114393,\n",
      "        - avg_wQL: 0.05386742979053971,\n",
      "        \n",
      "torch_deepar: 1 \n",
      "        - model_config: epochs: 400, prediction_length: 56, num_layers: 2, hidden_size: 60, context_length: 200, lr: 0.001, weight_decay: 1e-08:\n",
      "        - MAPE: 0.06746928493460931,\n",
      "        - avg_wQL: 0.057841898389463596,\n",
      "        \n",
      "torch_deepar: 1 \n",
      "        - model_config: epochs: 200, prediction_length: 56, num_layers: 2, hidden_size: 40, context_length: 56, lr: 0.001, weight_decay: 1e-08:\n",
      "        - MAPE: 0.0764770427717032,\n",
      "        - avg_wQL: 0.06275540445735626,\n",
      "        \n",
      "torch_deepar: 1 \n",
      "        - model_config: epochs: 300, prediction_length: 56, num_layers: 2, hidden_size: 32, context_length: 56, lr: 0.001, weight_decay: 1e-08:\n",
      "        - MAPE: 0.08441962087801098,\n",
      "        - avg_wQL: 0.06365827316647153,\n",
      "        \n",
      "torch_deepar: 1 \n",
      "        - model_config: epochs: 400, prediction_length: 56, num_layers: 2, hidden_size: 64, context_length: 56, lr: 0.001, weight_decay: 1e-08:\n",
      "        - MAPE: 0.0787130558043697,\n",
      "        - avg_wQL: 0.06432785136177464,\n",
      "        \n",
      "torch_deepar: 1 \n",
      "        - model_config: epochs: 300, prediction_length: 56, num_layers: 2, hidden_size: 32, context_length: 56, lr: 0.001, weight_decay: 1e-08:\n",
      "        - MAPE: 0.07823470435375625,\n",
      "        - avg_wQL: 0.06519428965834421,\n",
      "        \n",
      "mx_deepstate: 1 \n",
      "        - model_config: epochs: 50, prediction_length: 56, num_layers: 2, hidden_size: 20, lr: 0.1, weight_decay: 0.0001:\n",
      "        - MAPE: 0.09030437530567002,\n",
      "        - avg_wQL: 0.06600377101445432,\n",
      "        \n",
      "torch_deepar: 2 \n",
      "        - model_config: epochs: 400, prediction_length: 56, num_layers: 2, hidden_size: 30, context_length: 200, lr: 0.1, weight_decay: 0.0001:\n",
      "        - MAPE: 0.07931145766148774,\n",
      "        - avg_wQL: 0.06866067877851623,\n",
      "        \n",
      "torch_deepar: 1 \n",
      "        - model_config: epochs: 1000, prediction_length: 56, num_layers: 4, hidden_size: 40, context_length: 56, lr: 0.001, weight_decay: 1e-08:\n",
      "        - MAPE: 0.08206782101100342,\n",
      "        - avg_wQL: 0.07117744262782484,\n",
      "        \n",
      "torch_deepar: 1 \n",
      "        - model_config: epochs: 400, prediction_length: 56, num_layers: 4, hidden_size: 40, context_length: 56, lr: 0.001, weight_decay: 1e-08:\n",
      "        - MAPE: 0.08339516970166147,\n",
      "        - avg_wQL: 0.072370957789048,\n",
      "        \n",
      "mx_deepstate: 1 \n",
      "        - model_config: epochs: 2, prediction_length: 56, num_layers: 2, hidden_size: 20, lr: 0.1, weight_decay: 0.0001:\n",
      "        - MAPE: 0.1108473783394698,\n",
      "        - avg_wQL: 0.08067005791488152,\n",
      "        \n",
      "torch_deepar: 1 \n",
      "        - model_config: epochs: 800, prediction_length: 56, num_layers: 2, hidden_size: 60, context_length: 200, lr: 0.01, weight_decay: 1e-12:\n",
      "        - MAPE: 0.09130275377223995,\n",
      "        - avg_wQL: 0.08104598101304648,\n",
      "        \n",
      "mx_deepstate: 1 \n",
      "        - model_config: epochs: 10, prediction_length: 56, num_layers: 4, hidden_size: 20, lr: 0.1, weight_decay: 0.0001:\n",
      "        - MAPE: 0.1119645166753836,\n",
      "        - avg_wQL: 0.08272028619775758,\n",
      "        \n",
      "torch_deepar: 1 \n",
      "        - model_config: epochs: 800, prediction_length: 56, num_layers: 2, hidden_size: 60, context_length: 200, lr: 0.01, weight_decay: 1e-08:\n",
      "        - MAPE: 0.09268907259963062,\n",
      "        - avg_wQL: 0.08449144843247199,\n",
      "        \n",
      "torch_deepar: 1 \n",
      "        - model_config: epochs: 300, prediction_length: 56, num_layers: 2, hidden_size: 32, context_length: 56, lr: 0.001, weight_decay: 1e-08:\n",
      "        - MAPE: 0.10058064841835758,\n",
      "        - avg_wQL: 0.08470685444169242,\n",
      "        \n",
      "torch_deepar: 1 \n",
      "        - model_config: epochs: 200, prediction_length: 56, num_layers: 4, hidden_size: 40, context_length: 56, lr: 0.001, weight_decay: 1e-08:\n",
      "        - MAPE: 0.10102059509682562,\n",
      "        - avg_wQL: 0.08651877718452138,\n",
      "        \n",
      "torch_deepar: 1 \n",
      "        - model_config: epochs: 300, prediction_length: 56, num_layers: 2, hidden_size: 32, context_length: 56, lr: 0.001, weight_decay: 1e-08:\n",
      "        - MAPE: 0.10054330305865608,\n",
      "        - avg_wQL: 0.08672542322032918,\n",
      "        \n",
      "mx_deepstate: 1 \n",
      "        - model_config: epochs: 100, prediction_length: 56, num_layers: 2, hidden_size: 20, lr: 0.1, weight_decay: 0.0001:\n",
      "        - MAPE: 0.10430476766436828,\n",
      "        - avg_wQL: 0.08676782569739282,\n",
      "        \n",
      "torch_deepar: 2 \n",
      "        - model_config: epochs: 400, prediction_length: 56, num_layers: 2, hidden_size: 30, context_length: 200, lr: 0.1, weight_decay: 0.0001:\n",
      "        - MAPE: 0.12306848115696842,\n",
      "        - avg_wQL: 0.10899705472969862,\n",
      "        \n",
      "torch_deepar: 1 \n",
      "        - model_config: epochs: 150, prediction_length: 56, num_layers: 4, hidden_size: 40, context_length: 56, lr: 0.001, weight_decay: 1e-08:\n",
      "        - MAPE: 0.12942370844974463,\n",
      "        - avg_wQL: 0.11538632056465804,\n",
      "        \n",
      "torch_deepar: 1 \n",
      "        - model_config: epochs: 150, prediction_length: 56, num_layers: 4, hidden_size: 40, context_length: 56, lr: 0.001, weight_decay: 1e-08:\n",
      "        - MAPE: 0.12853513790245066,\n",
      "        - avg_wQL: 0.11614946049906973,\n",
      "        \n",
      "torch_deepar: 1 \n",
      "        - model_config: epochs: 10, prediction_length: 56, num_layers: 2, hidden_size: 40, context_length: 56, lr: 0.001, weight_decay: 1e-08:\n",
      "        - MAPE: 0.19052389496105562,\n",
      "        - avg_wQL: 0.15815992665967143,\n",
      "        \n",
      "mx_cnnqr: 1 \n",
      "        - model_config: epochs: 200, prediction_length: 56, channels_seq: [30, 30, 30], decoder_mlp_dim_seq: [30], use_past_feat_dynamic_real: True, context_length: 100, lr: 0.1, weight_decay: 0.0001:\n",
      "        - MAPE: 0.2417252501092042,\n",
      "        - avg_wQL: 0.18749234860593558,\n",
      "        \n",
      "torch_deepar: 1 \n",
      "        - model_config: epochs: 800, prediction_length: 56, num_layers: 4, hidden_size: 60, context_length: 200, lr: 0.1, weight_decay: 0.0001:\n",
      "        - MAPE: 0.22200159424287763,\n",
      "        - avg_wQL: 0.19354116256310616,\n",
      "        \n",
      "torch_deepar: 1 \n",
      "        - model_config: epochs: 400, prediction_length: 56, num_layers: 2, hidden_size: 40, context_length: 400, lr: 0.001, weight_decay: 1e-08:\n",
      "        - MAPE: 0.22394919154192408,\n",
      "        - avg_wQL: 0.19654920751188157,\n",
      "        \n",
      "torch_deepar: 1 \n",
      "        - model_config: epochs: 200, prediction_length: 20, num_layers: 2, hidden_size: 64, context_length: 56, lr: 0.001, weight_decay: 1e-08:\n",
      "        - MAPE: 0.25167785215182853,\n",
      "        - avg_wQL: 0.20788216527682826,\n",
      "        \n",
      "mx_cnnqr: 1 \n",
      "        - model_config: epochs: 200, prediction_length: 56, channels_seq: [30, 30, 30], decoder_mlp_dim_seq: [30], use_past_feat_dynamic_real: True, context_length: 50, lr: 0.1, weight_decay: 0.0001:\n",
      "        - MAPE: 0.2794973623576261,\n",
      "        - avg_wQL: 0.2423958617427915,\n",
      "        \n",
      "mx_cnnqr: 1 \n",
      "        - model_config: epochs: 20, prediction_length: 56, channels_seq: [30, 30, 30], decoder_mlp_dim_seq: [30], use_past_feat_dynamic_real: True, context_length: 56, lr: 0.1, weight_decay: 0.0001:\n",
      "        - MAPE: 0.30076605988563465,\n",
      "        - avg_wQL: 0.28156998906825137,\n",
      "        \n"
     ]
    }
   ],
   "source": [
    "# Query experiment Table and print results:\n",
    "q1 = select(Forecast_Experiment).order_by(Forecast_Experiment.avg_wQL)\n",
    "q1_result = session.execute(q1) \n",
    "\n",
    "for s in q1_result.scalars():\n",
    "    print(f\"\"\"{s.model}: {s.version} \n",
    "        - model_config: {str(s.model_config)[1:-1].replace(\"'\",\"\")}:\n",
    "        - MAPE: {s.MAPE},\n",
    "        - avg_wQL: {s.avg_wQL},\n",
    "        \"\"\"\n",
    "    )"
   ]
  },
  {
   "cell_type": "markdown",
   "id": "9311b35a-d43c-4502-878c-9fd0773ad097",
   "metadata": {
    "jp-MarkdownHeadingCollapsed": true,
    "tags": []
   },
   "source": [
    "### Migrate Experiments"
   ]
  },
  {
   "cell_type": "markdown",
   "id": "e7181a0d-1fda-43bb-90be-6204d1f9f71c",
   "metadata": {},
   "source": [
    "The Experiments from the modelling_experimentation_v1 notebook were stored in two different Tables. <br />\n",
    "I exported them to a json file and used the below code to read the file and store previous experiments in the new database with dynamic config attributes."
   ]
  },
  {
   "cell_type": "code",
   "execution_count": 30,
   "id": "8af8550e-8bc6-4e4f-aa90-a382316c3edd",
   "metadata": {
    "tags": []
   },
   "outputs": [],
   "source": [
    "import json\n",
    " \n",
    "# Opening JSON file\n",
    "with open('data_v2.json') as json_file:\n",
    "    data = json.load(json_file)"
   ]
  },
  {
   "cell_type": "code",
   "execution_count": 36,
   "id": "e61a2f2e-bc86-43e1-a679-03c1bdf8098a",
   "metadata": {
    "tags": []
   },
   "outputs": [],
   "source": [
    "for e in data:\n",
    "    experiment_config = Forecast_Experiment(\n",
    "        model = e['name'],\n",
    "        version = 1,\n",
    "        data_config = {\n",
    "            'target':e['target'],\n",
    "            'past_rts_col':e['past_rts_col'],\n",
    "            'windows':1,\n",
    "        },\n",
    "        model_config = {\n",
    "            'epochs':e['epochs'],\n",
    "            'prediction_length':e['prediction_length'],\n",
    "            'num_layers':e['num_layers'],\n",
    "            'hidden_size':e['hidden_size'],\n",
    "            # 'context_length':e['context_length'],\n",
    "            'lr':e['lr'],\n",
    "            'weight_decay':e['weight_decay'],\n",
    "        },\n",
    "        MASE = e['MASE'],\n",
    "        MAPE = e['MAPE'],\n",
    "        RMSE = e['RMSE'],\n",
    "        wQL_10 = e['wQL_10'],\n",
    "        wQL_50 = e['wQL_50'],\n",
    "        wQL_90 = e['wQL_90'],\n",
    "        avg_wQL = e['avg_wQL']\n",
    "    )\n",
    "    session.add(experiment_config)\n",
    "    session.commit()"
   ]
  },
  {
   "cell_type": "markdown",
   "id": "6064ad00-6aeb-4a4b-81f7-1d0bb4ead289",
   "metadata": {
    "tags": []
   },
   "source": [
    "## DeepAR ([torch](https://github.com/awslabs/gluonts/blob/dev/src/gluonts/torch/model/deepar/estimator.py))"
   ]
  },
  {
   "cell_type": "markdown",
   "id": "630727a2-99a1-43a1-816e-c8ebb79bc83f",
   "metadata": {},
   "source": [
    "DeepAR is a methodology for producing accurate probabilistic forecasts, based on training an autoregressive recurrent neural network model on a large number of related time series."
   ]
  },
  {
   "cell_type": "code",
   "execution_count": 61,
   "id": "c2309421-6814-40f1-a4b0-19c3adb59411",
   "metadata": {
    "tags": []
   },
   "outputs": [],
   "source": [
    "from gluonts.torch import DeepAREstimator"
   ]
  },
  {
   "cell_type": "code",
   "execution_count": 75,
   "id": "c056fdcc-6c1f-4f1a-a783-27889e87af49",
   "metadata": {
    "tags": []
   },
   "outputs": [],
   "source": [
    "# Data specs\n",
    "input_paths = [\n",
    "    \"../data_engineering/financial_ts/indices.csv\",\n",
    "    \"../data_engineering/financial_ts/ww_gdp.csv\",\n",
    "    \"../data_engineering/timeseries_data/ts_gdelt_5k_per_year_data.csv\"\n",
    "]\n",
    "target_col = 'ts_S&P' # switch to ts_S&P\n",
    "with open('./config/past_rts_cols_v2.json', 'r') as fp:\n",
    "    past_rts_col = json.load(fp)['version_2']\n",
    "windows = 8\n",
    " \n",
    "# epochs: 400, prediction_length: 56, num_layers: 2, hidden_size: 60, context_length: 200, lr: 0.001, weight_decay: 1e-08\n",
    "\n",
    "# Estimator specs\n",
    "version = 2\n",
    "prediction_length=52\n",
    "max_epochs = 100\n",
    "num_layers=3\n",
    "hidden_size=20\n",
    "context_length = 200 \n",
    "weight_decay = 1e-15\n",
    "lr = 0.001\n",
    "offset = -(prediction_length*windows)\n",
    "\n",
    "# Trainer specs\n",
    "accelerator = \"gpu\"\n",
    "devices = \"auto\""
   ]
  },
  {
   "cell_type": "code",
   "execution_count": 76,
   "id": "fb0fe261-1e72-47c7-b972-a6354e7a326a",
   "metadata": {
    "tags": []
   },
   "outputs": [],
   "source": [
    "# Define estimator\n",
    "deepar_estimator = DeepAREstimator(\n",
    "    prediction_length=prediction_length,\n",
    "    num_layers=num_layers,  \n",
    "    hidden_size=hidden_size, \n",
    "    weight_decay=weight_decay,\n",
    "    context_length=context_length,\n",
    "    lr = lr,\n",
    "    freq=\"W\",\n",
    "    trainer_kwargs={\n",
    "        \"max_epochs\": max_epochs, \n",
    "        \"accelerator\":accelerator, \n",
    "        \"devices\":devices,\n",
    "    }\n",
    ")"
   ]
  },
  {
   "cell_type": "code",
   "execution_count": 78,
   "id": "7fbecab8-444d-4fe4-bde3-1569fc5eb167",
   "metadata": {
    "tags": []
   },
   "outputs": [
    {
     "name": "stderr",
     "output_type": "stream",
     "text": [
      "GPU available: True (cuda), used: True\n",
      "TPU available: False, using: 0 TPU cores\n",
      "IPU available: False, using: 0 IPUs\n",
      "HPU available: False, using: 0 HPUs\n",
      "/opt/conda/lib/python3.9/site-packages/pytorch_lightning/trainer/configuration_validator.py:70: PossibleUserWarning: You defined a `validation_step` but have no `val_dataloader`. Skipping val loop.\n",
      "  rank_zero_warn(\n",
      "LOCAL_RANK: 0 - CUDA_VISIBLE_DEVICES: [0]\n",
      "\n",
      "  | Name  | Type        | Params | In sizes | Out sizes   \n",
      "----------------------------------------------------------------\n",
      "0 | model | DeepARModel | 10.5 K | ?        | [1, 100, 52]\n",
      "----------------------------------------------------------------\n",
      "10.5 K    Trainable params\n",
      "0         Non-trainable params\n",
      "10.5 K    Total params\n",
      "0.042     Total estimated model params size (MB)\n"
     ]
    },
    {
     "name": "stdout",
     "output_type": "stream",
     "text": [
      "Epoch 0: : 50it [00:08,  5.72it/s, v_num=113, train_loss=6.200]"
     ]
    },
    {
     "name": "stderr",
     "output_type": "stream",
     "text": [
      "Epoch 0, global step 50: 'train_loss' reached 6.20051 (best 6.20051), saving model to '/root/project_submission_haiperformer/modelling/lightning_logs/version_113/checkpoints/epoch=0-step=50.ckpt' as top 1\n"
     ]
    },
    {
     "name": "stdout",
     "output_type": "stream",
     "text": [
      "Epoch 1: : 50it [00:08,  5.74it/s, v_num=113, train_loss=5.050]"
     ]
    },
    {
     "name": "stderr",
     "output_type": "stream",
     "text": [
      "Epoch 1, global step 100: 'train_loss' reached 5.05115 (best 5.05115), saving model to '/root/project_submission_haiperformer/modelling/lightning_logs/version_113/checkpoints/epoch=1-step=100.ckpt' as top 1\n"
     ]
    },
    {
     "name": "stdout",
     "output_type": "stream",
     "text": [
      "Epoch 2: : 50it [00:08,  5.68it/s, v_num=113, train_loss=4.450]"
     ]
    },
    {
     "name": "stderr",
     "output_type": "stream",
     "text": [
      "Epoch 2, global step 150: 'train_loss' reached 4.44727 (best 4.44727), saving model to '/root/project_submission_haiperformer/modelling/lightning_logs/version_113/checkpoints/epoch=2-step=150.ckpt' as top 1\n"
     ]
    },
    {
     "name": "stdout",
     "output_type": "stream",
     "text": [
      "Epoch 3: : 50it [00:08,  5.91it/s, v_num=113, train_loss=4.090]"
     ]
    },
    {
     "name": "stderr",
     "output_type": "stream",
     "text": [
      "Epoch 3, global step 200: 'train_loss' reached 4.08702 (best 4.08702), saving model to '/root/project_submission_haiperformer/modelling/lightning_logs/version_113/checkpoints/epoch=3-step=200.ckpt' as top 1\n"
     ]
    },
    {
     "name": "stdout",
     "output_type": "stream",
     "text": [
      "Epoch 4: : 50it [00:08,  5.94it/s, v_num=113, train_loss=3.870]"
     ]
    },
    {
     "name": "stderr",
     "output_type": "stream",
     "text": [
      "Epoch 4, global step 250: 'train_loss' reached 3.86956 (best 3.86956), saving model to '/root/project_submission_haiperformer/modelling/lightning_logs/version_113/checkpoints/epoch=4-step=250.ckpt' as top 1\n"
     ]
    },
    {
     "name": "stdout",
     "output_type": "stream",
     "text": [
      "Epoch 5: : 50it [00:08,  5.91it/s, v_num=113, train_loss=3.920]"
     ]
    },
    {
     "name": "stderr",
     "output_type": "stream",
     "text": [
      "Epoch 5, global step 300: 'train_loss' was not in top 1\n"
     ]
    },
    {
     "name": "stdout",
     "output_type": "stream",
     "text": [
      "Epoch 6: : 50it [00:08,  5.93it/s, v_num=113, train_loss=3.890]"
     ]
    },
    {
     "name": "stderr",
     "output_type": "stream",
     "text": [
      "Epoch 6, global step 350: 'train_loss' was not in top 1\n"
     ]
    },
    {
     "name": "stdout",
     "output_type": "stream",
     "text": [
      "Epoch 7: : 50it [00:08,  5.97it/s, v_num=113, train_loss=3.810]"
     ]
    },
    {
     "name": "stderr",
     "output_type": "stream",
     "text": [
      "Epoch 7, global step 400: 'train_loss' reached 3.80532 (best 3.80532), saving model to '/root/project_submission_haiperformer/modelling/lightning_logs/version_113/checkpoints/epoch=7-step=400.ckpt' as top 1\n"
     ]
    },
    {
     "name": "stdout",
     "output_type": "stream",
     "text": [
      "Epoch 8: : 50it [00:08,  5.90it/s, v_num=113, train_loss=3.710]"
     ]
    },
    {
     "name": "stderr",
     "output_type": "stream",
     "text": [
      "Epoch 8, global step 450: 'train_loss' reached 3.71079 (best 3.71079), saving model to '/root/project_submission_haiperformer/modelling/lightning_logs/version_113/checkpoints/epoch=8-step=450.ckpt' as top 1\n"
     ]
    },
    {
     "name": "stdout",
     "output_type": "stream",
     "text": [
      "Epoch 9: : 50it [00:08,  5.98it/s, v_num=113, train_loss=3.780]"
     ]
    },
    {
     "name": "stderr",
     "output_type": "stream",
     "text": [
      "Epoch 9, global step 500: 'train_loss' was not in top 1\n"
     ]
    },
    {
     "name": "stdout",
     "output_type": "stream",
     "text": [
      "Epoch 10: : 50it [00:08,  5.86it/s, v_num=113, train_loss=3.710]"
     ]
    },
    {
     "name": "stderr",
     "output_type": "stream",
     "text": [
      "Epoch 10, global step 550: 'train_loss' was not in top 1\n"
     ]
    },
    {
     "name": "stdout",
     "output_type": "stream",
     "text": [
      "Epoch 11: : 50it [00:08,  5.87it/s, v_num=113, train_loss=3.600]"
     ]
    },
    {
     "name": "stderr",
     "output_type": "stream",
     "text": [
      "Epoch 11, global step 600: 'train_loss' reached 3.60234 (best 3.60234), saving model to '/root/project_submission_haiperformer/modelling/lightning_logs/version_113/checkpoints/epoch=11-step=600.ckpt' as top 1\n"
     ]
    },
    {
     "name": "stdout",
     "output_type": "stream",
     "text": [
      "Epoch 12: : 50it [00:08,  5.99it/s, v_num=113, train_loss=3.790]"
     ]
    },
    {
     "name": "stderr",
     "output_type": "stream",
     "text": [
      "Epoch 12, global step 650: 'train_loss' was not in top 1\n"
     ]
    },
    {
     "name": "stdout",
     "output_type": "stream",
     "text": [
      "Epoch 13: : 50it [00:08,  6.09it/s, v_num=113, train_loss=3.740]"
     ]
    },
    {
     "name": "stderr",
     "output_type": "stream",
     "text": [
      "Epoch 13, global step 700: 'train_loss' was not in top 1\n"
     ]
    },
    {
     "name": "stdout",
     "output_type": "stream",
     "text": [
      "Epoch 14: : 50it [00:08,  6.06it/s, v_num=113, train_loss=3.740]"
     ]
    },
    {
     "name": "stderr",
     "output_type": "stream",
     "text": [
      "Epoch 14, global step 750: 'train_loss' was not in top 1\n"
     ]
    },
    {
     "name": "stdout",
     "output_type": "stream",
     "text": [
      "Epoch 15: : 50it [00:08,  6.22it/s, v_num=113, train_loss=3.720]"
     ]
    },
    {
     "name": "stderr",
     "output_type": "stream",
     "text": [
      "Epoch 15, global step 800: 'train_loss' was not in top 1\n"
     ]
    },
    {
     "name": "stdout",
     "output_type": "stream",
     "text": [
      "Epoch 16: : 50it [00:07,  6.38it/s, v_num=113, train_loss=3.700]"
     ]
    },
    {
     "name": "stderr",
     "output_type": "stream",
     "text": [
      "Epoch 16, global step 850: 'train_loss' was not in top 1\n"
     ]
    },
    {
     "name": "stdout",
     "output_type": "stream",
     "text": [
      "Epoch 17: : 50it [00:08,  5.87it/s, v_num=113, train_loss=3.500]"
     ]
    },
    {
     "name": "stderr",
     "output_type": "stream",
     "text": [
      "Epoch 17, global step 900: 'train_loss' reached 3.50500 (best 3.50500), saving model to '/root/project_submission_haiperformer/modelling/lightning_logs/version_113/checkpoints/epoch=17-step=900.ckpt' as top 1\n"
     ]
    },
    {
     "name": "stdout",
     "output_type": "stream",
     "text": [
      "Epoch 18: : 50it [00:08,  5.85it/s, v_num=113, train_loss=3.580]"
     ]
    },
    {
     "name": "stderr",
     "output_type": "stream",
     "text": [
      "Epoch 18, global step 950: 'train_loss' was not in top 1\n"
     ]
    },
    {
     "name": "stdout",
     "output_type": "stream",
     "text": [
      "Epoch 19: : 50it [00:08,  6.10it/s, v_num=113, train_loss=3.610]"
     ]
    },
    {
     "name": "stderr",
     "output_type": "stream",
     "text": [
      "Epoch 19, global step 1000: 'train_loss' was not in top 1\n"
     ]
    },
    {
     "name": "stdout",
     "output_type": "stream",
     "text": [
      "Epoch 20: : 50it [00:08,  6.03it/s, v_num=113, train_loss=3.660]"
     ]
    },
    {
     "name": "stderr",
     "output_type": "stream",
     "text": [
      "Epoch 20, global step 1050: 'train_loss' was not in top 1\n"
     ]
    },
    {
     "name": "stdout",
     "output_type": "stream",
     "text": [
      "Epoch 21: : 50it [00:08,  5.89it/s, v_num=113, train_loss=3.630]"
     ]
    },
    {
     "name": "stderr",
     "output_type": "stream",
     "text": [
      "Epoch 21, global step 1100: 'train_loss' was not in top 1\n"
     ]
    },
    {
     "name": "stdout",
     "output_type": "stream",
     "text": [
      "Epoch 22: : 50it [00:08,  5.77it/s, v_num=113, train_loss=3.590]"
     ]
    },
    {
     "name": "stderr",
     "output_type": "stream",
     "text": [
      "Epoch 22, global step 1150: 'train_loss' was not in top 1\n"
     ]
    },
    {
     "name": "stdout",
     "output_type": "stream",
     "text": [
      "Epoch 23: : 50it [00:08,  5.97it/s, v_num=113, train_loss=3.560]"
     ]
    },
    {
     "name": "stderr",
     "output_type": "stream",
     "text": [
      "Epoch 23, global step 1200: 'train_loss' was not in top 1\n"
     ]
    },
    {
     "name": "stdout",
     "output_type": "stream",
     "text": [
      "Epoch 24: : 50it [00:08,  6.12it/s, v_num=113, train_loss=3.580]"
     ]
    },
    {
     "name": "stderr",
     "output_type": "stream",
     "text": [
      "Epoch 24, global step 1250: 'train_loss' was not in top 1\n"
     ]
    },
    {
     "name": "stdout",
     "output_type": "stream",
     "text": [
      "Epoch 25: : 50it [00:08,  5.87it/s, v_num=113, train_loss=3.550]"
     ]
    },
    {
     "name": "stderr",
     "output_type": "stream",
     "text": [
      "Epoch 25, global step 1300: 'train_loss' was not in top 1\n"
     ]
    },
    {
     "name": "stdout",
     "output_type": "stream",
     "text": [
      "Epoch 26: : 50it [00:08,  5.98it/s, v_num=113, train_loss=3.550]"
     ]
    },
    {
     "name": "stderr",
     "output_type": "stream",
     "text": [
      "Epoch 26, global step 1350: 'train_loss' was not in top 1\n"
     ]
    },
    {
     "name": "stdout",
     "output_type": "stream",
     "text": [
      "Epoch 27: : 50it [00:08,  5.87it/s, v_num=113, train_loss=3.430]"
     ]
    },
    {
     "name": "stderr",
     "output_type": "stream",
     "text": [
      "Epoch 27, global step 1400: 'train_loss' reached 3.43136 (best 3.43136), saving model to '/root/project_submission_haiperformer/modelling/lightning_logs/version_113/checkpoints/epoch=27-step=1400.ckpt' as top 1\n"
     ]
    },
    {
     "name": "stdout",
     "output_type": "stream",
     "text": [
      "Epoch 28: : 50it [00:08,  6.02it/s, v_num=113, train_loss=3.560]"
     ]
    },
    {
     "name": "stderr",
     "output_type": "stream",
     "text": [
      "Epoch 28, global step 1450: 'train_loss' was not in top 1\n"
     ]
    },
    {
     "name": "stdout",
     "output_type": "stream",
     "text": [
      "Epoch 29: : 50it [00:08,  5.77it/s, v_num=113, train_loss=3.490]"
     ]
    },
    {
     "name": "stderr",
     "output_type": "stream",
     "text": [
      "Epoch 29, global step 1500: 'train_loss' was not in top 1\n"
     ]
    },
    {
     "name": "stdout",
     "output_type": "stream",
     "text": [
      "Epoch 30: : 50it [00:08,  6.00it/s, v_num=113, train_loss=3.470]"
     ]
    },
    {
     "name": "stderr",
     "output_type": "stream",
     "text": [
      "Epoch 30, global step 1550: 'train_loss' was not in top 1\n"
     ]
    },
    {
     "name": "stdout",
     "output_type": "stream",
     "text": [
      "Epoch 31: : 50it [00:08,  5.99it/s, v_num=113, train_loss=3.560]"
     ]
    },
    {
     "name": "stderr",
     "output_type": "stream",
     "text": [
      "Epoch 31, global step 1600: 'train_loss' was not in top 1\n"
     ]
    },
    {
     "name": "stdout",
     "output_type": "stream",
     "text": [
      "Epoch 32: : 50it [00:07,  6.27it/s, v_num=113, train_loss=3.490]"
     ]
    },
    {
     "name": "stderr",
     "output_type": "stream",
     "text": [
      "Epoch 32, global step 1650: 'train_loss' was not in top 1\n"
     ]
    },
    {
     "name": "stdout",
     "output_type": "stream",
     "text": [
      "Epoch 33: : 50it [00:08,  5.97it/s, v_num=113, train_loss=3.360]"
     ]
    },
    {
     "name": "stderr",
     "output_type": "stream",
     "text": [
      "Epoch 33, global step 1700: 'train_loss' reached 3.35653 (best 3.35653), saving model to '/root/project_submission_haiperformer/modelling/lightning_logs/version_113/checkpoints/epoch=33-step=1700.ckpt' as top 1\n"
     ]
    },
    {
     "name": "stdout",
     "output_type": "stream",
     "text": [
      "Epoch 34: : 50it [00:08,  5.86it/s, v_num=113, train_loss=3.370]"
     ]
    },
    {
     "name": "stderr",
     "output_type": "stream",
     "text": [
      "Epoch 34, global step 1750: 'train_loss' was not in top 1\n"
     ]
    },
    {
     "name": "stdout",
     "output_type": "stream",
     "text": [
      "Epoch 35: : 50it [00:08,  6.06it/s, v_num=113, train_loss=3.510]"
     ]
    },
    {
     "name": "stderr",
     "output_type": "stream",
     "text": [
      "Epoch 35, global step 1800: 'train_loss' was not in top 1\n"
     ]
    },
    {
     "name": "stdout",
     "output_type": "stream",
     "text": [
      "Epoch 36: : 50it [00:08,  5.66it/s, v_num=113, train_loss=3.340]"
     ]
    },
    {
     "name": "stderr",
     "output_type": "stream",
     "text": [
      "Epoch 36, global step 1850: 'train_loss' reached 3.33631 (best 3.33631), saving model to '/root/project_submission_haiperformer/modelling/lightning_logs/version_113/checkpoints/epoch=36-step=1850.ckpt' as top 1\n"
     ]
    },
    {
     "name": "stdout",
     "output_type": "stream",
     "text": [
      "Epoch 37: : 50it [00:08,  5.92it/s, v_num=113, train_loss=3.370]"
     ]
    },
    {
     "name": "stderr",
     "output_type": "stream",
     "text": [
      "Epoch 37, global step 1900: 'train_loss' was not in top 1\n"
     ]
    },
    {
     "name": "stdout",
     "output_type": "stream",
     "text": [
      "Epoch 38: : 50it [00:08,  5.97it/s, v_num=113, train_loss=3.330]"
     ]
    },
    {
     "name": "stderr",
     "output_type": "stream",
     "text": [
      "Epoch 38, global step 1950: 'train_loss' reached 3.32935 (best 3.32935), saving model to '/root/project_submission_haiperformer/modelling/lightning_logs/version_113/checkpoints/epoch=38-step=1950.ckpt' as top 1\n"
     ]
    },
    {
     "name": "stdout",
     "output_type": "stream",
     "text": [
      "Epoch 39: : 50it [00:08,  5.95it/s, v_num=113, train_loss=3.320]"
     ]
    },
    {
     "name": "stderr",
     "output_type": "stream",
     "text": [
      "Epoch 39, global step 2000: 'train_loss' reached 3.31703 (best 3.31703), saving model to '/root/project_submission_haiperformer/modelling/lightning_logs/version_113/checkpoints/epoch=39-step=2000.ckpt' as top 1\n"
     ]
    },
    {
     "name": "stdout",
     "output_type": "stream",
     "text": [
      "Epoch 40: : 50it [00:08,  6.24it/s, v_num=113, train_loss=3.320]"
     ]
    },
    {
     "name": "stderr",
     "output_type": "stream",
     "text": [
      "Epoch 40, global step 2050: 'train_loss' was not in top 1\n"
     ]
    },
    {
     "name": "stdout",
     "output_type": "stream",
     "text": [
      "Epoch 41: : 50it [00:08,  5.84it/s, v_num=113, train_loss=3.310]"
     ]
    },
    {
     "name": "stderr",
     "output_type": "stream",
     "text": [
      "Epoch 41, global step 2100: 'train_loss' reached 3.30518 (best 3.30518), saving model to '/root/project_submission_haiperformer/modelling/lightning_logs/version_113/checkpoints/epoch=41-step=2100.ckpt' as top 1\n"
     ]
    },
    {
     "name": "stdout",
     "output_type": "stream",
     "text": [
      "Epoch 42: : 50it [00:08,  5.91it/s, v_num=113, train_loss=3.290]"
     ]
    },
    {
     "name": "stderr",
     "output_type": "stream",
     "text": [
      "Epoch 42, global step 2150: 'train_loss' reached 3.29038 (best 3.29038), saving model to '/root/project_submission_haiperformer/modelling/lightning_logs/version_113/checkpoints/epoch=42-step=2150.ckpt' as top 1\n"
     ]
    },
    {
     "name": "stdout",
     "output_type": "stream",
     "text": [
      "Epoch 43: : 50it [00:08,  5.79it/s, v_num=113, train_loss=3.320]"
     ]
    },
    {
     "name": "stderr",
     "output_type": "stream",
     "text": [
      "Epoch 43, global step 2200: 'train_loss' was not in top 1\n"
     ]
    },
    {
     "name": "stdout",
     "output_type": "stream",
     "text": [
      "Epoch 44: : 50it [00:08,  6.05it/s, v_num=113, train_loss=3.330]"
     ]
    },
    {
     "name": "stderr",
     "output_type": "stream",
     "text": [
      "Epoch 44, global step 2250: 'train_loss' was not in top 1\n"
     ]
    },
    {
     "name": "stdout",
     "output_type": "stream",
     "text": [
      "Epoch 45: : 50it [00:08,  5.96it/s, v_num=113, train_loss=3.300]"
     ]
    },
    {
     "name": "stderr",
     "output_type": "stream",
     "text": [
      "Epoch 45, global step 2300: 'train_loss' was not in top 1\n"
     ]
    },
    {
     "name": "stdout",
     "output_type": "stream",
     "text": [
      "Epoch 46: : 50it [00:08,  5.98it/s, v_num=113, train_loss=3.350]"
     ]
    },
    {
     "name": "stderr",
     "output_type": "stream",
     "text": [
      "Epoch 46, global step 2350: 'train_loss' was not in top 1\n"
     ]
    },
    {
     "name": "stdout",
     "output_type": "stream",
     "text": [
      "Epoch 47: : 50it [00:08,  5.96it/s, v_num=113, train_loss=3.290]"
     ]
    },
    {
     "name": "stderr",
     "output_type": "stream",
     "text": [
      "Epoch 47, global step 2400: 'train_loss' was not in top 1\n"
     ]
    },
    {
     "name": "stdout",
     "output_type": "stream",
     "text": [
      "Epoch 48: : 50it [00:08,  5.94it/s, v_num=113, train_loss=3.480]"
     ]
    },
    {
     "name": "stderr",
     "output_type": "stream",
     "text": [
      "Epoch 48, global step 2450: 'train_loss' was not in top 1\n"
     ]
    },
    {
     "name": "stdout",
     "output_type": "stream",
     "text": [
      "Epoch 49: : 50it [00:08,  5.97it/s, v_num=113, train_loss=3.340]"
     ]
    },
    {
     "name": "stderr",
     "output_type": "stream",
     "text": [
      "Epoch 49, global step 2500: 'train_loss' was not in top 1\n"
     ]
    },
    {
     "name": "stdout",
     "output_type": "stream",
     "text": [
      "Epoch 50: : 50it [00:08,  5.95it/s, v_num=113, train_loss=3.360]"
     ]
    },
    {
     "name": "stderr",
     "output_type": "stream",
     "text": [
      "Epoch 50, global step 2550: 'train_loss' was not in top 1\n"
     ]
    },
    {
     "name": "stdout",
     "output_type": "stream",
     "text": [
      "Epoch 51: : 50it [00:08,  5.75it/s, v_num=113, train_loss=3.340]"
     ]
    },
    {
     "name": "stderr",
     "output_type": "stream",
     "text": [
      "Epoch 51, global step 2600: 'train_loss' was not in top 1\n"
     ]
    },
    {
     "name": "stdout",
     "output_type": "stream",
     "text": [
      "Epoch 52: : 50it [00:08,  5.98it/s, v_num=113, train_loss=3.360]"
     ]
    },
    {
     "name": "stderr",
     "output_type": "stream",
     "text": [
      "Epoch 52, global step 2650: 'train_loss' was not in top 1\n"
     ]
    },
    {
     "name": "stdout",
     "output_type": "stream",
     "text": [
      "Epoch 53: : 50it [00:08,  6.22it/s, v_num=113, train_loss=3.390]"
     ]
    },
    {
     "name": "stderr",
     "output_type": "stream",
     "text": [
      "Epoch 53, global step 2700: 'train_loss' was not in top 1\n"
     ]
    },
    {
     "name": "stdout",
     "output_type": "stream",
     "text": [
      "Epoch 54: : 50it [00:08,  6.01it/s, v_num=113, train_loss=3.330]"
     ]
    },
    {
     "name": "stderr",
     "output_type": "stream",
     "text": [
      "Epoch 54, global step 2750: 'train_loss' was not in top 1\n"
     ]
    },
    {
     "name": "stdout",
     "output_type": "stream",
     "text": [
      "Epoch 55: : 50it [00:08,  6.20it/s, v_num=113, train_loss=3.340]"
     ]
    },
    {
     "name": "stderr",
     "output_type": "stream",
     "text": [
      "Epoch 55, global step 2800: 'train_loss' was not in top 1\n"
     ]
    },
    {
     "name": "stdout",
     "output_type": "stream",
     "text": [
      "Epoch 56: : 50it [00:08,  5.99it/s, v_num=113, train_loss=3.280]"
     ]
    },
    {
     "name": "stderr",
     "output_type": "stream",
     "text": [
      "Epoch 56, global step 2850: 'train_loss' reached 3.27969 (best 3.27969), saving model to '/root/project_submission_haiperformer/modelling/lightning_logs/version_113/checkpoints/epoch=56-step=2850.ckpt' as top 1\n"
     ]
    },
    {
     "name": "stdout",
     "output_type": "stream",
     "text": [
      "Epoch 57: : 50it [00:08,  6.02it/s, v_num=113, train_loss=3.310]"
     ]
    },
    {
     "name": "stderr",
     "output_type": "stream",
     "text": [
      "Epoch 57, global step 2900: 'train_loss' was not in top 1\n"
     ]
    },
    {
     "name": "stdout",
     "output_type": "stream",
     "text": [
      "Epoch 58: : 50it [00:08,  5.87it/s, v_num=113, train_loss=3.340]"
     ]
    },
    {
     "name": "stderr",
     "output_type": "stream",
     "text": [
      "Epoch 58, global step 2950: 'train_loss' was not in top 1\n"
     ]
    },
    {
     "name": "stdout",
     "output_type": "stream",
     "text": [
      "Epoch 59: : 50it [00:08,  6.04it/s, v_num=113, train_loss=3.200]"
     ]
    },
    {
     "name": "stderr",
     "output_type": "stream",
     "text": [
      "Epoch 59, global step 3000: 'train_loss' reached 3.20305 (best 3.20305), saving model to '/root/project_submission_haiperformer/modelling/lightning_logs/version_113/checkpoints/epoch=59-step=3000.ckpt' as top 1\n"
     ]
    },
    {
     "name": "stdout",
     "output_type": "stream",
     "text": [
      "Epoch 60: : 50it [00:08,  5.83it/s, v_num=113, train_loss=3.310]"
     ]
    },
    {
     "name": "stderr",
     "output_type": "stream",
     "text": [
      "Epoch 60, global step 3050: 'train_loss' was not in top 1\n"
     ]
    },
    {
     "name": "stdout",
     "output_type": "stream",
     "text": [
      "Epoch 61: : 50it [00:08,  6.03it/s, v_num=113, train_loss=3.340]"
     ]
    },
    {
     "name": "stderr",
     "output_type": "stream",
     "text": [
      "Epoch 61, global step 3100: 'train_loss' was not in top 1\n"
     ]
    },
    {
     "name": "stdout",
     "output_type": "stream",
     "text": [
      "Epoch 62: : 50it [00:08,  6.12it/s, v_num=113, train_loss=3.290]"
     ]
    },
    {
     "name": "stderr",
     "output_type": "stream",
     "text": [
      "Epoch 62, global step 3150: 'train_loss' was not in top 1\n"
     ]
    },
    {
     "name": "stdout",
     "output_type": "stream",
     "text": [
      "Epoch 63: : 50it [00:08,  6.09it/s, v_num=113, train_loss=3.280]"
     ]
    },
    {
     "name": "stderr",
     "output_type": "stream",
     "text": [
      "Epoch 63, global step 3200: 'train_loss' was not in top 1\n"
     ]
    },
    {
     "name": "stdout",
     "output_type": "stream",
     "text": [
      "Epoch 64: : 50it [00:08,  5.92it/s, v_num=113, train_loss=3.280]"
     ]
    },
    {
     "name": "stderr",
     "output_type": "stream",
     "text": [
      "Epoch 64, global step 3250: 'train_loss' was not in top 1\n"
     ]
    },
    {
     "name": "stdout",
     "output_type": "stream",
     "text": [
      "Epoch 65: : 50it [00:08,  6.10it/s, v_num=113, train_loss=3.320]"
     ]
    },
    {
     "name": "stderr",
     "output_type": "stream",
     "text": [
      "Epoch 65, global step 3300: 'train_loss' was not in top 1\n"
     ]
    },
    {
     "name": "stdout",
     "output_type": "stream",
     "text": [
      "Epoch 66: : 50it [00:08,  5.97it/s, v_num=113, train_loss=3.200]"
     ]
    },
    {
     "name": "stderr",
     "output_type": "stream",
     "text": [
      "Epoch 66, global step 3350: 'train_loss' was not in top 1\n"
     ]
    },
    {
     "name": "stdout",
     "output_type": "stream",
     "text": [
      "Epoch 67: : 50it [00:08,  6.01it/s, v_num=113, train_loss=3.370]"
     ]
    },
    {
     "name": "stderr",
     "output_type": "stream",
     "text": [
      "Epoch 67, global step 3400: 'train_loss' was not in top 1\n"
     ]
    },
    {
     "name": "stdout",
     "output_type": "stream",
     "text": [
      "Epoch 68: : 50it [00:08,  5.94it/s, v_num=113, train_loss=3.240]"
     ]
    },
    {
     "name": "stderr",
     "output_type": "stream",
     "text": [
      "Epoch 68, global step 3450: 'train_loss' was not in top 1\n"
     ]
    },
    {
     "name": "stdout",
     "output_type": "stream",
     "text": [
      "Epoch 69: : 50it [00:08,  6.15it/s, v_num=113, train_loss=3.220]"
     ]
    },
    {
     "name": "stderr",
     "output_type": "stream",
     "text": [
      "Epoch 69, global step 3500: 'train_loss' was not in top 1\n"
     ]
    },
    {
     "name": "stdout",
     "output_type": "stream",
     "text": [
      "Epoch 70: : 50it [00:08,  6.10it/s, v_num=113, train_loss=3.210]"
     ]
    },
    {
     "name": "stderr",
     "output_type": "stream",
     "text": [
      "Epoch 70, global step 3550: 'train_loss' was not in top 1\n"
     ]
    },
    {
     "name": "stdout",
     "output_type": "stream",
     "text": [
      "Epoch 71: : 50it [00:08,  5.90it/s, v_num=113, train_loss=3.200]"
     ]
    },
    {
     "name": "stderr",
     "output_type": "stream",
     "text": [
      "Epoch 71, global step 3600: 'train_loss' reached 3.19912 (best 3.19912), saving model to '/root/project_submission_haiperformer/modelling/lightning_logs/version_113/checkpoints/epoch=71-step=3600.ckpt' as top 1\n"
     ]
    },
    {
     "name": "stdout",
     "output_type": "stream",
     "text": [
      "Epoch 72: : 50it [00:08,  5.81it/s, v_num=113, train_loss=3.220]"
     ]
    },
    {
     "name": "stderr",
     "output_type": "stream",
     "text": [
      "Epoch 72, global step 3650: 'train_loss' was not in top 1\n"
     ]
    },
    {
     "name": "stdout",
     "output_type": "stream",
     "text": [
      "Epoch 73: : 50it [00:08,  5.87it/s, v_num=113, train_loss=3.170]"
     ]
    },
    {
     "name": "stderr",
     "output_type": "stream",
     "text": [
      "Epoch 73, global step 3700: 'train_loss' reached 3.17364 (best 3.17364), saving model to '/root/project_submission_haiperformer/modelling/lightning_logs/version_113/checkpoints/epoch=73-step=3700.ckpt' as top 1\n"
     ]
    },
    {
     "name": "stdout",
     "output_type": "stream",
     "text": [
      "Epoch 74: : 50it [00:09,  5.38it/s, v_num=113, train_loss=3.230]"
     ]
    },
    {
     "name": "stderr",
     "output_type": "stream",
     "text": [
      "Epoch 74, global step 3750: 'train_loss' was not in top 1\n"
     ]
    },
    {
     "name": "stdout",
     "output_type": "stream",
     "text": [
      "Epoch 75: : 50it [00:08,  5.63it/s, v_num=113, train_loss=3.180]"
     ]
    },
    {
     "name": "stderr",
     "output_type": "stream",
     "text": [
      "Epoch 75, global step 3800: 'train_loss' was not in top 1\n"
     ]
    },
    {
     "name": "stdout",
     "output_type": "stream",
     "text": [
      "Epoch 76: : 50it [00:08,  5.75it/s, v_num=113, train_loss=3.220]"
     ]
    },
    {
     "name": "stderr",
     "output_type": "stream",
     "text": [
      "Epoch 76, global step 3850: 'train_loss' was not in top 1\n"
     ]
    },
    {
     "name": "stdout",
     "output_type": "stream",
     "text": [
      "Epoch 77: : 50it [00:08,  5.79it/s, v_num=113, train_loss=3.170]"
     ]
    },
    {
     "name": "stderr",
     "output_type": "stream",
     "text": [
      "Epoch 77, global step 3900: 'train_loss' reached 3.16770 (best 3.16770), saving model to '/root/project_submission_haiperformer/modelling/lightning_logs/version_113/checkpoints/epoch=77-step=3900.ckpt' as top 1\n"
     ]
    },
    {
     "name": "stdout",
     "output_type": "stream",
     "text": [
      "Epoch 78: : 50it [00:08,  5.80it/s, v_num=113, train_loss=3.250]"
     ]
    },
    {
     "name": "stderr",
     "output_type": "stream",
     "text": [
      "Epoch 78, global step 3950: 'train_loss' was not in top 1\n"
     ]
    },
    {
     "name": "stdout",
     "output_type": "stream",
     "text": [
      "Epoch 79: : 50it [00:08,  5.68it/s, v_num=113, train_loss=3.130]"
     ]
    },
    {
     "name": "stderr",
     "output_type": "stream",
     "text": [
      "Epoch 79, global step 4000: 'train_loss' reached 3.12897 (best 3.12897), saving model to '/root/project_submission_haiperformer/modelling/lightning_logs/version_113/checkpoints/epoch=79-step=4000.ckpt' as top 1\n"
     ]
    },
    {
     "name": "stdout",
     "output_type": "stream",
     "text": [
      "Epoch 80: : 50it [00:08,  5.58it/s, v_num=113, train_loss=3.240]"
     ]
    },
    {
     "name": "stderr",
     "output_type": "stream",
     "text": [
      "Epoch 80, global step 4050: 'train_loss' was not in top 1\n"
     ]
    },
    {
     "name": "stdout",
     "output_type": "stream",
     "text": [
      "Epoch 81: : 50it [00:08,  5.72it/s, v_num=113, train_loss=3.250]"
     ]
    },
    {
     "name": "stderr",
     "output_type": "stream",
     "text": [
      "Epoch 81, global step 4100: 'train_loss' was not in top 1\n"
     ]
    },
    {
     "name": "stdout",
     "output_type": "stream",
     "text": [
      "Epoch 82: : 50it [00:08,  5.66it/s, v_num=113, train_loss=3.210]"
     ]
    },
    {
     "name": "stderr",
     "output_type": "stream",
     "text": [
      "Epoch 82, global step 4150: 'train_loss' was not in top 1\n"
     ]
    },
    {
     "name": "stdout",
     "output_type": "stream",
     "text": [
      "Epoch 83: : 50it [00:08,  5.63it/s, v_num=113, train_loss=3.240]"
     ]
    },
    {
     "name": "stderr",
     "output_type": "stream",
     "text": [
      "Epoch 83, global step 4200: 'train_loss' was not in top 1\n"
     ]
    },
    {
     "name": "stdout",
     "output_type": "stream",
     "text": [
      "Epoch 84: : 50it [00:08,  5.57it/s, v_num=113, train_loss=3.210]"
     ]
    },
    {
     "name": "stderr",
     "output_type": "stream",
     "text": [
      "Epoch 84, global step 4250: 'train_loss' was not in top 1\n"
     ]
    },
    {
     "name": "stdout",
     "output_type": "stream",
     "text": [
      "Epoch 85: : 50it [00:08,  5.61it/s, v_num=113, train_loss=3.320]"
     ]
    },
    {
     "name": "stderr",
     "output_type": "stream",
     "text": [
      "Epoch 85, global step 4300: 'train_loss' was not in top 1\n"
     ]
    },
    {
     "name": "stdout",
     "output_type": "stream",
     "text": [
      "Epoch 86: : 50it [00:08,  5.77it/s, v_num=113, train_loss=3.220]"
     ]
    },
    {
     "name": "stderr",
     "output_type": "stream",
     "text": [
      "Epoch 86, global step 4350: 'train_loss' was not in top 1\n"
     ]
    },
    {
     "name": "stdout",
     "output_type": "stream",
     "text": [
      "Epoch 87: : 50it [00:09,  5.54it/s, v_num=113, train_loss=3.200]"
     ]
    },
    {
     "name": "stderr",
     "output_type": "stream",
     "text": [
      "Epoch 87, global step 4400: 'train_loss' was not in top 1\n"
     ]
    },
    {
     "name": "stdout",
     "output_type": "stream",
     "text": [
      "Epoch 88: : 50it [00:09,  5.29it/s, v_num=113, train_loss=3.160]"
     ]
    },
    {
     "name": "stderr",
     "output_type": "stream",
     "text": [
      "Epoch 88, global step 4450: 'train_loss' was not in top 1\n"
     ]
    },
    {
     "name": "stdout",
     "output_type": "stream",
     "text": [
      "Epoch 89: : 50it [00:09,  5.49it/s, v_num=113, train_loss=3.200]"
     ]
    },
    {
     "name": "stderr",
     "output_type": "stream",
     "text": [
      "Epoch 89, global step 4500: 'train_loss' was not in top 1\n"
     ]
    },
    {
     "name": "stdout",
     "output_type": "stream",
     "text": [
      "Epoch 90: : 50it [00:09,  5.54it/s, v_num=113, train_loss=3.210]"
     ]
    },
    {
     "name": "stderr",
     "output_type": "stream",
     "text": [
      "Epoch 90, global step 4550: 'train_loss' was not in top 1\n"
     ]
    },
    {
     "name": "stdout",
     "output_type": "stream",
     "text": [
      "Epoch 91: : 50it [00:08,  6.14it/s, v_num=113, train_loss=3.140]"
     ]
    },
    {
     "name": "stderr",
     "output_type": "stream",
     "text": [
      "Epoch 91, global step 4600: 'train_loss' was not in top 1\n"
     ]
    },
    {
     "name": "stdout",
     "output_type": "stream",
     "text": [
      "Epoch 92: : 50it [00:08,  6.08it/s, v_num=113, train_loss=3.170]"
     ]
    },
    {
     "name": "stderr",
     "output_type": "stream",
     "text": [
      "Epoch 92, global step 4650: 'train_loss' was not in top 1\n"
     ]
    },
    {
     "name": "stdout",
     "output_type": "stream",
     "text": [
      "Epoch 93: : 50it [00:09,  5.55it/s, v_num=113, train_loss=3.160]"
     ]
    },
    {
     "name": "stderr",
     "output_type": "stream",
     "text": [
      "Epoch 93, global step 4700: 'train_loss' was not in top 1\n"
     ]
    },
    {
     "name": "stdout",
     "output_type": "stream",
     "text": [
      "Epoch 94: : 50it [00:08,  5.82it/s, v_num=113, train_loss=3.190]"
     ]
    },
    {
     "name": "stderr",
     "output_type": "stream",
     "text": [
      "Epoch 94, global step 4750: 'train_loss' was not in top 1\n"
     ]
    },
    {
     "name": "stdout",
     "output_type": "stream",
     "text": [
      "Epoch 95: : 50it [00:08,  5.66it/s, v_num=113, train_loss=3.170]"
     ]
    },
    {
     "name": "stderr",
     "output_type": "stream",
     "text": [
      "Epoch 95, global step 4800: 'train_loss' was not in top 1\n"
     ]
    },
    {
     "name": "stdout",
     "output_type": "stream",
     "text": [
      "Epoch 96: : 50it [00:08,  5.93it/s, v_num=113, train_loss=3.210]"
     ]
    },
    {
     "name": "stderr",
     "output_type": "stream",
     "text": [
      "Epoch 96, global step 4850: 'train_loss' was not in top 1\n"
     ]
    },
    {
     "name": "stdout",
     "output_type": "stream",
     "text": [
      "Epoch 97: : 50it [00:08,  5.82it/s, v_num=113, train_loss=3.230]"
     ]
    },
    {
     "name": "stderr",
     "output_type": "stream",
     "text": [
      "Epoch 97, global step 4900: 'train_loss' was not in top 1\n"
     ]
    },
    {
     "name": "stdout",
     "output_type": "stream",
     "text": [
      "Epoch 98: : 50it [00:08,  5.56it/s, v_num=113, train_loss=3.200]"
     ]
    },
    {
     "name": "stderr",
     "output_type": "stream",
     "text": [
      "Epoch 98, global step 4950: 'train_loss' was not in top 1\n"
     ]
    },
    {
     "name": "stdout",
     "output_type": "stream",
     "text": [
      "Epoch 99: : 50it [00:08,  5.67it/s, v_num=113, train_loss=3.220]"
     ]
    },
    {
     "name": "stderr",
     "output_type": "stream",
     "text": [
      "Epoch 99, global step 5000: 'train_loss' was not in top 1\n",
      "`Trainer.fit` stopped: `max_epochs=100` reached.\n"
     ]
    },
    {
     "name": "stdout",
     "output_type": "stream",
     "text": [
      "Epoch 99: : 50it [00:08,  5.63it/s, v_num=113, train_loss=3.220]\n"
     ]
    },
    {
     "name": "stderr",
     "output_type": "stream",
     "text": [
      "\n",
      "Running evaluation: 1it [00:00,  7.13it/s]\n"
     ]
    }
   ],
   "source": [
    "# Start Experiment\n",
    "forecasts, tss, agg_metrics = run_experiment(\n",
    "    input_paths=input_paths,\n",
    "    target_col=target_col,\n",
    "    prediction_length=prediction_length,\n",
    "    windows=windows,\n",
    "    offset = offset,\n",
    "    past_rts_col=past_rts_col,\n",
    "    estimator=deepar_estimator,\n",
    ")"
   ]
  },
  {
   "cell_type": "code",
   "execution_count": 79,
   "id": "72237209-08ae-42ba-af3f-4c4a6028f344",
   "metadata": {
    "tags": []
   },
   "outputs": [
    {
     "data": {
      "image/png": "[encoded data removed]",
      "text/plain": [
       "<Figure size 432x288 with 1 Axes>"
      ]
     },
     "metadata": {
      "needs_background": "light"
     },
     "output_type": "display_data"
    }
   ],
   "source": [
    "# Plot forecast\n",
    "plot_forecast(\n",
    "    tss=tss, \n",
    "    forecasts=forecasts, \n",
    "    path=\"./8year_test.svg\",\n",
    ")"
   ]
  },
  {
   "cell_type": "code",
   "execution_count": 80,
   "id": "4cd98f23-0253-4e67-b0ba-1fb9f5653190",
   "metadata": {
    "tags": []
   },
   "outputs": [],
   "source": [
    "import pickle\n",
    "\n",
    "with open('8year_test_tss.pkl', 'wb') as outp:\n",
    "    pickle.dump(tss, outp, pickle.HIGHEST_PROTOCOL)\n",
    "\n",
    "with open('8year_test_forecasts.pkl', 'wb') as outp:\n",
    "    pickle.dump(forecasts, outp, pickle.HIGHEST_PROTOCOL)"
   ]
  },
  {
   "cell_type": "code",
   "execution_count": 81,
   "id": "a36dbe32-57b9-4d92-abc5-591a9948e7e7",
   "metadata": {},
   "outputs": [],
   "source": [
    "# Add experiment to database store\n",
    "experiment_config = Forecast_Experiment(\n",
    "    model = 'torch_deepar_8year_v6',\n",
    "    version = version,\n",
    "    data_config = {\n",
    "        'target':target_col,\n",
    "        'past_rts_col':past_rts_col,\n",
    "        'windows':windows,\n",
    "    },\n",
    "    model_config = {\n",
    "        'epochs':max_epochs,\n",
    "        'prediction_length':prediction_length,\n",
    "        'num_layers':num_layers,\n",
    "        'hidden_size':hidden_size,\n",
    "        'context_length':context_length,\n",
    "        'lr':lr,\n",
    "        'weight_decay':weight_decay,\n",
    "    },\n",
    "    MASE = agg_metrics['MASE'],\n",
    "    MAPE = agg_metrics['MAPE'],\n",
    "    RMSE = agg_metrics['RMSE'],\n",
    "    wQL_10 = agg_metrics['wQuantileLoss[0.1]'],\n",
    "    wQL_50 = agg_metrics['wQuantileLoss[0.5]'],\n",
    "    wQL_90 = agg_metrics['wQuantileLoss[0.9]'],\n",
    "    avg_wQL = agg_metrics['mean_wQuantileLoss']\n",
    ")\n",
    "session.add(experiment_config)\n",
    "session.commit()"
   ]
  },
  {
   "cell_type": "markdown",
   "id": "ab88f6d4-e890-41bb-9ab4-3a9523b18c30",
   "metadata": {
    "jp-MarkdownHeadingCollapsed": true,
    "tags": []
   },
   "source": [
    "## DeepState ([mx](https://github.com/awslabs/gluonts/blob/dev/src/gluonts/mx/model/deepstate/_estimator.py))"
   ]
  },
  {
   "cell_type": "markdown",
   "id": "827b8258-5a20-4598-a301-b91465d1cdcd",
   "metadata": {},
   "source": [
    "DeepState is a novel approach to probabilistic time series forecasting that combines state space models with deep learning. By parametrizing a per-time-series linear state space model with a jointly-learned recurrent neural network, our method retains desired properties of state space models such as data efficiency and interpretability, while making use of the ability to learn complex patterns from raw data offered by deep learning approaches."
   ]
  },
  {
   "cell_type": "code",
   "execution_count": 9,
   "id": "44abff25-80bb-4ebe-a376-d1e8312f6479",
   "metadata": {
    "tags": []
   },
   "outputs": [],
   "source": [
    "from gluonts.mx import DeepStateEstimator\n",
    "from gluonts.mx import Trainer"
   ]
  },
  {
   "cell_type": "code",
   "execution_count": 10,
   "id": "3fb5510f-278b-48b8-9e93-6f955156b850",
   "metadata": {
    "tags": []
   },
   "outputs": [],
   "source": [
    "# Data specs\n",
    "input_paths = [\n",
    "    \"../data_engineering/financial_ts/indices.csv\",\n",
    "    \"../data_engineering/financial_ts/ww_gdp.csv\",\n",
    "    \"../data_engineering/timeseries_data/ts_dgelt_events.csv\"\n",
    "]\n",
    "target_col = 'ts_MSCI_World'\n",
    "with open('./config/past_rts_cols.json', 'r') as fp:\n",
    "    past_rts_col = json.load(fp)['version_1']\n",
    "windows = 1\n",
    "\n",
    "# Estimator specs\n",
    "version = 1\n",
    "prediction_length=56\n",
    "num_layers=2\n",
    "hidden_size=20\n",
    "\n",
    "# Trainer specs\n",
    "max_epochs = 100\n",
    "lr = 1e-1\n",
    "weight_decay = 1e-4"
   ]
  },
  {
   "cell_type": "code",
   "execution_count": 11,
   "id": "990009b6-8107-4f2d-a7eb-d0b013f4048f",
   "metadata": {
    "tags": []
   },
   "outputs": [],
   "source": [
    "# Define estimator\n",
    "deepstate_estimator = DeepStateEstimator(\n",
    "    prediction_length=prediction_length,\n",
    "    num_layers=num_layers, \n",
    "    num_cells=hidden_size, \n",
    "    use_feat_static_cat=False,\n",
    "    cardinality=[],\n",
    "    trainer = Trainer(\n",
    "        epochs=max_epochs,\n",
    "        learning_rate=lr,\n",
    "        weight_decay=weight_decay,\n",
    "    ),\n",
    "    freq=\"W\",\n",
    ")"
   ]
  },
  {
   "cell_type": "code",
   "execution_count": null,
   "id": "f7e30987-b4de-41db-b228-d9bdaed3a658",
   "metadata": {
    "tags": []
   },
   "outputs": [
    {
     "name": "stderr",
     "output_type": "stream",
     "text": [
      "100%|██████████| 50/50 [01:40<00:00,  2.01s/it, epoch=1/100, avg_epoch_loss=6.5] \n",
      "100%|██████████| 50/50 [01:33<00:00,  1.86s/it, epoch=2/100, avg_epoch_loss=6.13]\n",
      "100%|██████████| 50/50 [01:33<00:00,  1.87s/it, epoch=3/100, avg_epoch_loss=5.97]\n",
      "100%|██████████| 50/50 [01:31<00:00,  1.82s/it, epoch=4/100, avg_epoch_loss=5.95]\n",
      "100%|██████████| 50/50 [01:30<00:00,  1.81s/it, epoch=5/100, avg_epoch_loss=5.9] \n",
      "100%|██████████| 50/50 [01:33<00:00,  1.86s/it, epoch=6/100, avg_epoch_loss=5.89]\n",
      "100%|██████████| 50/50 [01:33<00:00,  1.87s/it, epoch=7/100, avg_epoch_loss=5.77]\n",
      "100%|██████████| 50/50 [01:33<00:00,  1.86s/it, epoch=8/100, avg_epoch_loss=5.73]\n",
      "100%|██████████| 50/50 [01:33<00:00,  1.88s/it, epoch=9/100, avg_epoch_loss=5.65]\n",
      "100%|██████████| 50/50 [01:32<00:00,  1.86s/it, epoch=10/100, avg_epoch_loss=5.7] \n",
      "100%|██████████| 50/50 [01:29<00:00,  1.80s/it, epoch=11/100, avg_epoch_loss=5.6] \n",
      "100%|██████████| 50/50 [01:29<00:00,  1.80s/it, epoch=12/100, avg_epoch_loss=5.56]\n",
      "100%|██████████| 50/50 [01:29<00:00,  1.79s/it, epoch=13/100, avg_epoch_loss=5.64]\n",
      "100%|██████████| 50/50 [01:29<00:00,  1.80s/it, epoch=14/100, avg_epoch_loss=5.66]\n",
      "100%|██████████| 50/50 [01:30<00:00,  1.81s/it, epoch=15/100, avg_epoch_loss=5.5] \n",
      "100%|██████████| 50/50 [01:29<00:00,  1.80s/it, epoch=16/100, avg_epoch_loss=5.49]\n",
      "100%|██████████| 50/50 [01:29<00:00,  1.79s/it, epoch=17/100, avg_epoch_loss=5.51]\n",
      "100%|██████████| 50/50 [01:30<00:00,  1.80s/it, epoch=18/100, avg_epoch_loss=5.89]\n",
      "100%|██████████| 50/50 [01:30<00:00,  1.81s/it, epoch=19/100, avg_epoch_loss=5.75]\n",
      "100%|██████████| 50/50 [01:30<00:00,  1.80s/it, epoch=20/100, avg_epoch_loss=5.82]\n",
      "100%|██████████| 50/50 [01:29<00:00,  1.80s/it, epoch=21/100, avg_epoch_loss=5.74]\n",
      "100%|██████████| 50/50 [01:30<00:00,  1.81s/it, epoch=22/100, avg_epoch_loss=5.69]\n",
      "100%|██████████| 50/50 [01:30<00:00,  1.82s/it, epoch=23/100, avg_epoch_loss=5.64]\n",
      "100%|██████████| 50/50 [01:29<00:00,  1.80s/it, epoch=24/100, avg_epoch_loss=5.56]\n",
      "100%|██████████| 50/50 [01:30<00:00,  1.81s/it, epoch=26/100, avg_epoch_loss=5.54]\n",
      "100%|██████████| 50/50 [01:33<00:00,  1.87s/it, epoch=27/100, avg_epoch_loss=5.44]\n",
      "100%|██████████| 50/50 [01:33<00:00,  1.88s/it, epoch=28/100, avg_epoch_loss=5.32]\n",
      "100%|██████████| 50/50 [01:33<00:00,  1.86s/it, epoch=29/100, avg_epoch_loss=5.22]\n",
      "100%|██████████| 50/50 [01:33<00:00,  1.87s/it, epoch=30/100, avg_epoch_loss=5.18]\n",
      "100%|██████████| 50/50 [01:32<00:00,  1.85s/it, epoch=31/100, avg_epoch_loss=5.18]\n",
      "100%|██████████| 50/50 [01:31<00:00,  1.83s/it, epoch=32/100, avg_epoch_loss=5.11]\n",
      "100%|██████████| 50/50 [01:30<00:00,  1.82s/it, epoch=33/100, avg_epoch_loss=5.11]\n",
      "100%|██████████| 50/50 [01:30<00:00,  1.81s/it, epoch=34/100, avg_epoch_loss=5.02]\n",
      "100%|██████████| 50/50 [01:30<00:00,  1.81s/it, epoch=35/100, avg_epoch_loss=5.04]\n",
      "100%|██████████| 50/50 [01:29<00:00,  1.80s/it, epoch=36/100, avg_epoch_loss=4.89]\n",
      "100%|██████████| 50/50 [01:29<00:00,  1.79s/it, epoch=37/100, avg_epoch_loss=4.89]\n",
      "100%|██████████| 50/50 [01:30<00:00,  1.80s/it, epoch=38/100, avg_epoch_loss=5.84]\n",
      "100%|██████████| 50/50 [01:29<00:00,  1.80s/it, epoch=39/100, avg_epoch_loss=5.93]\n",
      "100%|██████████| 50/50 [01:29<00:00,  1.78s/it, epoch=40/100, avg_epoch_loss=5.65]\n",
      "100%|██████████| 50/50 [01:29<00:00,  1.80s/it, epoch=41/100, avg_epoch_loss=5.63]\n",
      "100%|██████████| 50/50 [01:33<00:00,  1.88s/it, epoch=42/100, avg_epoch_loss=5.51]\n",
      "100%|██████████| 50/50 [01:34<00:00,  1.88s/it, epoch=43/100, avg_epoch_loss=5.45]\n",
      "100%|██████████| 50/50 [01:34<00:00,  1.88s/it, epoch=44/100, avg_epoch_loss=5.43]\n",
      "100%|██████████| 50/50 [01:31<00:00,  1.84s/it, epoch=45/100, avg_epoch_loss=5.35]\n",
      "100%|██████████| 50/50 [01:31<00:00,  1.84s/it, epoch=46/100, avg_epoch_loss=5.34]\n",
      "100%|██████████| 50/50 [01:33<00:00,  1.87s/it, epoch=47/100, avg_epoch_loss=5.33]\n",
      "100%|██████████| 50/50 [01:30<00:00,  1.81s/it, epoch=48/100, avg_epoch_loss=5.19]\n",
      "100%|██████████| 50/50 [01:32<00:00,  1.85s/it, epoch=49/100, avg_epoch_loss=5.11]\n",
      "100%|██████████| 50/50 [01:31<00:00,  1.83s/it, epoch=50/100, avg_epoch_loss=4.94]\n",
      "100%|██████████| 50/50 [01:33<00:00,  1.88s/it, epoch=51/100, avg_epoch_loss=4.85]\n",
      "100%|██████████| 50/50 [01:33<00:00,  1.87s/it, epoch=52/100, avg_epoch_loss=4.76]\n",
      "100%|██████████| 50/50 [01:33<00:00,  1.86s/it, epoch=53/100, avg_epoch_loss=4.7] \n",
      "100%|██████████| 50/50 [01:34<00:00,  1.88s/it, epoch=54/100, avg_epoch_loss=5.28]\n",
      "100%|██████████| 50/50 [01:34<00:00,  1.89s/it, epoch=55/100, avg_epoch_loss=5.3] \n",
      "100%|██████████| 50/50 [01:35<00:00,  1.90s/it, epoch=56/100, avg_epoch_loss=5.17]\n",
      "100%|██████████| 50/50 [01:36<00:00,  1.93s/it, epoch=57/100, avg_epoch_loss=5.13]\n",
      "100%|██████████| 50/50 [01:35<00:00,  1.92s/it, epoch=58/100, avg_epoch_loss=5.09]\n",
      "100%|██████████| 50/50 [01:34<00:00,  1.90s/it, epoch=59/100, avg_epoch_loss=5.08]\n",
      "100%|██████████| 50/50 [01:34<00:00,  1.89s/it, epoch=60/100, avg_epoch_loss=5.03]\n",
      "100%|██████████| 50/50 [01:34<00:00,  1.89s/it, epoch=61/100, avg_epoch_loss=4.99]\n",
      "100%|██████████| 50/50 [01:35<00:00,  1.90s/it, epoch=62/100, avg_epoch_loss=4.92]\n",
      "100%|██████████| 50/50 [01:32<00:00,  1.84s/it, epoch=63/100, avg_epoch_loss=4.87]\n",
      "100%|██████████| 50/50 [01:33<00:00,  1.86s/it, epoch=64/100, avg_epoch_loss=4.71]\n",
      "100%|██████████| 50/50 [01:33<00:00,  1.86s/it, epoch=65/100, avg_epoch_loss=4.64]\n",
      "100%|██████████| 50/50 [01:33<00:00,  1.86s/it, epoch=66/100, avg_epoch_loss=4.58]\n",
      "100%|██████████| 50/50 [01:33<00:00,  1.87s/it, epoch=67/100, avg_epoch_loss=4.54]\n",
      "100%|██████████| 50/50 [01:32<00:00,  1.86s/it, epoch=68/100, avg_epoch_loss=4.5] \n",
      "100%|██████████| 50/50 [01:30<00:00,  1.81s/it, epoch=69/100, avg_epoch_loss=4.46]\n",
      "100%|██████████| 50/50 [01:29<00:00,  1.80s/it, epoch=74/100, avg_epoch_loss=4.3] \n",
      "100%|██████████| 50/50 [01:29<00:00,  1.80s/it, epoch=75/100, avg_epoch_loss=4.31]\n",
      "100%|██████████| 50/50 [01:29<00:00,  1.80s/it, epoch=76/100, avg_epoch_loss=4.28]\n",
      "100%|██████████| 50/50 [01:29<00:00,  1.79s/it, epoch=77/100, avg_epoch_loss=4.24]\n",
      "100%|██████████| 50/50 [01:29<00:00,  1.79s/it, epoch=78/100, avg_epoch_loss=4.24]\n",
      "100%|██████████| 50/50 [01:30<00:00,  1.81s/it, epoch=79/100, avg_epoch_loss=4.21]\n",
      "100%|██████████| 50/50 [01:33<00:00,  1.88s/it, epoch=80/100, avg_epoch_loss=4.2] \n",
      "100%|██████████| 50/50 [01:33<00:00,  1.86s/it, epoch=81/100, avg_epoch_loss=4.17]\n",
      "100%|██████████| 50/50 [01:33<00:00,  1.86s/it, epoch=82/100, avg_epoch_loss=4.13]\n",
      "100%|██████████| 50/50 [01:31<00:00,  1.84s/it, epoch=83/100, avg_epoch_loss=4.13]\n",
      "100%|██████████| 50/50 [01:33<00:00,  1.87s/it, epoch=84/100, avg_epoch_loss=4.1] \n",
      "100%|██████████| 50/50 [01:33<00:00,  1.87s/it, epoch=85/100, avg_epoch_loss=4.07]\n",
      "100%|██████████| 50/50 [01:34<00:00,  1.88s/it, epoch=86/100, avg_epoch_loss=4.23]\n",
      "100%|██████████| 50/50 [01:29<00:00,  1.79s/it, epoch=87/100, avg_epoch_loss=4.06]\n",
      "100%|██████████| 50/50 [01:32<00:00,  1.85s/it, epoch=88/100, avg_epoch_loss=3.98]\n",
      "100%|██████████| 50/50 [01:33<00:00,  1.86s/it, epoch=89/100, avg_epoch_loss=4.27]\n",
      "100%|██████████| 50/50 [01:33<00:00,  1.87s/it, epoch=90/100, avg_epoch_loss=5.43]\n",
      "100%|██████████| 50/50 [01:46<00:00,  2.13s/it, epoch=91/100, avg_epoch_loss=5.1] \n",
      "100%|██████████| 50/50 [01:47<00:00,  2.15s/it, epoch=92/100, avg_epoch_loss=4.98]\n",
      "100%|██████████| 50/50 [01:49<00:00,  2.19s/it, epoch=93/100, avg_epoch_loss=4.88]\n",
      "100%|██████████| 50/50 [01:47<00:00,  2.15s/it, epoch=94/100, avg_epoch_loss=4.78]\n",
      "100%|██████████| 50/50 [01:48<00:00,  2.16s/it, epoch=95/100, avg_epoch_loss=4.71]\n",
      "100%|██████████| 50/50 [01:46<00:00,  2.13s/it, epoch=96/100, avg_epoch_loss=4.64]\n",
      "100%|██████████| 50/50 [01:39<00:00,  1.98s/it, epoch=97/100, avg_epoch_loss=4.57]\n",
      "100%|██████████| 50/50 [01:30<00:00,  1.81s/it, epoch=98/100, avg_epoch_loss=4.38]\n",
      "100%|██████████| 50/50 [01:30<00:00,  1.80s/it, epoch=99/100, avg_epoch_loss=4.19]\n",
      "100%|██████████| 50/50 [01:33<00:00,  1.87s/it, epoch=100/100, avg_epoch_loss=4.13]\n",
      "Running evaluation: 1it [00:00,  3.58it/s]\n"
     ]
    }
   ],
   "source": [
    "# Start Experiment\n",
    "forecasts, tss, agg_metrics = run_experiment(\n",
    "    input_paths=input_paths,\n",
    "    target_col=target_col,\n",
    "    prediction_length=prediction_length,\n",
    "    windows=windows,\n",
    "    past_rts_col=past_rts_col,\n",
    "    estimator=deepstate_estimator,\n",
    ")"
   ]
  },
  {
   "cell_type": "code",
   "execution_count": 13,
   "id": "5799173a-ed67-4c22-a577-6942e6f28745",
   "metadata": {
    "tags": []
   },
   "outputs": [
    {
     "data": {
      "image/png": "[encoded data removed]",
      "text/plain": [
       "<Figure size 432x288 with 1 Axes>"
      ]
     },
     "metadata": {
      "needs_background": "light"
     },
     "output_type": "display_data"
    }
   ],
   "source": [
    "# Plot forecast\n",
    "plot_forecast(\n",
    "    tss=tss, \n",
    "    forecasts=forecasts, \n",
    "    # path=\"./plot.svg\",\n",
    ")"
   ]
  },
  {
   "cell_type": "code",
   "execution_count": 14,
   "id": "938d84d4-10c8-45bb-bf0e-d823ff04c327",
   "metadata": {
    "tags": []
   },
   "outputs": [],
   "source": [
    "# Add experiment to database store\n",
    "experiment_config = Forecast_Experiment(\n",
    "    model = 'mx_deepstate',\n",
    "    version = version,\n",
    "    data_config = {\n",
    "        'target':target_col,\n",
    "        'past_rts_col':past_rts_col,\n",
    "        'windows':windows,\n",
    "    },\n",
    "    model_config = {\n",
    "        'epochs':max_epochs,\n",
    "        'prediction_length':prediction_length,\n",
    "        'num_layers':num_layers,\n",
    "        'hidden_size':hidden_size,\n",
    "        'lr':lr,\n",
    "        'weight_decay':weight_decay,\n",
    "    },\n",
    "    MASE = agg_metrics['MASE'],\n",
    "    MAPE = agg_metrics['MAPE'],\n",
    "    RMSE = agg_metrics['RMSE'],\n",
    "    wQL_10 = agg_metrics['wQuantileLoss[0.1]'],\n",
    "    wQL_50 = agg_metrics['wQuantileLoss[0.5]'],\n",
    "    wQL_90 = agg_metrics['wQuantileLoss[0.9]'],\n",
    "    avg_wQL = agg_metrics['mean_wQuantileLoss']\n",
    ")\n",
    "session.add(experiment_config)\n",
    "session.commit() "
   ]
  },
  {
   "cell_type": "markdown",
   "id": "e1cbfe2d-c175-4846-8999-8c56aca7cbcf",
   "metadata": {
    "jp-MarkdownHeadingCollapsed": true,
    "tags": []
   },
   "source": [
    "## MQ-CNN ([mx](https://github.com/awslabs/gluonts/blob/dev/src/gluonts/mx/model/seq2seq/_mq_dnn_estimator.py))"
   ]
  },
  {
   "cell_type": "markdown",
   "id": "bbbc5d17-c691-4a4b-b57f-c82ef22ff9b2",
   "metadata": {},
   "source": [
    "MQ-CNN is a general probabilistic multi-step time series regression model. It exploits the expressiveness and temporal nature of Sequence-to-Sequence Neural Networks (e.g. recurrent and convolutional structures), the nonparametric nature of Quantile Regression and the efficiency of Direct Multi-Horizon Forecasting.\n"
   ]
  },
  {
   "cell_type": "code",
   "execution_count": 6,
   "id": "8430f487-7d10-4a37-ba99-8230db875ffc",
   "metadata": {
    "tags": []
   },
   "outputs": [],
   "source": [
    "from gluonts.mx import MQCNNEstimator\n",
    "from gluonts.mx import Trainer\n",
    "import mxnet as mx"
   ]
  },
  {
   "cell_type": "code",
   "execution_count": 7,
   "id": "cb96de68-bdc3-46d1-b70a-9d716ed17d3d",
   "metadata": {},
   "outputs": [],
   "source": [
    "# Data specs\n",
    "input_paths = [\n",
    "    \"../data_engineering/financial_ts/indices.csv\",\n",
    "    \"../data_engineering/financial_ts/ww_gdp.csv\",\n",
    "    \"../data_engineering/timeseries_data/ts_dgelt_events.csv\"\n",
    "]\n",
    "target_col = 'ts_MSCI_World'\n",
    "with open('./config/past_rts_cols.json', 'r') as fp:\n",
    "    past_rts_col = json.load(fp)['version_1']\n",
    "windows = 1\n",
    "\n",
    "# Estimator specs\n",
    "version = 1\n",
    "prediction_length=56\n",
    "decoder_mlp_dim_seq=[30]\n",
    "channels_seq=[30,30,30]\n",
    "use_past_feat_dynamic_real=True\n",
    "context_length=50\n",
    "\n",
    "# Trainer specs\n",
    "max_epochs = 200\n",
    "lr = 1e-1\n",
    "weight_decay = 1e-4\n",
    "ctx = mx.cpu() # mx.gpu()"
   ]
  },
  {
   "cell_type": "code",
   "execution_count": 8,
   "id": "4756d1e8-f9c3-498f-acd9-9adbeedaf8fa",
   "metadata": {
    "tags": []
   },
   "outputs": [],
   "source": [
    "mqcnn_estimator = MQCNNEstimator(\n",
    "    prediction_length=prediction_length,\n",
    "    channels_seq=channels_seq,  \n",
    "    use_past_feat_dynamic_real=use_past_feat_dynamic_real,\n",
    "    decoder_mlp_dim_seq=decoder_mlp_dim_seq, \n",
    "    context_length=context_length,\n",
    "    freq=\"W\",\n",
    "    trainer=Trainer(\n",
    "        ctx=ctx,\n",
    "        epochs=max_epochs,\n",
    "        learning_rate=lr,\n",
    "        weight_decay=weight_decay,\n",
    "    ),\n",
    ")"
   ]
  },
  {
   "cell_type": "code",
   "execution_count": null,
   "id": "d84ef8ff-8060-460c-8b53-2ea1f59dab3a",
   "metadata": {
    "tags": []
   },
   "outputs": [
    {
     "name": "stderr",
     "output_type": "stream",
     "text": [
      "100%|██████████| 50/50 [00:15<00:00,  3.24it/s, epoch=1/200, avg_epoch_loss=29]  \n",
      "100%|██████████| 50/50 [00:15<00:00,  3.23it/s, epoch=2/200, avg_epoch_loss=13]  \n",
      "100%|██████████| 50/50 [00:15<00:00,  3.22it/s, epoch=3/200, avg_epoch_loss=11.9]\n",
      "100%|██████████| 50/50 [00:15<00:00,  3.30it/s, epoch=4/200, avg_epoch_loss=13.8]\n",
      "100%|██████████| 50/50 [00:15<00:00,  3.28it/s, epoch=5/200, avg_epoch_loss=14.1]\n",
      "100%|██████████| 50/50 [00:15<00:00,  3.24it/s, epoch=6/200, avg_epoch_loss=14.6]\n",
      "100%|██████████| 50/50 [00:15<00:00,  3.14it/s, epoch=7/200, avg_epoch_loss=17]  \n",
      "100%|██████████| 50/50 [00:15<00:00,  3.27it/s, epoch=8/200, avg_epoch_loss=18.1]\n",
      "100%|██████████| 50/50 [00:15<00:00,  3.25it/s, epoch=9/200, avg_epoch_loss=17.8]\n",
      "100%|██████████| 50/50 [00:14<00:00,  3.35it/s, epoch=10/200, avg_epoch_loss=16.6]\n",
      "100%|██████████| 50/50 [00:15<00:00,  3.18it/s, epoch=11/200, avg_epoch_loss=17]  \n",
      "100%|██████████| 50/50 [00:15<00:00,  3.21it/s, epoch=12/200, avg_epoch_loss=16.1]\n",
      "100%|██████████| 50/50 [00:15<00:00,  3.24it/s, epoch=13/200, avg_epoch_loss=16.8]\n",
      "100%|██████████| 50/50 [00:15<00:00,  3.28it/s, epoch=14/200, avg_epoch_loss=11.6]\n",
      "100%|██████████| 50/50 [00:15<00:00,  3.24it/s, epoch=15/200, avg_epoch_loss=10.3]\n",
      "100%|██████████| 50/50 [00:15<00:00,  3.28it/s, epoch=16/200, avg_epoch_loss=9.93]\n",
      "100%|██████████| 50/50 [00:15<00:00,  3.28it/s, epoch=17/200, avg_epoch_loss=10.5]\n",
      "100%|██████████| 50/50 [00:15<00:00,  3.21it/s, epoch=18/200, avg_epoch_loss=10.8]\n",
      "100%|██████████| 50/50 [00:15<00:00,  3.15it/s, epoch=19/200, avg_epoch_loss=11]\n",
      "100%|██████████| 50/50 [00:14<00:00,  3.37it/s, epoch=20/200, avg_epoch_loss=11.2]\n",
      "100%|██████████| 50/50 [00:15<00:00,  3.26it/s, epoch=21/200, avg_epoch_loss=11.8]\n",
      "100%|██████████| 50/50 [00:15<00:00,  3.24it/s, epoch=22/200, avg_epoch_loss=11.6]\n",
      "100%|██████████| 50/50 [00:15<00:00,  3.26it/s, epoch=23/200, avg_epoch_loss=11.7]\n",
      "100%|██████████| 50/50 [00:15<00:00,  3.32it/s, epoch=24/200, avg_epoch_loss=12]  \n",
      "100%|██████████| 50/50 [00:15<00:00,  3.33it/s, epoch=25/200, avg_epoch_loss=11.2]\n",
      "100%|██████████| 50/50 [00:15<00:00,  3.27it/s, epoch=26/200, avg_epoch_loss=12.1]\n",
      "100%|██████████| 50/50 [00:15<00:00,  3.20it/s, epoch=27/200, avg_epoch_loss=8.51]\n",
      "100%|██████████| 50/50 [00:15<00:00,  3.15it/s, epoch=28/200, avg_epoch_loss=7.58]\n",
      "100%|██████████| 50/50 [00:16<00:00,  3.10it/s, epoch=29/200, avg_epoch_loss=7.28]\n",
      "100%|██████████| 50/50 [00:16<00:00,  3.00it/s, epoch=30/200, avg_epoch_loss=7.04]\n",
      "100%|██████████| 50/50 [00:16<00:00,  2.98it/s, epoch=31/200, avg_epoch_loss=7.34]\n",
      "100%|██████████| 50/50 [00:19<00:00,  2.54it/s, epoch=32/200, avg_epoch_loss=7.28]\n",
      "100%|██████████| 50/50 [00:28<00:00,  1.76it/s, epoch=33/200, avg_epoch_loss=6.82]\n",
      "100%|██████████| 50/50 [00:29<00:00,  1.69it/s, epoch=34/200, avg_epoch_loss=6.9] \n",
      "100%|██████████| 50/50 [00:30<00:00,  1.66it/s, epoch=35/200, avg_epoch_loss=7.12]\n",
      "100%|██████████| 50/50 [00:29<00:00,  1.67it/s, epoch=36/200, avg_epoch_loss=7.21]\n",
      "100%|██████████| 50/50 [00:30<00:00,  1.66it/s, epoch=37/200, avg_epoch_loss=7.41]\n",
      "100%|██████████| 50/50 [00:29<00:00,  1.68it/s, epoch=38/200, avg_epoch_loss=7.84]\n",
      "100%|██████████| 50/50 [00:30<00:00,  1.63it/s, epoch=39/200, avg_epoch_loss=7.07]\n",
      "100%|██████████| 50/50 [00:30<00:00,  1.65it/s, epoch=40/200, avg_epoch_loss=7.14]\n",
      "100%|██████████| 50/50 [00:30<00:00,  1.66it/s, epoch=41/200, avg_epoch_loss=7.06]\n",
      "100%|██████████| 50/50 [00:29<00:00,  1.67it/s, epoch=42/200, avg_epoch_loss=7.37]\n",
      "100%|██████████| 50/50 [00:30<00:00,  1.67it/s, epoch=43/200, avg_epoch_loss=7.06]\n",
      "100%|██████████| 50/50 [00:29<00:00,  1.68it/s, epoch=44/200, avg_epoch_loss=5.15]\n",
      "100%|██████████| 50/50 [00:29<00:00,  1.70it/s, epoch=45/200, avg_epoch_loss=4.59]\n",
      "100%|██████████| 50/50 [00:29<00:00,  1.68it/s, epoch=46/200, avg_epoch_loss=4.6] \n",
      "100%|██████████| 50/50 [00:30<00:00,  1.66it/s, epoch=47/200, avg_epoch_loss=4.57]\n",
      "100%|██████████| 50/50 [00:29<00:00,  1.67it/s, epoch=48/200, avg_epoch_loss=4.38]\n",
      "100%|██████████| 50/50 [00:29<00:00,  1.67it/s, epoch=49/200, avg_epoch_loss=4.21]\n",
      "100%|██████████| 50/50 [00:29<00:00,  1.67it/s, epoch=50/200, avg_epoch_loss=4.21]\n",
      "100%|██████████| 50/50 [00:30<00:00,  1.66it/s, epoch=51/200, avg_epoch_loss=4.29]\n",
      "100%|██████████| 50/50 [00:29<00:00,  1.68it/s, epoch=52/200, avg_epoch_loss=4.11]\n",
      "100%|██████████| 50/50 [00:29<00:00,  1.67it/s, epoch=53/200, avg_epoch_loss=4.32]\n",
      "100%|██████████| 50/50 [00:29<00:00,  1.72it/s, epoch=54/200, avg_epoch_loss=4.04]\n",
      "100%|██████████| 50/50 [00:29<00:00,  1.68it/s, epoch=55/200, avg_epoch_loss=4.15]\n",
      "100%|██████████| 50/50 [00:29<00:00,  1.67it/s, epoch=56/200, avg_epoch_loss=3.93]\n",
      "100%|██████████| 50/50 [00:29<00:00,  1.67it/s, epoch=57/200, avg_epoch_loss=3.92]\n",
      "100%|██████████| 50/50 [00:29<00:00,  1.70it/s, epoch=58/200, avg_epoch_loss=4.04]\n",
      "100%|██████████| 50/50 [00:29<00:00,  1.68it/s, epoch=59/200, avg_epoch_loss=3.91]\n",
      "100%|██████████| 50/50 [00:29<00:00,  1.69it/s, epoch=60/200, avg_epoch_loss=3.94]\n",
      "100%|██████████| 50/50 [00:29<00:00,  1.68it/s, epoch=61/200, avg_epoch_loss=3.73]\n",
      "100%|██████████| 50/50 [00:29<00:00,  1.67it/s, epoch=62/200, avg_epoch_loss=3.79]\n",
      "100%|██████████| 50/50 [00:29<00:00,  1.68it/s, epoch=63/200, avg_epoch_loss=3.94]\n",
      "100%|██████████| 50/50 [00:29<00:00,  1.67it/s, epoch=64/200, avg_epoch_loss=3.93]\n",
      "100%|██████████| 50/50 [00:29<00:00,  1.68it/s, epoch=65/200, avg_epoch_loss=3.87]\n",
      "100%|██████████| 50/50 [00:29<00:00,  1.68it/s, epoch=66/200, avg_epoch_loss=3.83]\n",
      "100%|██████████| 50/50 [00:30<00:00,  1.65it/s, epoch=67/200, avg_epoch_loss=3.84]\n",
      "100%|██████████| 50/50 [00:29<00:00,  1.69it/s, epoch=68/200, avg_epoch_loss=3.75]\n",
      "100%|██████████| 50/50 [00:29<00:00,  1.68it/s, epoch=69/200, avg_epoch_loss=3.86]\n",
      "100%|██████████| 50/50 [00:29<00:00,  1.69it/s, epoch=70/200, avg_epoch_loss=3.57]\n",
      "100%|██████████| 50/50 [00:30<00:00,  1.66it/s, epoch=71/200, avg_epoch_loss=3.67]\n",
      "100%|██████████| 50/50 [00:29<00:00,  1.68it/s, epoch=72/200, avg_epoch_loss=3.56]\n",
      "100%|██████████| 50/50 [00:29<00:00,  1.68it/s, epoch=73/200, avg_epoch_loss=3.66]\n",
      "100%|██████████| 50/50 [00:29<00:00,  1.67it/s, epoch=74/200, avg_epoch_loss=3.7] \n",
      "100%|██████████| 50/50 [00:29<00:00,  1.68it/s, epoch=75/200, avg_epoch_loss=3.71]\n",
      "100%|██████████| 50/50 [00:29<00:00,  1.68it/s, epoch=76/200, avg_epoch_loss=3.59]\n",
      "100%|██████████| 50/50 [00:30<00:00,  1.65it/s, epoch=77/200, avg_epoch_loss=3.57]\n",
      "100%|██████████| 50/50 [00:29<00:00,  1.67it/s, epoch=78/200, avg_epoch_loss=3.37]\n",
      "100%|██████████| 50/50 [00:29<00:00,  1.68it/s, epoch=79/200, avg_epoch_loss=3.43]\n",
      "100%|██████████| 50/50 [00:29<00:00,  1.67it/s, epoch=80/200, avg_epoch_loss=3.54]\n",
      "100%|██████████| 50/50 [00:29<00:00,  1.67it/s, epoch=81/200, avg_epoch_loss=3.5] \n",
      "100%|██████████| 50/50 [00:29<00:00,  1.69it/s, epoch=82/200, avg_epoch_loss=3.4] \n",
      "100%|██████████| 50/50 [00:29<00:00,  1.69it/s, epoch=83/200, avg_epoch_loss=3.52]\n",
      "100%|██████████| 50/50 [00:29<00:00,  1.70it/s, epoch=84/200, avg_epoch_loss=3.34]\n",
      "100%|██████████| 50/50 [00:29<00:00,  1.68it/s, epoch=85/200, avg_epoch_loss=3.24]\n",
      "100%|██████████| 50/50 [00:29<00:00,  1.69it/s, epoch=86/200, avg_epoch_loss=3.17]\n",
      "100%|██████████| 50/50 [00:29<00:00,  1.69it/s, epoch=87/200, avg_epoch_loss=3.35]\n",
      "100%|██████████| 50/50 [00:29<00:00,  1.67it/s, epoch=88/200, avg_epoch_loss=3.5] \n",
      "100%|██████████| 50/50 [00:29<00:00,  1.67it/s, epoch=89/200, avg_epoch_loss=3.28]\n",
      "100%|██████████| 50/50 [00:29<00:00,  1.68it/s, epoch=90/200, avg_epoch_loss=3.33]\n",
      "100%|██████████| 50/50 [00:30<00:00,  1.66it/s, epoch=91/200, avg_epoch_loss=3.26]\n",
      "100%|██████████| 50/50 [00:29<00:00,  1.68it/s, epoch=92/200, avg_epoch_loss=3.3] \n",
      "100%|██████████| 50/50 [00:29<00:00,  1.69it/s, epoch=93/200, avg_epoch_loss=3.26]\n",
      "100%|██████████| 50/50 [00:29<00:00,  1.71it/s, epoch=94/200, avg_epoch_loss=3.35]\n",
      "100%|██████████| 50/50 [00:29<00:00,  1.69it/s, epoch=95/200, avg_epoch_loss=3.34]\n",
      "100%|██████████| 50/50 [00:29<00:00,  1.69it/s, epoch=96/200, avg_epoch_loss=3.25]\n",
      "100%|██████████| 50/50 [00:29<00:00,  1.68it/s, epoch=97/200, avg_epoch_loss=2.5] \n",
      "100%|██████████| 50/50 [00:29<00:00,  1.71it/s, epoch=98/200, avg_epoch_loss=2.32]\n",
      "100%|██████████| 50/50 [00:29<00:00,  1.71it/s, epoch=99/200, avg_epoch_loss=2.34]\n",
      "100%|██████████| 50/50 [00:29<00:00,  1.69it/s, epoch=100/200, avg_epoch_loss=2.28]\n",
      "100%|██████████| 50/50 [00:29<00:00,  1.69it/s, epoch=101/200, avg_epoch_loss=2.27]\n",
      "100%|██████████| 50/50 [00:29<00:00,  1.70it/s, epoch=102/200, avg_epoch_loss=2.25]\n",
      "100%|██████████| 50/50 [00:29<00:00,  1.70it/s, epoch=103/200, avg_epoch_loss=2.2] \n",
      "100%|██████████| 50/50 [00:29<00:00,  1.68it/s, epoch=104/200, avg_epoch_loss=2.28]\n",
      "100%|██████████| 50/50 [00:28<00:00,  1.73it/s, epoch=105/200, avg_epoch_loss=2.31]\n",
      "100%|██████████| 50/50 [00:29<00:00,  1.68it/s, epoch=106/200, avg_epoch_loss=2.3] \n",
      "100%|██████████| 50/50 [00:29<00:00,  1.72it/s, epoch=107/200, avg_epoch_loss=2.3] \n",
      "100%|██████████| 50/50 [00:29<00:00,  1.68it/s, epoch=108/200, avg_epoch_loss=2.27]\n",
      "100%|██████████| 50/50 [00:29<00:00,  1.69it/s, epoch=109/200, avg_epoch_loss=2.29]\n",
      "100%|██████████| 50/50 [00:30<00:00,  1.67it/s, epoch=110/200, avg_epoch_loss=2.33]\n",
      "100%|██████████| 50/50 [00:29<00:00,  1.69it/s, epoch=111/200, avg_epoch_loss=2.23]\n",
      "100%|██████████| 50/50 [00:29<00:00,  1.69it/s, epoch=112/200, avg_epoch_loss=2.2] \n",
      "100%|██████████| 50/50 [00:28<00:00,  1.74it/s, epoch=113/200, avg_epoch_loss=2.22]\n",
      "100%|██████████| 50/50 [00:29<00:00,  1.70it/s, epoch=114/200, avg_epoch_loss=1.89]\n",
      "100%|██████████| 50/50 [00:28<00:00,  1.73it/s, epoch=115/200, avg_epoch_loss=1.81]\n",
      "100%|██████████| 50/50 [00:29<00:00,  1.69it/s, epoch=116/200, avg_epoch_loss=1.79]\n",
      "100%|██████████| 50/50 [00:29<00:00,  1.71it/s, epoch=117/200, avg_epoch_loss=1.78]\n",
      "100%|██████████| 50/50 [00:30<00:00,  1.66it/s, epoch=118/200, avg_epoch_loss=1.78]\n",
      "100%|██████████| 50/50 [00:29<00:00,  1.71it/s, epoch=119/200, avg_epoch_loss=1.81]\n",
      "100%|██████████| 50/50 [00:29<00:00,  1.68it/s, epoch=120/200, avg_epoch_loss=1.8] \n",
      "100%|██████████| 50/50 [00:29<00:00,  1.69it/s, epoch=121/200, avg_epoch_loss=1.79]\n",
      "100%|██████████| 50/50 [00:29<00:00,  1.69it/s, epoch=122/200, avg_epoch_loss=1.79]\n",
      "100%|██████████| 50/50 [00:29<00:00,  1.68it/s, epoch=123/200, avg_epoch_loss=1.78]\n",
      "100%|██████████| 50/50 [00:29<00:00,  1.69it/s, epoch=124/200, avg_epoch_loss=1.78]\n",
      "100%|██████████| 50/50 [00:29<00:00,  1.72it/s, epoch=125/200, avg_epoch_loss=1.78]\n",
      "100%|██████████| 50/50 [00:30<00:00,  1.66it/s, epoch=126/200, avg_epoch_loss=1.77]\n",
      "100%|██████████| 50/50 [00:29<00:00,  1.70it/s, epoch=127/200, avg_epoch_loss=1.77]\n",
      "100%|██████████| 50/50 [00:29<00:00,  1.69it/s, epoch=128/200, avg_epoch_loss=1.77]\n",
      "100%|██████████| 50/50 [00:29<00:00,  1.70it/s, epoch=129/200, avg_epoch_loss=1.78]\n",
      "100%|██████████| 50/50 [00:29<00:00,  1.69it/s, epoch=130/200, avg_epoch_loss=1.75]\n",
      "100%|██████████| 50/50 [00:29<00:00,  1.69it/s, epoch=131/200, avg_epoch_loss=1.73]\n",
      "100%|██████████| 50/50 [00:29<00:00,  1.69it/s, epoch=132/200, avg_epoch_loss=1.75]\n",
      "100%|██████████| 50/50 [00:28<00:00,  1.73it/s, epoch=133/200, avg_epoch_loss=1.69]\n",
      "100%|██████████| 50/50 [00:29<00:00,  1.68it/s, epoch=134/200, avg_epoch_loss=1.73]\n",
      "100%|██████████| 50/50 [00:29<00:00,  1.68it/s, epoch=135/200, avg_epoch_loss=1.75]\n",
      "100%|██████████| 50/50 [00:30<00:00,  1.65it/s, epoch=136/200, avg_epoch_loss=1.77]\n",
      "100%|██████████| 50/50 [00:29<00:00,  1.69it/s, epoch=137/200, avg_epoch_loss=1.79]\n",
      "100%|██████████| 50/50 [00:29<00:00,  1.68it/s, epoch=138/200, avg_epoch_loss=1.77]\n",
      "100%|██████████| 50/50 [00:29<00:00,  1.72it/s, epoch=139/200, avg_epoch_loss=1.77]\n",
      "100%|██████████| 50/50 [00:29<00:00,  1.71it/s, epoch=140/200, avg_epoch_loss=1.77]\n",
      "100%|██████████| 50/50 [00:29<00:00,  1.71it/s, epoch=141/200, avg_epoch_loss=1.79]\n",
      "100%|██████████| 50/50 [00:29<00:00,  1.68it/s, epoch=142/200, avg_epoch_loss=1.76]\n",
      "100%|██████████| 50/50 [00:29<00:00,  1.69it/s, epoch=143/200, avg_epoch_loss=1.78]\n",
      "100%|██████████| 50/50 [00:29<00:00,  1.68it/s, epoch=144/200, avg_epoch_loss=1.6] \n",
      "100%|██████████| 50/50 [00:29<00:00,  1.70it/s, epoch=145/200, avg_epoch_loss=1.56]\n",
      "100%|██████████| 50/50 [00:29<00:00,  1.69it/s, epoch=146/200, avg_epoch_loss=1.55]\n",
      "100%|██████████| 50/50 [00:29<00:00,  1.68it/s, epoch=147/200, avg_epoch_loss=1.53]\n",
      "100%|██████████| 50/50 [00:29<00:00,  1.67it/s, epoch=148/200, avg_epoch_loss=1.53]\n",
      "100%|██████████| 50/50 [00:29<00:00,  1.69it/s, epoch=149/200, avg_epoch_loss=1.52]\n",
      "100%|██████████| 50/50 [00:29<00:00,  1.68it/s, epoch=150/200, avg_epoch_loss=1.51]\n",
      "100%|██████████| 50/50 [00:29<00:00,  1.69it/s, epoch=151/200, avg_epoch_loss=1.51]\n",
      "100%|██████████| 50/50 [00:29<00:00,  1.70it/s, epoch=152/200, avg_epoch_loss=1.5]\n",
      "100%|██████████| 50/50 [00:29<00:00,  1.70it/s, epoch=153/200, avg_epoch_loss=1.5]\n",
      "100%|██████████| 50/50 [00:29<00:00,  1.69it/s, epoch=154/200, avg_epoch_loss=1.52]\n",
      "100%|██████████| 50/50 [00:29<00:00,  1.70it/s, epoch=155/200, avg_epoch_loss=1.52]\n",
      "100%|██████████| 50/50 [00:29<00:00,  1.72it/s, epoch=156/200, avg_epoch_loss=1.51]\n",
      "100%|██████████| 50/50 [00:29<00:00,  1.69it/s, epoch=157/200, avg_epoch_loss=1.5]\n",
      "100%|██████████| 50/50 [00:29<00:00,  1.68it/s, epoch=158/200, avg_epoch_loss=1.5] \n",
      "100%|██████████| 50/50 [00:29<00:00,  1.71it/s, epoch=159/200, avg_epoch_loss=1.5] \n",
      "100%|██████████| 50/50 [00:29<00:00,  1.69it/s, epoch=160/200, avg_epoch_loss=1.5] \n",
      "100%|██████████| 50/50 [00:29<00:00,  1.67it/s, epoch=161/200, avg_epoch_loss=1.51]\n",
      "100%|██████████| 50/50 [00:29<00:00,  1.67it/s, epoch=162/200, avg_epoch_loss=1.5]\n",
      "100%|██████████| 50/50 [00:29<00:00,  1.68it/s, epoch=163/200, avg_epoch_loss=1.51]\n",
      "100%|██████████| 50/50 [00:29<00:00,  1.68it/s, epoch=164/200, avg_epoch_loss=1.51]\n",
      "100%|██████████| 50/50 [00:29<00:00,  1.69it/s, epoch=165/200, avg_epoch_loss=1.5] \n",
      "100%|██████████| 50/50 [00:29<00:00,  1.68it/s, epoch=166/200, avg_epoch_loss=1.49]\n",
      "100%|██████████| 50/50 [00:29<00:00,  1.70it/s, epoch=167/200, avg_epoch_loss=1.48]\n",
      "100%|██████████| 50/50 [00:29<00:00,  1.72it/s, epoch=168/200, avg_epoch_loss=1.48]\n",
      "100%|██████████| 50/50 [00:29<00:00,  1.71it/s, epoch=169/200, avg_epoch_loss=1.49]\n",
      "100%|██████████| 50/50 [00:29<00:00,  1.70it/s, epoch=170/200, avg_epoch_loss=1.48]\n",
      "100%|██████████| 50/50 [00:29<00:00,  1.67it/s, epoch=171/200, avg_epoch_loss=1.47]\n",
      "100%|██████████| 50/50 [00:29<00:00,  1.69it/s, epoch=172/200, avg_epoch_loss=1.48]\n",
      "100%|██████████| 50/50 [00:29<00:00,  1.70it/s, epoch=173/200, avg_epoch_loss=1.48]\n",
      "100%|██████████| 50/50 [00:29<00:00,  1.68it/s, epoch=174/200, avg_epoch_loss=1.48]\n",
      "100%|██████████| 50/50 [00:29<00:00,  1.67it/s, epoch=175/200, avg_epoch_loss=1.48]\n",
      "100%|██████████| 50/50 [00:29<00:00,  1.69it/s, epoch=176/200, avg_epoch_loss=1.47]\n",
      "100%|██████████| 50/50 [00:29<00:00,  1.69it/s, epoch=177/200, avg_epoch_loss=1.48]\n",
      "100%|██████████| 50/50 [00:29<00:00,  1.72it/s, epoch=178/200, avg_epoch_loss=1.48]\n",
      "100%|██████████| 50/50 [00:29<00:00,  1.71it/s, epoch=179/200, avg_epoch_loss=1.5]\n",
      "100%|██████████| 50/50 [00:29<00:00,  1.71it/s, epoch=180/200, avg_epoch_loss=1.46]\n",
      "100%|██████████| 50/50 [00:29<00:00,  1.71it/s, epoch=181/200, avg_epoch_loss=1.46]\n",
      "100%|██████████| 50/50 [00:28<00:00,  1.73it/s, epoch=182/200, avg_epoch_loss=1.47]\n",
      "100%|██████████| 50/50 [00:29<00:00,  1.71it/s, epoch=183/200, avg_epoch_loss=1.47]\n",
      "100%|██████████| 50/50 [00:29<00:00,  1.72it/s, epoch=184/200, avg_epoch_loss=1.46]\n",
      "100%|██████████| 50/50 [00:29<00:00,  1.68it/s, epoch=185/200, avg_epoch_loss=1.44]\n",
      "100%|██████████| 50/50 [00:29<00:00,  1.72it/s, epoch=186/200, avg_epoch_loss=1.44]\n",
      "100%|██████████| 50/50 [00:29<00:00,  1.70it/s, epoch=187/200, avg_epoch_loss=1.45]\n",
      "100%|██████████| 50/50 [00:29<00:00,  1.68it/s, epoch=188/200, avg_epoch_loss=1.46]\n",
      "100%|██████████| 50/50 [00:29<00:00,  1.68it/s, epoch=189/200, avg_epoch_loss=1.46]\n",
      "100%|██████████| 50/50 [00:29<00:00,  1.72it/s, epoch=190/200, avg_epoch_loss=1.46]\n",
      "100%|██████████| 50/50 [00:29<00:00,  1.67it/s, epoch=191/200, avg_epoch_loss=1.46]\n",
      "100%|██████████| 50/50 [00:29<00:00,  1.69it/s, epoch=192/200, avg_epoch_loss=1.46]\n",
      "100%|██████████| 50/50 [00:29<00:00,  1.69it/s, epoch=193/200, avg_epoch_loss=1.48]\n",
      "100%|██████████| 50/50 [00:29<00:00,  1.72it/s, epoch=194/200, avg_epoch_loss=1.49]\n",
      "100%|██████████| 50/50 [00:29<00:00,  1.70it/s, epoch=195/200, avg_epoch_loss=1.48]\n",
      "100%|██████████| 50/50 [00:29<00:00,  1.67it/s, epoch=196/200, avg_epoch_loss=1.48]\n",
      "100%|██████████| 50/50 [00:29<00:00,  1.68it/s, epoch=197/200, avg_epoch_loss=1.38]\n",
      "100%|██████████| 50/50 [00:29<00:00,  1.72it/s, epoch=198/200, avg_epoch_loss=1.36]\n",
      "100%|██████████| 50/50 [00:29<00:00,  1.69it/s, epoch=199/200, avg_epoch_loss=1.35]\n",
      "100%|██████████| 50/50 [00:29<00:00,  1.70it/s, epoch=200/200, avg_epoch_loss=1.35]\n",
      "Running evaluation: 1it [00:00,  6.59it/s]\n"
     ]
    }
   ],
   "source": [
    "# Start Experiment\n",
    "forecasts, tss, agg_metrics = run_experiment(\n",
    "    input_paths=input_paths,\n",
    "    target_col=target_col,\n",
    "    prediction_length=prediction_length,\n",
    "    windows=windows,\n",
    "    past_rts_col=past_rts_col,\n",
    "    estimator=mqcnn_estimator,\n",
    ")"
   ]
  },
  {
   "cell_type": "code",
   "execution_count": 4,
   "id": "c9f7eab6-682c-411f-9009-c4a1aa7d0159",
   "metadata": {
    "tags": []
   },
   "outputs": [
    {
     "ename": "NameError",
     "evalue": "name 'tss' is not defined",
     "output_type": "error",
     "traceback": [
      "\u001b[0;31m---------------------------------------------------------------------------\u001b[0m",
      "\u001b[0;31mNameError\u001b[0m                                 Traceback (most recent call last)",
      "\u001b[0;32m<ipython-input-4-44076264607c>\u001b[0m in \u001b[0;36m<module>\u001b[0;34m\u001b[0m\n\u001b[1;32m      1\u001b[0m \u001b[0;31m# Plot forecast\u001b[0m\u001b[0;34m\u001b[0m\u001b[0;34m\u001b[0m\u001b[0m\n\u001b[1;32m      2\u001b[0m plot_forecast(\n\u001b[0;32m----> 3\u001b[0;31m     \u001b[0mtss\u001b[0m\u001b[0;34m=\u001b[0m\u001b[0mtss\u001b[0m\u001b[0;34m,\u001b[0m\u001b[0;34m\u001b[0m\u001b[0;34m\u001b[0m\u001b[0m\n\u001b[0m\u001b[1;32m      4\u001b[0m     \u001b[0mforecasts\u001b[0m\u001b[0;34m=\u001b[0m\u001b[0mforecasts\u001b[0m\u001b[0;34m,\u001b[0m\u001b[0;34m\u001b[0m\u001b[0;34m\u001b[0m\u001b[0m\n\u001b[1;32m      5\u001b[0m     \u001b[0mpath\u001b[0m\u001b[0;34m=\u001b[0m\u001b[0;34m\"./plot.svg\"\u001b[0m\u001b[0;34m,\u001b[0m\u001b[0;34m\u001b[0m\u001b[0;34m\u001b[0m\u001b[0m\n",
      "\u001b[0;31mNameError\u001b[0m: name 'tss' is not defined"
     ]
    }
   ],
   "source": [
    "# Plot forecast\n",
    "plot_forecast(\n",
    "    tss=tss, \n",
    "    forecasts=forecasts, \n",
    "    # path=\"./plot.svg\",\n",
    ")"
   ]
  },
  {
   "cell_type": "code",
   "execution_count": null,
   "id": "b9a3000d-5888-4b19-b79d-9ebd467389b5",
   "metadata": {
    "tags": []
   },
   "outputs": [],
   "source": [
    "# Add experiment to database store\n",
    "experiment_config = Forecast_Experiment(\n",
    "    model = 'mx_cnnqr',\n",
    "    version = version,\n",
    "    data_config = {\n",
    "        'target':target_col,\n",
    "        'past_rts_col':past_rts_col,\n",
    "        'windows':windows,\n",
    "    },\n",
    "    model_config = {\n",
    "        'epochs':max_epochs,\n",
    "        'prediction_length':prediction_length,\n",
    "        'channels_seq':channels_seq,\n",
    "        'decoder_mlp_dim_seq':decoder_mlp_dim_seq,\n",
    "        'use_past_feat_dynamic_real':use_past_feat_dynamic_real,\n",
    "        'context_length':context_length,\n",
    "        'lr':lr,\n",
    "        'weight_decay':weight_decay,\n",
    "    },\n",
    "    MASE = agg_metrics['MASE'],\n",
    "    MAPE = agg_metrics['MAPE'],\n",
    "    RMSE = agg_metrics['RMSE'],\n",
    "    wQL_10 = agg_metrics['wQuantileLoss[0.1]'],\n",
    "    wQL_50 = agg_metrics['wQuantileLoss[0.5]'],\n",
    "    wQL_90 = agg_metrics['wQuantileLoss[0.9]'],\n",
    "    avg_wQL = agg_metrics['mean_wQuantileLoss']\n",
    ")\n",
    "session.add(experiment_config)\n",
    "session.commit() \n",
    "print(\"done\")"
   ]
  },
  {
   "cell_type": "code",
   "execution_count": null,
   "id": "c4cc6018-20b0-43e4-ab96-5ab830492534",
   "metadata": {},
   "outputs": [],
   "source": []
  }
 ],
 "metadata": {
  "availableInstances": [
   {
    "_defaultOrder": 0,
    "_isFastLaunch": true,
    "category": "General purpose",
    "gpuNum": 0,
    "hideHardwareSpecs": false,
    "memoryGiB": 4,
    "name": "ml.t3.medium",
    "vcpuNum": 2
   },
   {
    "_defaultOrder": 1,
    "_isFastLaunch": false,
    "category": "General purpose",
    "gpuNum": 0,
    "hideHardwareSpecs": false,
    "memoryGiB": 8,
    "name": "ml.t3.large",
    "vcpuNum": 2
   },
   {
    "_defaultOrder": 2,
    "_isFastLaunch": false,
    "category": "General purpose",
    "gpuNum": 0,
    "hideHardwareSpecs": false,
    "memoryGiB": 16,
    "name": "ml.t3.xlarge",
    "vcpuNum": 4
   },
   {
    "_defaultOrder": 3,
    "_isFastLaunch": false,
    "category": "General purpose",
    "gpuNum": 0,
    "hideHardwareSpecs": false,
    "memoryGiB": 32,
    "name": "ml.t3.2xlarge",
    "vcpuNum": 8
   },
   {
    "_defaultOrder": 4,
    "_isFastLaunch": true,
    "category": "General purpose",
    "gpuNum": 0,
    "hideHardwareSpecs": false,
    "memoryGiB": 8,
    "name": "ml.m5.large",
    "vcpuNum": 2
   },
   {
    "_defaultOrder": 5,
    "_isFastLaunch": false,
    "category": "General purpose",
    "gpuNum": 0,
    "hideHardwareSpecs": false,
    "memoryGiB": 16,
    "name": "ml.m5.xlarge",
    "vcpuNum": 4
   },
   {
    "_defaultOrder": 6,
    "_isFastLaunch": false,
    "category": "General purpose",
    "gpuNum": 0,
    "hideHardwareSpecs": false,
    "memoryGiB": 32,
    "name": "ml.m5.2xlarge",
    "vcpuNum": 8
   },
   {
    "_defaultOrder": 7,
    "_isFastLaunch": false,
    "category": "General purpose",
    "gpuNum": 0,
    "hideHardwareSpecs": false,
    "memoryGiB": 64,
    "name": "ml.m5.4xlarge",
    "vcpuNum": 16
   },
   {
    "_defaultOrder": 8,
    "_isFastLaunch": false,
    "category": "General purpose",
    "gpuNum": 0,
    "hideHardwareSpecs": false,
    "memoryGiB": 128,
    "name": "ml.m5.8xlarge",
    "vcpuNum": 32
   },
   {
    "_defaultOrder": 9,
    "_isFastLaunch": false,
    "category": "General purpose",
    "gpuNum": 0,
    "hideHardwareSpecs": false,
    "memoryGiB": 192,
    "name": "ml.m5.12xlarge",
    "vcpuNum": 48
   },
   {
    "_defaultOrder": 10,
    "_isFastLaunch": false,
    "category": "General purpose",
    "gpuNum": 0,
    "hideHardwareSpecs": false,
    "memoryGiB": 256,
    "name": "ml.m5.16xlarge",
    "vcpuNum": 64
   },
   {
    "_defaultOrder": 11,
    "_isFastLaunch": false,
    "category": "General purpose",
    "gpuNum": 0,
    "hideHardwareSpecs": false,
    "memoryGiB": 384,
    "name": "ml.m5.24xlarge",
    "vcpuNum": 96
   },
   {
    "_defaultOrder": 12,
    "_isFastLaunch": false,
    "category": "General purpose",
    "gpuNum": 0,
    "hideHardwareSpecs": false,
    "memoryGiB": 8,
    "name": "ml.m5d.large",
    "vcpuNum": 2
   },
   {
    "_defaultOrder": 13,
    "_isFastLaunch": false,
    "category": "General purpose",
    "gpuNum": 0,
    "hideHardwareSpecs": false,
    "memoryGiB": 16,
    "name": "ml.m5d.xlarge",
    "vcpuNum": 4
   },
   {
    "_defaultOrder": 14,
    "_isFastLaunch": false,
    "category": "General purpose",
    "gpuNum": 0,
    "hideHardwareSpecs": false,
    "memoryGiB": 32,
    "name": "ml.m5d.2xlarge",
    "vcpuNum": 8
   },
   {
    "_defaultOrder": 15,
    "_isFastLaunch": false,
    "category": "General purpose",
    "gpuNum": 0,
    "hideHardwareSpecs": false,
    "memoryGiB": 64,
    "name": "ml.m5d.4xlarge",
    "vcpuNum": 16
   },
   {
    "_defaultOrder": 16,
    "_isFastLaunch": false,
    "category": "General purpose",
    "gpuNum": 0,
    "hideHardwareSpecs": false,
    "memoryGiB": 128,
    "name": "ml.m5d.8xlarge",
    "vcpuNum": 32
   },
   {
    "_defaultOrder": 17,
    "_isFastLaunch": false,
    "category": "General purpose",
    "gpuNum": 0,
    "hideHardwareSpecs": false,
    "memoryGiB": 192,
    "name": "ml.m5d.12xlarge",
    "vcpuNum": 48
   },
   {
    "_defaultOrder": 18,
    "_isFastLaunch": false,
    "category": "General purpose",
    "gpuNum": 0,
    "hideHardwareSpecs": false,
    "memoryGiB": 256,
    "name": "ml.m5d.16xlarge",
    "vcpuNum": 64
   },
   {
    "_defaultOrder": 19,
    "_isFastLaunch": false,
    "category": "General purpose",
    "gpuNum": 0,
    "hideHardwareSpecs": false,
    "memoryGiB": 384,
    "name": "ml.m5d.24xlarge",
    "vcpuNum": 96
   },
   {
    "_defaultOrder": 20,
    "_isFastLaunch": false,
    "category": "General purpose",
    "gpuNum": 0,
    "hideHardwareSpecs": true,
    "memoryGiB": 0,
    "name": "ml.geospatial.interactive",
    "supportedImageNames": [
     "sagemaker-geospatial-v1-0"
    ],
    "vcpuNum": 0
   },
   {
    "_defaultOrder": 21,
    "_isFastLaunch": true,
    "category": "Compute optimized",
    "gpuNum": 0,
    "hideHardwareSpecs": false,
    "memoryGiB": 4,
    "name": "ml.c5.large",
    "vcpuNum": 2
   },
   {
    "_defaultOrder": 22,
    "_isFastLaunch": false,
    "category": "Compute optimized",
    "gpuNum": 0,
    "hideHardwareSpecs": false,
    "memoryGiB": 8,
    "name": "ml.c5.xlarge",
    "vcpuNum": 4
   },
   {
    "_defaultOrder": 23,
    "_isFastLaunch": false,
    "category": "Compute optimized",
    "gpuNum": 0,
    "hideHardwareSpecs": false,
    "memoryGiB": 16,
    "name": "ml.c5.2xlarge",
    "vcpuNum": 8
   },
   {
    "_defaultOrder": 24,
    "_isFastLaunch": false,
    "category": "Compute optimized",
    "gpuNum": 0,
    "hideHardwareSpecs": false,
    "memoryGiB": 32,
    "name": "ml.c5.4xlarge",
    "vcpuNum": 16
   },
   {
    "_defaultOrder": 25,
    "_isFastLaunch": false,
    "category": "Compute optimized",
    "gpuNum": 0,
    "hideHardwareSpecs": false,
    "memoryGiB": 72,
    "name": "ml.c5.9xlarge",
    "vcpuNum": 36
   },
   {
    "_defaultOrder": 26,
    "_isFastLaunch": false,
    "category": "Compute optimized",
    "gpuNum": 0,
    "hideHardwareSpecs": false,
    "memoryGiB": 96,
    "name": "ml.c5.12xlarge",
    "vcpuNum": 48
   },
   {
    "_defaultOrder": 27,
    "_isFastLaunch": false,
    "category": "Compute optimized",
    "gpuNum": 0,
    "hideHardwareSpecs": false,
    "memoryGiB": 144,
    "name": "ml.c5.18xlarge",
    "vcpuNum": 72
   },
   {
    "_defaultOrder": 28,
    "_isFastLaunch": false,
    "category": "Compute optimized",
    "gpuNum": 0,
    "hideHardwareSpecs": false,
    "memoryGiB": 192,
    "name": "ml.c5.24xlarge",
    "vcpuNum": 96
   },
   {
    "_defaultOrder": 29,
    "_isFastLaunch": true,
    "category": "Accelerated computing",
    "gpuNum": 1,
    "hideHardwareSpecs": false,
    "memoryGiB": 16,
    "name": "ml.g4dn.xlarge",
    "vcpuNum": 4
   },
   {
    "_defaultOrder": 30,
    "_isFastLaunch": false,
    "category": "Accelerated computing",
    "gpuNum": 1,
    "hideHardwareSpecs": false,
    "memoryGiB": 32,
    "name": "ml.g4dn.2xlarge",
    "vcpuNum": 8
   },
   {
    "_defaultOrder": 31,
    "_isFastLaunch": false,
    "category": "Accelerated computing",
    "gpuNum": 1,
    "hideHardwareSpecs": false,
    "memoryGiB": 64,
    "name": "ml.g4dn.4xlarge",
    "vcpuNum": 16
   },
   {
    "_defaultOrder": 32,
    "_isFastLaunch": false,
    "category": "Accelerated computing",
    "gpuNum": 1,
    "hideHardwareSpecs": false,
    "memoryGiB": 128,
    "name": "ml.g4dn.8xlarge",
    "vcpuNum": 32
   },
   {
    "_defaultOrder": 33,
    "_isFastLaunch": false,
    "category": "Accelerated computing",
    "gpuNum": 4,
    "hideHardwareSpecs": false,
    "memoryGiB": 192,
    "name": "ml.g4dn.12xlarge",
    "vcpuNum": 48
   },
   {
    "_defaultOrder": 34,
    "_isFastLaunch": false,
    "category": "Accelerated computing",
    "gpuNum": 1,
    "hideHardwareSpecs": false,
    "memoryGiB": 256,
    "name": "ml.g4dn.16xlarge",
    "vcpuNum": 64
   },
   {
    "_defaultOrder": 35,
    "_isFastLaunch": false,
    "category": "Accelerated computing",
    "gpuNum": 1,
    "hideHardwareSpecs": false,
    "memoryGiB": 61,
    "name": "ml.p3.2xlarge",
    "vcpuNum": 8
   },
   {
    "_defaultOrder": 36,
    "_isFastLaunch": false,
    "category": "Accelerated computing",
    "gpuNum": 4,
    "hideHardwareSpecs": false,
    "memoryGiB": 244,
    "name": "ml.p3.8xlarge",
    "vcpuNum": 32
   },
   {
    "_defaultOrder": 37,
    "_isFastLaunch": false,
    "category": "Accelerated computing",
    "gpuNum": 8,
    "hideHardwareSpecs": false,
    "memoryGiB": 488,
    "name": "ml.p3.16xlarge",
    "vcpuNum": 64
   },
   {
    "_defaultOrder": 38,
    "_isFastLaunch": false,
    "category": "Accelerated computing",
    "gpuNum": 8,
    "hideHardwareSpecs": false,
    "memoryGiB": 768,
    "name": "ml.p3dn.24xlarge",
    "vcpuNum": 96
   },
   {
    "_defaultOrder": 39,
    "_isFastLaunch": false,
    "category": "Memory Optimized",
    "gpuNum": 0,
    "hideHardwareSpecs": false,
    "memoryGiB": 16,
    "name": "ml.r5.large",
    "vcpuNum": 2
   },
   {
    "_defaultOrder": 40,
    "_isFastLaunch": false,
    "category": "Memory Optimized",
    "gpuNum": 0,
    "hideHardwareSpecs": false,
    "memoryGiB": 32,
    "name": "ml.r5.xlarge",
    "vcpuNum": 4
   },
   {
    "_defaultOrder": 41,
    "_isFastLaunch": false,
    "category": "Memory Optimized",
    "gpuNum": 0,
    "hideHardwareSpecs": false,
    "memoryGiB": 64,
    "name": "ml.r5.2xlarge",
    "vcpuNum": 8
   },
   {
    "_defaultOrder": 42,
    "_isFastLaunch": false,
    "category": "Memory Optimized",
    "gpuNum": 0,
    "hideHardwareSpecs": false,
    "memoryGiB": 128,
    "name": "ml.r5.4xlarge",
    "vcpuNum": 16
   },
   {
    "_defaultOrder": 43,
    "_isFastLaunch": false,
    "category": "Memory Optimized",
    "gpuNum": 0,
    "hideHardwareSpecs": false,
    "memoryGiB": 256,
    "name": "ml.r5.8xlarge",
    "vcpuNum": 32
   },
   {
    "_defaultOrder": 44,
    "_isFastLaunch": false,
    "category": "Memory Optimized",
    "gpuNum": 0,
    "hideHardwareSpecs": false,
    "memoryGiB": 384,
    "name": "ml.r5.12xlarge",
    "vcpuNum": 48
   },
   {
    "_defaultOrder": 45,
    "_isFastLaunch": false,
    "category": "Memory Optimized",
    "gpuNum": 0,
    "hideHardwareSpecs": false,
    "memoryGiB": 512,
    "name": "ml.r5.16xlarge",
    "vcpuNum": 64
   },
   {
    "_defaultOrder": 46,
    "_isFastLaunch": false,
    "category": "Memory Optimized",
    "gpuNum": 0,
    "hideHardwareSpecs": false,
    "memoryGiB": 768,
    "name": "ml.r5.24xlarge",
    "vcpuNum": 96
   },
   {
    "_defaultOrder": 47,
    "_isFastLaunch": false,
    "category": "Accelerated computing",
    "gpuNum": 1,
    "hideHardwareSpecs": false,
    "memoryGiB": 16,
    "name": "ml.g5.xlarge",
    "vcpuNum": 4
   },
   {
    "_defaultOrder": 48,
    "_isFastLaunch": false,
    "category": "Accelerated computing",
    "gpuNum": 1,
    "hideHardwareSpecs": false,
    "memoryGiB": 32,
    "name": "ml.g5.2xlarge",
    "vcpuNum": 8
   },
   {
    "_defaultOrder": 49,
    "_isFastLaunch": false,
    "category": "Accelerated computing",
    "gpuNum": 1,
    "hideHardwareSpecs": false,
    "memoryGiB": 64,
    "name": "ml.g5.4xlarge",
    "vcpuNum": 16
   },
   {
    "_defaultOrder": 50,
    "_isFastLaunch": false,
    "category": "Accelerated computing",
    "gpuNum": 1,
    "hideHardwareSpecs": false,
    "memoryGiB": 128,
    "name": "ml.g5.8xlarge",
    "vcpuNum": 32
   },
   {
    "_defaultOrder": 51,
    "_isFastLaunch": false,
    "category": "Accelerated computing",
    "gpuNum": 1,
    "hideHardwareSpecs": false,
    "memoryGiB": 256,
    "name": "ml.g5.16xlarge",
    "vcpuNum": 64
   },
   {
    "_defaultOrder": 52,
    "_isFastLaunch": false,
    "category": "Accelerated computing",
    "gpuNum": 4,
    "hideHardwareSpecs": false,
    "memoryGiB": 192,
    "name": "ml.g5.12xlarge",
    "vcpuNum": 48
   },
   {
    "_defaultOrder": 53,
    "_isFastLaunch": false,
    "category": "Accelerated computing",
    "gpuNum": 4,
    "hideHardwareSpecs": false,
    "memoryGiB": 384,
    "name": "ml.g5.24xlarge",
    "vcpuNum": 96
   },
   {
    "_defaultOrder": 54,
    "_isFastLaunch": false,
    "category": "Accelerated computing",
    "gpuNum": 8,
    "hideHardwareSpecs": false,
    "memoryGiB": 768,
    "name": "ml.g5.48xlarge",
    "vcpuNum": 192
   },
   {
    "_defaultOrder": 55,
    "_isFastLaunch": false,
    "category": "Accelerated computing",
    "gpuNum": 8,
    "hideHardwareSpecs": false,
    "memoryGiB": 1152,
    "name": "ml.p4d.24xlarge",
    "vcpuNum": 96
   },
   {
    "_defaultOrder": 56,
    "_isFastLaunch": false,
    "category": "Accelerated computing",
    "gpuNum": 8,
    "hideHardwareSpecs": false,
    "memoryGiB": 1152,
    "name": "ml.p4de.24xlarge",
    "vcpuNum": 96
   }
  ],
  "instance_type": "ml.g4dn.xlarge",
  "kernelspec": {
   "display_name": "Python 3 (PyTorch 1.13 Python 3.9 GPU Optimized)",
   "language": "python",
   "name": "python3__SAGEMAKER_INTERNAL__arn:aws:sagemaker:us-east-1:081325390199:image/pytorch-1.13-gpu-py39"
  },
  "language_info": {
   "codemirror_mode": {
    "name": "ipython",
    "version": 3
   },
   "file_extension": ".py",
   "mimetype": "text/x-python",
   "name": "python",
   "nbconvert_exporter": "python",
   "pygments_lexer": "ipython3",
   "version": "3.9.16"
  }
 },
 "nbformat": 4,
 "nbformat_minor": 5
}
