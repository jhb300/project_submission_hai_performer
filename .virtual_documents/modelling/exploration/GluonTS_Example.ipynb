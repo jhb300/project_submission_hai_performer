get_ipython().run_line_magic("matplotlib", " inline")
import numpy as np
import pandas as pd
import matplotlib.pyplot as plt
import json


from gluonts.dataset.repository import get_dataset, dataset_names
from gluonts.dataset.util import to_pandas


dataset = get_dataset("m4_hourly")


dataset[0]


# Define Train and Test Data
entry = next(iter(dataset.train))
train_series = to_pandas(entry)

entry = next(iter(dataset.test))
test_series = to_pandas(entry)


from gluonts.torch import DeepAREstimator


estimator = DeepAREstimator(
    prediction_length=56, 
    freq="H", 
    trainer_kwargs={"max_epochs": 5}
)


predictor = estimator.train(dataset.train)


from gluonts.evaluation import make_evaluation_predictions


# list(dataset.test.iterable)


forecast_it, ts_it = make_evaluation_predictions(
    dataset=dataset.test,  # test dataset
    predictor=predictor,  # predictor
    num_samples=100,  # number of sample paths we want for evaluation
)
forecast_it


forecasts = list(forecast_it)
# forecasts


tss = list(ts_it)
# tss


evaluator = Evaluator(quantiles=[0.1, 0.5, 0.9])
agg_metrics, item_metrics = evaluator(tss, forecasts)


print(json.dumps(agg_metrics, indent=4))
