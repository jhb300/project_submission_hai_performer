{
 "cells": [
  {
   "cell_type": "markdown",
   "id": "6fa28662-5b05-40c9-990e-dc92fc73f41e",
   "metadata": {
    "tags": []
   },
   "source": [
    "# Modelling Exploration Notebook V1\n",
    "\n",
    "This Notebook focuses on comparing different forecast models provided by GluonTS. <br /> \n",
    "Experiments were run using Python 3.9 and PyTorch 1.13. <br /> \n",
    "Compared were:\n",
    "- DeepAR (Salinas et al. 2020): [torch impl](https://github.com/awslabs/gluonts/blob/dev/src/gluonts/torch/model/deepar/estimator.py)\n",
    "- DeepState (Rangapuram et al. 2018): [mx impl](https://github.com/awslabs/gluonts/blob/dev/src/gluonts/mx/model/deepstate/_estimator.py)\n",
    "- MQ-CNN (Wen et al. 2017): [mx impl](https://github.com/awslabs/gluonts/blob/dev/src/gluonts/mx/model/seq2seq/_mq_dnn_estimator.py)"
   ]
  },
  {
   "cell_type": "code",
   "execution_count": 3,
   "id": "c2d66f5d-0c59-438b-9088-1a13ab3908c0",
   "metadata": {
    "tags": []
   },
   "outputs": [],
   "source": [
    "# Required Packages\n",
    "# !pip install -r ./src/requirements.txt"
   ]
  },
  {
   "cell_type": "code",
   "execution_count": 4,
   "id": "4c944b69-de31-4244-b298-156b6361a813",
   "metadata": {
    "tags": []
   },
   "outputs": [
    {
     "name": "stderr",
     "output_type": "stream",
     "text": [
      "/opt/conda/lib/python3.9/site-packages/gluonts/json.py:101: UserWarning: Using `json`-module for json-handling. Consider installing one of `orjson`, `ujson` to speed up serialization and deserialization.\n",
      "  warnings.warn(\n"
     ]
    }
   ],
   "source": [
    "# Imports experiment script\n",
    "from src.forecast_experiment import run_experiment\n",
    "from src.forecast_util import plot_forecast\n",
    "# Import packages\n",
    "from datetime import timedelta\n",
    "import json"
   ]
  },
  {
   "cell_type": "markdown",
   "id": "f7caf1fd-5419-4ed7-88fd-caf84c4e6b2f",
   "metadata": {
    "tags": []
   },
   "source": [
    "## Experiment Overview"
   ]
  },
  {
   "cell_type": "markdown",
   "id": "97643bac-9bd2-4fb2-af8b-a27d4b3500f7",
   "metadata": {
    "tags": []
   },
   "source": [
    "### Define Configuration Store"
   ]
  },
  {
   "cell_type": "code",
   "execution_count": 5,
   "id": "5f018390-c368-46f7-8e78-cf7c0f95faf4",
   "metadata": {
    "tags": []
   },
   "outputs": [],
   "source": [
    "from sqlalchemy import create_engine, Column, Integer, Float, String, PickleType,  select\n",
    "# from sqlalchemy.ext.declarative import declarative_base\n",
    "from sqlalchemy.orm import declarative_base\n",
    "from sqlalchemy.orm import sessionmaker, relationship"
   ]
  },
  {
   "cell_type": "code",
   "execution_count": 6,
   "id": "0eddc5a7-7e1b-4820-a421-e42692bc7f0c",
   "metadata": {
    "tags": []
   },
   "outputs": [],
   "source": [
    "Base = declarative_base()\n",
    "\n",
    "class Forecast_Experiment(Base):\n",
    "    __tablename__ = 'forecast_experiment'\n",
    "    id = Column('id', Integer, primary_key=True)\n",
    "    model = Column('model name', String(20))\n",
    "    version = Column('version', Integer)\n",
    "    data_config = Column('data_config', PickleType)\n",
    "    model_config = Column('model_config', PickleType)\n",
    "    MASE = Column('MASE', Float)\n",
    "    MAPE = Column('MAPE', Float)\n",
    "    RMSE = Column('RMSE', Float)\n",
    "    wQL_10 = Column('wQL_10', Float)\n",
    "    wQL_50 = Column('wQL_50', Float)\n",
    "    wQL_90 = Column('wQL_90', Float)\n",
    "    avg_wQL = Column('avg_wQL', Float)"
   ]
  },
  {
   "cell_type": "code",
   "execution_count": 7,
   "id": "290176bd-2fba-4211-8c57-0e52740e2c86",
   "metadata": {
    "tags": []
   },
   "outputs": [],
   "source": [
    "# engine = create_engine('sqlite:///:memory:', echo=True)\n",
    "engine = create_engine(\"sqlite:///./config/forecast_config_v2.db\")\n",
    "\n",
    "Base.metadata.create_all(bind=engine)\n",
    "Session = sessionmaker(bind=engine)\n",
    "session = Session()"
   ]
  },
  {
   "cell_type": "markdown",
   "id": "6b5025c1-20ab-4590-80e6-7a1bae15b5c8",
   "metadata": {
    "jp-MarkdownHeadingCollapsed": true,
    "tags": []
   },
   "source": [
    "### Explore Experiments"
   ]
  },
  {
   "cell_type": "markdown",
   "id": "c727ec93-8e7b-402d-b333-4a462bc30b24",
   "metadata": {},
   "source": [
    "The model name follows this naming convention: {framework}_{model_name}. <br />\n",
    "- The framework specifies the Machine Learning Framework used to implement the model (mxnet, torch, tensorflow)\n",
    "- The model_name specifies the Algorithm used (e.g. DeepAR). \n",
    "\n",
    "The version field is used to track the stage of experiments as defined below. This means general progression of modelling insights as well as updated data sources.\n",
    "\n",
    "- version 1: first exploration\n",
    "    - \"../data_engineering/financial_ts/indices.csv\",\n",
    "    - \"../data_engineering/financial_ts/ww_gdp.csv\",\n",
    "    - \"../data_engineering/timeseries_data/ts_dgelt_events.csv\"\n",
    "- version 2: specific exploration\n",
    "    - \"../data_engineering/financial_ts/indices.csv\",\n",
    "    - \"../data_engineering/financial_ts/ww_gdp.csv\",\n",
    "    - \"../data_engineering/timeseries_data/ts_gdelt_5k_per_year_data.csv\""
   ]
  },
  {
   "cell_type": "code",
   "execution_count": 31,
   "id": "0d5fa574-5d77-4e53-a979-ccf1c60c21b7",
   "metadata": {
    "tags": []
   },
   "outputs": [
    {
     "name": "stdout",
     "output_type": "stream",
     "text": [
      "torch_deepar: 1 \n",
      "        - model_config: epochs: 1000, prediction_length: 20, num_layers: 8, hidden_size: 64, context_length: 56, lr: 0.001, weight_decay: 1e-08:\n",
      "        - MAPE: 0.04679007808624215,\n",
      "        - avg_wQL: 0.03054266891615841,\n",
      "        \n",
      "torch_deepar: 1 \n",
      "        - model_config: epochs: 400, prediction_length: 56, num_layers: 2, hidden_size: 60, context_length: 200, lr: 0.001, weight_decay: 1e-08:\n",
      "        - MAPE: 0.04398518378674155,\n",
      "        - avg_wQL: 0.03393084310078053,\n",
      "        \n",
      "torch_deepar: 1 \n",
      "        - model_config: epochs: 400, prediction_length: 56, num_layers: 2, hidden_size: 40, context_length: 200, lr: 0.001, weight_decay: 1e-08:\n",
      "        - MAPE: 0.04867304946676913,\n",
      "        - avg_wQL: 0.035919825705461,\n",
      "        \n",
      "torch_deepar: 1 \n",
      "        - model_config: epochs: 400, prediction_length: 56, num_layers: 2, hidden_size: 40, context_length: 100, lr: 0.001, weight_decay: 1e-08:\n",
      "        - MAPE: 0.05248577369460426,\n",
      "        - avg_wQL: 0.04011049213329933,\n",
      "        \n",
      "torch_deepar: 2 \n",
      "        - model_config: epochs: 400, prediction_length: 56, num_layers: 2, hidden_size: 60, context_length: 200, lr: 0.001, weight_decay: 1e-08:\n",
      "        - MAPE: 0.055704708274585346,\n",
      "        - avg_wQL: 0.041371540689176804,\n",
      "        \n",
      "torch_deepar: 2 \n",
      "        - model_config: epochs: 400, prediction_length: 56, num_layers: 2, hidden_size: 30, context_length: 200, lr: 0.1, weight_decay: 0.0001:\n",
      "        - MAPE: 0.05557307158335289,\n",
      "        - avg_wQL: 0.045208654212207905,\n",
      "        \n",
      "torch_deepar: 1 \n",
      "        - model_config: epochs: 400, prediction_length: 56, num_layers: 2, hidden_size: 30, context_length: 200, lr: 0.001, weight_decay: 1e-08:\n",
      "        - MAPE: 0.056454077139499466,\n",
      "        - avg_wQL: 0.04784904657624198,\n",
      "        \n",
      "torch_deepar: 2 \n",
      "        - model_config: epochs: 5, prediction_length: 56, num_layers: 4, hidden_size: 60, context_length: 10, lr: 0.1, weight_decay: 0.0001:\n",
      "        - MAPE: 0.06090133739451243,\n",
      "        - avg_wQL: 0.05269659064679453,\n",
      "        \n",
      "torch_deepar: 1 \n",
      "        - model_config: epochs: 400, prediction_length: 56, num_layers: 2, hidden_size: 40, context_length: 56, lr: 0.001, weight_decay: 1e-08:\n",
      "        - MAPE: 0.06384816226114393,\n",
      "        - avg_wQL: 0.05386742979053971,\n",
      "        \n",
      "torch_deepar: 1 \n",
      "        - model_config: epochs: 400, prediction_length: 56, num_layers: 2, hidden_size: 60, context_length: 200, lr: 0.001, weight_decay: 1e-08:\n",
      "        - MAPE: 0.06746928493460931,\n",
      "        - avg_wQL: 0.057841898389463596,\n",
      "        \n",
      "torch_deepar: 1 \n",
      "        - model_config: epochs: 200, prediction_length: 56, num_layers: 2, hidden_size: 40, context_length: 56, lr: 0.001, weight_decay: 1e-08:\n",
      "        - MAPE: 0.0764770427717032,\n",
      "        - avg_wQL: 0.06275540445735626,\n",
      "        \n",
      "torch_deepar: 1 \n",
      "        - model_config: epochs: 300, prediction_length: 56, num_layers: 2, hidden_size: 32, context_length: 56, lr: 0.001, weight_decay: 1e-08:\n",
      "        - MAPE: 0.08441962087801098,\n",
      "        - avg_wQL: 0.06365827316647153,\n",
      "        \n",
      "torch_deepar: 1 \n",
      "        - model_config: epochs: 400, prediction_length: 56, num_layers: 2, hidden_size: 64, context_length: 56, lr: 0.001, weight_decay: 1e-08:\n",
      "        - MAPE: 0.0787130558043697,\n",
      "        - avg_wQL: 0.06432785136177464,\n",
      "        \n",
      "torch_deepar: 1 \n",
      "        - model_config: epochs: 300, prediction_length: 56, num_layers: 2, hidden_size: 32, context_length: 56, lr: 0.001, weight_decay: 1e-08:\n",
      "        - MAPE: 0.07823470435375625,\n",
      "        - avg_wQL: 0.06519428965834421,\n",
      "        \n",
      "mx_deepstate: 1 \n",
      "        - model_config: epochs: 50, prediction_length: 56, num_layers: 2, hidden_size: 20, lr: 0.1, weight_decay: 0.0001:\n",
      "        - MAPE: 0.09030437530567002,\n",
      "        - avg_wQL: 0.06600377101445432,\n",
      "        \n",
      "torch_deepar: 2 \n",
      "        - model_config: epochs: 400, prediction_length: 56, num_layers: 2, hidden_size: 30, context_length: 200, lr: 0.1, weight_decay: 0.0001:\n",
      "        - MAPE: 0.07931145766148774,\n",
      "        - avg_wQL: 0.06866067877851623,\n",
      "        \n",
      "torch_deepar: 1 \n",
      "        - model_config: epochs: 1000, prediction_length: 56, num_layers: 4, hidden_size: 40, context_length: 56, lr: 0.001, weight_decay: 1e-08:\n",
      "        - MAPE: 0.08206782101100342,\n",
      "        - avg_wQL: 0.07117744262782484,\n",
      "        \n",
      "torch_deepar: 1 \n",
      "        - model_config: epochs: 400, prediction_length: 56, num_layers: 4, hidden_size: 40, context_length: 56, lr: 0.001, weight_decay: 1e-08:\n",
      "        - MAPE: 0.08339516970166147,\n",
      "        - avg_wQL: 0.072370957789048,\n",
      "        \n",
      "mx_deepstate: 1 \n",
      "        - model_config: epochs: 2, prediction_length: 56, num_layers: 2, hidden_size: 20, lr: 0.1, weight_decay: 0.0001:\n",
      "        - MAPE: 0.1108473783394698,\n",
      "        - avg_wQL: 0.08067005791488152,\n",
      "        \n",
      "torch_deepar: 1 \n",
      "        - model_config: epochs: 800, prediction_length: 56, num_layers: 2, hidden_size: 60, context_length: 200, lr: 0.01, weight_decay: 1e-12:\n",
      "        - MAPE: 0.09130275377223995,\n",
      "        - avg_wQL: 0.08104598101304648,\n",
      "        \n",
      "mx_deepstate: 1 \n",
      "        - model_config: epochs: 10, prediction_length: 56, num_layers: 4, hidden_size: 20, lr: 0.1, weight_decay: 0.0001:\n",
      "        - MAPE: 0.1119645166753836,\n",
      "        - avg_wQL: 0.08272028619775758,\n",
      "        \n",
      "torch_deepar: 1 \n",
      "        - model_config: epochs: 800, prediction_length: 56, num_layers: 2, hidden_size: 60, context_length: 200, lr: 0.01, weight_decay: 1e-08:\n",
      "        - MAPE: 0.09268907259963062,\n",
      "        - avg_wQL: 0.08449144843247199,\n",
      "        \n",
      "torch_deepar: 1 \n",
      "        - model_config: epochs: 300, prediction_length: 56, num_layers: 2, hidden_size: 32, context_length: 56, lr: 0.001, weight_decay: 1e-08:\n",
      "        - MAPE: 0.10058064841835758,\n",
      "        - avg_wQL: 0.08470685444169242,\n",
      "        \n",
      "torch_deepar: 1 \n",
      "        - model_config: epochs: 200, prediction_length: 56, num_layers: 4, hidden_size: 40, context_length: 56, lr: 0.001, weight_decay: 1e-08:\n",
      "        - MAPE: 0.10102059509682562,\n",
      "        - avg_wQL: 0.08651877718452138,\n",
      "        \n",
      "torch_deepar: 1 \n",
      "        - model_config: epochs: 300, prediction_length: 56, num_layers: 2, hidden_size: 32, context_length: 56, lr: 0.001, weight_decay: 1e-08:\n",
      "        - MAPE: 0.10054330305865608,\n",
      "        - avg_wQL: 0.08672542322032918,\n",
      "        \n",
      "mx_deepstate: 1 \n",
      "        - model_config: epochs: 100, prediction_length: 56, num_layers: 2, hidden_size: 20, lr: 0.1, weight_decay: 0.0001:\n",
      "        - MAPE: 0.10430476766436828,\n",
      "        - avg_wQL: 0.08676782569739282,\n",
      "        \n",
      "torch_deepar: 2 \n",
      "        - model_config: epochs: 400, prediction_length: 56, num_layers: 2, hidden_size: 30, context_length: 200, lr: 0.1, weight_decay: 0.0001:\n",
      "        - MAPE: 0.12306848115696842,\n",
      "        - avg_wQL: 0.10899705472969862,\n",
      "        \n",
      "torch_deepar: 1 \n",
      "        - model_config: epochs: 150, prediction_length: 56, num_layers: 4, hidden_size: 40, context_length: 56, lr: 0.001, weight_decay: 1e-08:\n",
      "        - MAPE: 0.12942370844974463,\n",
      "        - avg_wQL: 0.11538632056465804,\n",
      "        \n",
      "torch_deepar: 1 \n",
      "        - model_config: epochs: 150, prediction_length: 56, num_layers: 4, hidden_size: 40, context_length: 56, lr: 0.001, weight_decay: 1e-08:\n",
      "        - MAPE: 0.12853513790245066,\n",
      "        - avg_wQL: 0.11614946049906973,\n",
      "        \n",
      "torch_deepar: 1 \n",
      "        - model_config: epochs: 10, prediction_length: 56, num_layers: 2, hidden_size: 40, context_length: 56, lr: 0.001, weight_decay: 1e-08:\n",
      "        - MAPE: 0.19052389496105562,\n",
      "        - avg_wQL: 0.15815992665967143,\n",
      "        \n",
      "mx_cnnqr: 1 \n",
      "        - model_config: epochs: 200, prediction_length: 56, channels_seq: [30, 30, 30], decoder_mlp_dim_seq: [30], use_past_feat_dynamic_real: True, context_length: 100, lr: 0.1, weight_decay: 0.0001:\n",
      "        - MAPE: 0.2417252501092042,\n",
      "        - avg_wQL: 0.18749234860593558,\n",
      "        \n",
      "torch_deepar: 1 \n",
      "        - model_config: epochs: 800, prediction_length: 56, num_layers: 4, hidden_size: 60, context_length: 200, lr: 0.1, weight_decay: 0.0001:\n",
      "        - MAPE: 0.22200159424287763,\n",
      "        - avg_wQL: 0.19354116256310616,\n",
      "        \n",
      "torch_deepar: 1 \n",
      "        - model_config: epochs: 400, prediction_length: 56, num_layers: 2, hidden_size: 40, context_length: 400, lr: 0.001, weight_decay: 1e-08:\n",
      "        - MAPE: 0.22394919154192408,\n",
      "        - avg_wQL: 0.19654920751188157,\n",
      "        \n",
      "torch_deepar: 1 \n",
      "        - model_config: epochs: 200, prediction_length: 20, num_layers: 2, hidden_size: 64, context_length: 56, lr: 0.001, weight_decay: 1e-08:\n",
      "        - MAPE: 0.25167785215182853,\n",
      "        - avg_wQL: 0.20788216527682826,\n",
      "        \n",
      "mx_cnnqr: 1 \n",
      "        - model_config: epochs: 200, prediction_length: 56, channels_seq: [30, 30, 30], decoder_mlp_dim_seq: [30], use_past_feat_dynamic_real: True, context_length: 50, lr: 0.1, weight_decay: 0.0001:\n",
      "        - MAPE: 0.2794973623576261,\n",
      "        - avg_wQL: 0.2423958617427915,\n",
      "        \n",
      "mx_cnnqr: 1 \n",
      "        - model_config: epochs: 20, prediction_length: 56, channels_seq: [30, 30, 30], decoder_mlp_dim_seq: [30], use_past_feat_dynamic_real: True, context_length: 56, lr: 0.1, weight_decay: 0.0001:\n",
      "        - MAPE: 0.30076605988563465,\n",
      "        - avg_wQL: 0.28156998906825137,\n",
      "        \n"
     ]
    }
   ],
   "source": [
    "# Query experiment Table and print results:\n",
    "q1 = select(Forecast_Experiment).order_by(Forecast_Experiment.avg_wQL)\n",
    "q1_result = session.execute(q1) \n",
    "\n",
    "for s in q1_result.scalars():\n",
    "    print(f\"\"\"{s.model}: {s.version} \n",
    "        - model_config: {str(s.model_config)[1:-1].replace(\"'\",\"\")}:\n",
    "        - MAPE: {s.MAPE},\n",
    "        - avg_wQL: {s.avg_wQL},\n",
    "        \"\"\"\n",
    "    )"
   ]
  },
  {
   "cell_type": "markdown",
   "id": "9311b35a-d43c-4502-878c-9fd0773ad097",
   "metadata": {
    "jp-MarkdownHeadingCollapsed": true,
    "tags": []
   },
   "source": [
    "### Migrate Experiments"
   ]
  },
  {
   "cell_type": "markdown",
   "id": "e7181a0d-1fda-43bb-90be-6204d1f9f71c",
   "metadata": {},
   "source": [
    "The Experiments from the modelling_experimentation_v1 notebook were stored in two different Tables. <br />\n",
    "I exported them to a json file and used the below code to read the file and store previous experiments in the new database with dynamic config attributes."
   ]
  },
  {
   "cell_type": "code",
   "execution_count": 30,
   "id": "8af8550e-8bc6-4e4f-aa90-a382316c3edd",
   "metadata": {
    "tags": []
   },
   "outputs": [],
   "source": [
    "import json\n",
    " \n",
    "# Opening JSON file\n",
    "with open('data_v2.json') as json_file:\n",
    "    data = json.load(json_file)"
   ]
  },
  {
   "cell_type": "code",
   "execution_count": 36,
   "id": "e61a2f2e-bc86-43e1-a679-03c1bdf8098a",
   "metadata": {
    "tags": []
   },
   "outputs": [],
   "source": [
    "for e in data:\n",
    "    experiment_config = Forecast_Experiment(\n",
    "        model = e['name'],\n",
    "        version = 1,\n",
    "        data_config = {\n",
    "            'target':e['target'],\n",
    "            'past_rts_col':e['past_rts_col'],\n",
    "            'windows':1,\n",
    "        },\n",
    "        model_config = {\n",
    "            'epochs':e['epochs'],\n",
    "            'prediction_length':e['prediction_length'],\n",
    "            'num_layers':e['num_layers'],\n",
    "            'hidden_size':e['hidden_size'],\n",
    "            # 'context_length':e['context_length'],\n",
    "            'lr':e['lr'],\n",
    "            'weight_decay':e['weight_decay'],\n",
    "        },\n",
    "        MASE = e['MASE'],\n",
    "        MAPE = e['MAPE'],\n",
    "        RMSE = e['RMSE'],\n",
    "        wQL_10 = e['wQL_10'],\n",
    "        wQL_50 = e['wQL_50'],\n",
    "        wQL_90 = e['wQL_90'],\n",
    "        avg_wQL = e['avg_wQL']\n",
    "    )\n",
    "    session.add(experiment_config)\n",
    "    session.commit()"
   ]
  },
  {
   "cell_type": "markdown",
   "id": "6064ad00-6aeb-4a4b-81f7-1d0bb4ead289",
   "metadata": {
    "tags": []
   },
   "source": [
    "## DeepAR ([torch](https://github.com/awslabs/gluonts/blob/dev/src/gluonts/torch/model/deepar/estimator.py))"
   ]
  },
  {
   "cell_type": "markdown",
   "id": "630727a2-99a1-43a1-816e-c8ebb79bc83f",
   "metadata": {},
   "source": [
    "DeepAR is a methodology for producing accurate probabilistic forecasts, based on training an autoregressive recurrent neural network model on a large number of related time series."
   ]
  },
  {
   "cell_type": "code",
   "execution_count": 8,
   "id": "c2309421-6814-40f1-a4b0-19c3adb59411",
   "metadata": {
    "tags": []
   },
   "outputs": [
    {
     "name": "stderr",
     "output_type": "stream",
     "text": [
      "/opt/conda/lib/python3.9/site-packages/tqdm/auto.py:22: TqdmWarning: IProgress not found. Please update jupyter and ipywidgets. See https://ipywidgets.readthedocs.io/en/stable/user_install.html\n",
      "  from .autonotebook import tqdm as notebook_tqdm\n"
     ]
    }
   ],
   "source": [
    "from gluonts.torch import DeepAREstimator"
   ]
  },
  {
   "cell_type": "code",
   "execution_count": 9,
   "id": "c056fdcc-6c1f-4f1a-a783-27889e87af49",
   "metadata": {
    "tags": []
   },
   "outputs": [],
   "source": [
    "# Data specs\n",
    "input_paths = [\n",
    "    \"../data_engineering/financial_ts/indices.csv\",\n",
    "    \"../data_engineering/financial_ts/ww_gdp.csv\",\n",
    "    \"../data_engineering/timeseries_data/ts_gdelt_5k_per_year_data.csv\"\n",
    "]\n",
    "target_col = 'ts_S&P' # switch to ts_S&P\n",
    "with open('./config/past_rts_cols_v2.json', 'r') as fp:\n",
    "    past_rts_col = json.load(fp)['version_2']\n",
    "windows = 2\n",
    " \n",
    "# epochs: 400, prediction_length: 56, num_layers: 2, hidden_size: 60, context_length: 200, lr: 0.001, weight_decay: 1e-08\n",
    "\n",
    "# Estimator specs\n",
    "version = 2\n",
    "prediction_length=56\n",
    "max_epochs = 1000\n",
    "num_layers=4\n",
    "hidden_size=60\n",
    "context_length = 300 \n",
    "weight_decay = 1e-8\n",
    "lr = 0.001\n",
    "\n",
    "# Trainer specs\n",
    "accelerator = \"cpu\"\n",
    "devices = \"auto\""
   ]
  },
  {
   "cell_type": "code",
   "execution_count": 10,
   "id": "fb0fe261-1e72-47c7-b972-a6354e7a326a",
   "metadata": {
    "tags": []
   },
   "outputs": [],
   "source": [
    "# Define estimator\n",
    "deepar_estimator = DeepAREstimator(\n",
    "    prediction_length=prediction_length,\n",
    "    num_layers=num_layers,  \n",
    "    hidden_size=hidden_size, \n",
    "    weight_decay=weight_decay,\n",
    "    context_length=context_length,\n",
    "    lr = lr,\n",
    "    freq=\"W\",\n",
    "    trainer_kwargs={\n",
    "        \"max_epochs\": max_epochs, \n",
    "        \"accelerator\":accelerator, \n",
    "        \"devices\":devices,\n",
    "    }\n",
    ")"
   ]
  },
  {
   "cell_type": "code",
   "execution_count": null,
   "id": "7fbecab8-444d-4fe4-bde3-1569fc5eb167",
   "metadata": {
    "tags": []
   },
   "outputs": [
    {
     "name": "stderr",
     "output_type": "stream",
     "text": [
      "GPU available: False, used: False\n",
      "TPU available: False, using: 0 TPU cores\n",
      "IPU available: False, using: 0 IPUs\n",
      "HPU available: False, using: 0 HPUs\n",
      "/opt/conda/lib/python3.9/site-packages/pytorch_lightning/trainer/connectors/logger_connector/logger_connector.py:67: UserWarning: Starting from v1.9.0, `tensorboardX` has been removed as a dependency of the `pytorch_lightning` package, due to potential conflicts with other packages in the ML ecosystem. For this reason, `logger=True` will use `CSVLogger` as the default logger, unless the `tensorboard` or `tensorboardX` packages are found. Please `pip install lightning[extra]` or one of them to enable TensorBoard support by default\n",
      "  warning_cache.warn(\n",
      "/opt/conda/lib/python3.9/site-packages/pytorch_lightning/trainer/configuration_validator.py:70: PossibleUserWarning: You defined a `validation_step` but have no `val_dataloader`. Skipping val loop.\n",
      "  rank_zero_warn(\n",
      "\n",
      "  | Name  | Type        | Params | In sizes | Out sizes   \n",
      "----------------------------------------------------------------\n",
      "0 | model | DeepARModel | 108 K  | ?        | [1, 100, 56]\n",
      "----------------------------------------------------------------\n",
      "108 K     Trainable params\n",
      "0         Non-trainable params\n",
      "108 K     Total params\n",
      "0.435     Total estimated model params size (MB)\n"
     ]
    },
    {
     "name": "stdout",
     "output_type": "stream",
     "text": [
      "Epoch 0: : 50it [00:27,  1.82it/s, v_num=81, train_loss=0.522]"
     ]
    },
    {
     "name": "stderr",
     "output_type": "stream",
     "text": [
      "Epoch 0, global step 50: 'train_loss' reached 0.52195 (best 0.52195), saving model to '/root/project_submission_haiperformer/modelling/lightning_logs/version_81/checkpoints/epoch=0-step=50.ckpt' as top 1\n"
     ]
    },
    {
     "name": "stdout",
     "output_type": "stream",
     "text": [
      "Epoch 1: : 50it [00:26,  1.90it/s, v_num=81, train_loss=0.431]"
     ]
    },
    {
     "name": "stderr",
     "output_type": "stream",
     "text": [
      "Epoch 1, global step 100: 'train_loss' reached 0.43134 (best 0.43134), saving model to '/root/project_submission_haiperformer/modelling/lightning_logs/version_81/checkpoints/epoch=1-step=100.ckpt' as top 1\n"
     ]
    },
    {
     "name": "stdout",
     "output_type": "stream",
     "text": [
      "Epoch 2: : 50it [00:26,  1.89it/s, v_num=81, train_loss=0.436]"
     ]
    },
    {
     "name": "stderr",
     "output_type": "stream",
     "text": [
      "Epoch 2, global step 150: 'train_loss' was not in top 1\n"
     ]
    },
    {
     "name": "stdout",
     "output_type": "stream",
     "text": [
      "Epoch 3: : 50it [00:26,  1.90it/s, v_num=81, train_loss=0.488]"
     ]
    },
    {
     "name": "stderr",
     "output_type": "stream",
     "text": [
      "Epoch 3, global step 200: 'train_loss' was not in top 1\n"
     ]
    },
    {
     "name": "stdout",
     "output_type": "stream",
     "text": [
      "Epoch 4: : 50it [00:26,  1.89it/s, v_num=81, train_loss=0.465]"
     ]
    },
    {
     "name": "stderr",
     "output_type": "stream",
     "text": [
      "Epoch 4, global step 250: 'train_loss' was not in top 1\n"
     ]
    },
    {
     "name": "stdout",
     "output_type": "stream",
     "text": [
      "Epoch 5: : 50it [00:26,  1.87it/s, v_num=81, train_loss=0.399]"
     ]
    },
    {
     "name": "stderr",
     "output_type": "stream",
     "text": [
      "Epoch 5, global step 300: 'train_loss' reached 0.39886 (best 0.39886), saving model to '/root/project_submission_haiperformer/modelling/lightning_logs/version_81/checkpoints/epoch=5-step=300.ckpt' as top 1\n"
     ]
    },
    {
     "name": "stdout",
     "output_type": "stream",
     "text": [
      "Epoch 6: : 50it [00:26,  1.90it/s, v_num=81, train_loss=0.390]"
     ]
    },
    {
     "name": "stderr",
     "output_type": "stream",
     "text": [
      "Epoch 6, global step 350: 'train_loss' reached 0.38977 (best 0.38977), saving model to '/root/project_submission_haiperformer/modelling/lightning_logs/version_81/checkpoints/epoch=6-step=350.ckpt' as top 1\n"
     ]
    },
    {
     "name": "stdout",
     "output_type": "stream",
     "text": [
      "Epoch 7: : 50it [00:26,  1.87it/s, v_num=81, train_loss=0.425]"
     ]
    },
    {
     "name": "stderr",
     "output_type": "stream",
     "text": [
      "Epoch 7, global step 400: 'train_loss' was not in top 1\n"
     ]
    },
    {
     "name": "stdout",
     "output_type": "stream",
     "text": [
      "Epoch 8: : 50it [00:26,  1.88it/s, v_num=81, train_loss=0.389]"
     ]
    },
    {
     "name": "stderr",
     "output_type": "stream",
     "text": [
      "Epoch 8, global step 450: 'train_loss' reached 0.38885 (best 0.38885), saving model to '/root/project_submission_haiperformer/modelling/lightning_logs/version_81/checkpoints/epoch=8-step=450.ckpt' as top 1\n"
     ]
    },
    {
     "name": "stdout",
     "output_type": "stream",
     "text": [
      "Epoch 9: : 50it [00:26,  1.90it/s, v_num=81, train_loss=0.372]"
     ]
    },
    {
     "name": "stderr",
     "output_type": "stream",
     "text": [
      "Epoch 9, global step 500: 'train_loss' reached 0.37160 (best 0.37160), saving model to '/root/project_submission_haiperformer/modelling/lightning_logs/version_81/checkpoints/epoch=9-step=500.ckpt' as top 1\n"
     ]
    },
    {
     "name": "stdout",
     "output_type": "stream",
     "text": [
      "Epoch 10: : 50it [00:26,  1.88it/s, v_num=81, train_loss=0.426]"
     ]
    },
    {
     "name": "stderr",
     "output_type": "stream",
     "text": [
      "Epoch 10, global step 550: 'train_loss' was not in top 1\n"
     ]
    },
    {
     "name": "stdout",
     "output_type": "stream",
     "text": [
      "Epoch 11: : 50it [00:26,  1.87it/s, v_num=81, train_loss=0.400]"
     ]
    },
    {
     "name": "stderr",
     "output_type": "stream",
     "text": [
      "Epoch 11, global step 600: 'train_loss' was not in top 1\n"
     ]
    },
    {
     "name": "stdout",
     "output_type": "stream",
     "text": [
      "Epoch 12: : 50it [00:26,  1.86it/s, v_num=81, train_loss=0.396]"
     ]
    },
    {
     "name": "stderr",
     "output_type": "stream",
     "text": [
      "Epoch 12, global step 650: 'train_loss' was not in top 1\n"
     ]
    },
    {
     "name": "stdout",
     "output_type": "stream",
     "text": [
      "Epoch 13: : 50it [00:26,  1.88it/s, v_num=81, train_loss=0.378]"
     ]
    },
    {
     "name": "stderr",
     "output_type": "stream",
     "text": [
      "Epoch 13, global step 700: 'train_loss' was not in top 1\n"
     ]
    },
    {
     "name": "stdout",
     "output_type": "stream",
     "text": [
      "Epoch 14: : 50it [00:26,  1.88it/s, v_num=81, train_loss=0.389]"
     ]
    },
    {
     "name": "stderr",
     "output_type": "stream",
     "text": [
      "Epoch 14, global step 750: 'train_loss' was not in top 1\n"
     ]
    },
    {
     "name": "stdout",
     "output_type": "stream",
     "text": [
      "Epoch 15: : 50it [00:26,  1.88it/s, v_num=81, train_loss=0.452]"
     ]
    },
    {
     "name": "stderr",
     "output_type": "stream",
     "text": [
      "Epoch 15, global step 800: 'train_loss' was not in top 1\n"
     ]
    },
    {
     "name": "stdout",
     "output_type": "stream",
     "text": [
      "Epoch 16: : 50it [00:26,  1.91it/s, v_num=81, train_loss=0.390]"
     ]
    },
    {
     "name": "stderr",
     "output_type": "stream",
     "text": [
      "Epoch 16, global step 850: 'train_loss' was not in top 1\n"
     ]
    },
    {
     "name": "stdout",
     "output_type": "stream",
     "text": [
      "Epoch 17: : 50it [00:26,  1.90it/s, v_num=81, train_loss=0.398]"
     ]
    },
    {
     "name": "stderr",
     "output_type": "stream",
     "text": [
      "Epoch 17, global step 900: 'train_loss' was not in top 1\n"
     ]
    },
    {
     "name": "stdout",
     "output_type": "stream",
     "text": [
      "Epoch 18: : 50it [00:26,  1.87it/s, v_num=81, train_loss=0.378]"
     ]
    },
    {
     "name": "stderr",
     "output_type": "stream",
     "text": [
      "Epoch 18, global step 950: 'train_loss' was not in top 1\n"
     ]
    },
    {
     "name": "stdout",
     "output_type": "stream",
     "text": [
      "Epoch 19: : 50it [00:27,  1.81it/s, v_num=81, train_loss=0.412]"
     ]
    },
    {
     "name": "stderr",
     "output_type": "stream",
     "text": [
      "Epoch 19, global step 1000: 'train_loss' was not in top 1\n"
     ]
    },
    {
     "name": "stdout",
     "output_type": "stream",
     "text": [
      "Epoch 20: : 50it [00:27,  1.80it/s, v_num=81, train_loss=0.402]"
     ]
    },
    {
     "name": "stderr",
     "output_type": "stream",
     "text": [
      "Epoch 20, global step 1050: 'train_loss' was not in top 1\n"
     ]
    },
    {
     "name": "stdout",
     "output_type": "stream",
     "text": [
      "Epoch 21: : 50it [00:28,  1.78it/s, v_num=81, train_loss=0.376]"
     ]
    },
    {
     "name": "stderr",
     "output_type": "stream",
     "text": [
      "Epoch 21, global step 1100: 'train_loss' was not in top 1\n"
     ]
    },
    {
     "name": "stdout",
     "output_type": "stream",
     "text": [
      "Epoch 22: : 50it [00:28,  1.78it/s, v_num=81, train_loss=0.406]"
     ]
    },
    {
     "name": "stderr",
     "output_type": "stream",
     "text": [
      "Epoch 22, global step 1150: 'train_loss' was not in top 1\n"
     ]
    },
    {
     "name": "stdout",
     "output_type": "stream",
     "text": [
      "Epoch 23: : 50it [00:27,  1.79it/s, v_num=81, train_loss=0.369]"
     ]
    },
    {
     "name": "stderr",
     "output_type": "stream",
     "text": [
      "Epoch 23, global step 1200: 'train_loss' reached 0.36900 (best 0.36900), saving model to '/root/project_submission_haiperformer/modelling/lightning_logs/version_81/checkpoints/epoch=23-step=1200.ckpt' as top 1\n"
     ]
    },
    {
     "name": "stdout",
     "output_type": "stream",
     "text": [
      "Epoch 24: : 50it [00:28,  1.77it/s, v_num=81, train_loss=0.413]"
     ]
    },
    {
     "name": "stderr",
     "output_type": "stream",
     "text": [
      "Epoch 24, global step 1250: 'train_loss' was not in top 1\n"
     ]
    },
    {
     "name": "stdout",
     "output_type": "stream",
     "text": [
      "Epoch 25: : 50it [00:28,  1.75it/s, v_num=81, train_loss=0.337]"
     ]
    },
    {
     "name": "stderr",
     "output_type": "stream",
     "text": [
      "Epoch 25, global step 1300: 'train_loss' reached 0.33740 (best 0.33740), saving model to '/root/project_submission_haiperformer/modelling/lightning_logs/version_81/checkpoints/epoch=25-step=1300.ckpt' as top 1\n"
     ]
    },
    {
     "name": "stdout",
     "output_type": "stream",
     "text": [
      "Epoch 26: : 50it [00:27,  1.80it/s, v_num=81, train_loss=0.385]"
     ]
    },
    {
     "name": "stderr",
     "output_type": "stream",
     "text": [
      "Epoch 26, global step 1350: 'train_loss' was not in top 1\n"
     ]
    },
    {
     "name": "stdout",
     "output_type": "stream",
     "text": [
      "Epoch 27: : 50it [00:26,  1.88it/s, v_num=81, train_loss=0.380]"
     ]
    },
    {
     "name": "stderr",
     "output_type": "stream",
     "text": [
      "Epoch 27, global step 1400: 'train_loss' was not in top 1\n"
     ]
    },
    {
     "name": "stdout",
     "output_type": "stream",
     "text": [
      "Epoch 28: : 50it [00:26,  1.89it/s, v_num=81, train_loss=0.285]"
     ]
    },
    {
     "name": "stderr",
     "output_type": "stream",
     "text": [
      "Epoch 28, global step 1450: 'train_loss' reached 0.28469 (best 0.28469), saving model to '/root/project_submission_haiperformer/modelling/lightning_logs/version_81/checkpoints/epoch=28-step=1450.ckpt' as top 1\n"
     ]
    },
    {
     "name": "stdout",
     "output_type": "stream",
     "text": [
      "Epoch 29: : 50it [00:26,  1.90it/s, v_num=81, train_loss=0.411]"
     ]
    },
    {
     "name": "stderr",
     "output_type": "stream",
     "text": [
      "Epoch 29, global step 1500: 'train_loss' was not in top 1\n"
     ]
    },
    {
     "name": "stdout",
     "output_type": "stream",
     "text": [
      "Epoch 30: : 50it [00:26,  1.90it/s, v_num=81, train_loss=0.345]"
     ]
    },
    {
     "name": "stderr",
     "output_type": "stream",
     "text": [
      "Epoch 30, global step 1550: 'train_loss' was not in top 1\n"
     ]
    },
    {
     "name": "stdout",
     "output_type": "stream",
     "text": [
      "Epoch 31: : 50it [00:26,  1.89it/s, v_num=81, train_loss=0.383]"
     ]
    },
    {
     "name": "stderr",
     "output_type": "stream",
     "text": [
      "Epoch 31, global step 1600: 'train_loss' was not in top 1\n"
     ]
    },
    {
     "name": "stdout",
     "output_type": "stream",
     "text": [
      "Epoch 32: : 50it [00:26,  1.87it/s, v_num=81, train_loss=0.324]"
     ]
    },
    {
     "name": "stderr",
     "output_type": "stream",
     "text": [
      "Epoch 32, global step 1650: 'train_loss' was not in top 1\n"
     ]
    },
    {
     "name": "stdout",
     "output_type": "stream",
     "text": [
      "Epoch 33: : 50it [00:26,  1.87it/s, v_num=81, train_loss=0.336]"
     ]
    },
    {
     "name": "stderr",
     "output_type": "stream",
     "text": [
      "Epoch 33, global step 1700: 'train_loss' was not in top 1\n"
     ]
    },
    {
     "name": "stdout",
     "output_type": "stream",
     "text": [
      "Epoch 34: : 50it [00:26,  1.90it/s, v_num=81, train_loss=0.321]"
     ]
    },
    {
     "name": "stderr",
     "output_type": "stream",
     "text": [
      "Epoch 34, global step 1750: 'train_loss' was not in top 1\n"
     ]
    },
    {
     "name": "stdout",
     "output_type": "stream",
     "text": [
      "Epoch 35: : 50it [00:26,  1.88it/s, v_num=81, train_loss=0.324]"
     ]
    },
    {
     "name": "stderr",
     "output_type": "stream",
     "text": [
      "Epoch 35, global step 1800: 'train_loss' was not in top 1\n"
     ]
    },
    {
     "name": "stdout",
     "output_type": "stream",
     "text": [
      "Epoch 36: : 50it [00:26,  1.88it/s, v_num=81, train_loss=0.319]"
     ]
    },
    {
     "name": "stderr",
     "output_type": "stream",
     "text": [
      "Epoch 36, global step 1850: 'train_loss' was not in top 1\n"
     ]
    },
    {
     "name": "stdout",
     "output_type": "stream",
     "text": [
      "Epoch 37: : 50it [00:26,  1.89it/s, v_num=81, train_loss=0.382]"
     ]
    },
    {
     "name": "stderr",
     "output_type": "stream",
     "text": [
      "Epoch 37, global step 1900: 'train_loss' was not in top 1\n"
     ]
    },
    {
     "name": "stdout",
     "output_type": "stream",
     "text": [
      "Epoch 38: : 50it [00:26,  1.89it/s, v_num=81, train_loss=0.324]"
     ]
    },
    {
     "name": "stderr",
     "output_type": "stream",
     "text": [
      "Epoch 38, global step 1950: 'train_loss' was not in top 1\n"
     ]
    },
    {
     "name": "stdout",
     "output_type": "stream",
     "text": [
      "Epoch 39: : 50it [00:26,  1.89it/s, v_num=81, train_loss=0.335]"
     ]
    },
    {
     "name": "stderr",
     "output_type": "stream",
     "text": [
      "Epoch 39, global step 2000: 'train_loss' was not in top 1\n"
     ]
    },
    {
     "name": "stdout",
     "output_type": "stream",
     "text": [
      "Epoch 40: : 50it [00:26,  1.87it/s, v_num=81, train_loss=0.339]"
     ]
    },
    {
     "name": "stderr",
     "output_type": "stream",
     "text": [
      "Epoch 40, global step 2050: 'train_loss' was not in top 1\n"
     ]
    },
    {
     "name": "stdout",
     "output_type": "stream",
     "text": [
      "Epoch 41: : 50it [00:27,  1.79it/s, v_num=81, train_loss=0.293]"
     ]
    },
    {
     "name": "stderr",
     "output_type": "stream",
     "text": [
      "Epoch 41, global step 2100: 'train_loss' was not in top 1\n"
     ]
    },
    {
     "name": "stdout",
     "output_type": "stream",
     "text": [
      "Epoch 42: : 50it [00:27,  1.81it/s, v_num=81, train_loss=0.324]"
     ]
    },
    {
     "name": "stderr",
     "output_type": "stream",
     "text": [
      "Epoch 42, global step 2150: 'train_loss' was not in top 1\n"
     ]
    },
    {
     "name": "stdout",
     "output_type": "stream",
     "text": [
      "Epoch 43: : 50it [00:27,  1.80it/s, v_num=81, train_loss=0.299]"
     ]
    },
    {
     "name": "stderr",
     "output_type": "stream",
     "text": [
      "Epoch 43, global step 2200: 'train_loss' was not in top 1\n"
     ]
    },
    {
     "name": "stdout",
     "output_type": "stream",
     "text": [
      "Epoch 44: : 50it [00:27,  1.80it/s, v_num=81, train_loss=0.307]"
     ]
    },
    {
     "name": "stderr",
     "output_type": "stream",
     "text": [
      "Epoch 44, global step 2250: 'train_loss' was not in top 1\n"
     ]
    },
    {
     "name": "stdout",
     "output_type": "stream",
     "text": [
      "Epoch 45: : 50it [00:28,  1.78it/s, v_num=81, train_loss=0.286]"
     ]
    },
    {
     "name": "stderr",
     "output_type": "stream",
     "text": [
      "Epoch 45, global step 2300: 'train_loss' was not in top 1\n"
     ]
    },
    {
     "name": "stdout",
     "output_type": "stream",
     "text": [
      "Epoch 46: : 50it [00:27,  1.81it/s, v_num=81, train_loss=0.376]"
     ]
    },
    {
     "name": "stderr",
     "output_type": "stream",
     "text": [
      "Epoch 46, global step 2350: 'train_loss' was not in top 1\n"
     ]
    },
    {
     "name": "stdout",
     "output_type": "stream",
     "text": [
      "Epoch 47: : 50it [00:28,  1.78it/s, v_num=81, train_loss=0.336]"
     ]
    },
    {
     "name": "stderr",
     "output_type": "stream",
     "text": [
      "Epoch 47, global step 2400: 'train_loss' was not in top 1\n"
     ]
    },
    {
     "name": "stdout",
     "output_type": "stream",
     "text": [
      "Epoch 48: : 50it [00:28,  1.73it/s, v_num=81, train_loss=0.374]"
     ]
    },
    {
     "name": "stderr",
     "output_type": "stream",
     "text": [
      "Epoch 48, global step 2450: 'train_loss' was not in top 1\n"
     ]
    },
    {
     "name": "stdout",
     "output_type": "stream",
     "text": [
      "Epoch 49: : 50it [00:28,  1.78it/s, v_num=81, train_loss=0.302]"
     ]
    },
    {
     "name": "stderr",
     "output_type": "stream",
     "text": [
      "Epoch 49, global step 2500: 'train_loss' was not in top 1\n"
     ]
    },
    {
     "name": "stdout",
     "output_type": "stream",
     "text": [
      "Epoch 50: : 50it [00:28,  1.77it/s, v_num=81, train_loss=0.307]"
     ]
    },
    {
     "name": "stderr",
     "output_type": "stream",
     "text": [
      "Epoch 50, global step 2550: 'train_loss' was not in top 1\n"
     ]
    },
    {
     "name": "stdout",
     "output_type": "stream",
     "text": [
      "Epoch 51: : 50it [00:27,  1.79it/s, v_num=81, train_loss=0.350]"
     ]
    },
    {
     "name": "stderr",
     "output_type": "stream",
     "text": [
      "Epoch 51, global step 2600: 'train_loss' was not in top 1\n"
     ]
    },
    {
     "name": "stdout",
     "output_type": "stream",
     "text": [
      "Epoch 52: : 50it [00:28,  1.77it/s, v_num=81, train_loss=0.339]"
     ]
    },
    {
     "name": "stderr",
     "output_type": "stream",
     "text": [
      "Epoch 52, global step 2650: 'train_loss' was not in top 1\n"
     ]
    },
    {
     "name": "stdout",
     "output_type": "stream",
     "text": [
      "Epoch 53: : 50it [00:27,  1.82it/s, v_num=81, train_loss=0.349]"
     ]
    },
    {
     "name": "stderr",
     "output_type": "stream",
     "text": [
      "Epoch 53, global step 2700: 'train_loss' was not in top 1\n"
     ]
    },
    {
     "name": "stdout",
     "output_type": "stream",
     "text": [
      "Epoch 54: : 50it [00:27,  1.81it/s, v_num=81, train_loss=0.286]"
     ]
    },
    {
     "name": "stderr",
     "output_type": "stream",
     "text": [
      "Epoch 54, global step 2750: 'train_loss' was not in top 1\n"
     ]
    },
    {
     "name": "stdout",
     "output_type": "stream",
     "text": [
      "Epoch 55: : 50it [00:27,  1.79it/s, v_num=81, train_loss=0.332]"
     ]
    },
    {
     "name": "stderr",
     "output_type": "stream",
     "text": [
      "Epoch 55, global step 2800: 'train_loss' was not in top 1\n"
     ]
    },
    {
     "name": "stdout",
     "output_type": "stream",
     "text": [
      "Epoch 56: : 50it [00:27,  1.81it/s, v_num=81, train_loss=0.329]"
     ]
    },
    {
     "name": "stderr",
     "output_type": "stream",
     "text": [
      "Epoch 56, global step 2850: 'train_loss' was not in top 1\n"
     ]
    },
    {
     "name": "stdout",
     "output_type": "stream",
     "text": [
      "Epoch 57: : 50it [00:26,  1.85it/s, v_num=81, train_loss=0.332]"
     ]
    },
    {
     "name": "stderr",
     "output_type": "stream",
     "text": [
      "Epoch 57, global step 2900: 'train_loss' was not in top 1\n"
     ]
    },
    {
     "name": "stdout",
     "output_type": "stream",
     "text": [
      "Epoch 58: : 50it [00:26,  1.89it/s, v_num=81, train_loss=0.323]"
     ]
    },
    {
     "name": "stderr",
     "output_type": "stream",
     "text": [
      "Epoch 58, global step 2950: 'train_loss' was not in top 1\n"
     ]
    },
    {
     "name": "stdout",
     "output_type": "stream",
     "text": [
      "Epoch 59: : 50it [00:26,  1.89it/s, v_num=81, train_loss=0.312]"
     ]
    },
    {
     "name": "stderr",
     "output_type": "stream",
     "text": [
      "Epoch 59, global step 3000: 'train_loss' was not in top 1\n"
     ]
    },
    {
     "name": "stdout",
     "output_type": "stream",
     "text": [
      "Epoch 60: : 50it [00:26,  1.88it/s, v_num=81, train_loss=0.320]"
     ]
    },
    {
     "name": "stderr",
     "output_type": "stream",
     "text": [
      "Epoch 60, global step 3050: 'train_loss' was not in top 1\n"
     ]
    },
    {
     "name": "stdout",
     "output_type": "stream",
     "text": [
      "Epoch 61: : 50it [00:26,  1.89it/s, v_num=81, train_loss=0.299]"
     ]
    },
    {
     "name": "stderr",
     "output_type": "stream",
     "text": [
      "Epoch 61, global step 3100: 'train_loss' was not in top 1\n"
     ]
    },
    {
     "name": "stdout",
     "output_type": "stream",
     "text": [
      "Epoch 62: : 50it [00:26,  1.89it/s, v_num=81, train_loss=0.305]"
     ]
    },
    {
     "name": "stderr",
     "output_type": "stream",
     "text": [
      "Epoch 62, global step 3150: 'train_loss' was not in top 1\n"
     ]
    },
    {
     "name": "stdout",
     "output_type": "stream",
     "text": [
      "Epoch 63: : 50it [00:26,  1.89it/s, v_num=81, train_loss=0.338]"
     ]
    },
    {
     "name": "stderr",
     "output_type": "stream",
     "text": [
      "Epoch 63, global step 3200: 'train_loss' was not in top 1\n"
     ]
    },
    {
     "name": "stdout",
     "output_type": "stream",
     "text": [
      "Epoch 64: : 50it [00:26,  1.88it/s, v_num=81, train_loss=0.304]"
     ]
    },
    {
     "name": "stderr",
     "output_type": "stream",
     "text": [
      "Epoch 64, global step 3250: 'train_loss' was not in top 1\n"
     ]
    },
    {
     "name": "stdout",
     "output_type": "stream",
     "text": [
      "Epoch 65: : 50it [00:26,  1.87it/s, v_num=81, train_loss=0.285]"
     ]
    },
    {
     "name": "stderr",
     "output_type": "stream",
     "text": [
      "Epoch 65, global step 3300: 'train_loss' reached 0.28459 (best 0.28459), saving model to '/root/project_submission_haiperformer/modelling/lightning_logs/version_81/checkpoints/epoch=65-step=3300.ckpt' as top 1\n"
     ]
    },
    {
     "name": "stdout",
     "output_type": "stream",
     "text": [
      "Epoch 66: : 50it [00:26,  1.88it/s, v_num=81, train_loss=0.336]"
     ]
    },
    {
     "name": "stderr",
     "output_type": "stream",
     "text": [
      "Epoch 66, global step 3350: 'train_loss' was not in top 1\n"
     ]
    },
    {
     "name": "stdout",
     "output_type": "stream",
     "text": [
      "Epoch 67: : 50it [00:26,  1.90it/s, v_num=81, train_loss=0.318]"
     ]
    },
    {
     "name": "stderr",
     "output_type": "stream",
     "text": [
      "Epoch 67, global step 3400: 'train_loss' was not in top 1\n"
     ]
    },
    {
     "name": "stdout",
     "output_type": "stream",
     "text": [
      "Epoch 68: : 50it [00:26,  1.87it/s, v_num=81, train_loss=0.329]"
     ]
    },
    {
     "name": "stderr",
     "output_type": "stream",
     "text": [
      "Epoch 68, global step 3450: 'train_loss' was not in top 1\n"
     ]
    },
    {
     "name": "stdout",
     "output_type": "stream",
     "text": [
      "Epoch 69: : 50it [00:26,  1.90it/s, v_num=81, train_loss=0.312]"
     ]
    },
    {
     "name": "stderr",
     "output_type": "stream",
     "text": [
      "Epoch 69, global step 3500: 'train_loss' was not in top 1\n"
     ]
    },
    {
     "name": "stdout",
     "output_type": "stream",
     "text": [
      "Epoch 70: : 50it [00:26,  1.88it/s, v_num=81, train_loss=0.320]"
     ]
    },
    {
     "name": "stderr",
     "output_type": "stream",
     "text": [
      "Epoch 70, global step 3550: 'train_loss' was not in top 1\n"
     ]
    },
    {
     "name": "stdout",
     "output_type": "stream",
     "text": [
      "Epoch 71: : 50it [00:26,  1.87it/s, v_num=81, train_loss=0.312]"
     ]
    },
    {
     "name": "stderr",
     "output_type": "stream",
     "text": [
      "Epoch 71, global step 3600: 'train_loss' was not in top 1\n"
     ]
    },
    {
     "name": "stdout",
     "output_type": "stream",
     "text": [
      "Epoch 72: : 50it [00:26,  1.89it/s, v_num=81, train_loss=0.306]"
     ]
    },
    {
     "name": "stderr",
     "output_type": "stream",
     "text": [
      "Epoch 72, global step 3650: 'train_loss' was not in top 1\n"
     ]
    },
    {
     "name": "stdout",
     "output_type": "stream",
     "text": [
      "Epoch 73: : 50it [00:27,  1.81it/s, v_num=81, train_loss=0.302]"
     ]
    },
    {
     "name": "stderr",
     "output_type": "stream",
     "text": [
      "Epoch 73, global step 3700: 'train_loss' was not in top 1\n"
     ]
    },
    {
     "name": "stdout",
     "output_type": "stream",
     "text": [
      "Epoch 74: : 50it [00:27,  1.80it/s, v_num=81, train_loss=0.313]"
     ]
    },
    {
     "name": "stderr",
     "output_type": "stream",
     "text": [
      "Epoch 74, global step 3750: 'train_loss' was not in top 1\n"
     ]
    },
    {
     "name": "stdout",
     "output_type": "stream",
     "text": [
      "Epoch 75: : 50it [00:27,  1.82it/s, v_num=81, train_loss=0.322]"
     ]
    },
    {
     "name": "stderr",
     "output_type": "stream",
     "text": [
      "Epoch 75, global step 3800: 'train_loss' was not in top 1\n"
     ]
    },
    {
     "name": "stdout",
     "output_type": "stream",
     "text": [
      "Epoch 76: : 50it [00:27,  1.81it/s, v_num=81, train_loss=0.299]"
     ]
    },
    {
     "name": "stderr",
     "output_type": "stream",
     "text": [
      "Epoch 76, global step 3850: 'train_loss' was not in top 1\n"
     ]
    },
    {
     "name": "stdout",
     "output_type": "stream",
     "text": [
      "Epoch 77: : 50it [00:27,  1.80it/s, v_num=81, train_loss=0.312]"
     ]
    },
    {
     "name": "stderr",
     "output_type": "stream",
     "text": [
      "Epoch 77, global step 3900: 'train_loss' was not in top 1\n"
     ]
    },
    {
     "name": "stdout",
     "output_type": "stream",
     "text": [
      "Epoch 78: : 50it [00:27,  1.81it/s, v_num=81, train_loss=0.325]"
     ]
    },
    {
     "name": "stderr",
     "output_type": "stream",
     "text": [
      "Epoch 78, global step 3950: 'train_loss' was not in top 1\n"
     ]
    },
    {
     "name": "stdout",
     "output_type": "stream",
     "text": [
      "Epoch 79: : 50it [00:27,  1.80it/s, v_num=81, train_loss=0.276]"
     ]
    },
    {
     "name": "stderr",
     "output_type": "stream",
     "text": [
      "Epoch 79, global step 4000: 'train_loss' reached 0.27565 (best 0.27565), saving model to '/root/project_submission_haiperformer/modelling/lightning_logs/version_81/checkpoints/epoch=79-step=4000.ckpt' as top 1\n"
     ]
    },
    {
     "name": "stdout",
     "output_type": "stream",
     "text": [
      "Epoch 80: : 50it [00:28,  1.74it/s, v_num=81, train_loss=0.317]"
     ]
    },
    {
     "name": "stderr",
     "output_type": "stream",
     "text": [
      "Epoch 80, global step 4050: 'train_loss' was not in top 1\n"
     ]
    },
    {
     "name": "stdout",
     "output_type": "stream",
     "text": [
      "Epoch 81: : 50it [00:28,  1.73it/s, v_num=81, train_loss=0.305]"
     ]
    },
    {
     "name": "stderr",
     "output_type": "stream",
     "text": [
      "Epoch 81, global step 4100: 'train_loss' was not in top 1\n"
     ]
    },
    {
     "name": "stdout",
     "output_type": "stream",
     "text": [
      "Epoch 82: : 50it [00:28,  1.73it/s, v_num=81, train_loss=0.285]"
     ]
    },
    {
     "name": "stderr",
     "output_type": "stream",
     "text": [
      "Epoch 82, global step 4150: 'train_loss' was not in top 1\n"
     ]
    },
    {
     "name": "stdout",
     "output_type": "stream",
     "text": [
      "Epoch 83: : 50it [00:28,  1.77it/s, v_num=81, train_loss=0.339]"
     ]
    },
    {
     "name": "stderr",
     "output_type": "stream",
     "text": [
      "Epoch 83, global step 4200: 'train_loss' was not in top 1\n"
     ]
    },
    {
     "name": "stdout",
     "output_type": "stream",
     "text": [
      "Epoch 84: : 50it [00:28,  1.78it/s, v_num=81, train_loss=0.328]"
     ]
    },
    {
     "name": "stderr",
     "output_type": "stream",
     "text": [
      "Epoch 84, global step 4250: 'train_loss' was not in top 1\n"
     ]
    },
    {
     "name": "stdout",
     "output_type": "stream",
     "text": [
      "Epoch 85: : 50it [00:27,  1.80it/s, v_num=81, train_loss=0.301]"
     ]
    },
    {
     "name": "stderr",
     "output_type": "stream",
     "text": [
      "Epoch 85, global step 4300: 'train_loss' was not in top 1\n"
     ]
    },
    {
     "name": "stdout",
     "output_type": "stream",
     "text": [
      "Epoch 86: : 50it [00:27,  1.81it/s, v_num=81, train_loss=0.333]"
     ]
    },
    {
     "name": "stderr",
     "output_type": "stream",
     "text": [
      "Epoch 86, global step 4350: 'train_loss' was not in top 1\n"
     ]
    },
    {
     "name": "stdout",
     "output_type": "stream",
     "text": [
      "Epoch 87: : 50it [00:27,  1.79it/s, v_num=81, train_loss=0.277]"
     ]
    },
    {
     "name": "stderr",
     "output_type": "stream",
     "text": [
      "Epoch 87, global step 4400: 'train_loss' was not in top 1\n"
     ]
    },
    {
     "name": "stdout",
     "output_type": "stream",
     "text": [
      "Epoch 88: : 50it [00:27,  1.81it/s, v_num=81, train_loss=0.323]"
     ]
    },
    {
     "name": "stderr",
     "output_type": "stream",
     "text": [
      "Epoch 88, global step 4450: 'train_loss' was not in top 1\n"
     ]
    },
    {
     "name": "stdout",
     "output_type": "stream",
     "text": [
      "Epoch 89: : 50it [00:27,  1.80it/s, v_num=81, train_loss=0.306]"
     ]
    },
    {
     "name": "stderr",
     "output_type": "stream",
     "text": [
      "Epoch 89, global step 4500: 'train_loss' was not in top 1\n"
     ]
    },
    {
     "name": "stdout",
     "output_type": "stream",
     "text": [
      "Epoch 90: : 50it [00:27,  1.80it/s, v_num=81, train_loss=0.299]"
     ]
    },
    {
     "name": "stderr",
     "output_type": "stream",
     "text": [
      "Epoch 90, global step 4550: 'train_loss' was not in top 1\n"
     ]
    },
    {
     "name": "stdout",
     "output_type": "stream",
     "text": [
      "Epoch 91: : 50it [00:27,  1.80it/s, v_num=81, train_loss=0.316]"
     ]
    },
    {
     "name": "stderr",
     "output_type": "stream",
     "text": [
      "Epoch 91, global step 4600: 'train_loss' was not in top 1\n"
     ]
    },
    {
     "name": "stdout",
     "output_type": "stream",
     "text": [
      "Epoch 92: : 50it [00:27,  1.82it/s, v_num=81, train_loss=0.304]"
     ]
    },
    {
     "name": "stderr",
     "output_type": "stream",
     "text": [
      "Epoch 92, global step 4650: 'train_loss' was not in top 1\n"
     ]
    },
    {
     "name": "stdout",
     "output_type": "stream",
     "text": [
      "Epoch 93: : 50it [00:27,  1.81it/s, v_num=81, train_loss=0.315]"
     ]
    },
    {
     "name": "stderr",
     "output_type": "stream",
     "text": [
      "Epoch 93, global step 4700: 'train_loss' was not in top 1\n"
     ]
    },
    {
     "name": "stdout",
     "output_type": "stream",
     "text": [
      "Epoch 94: : 50it [00:28,  1.76it/s, v_num=81, train_loss=0.299]"
     ]
    },
    {
     "name": "stderr",
     "output_type": "stream",
     "text": [
      "Epoch 94, global step 4750: 'train_loss' was not in top 1\n"
     ]
    },
    {
     "name": "stdout",
     "output_type": "stream",
     "text": [
      "Epoch 95: : 50it [00:28,  1.76it/s, v_num=81, train_loss=0.278]"
     ]
    },
    {
     "name": "stderr",
     "output_type": "stream",
     "text": [
      "Epoch 95, global step 4800: 'train_loss' was not in top 1\n"
     ]
    },
    {
     "name": "stdout",
     "output_type": "stream",
     "text": [
      "Epoch 96: : 50it [00:27,  1.79it/s, v_num=81, train_loss=0.263]"
     ]
    },
    {
     "name": "stderr",
     "output_type": "stream",
     "text": [
      "Epoch 96, global step 4850: 'train_loss' reached 0.26285 (best 0.26285), saving model to '/root/project_submission_haiperformer/modelling/lightning_logs/version_81/checkpoints/epoch=96-step=4850.ckpt' as top 1\n"
     ]
    },
    {
     "name": "stdout",
     "output_type": "stream",
     "text": [
      "Epoch 97: : 50it [00:28,  1.74it/s, v_num=81, train_loss=0.321]"
     ]
    },
    {
     "name": "stderr",
     "output_type": "stream",
     "text": [
      "Epoch 97, global step 4900: 'train_loss' was not in top 1\n"
     ]
    },
    {
     "name": "stdout",
     "output_type": "stream",
     "text": [
      "Epoch 98: : 50it [00:28,  1.74it/s, v_num=81, train_loss=0.309]"
     ]
    },
    {
     "name": "stderr",
     "output_type": "stream",
     "text": [
      "Epoch 98, global step 4950: 'train_loss' was not in top 1\n"
     ]
    },
    {
     "name": "stdout",
     "output_type": "stream",
     "text": [
      "Epoch 99: : 50it [00:27,  1.80it/s, v_num=81, train_loss=0.283]"
     ]
    },
    {
     "name": "stderr",
     "output_type": "stream",
     "text": [
      "Epoch 99, global step 5000: 'train_loss' was not in top 1\n"
     ]
    },
    {
     "name": "stdout",
     "output_type": "stream",
     "text": [
      "Epoch 100: : 50it [00:28,  1.75it/s, v_num=81, train_loss=0.310]"
     ]
    },
    {
     "name": "stderr",
     "output_type": "stream",
     "text": [
      "Epoch 100, global step 5050: 'train_loss' was not in top 1\n"
     ]
    },
    {
     "name": "stdout",
     "output_type": "stream",
     "text": [
      "Epoch 101: : 50it [00:29,  1.71it/s, v_num=81, train_loss=0.310]"
     ]
    },
    {
     "name": "stderr",
     "output_type": "stream",
     "text": [
      "Epoch 101, global step 5100: 'train_loss' was not in top 1\n"
     ]
    },
    {
     "name": "stdout",
     "output_type": "stream",
     "text": [
      "Epoch 102: : 50it [00:29,  1.72it/s, v_num=81, train_loss=0.357]"
     ]
    },
    {
     "name": "stderr",
     "output_type": "stream",
     "text": [
      "Epoch 102, global step 5150: 'train_loss' was not in top 1\n"
     ]
    },
    {
     "name": "stdout",
     "output_type": "stream",
     "text": [
      "Epoch 103: : 50it [00:28,  1.73it/s, v_num=81, train_loss=0.306]"
     ]
    },
    {
     "name": "stderr",
     "output_type": "stream",
     "text": [
      "Epoch 103, global step 5200: 'train_loss' was not in top 1\n"
     ]
    },
    {
     "name": "stdout",
     "output_type": "stream",
     "text": [
      "Epoch 104: : 50it [00:28,  1.72it/s, v_num=81, train_loss=0.259]"
     ]
    },
    {
     "name": "stderr",
     "output_type": "stream",
     "text": [
      "Epoch 104, global step 5250: 'train_loss' reached 0.25913 (best 0.25913), saving model to '/root/project_submission_haiperformer/modelling/lightning_logs/version_81/checkpoints/epoch=104-step=5250.ckpt' as top 1\n"
     ]
    },
    {
     "name": "stdout",
     "output_type": "stream",
     "text": [
      "Epoch 105: : 50it [00:27,  1.81it/s, v_num=81, train_loss=0.296]"
     ]
    },
    {
     "name": "stderr",
     "output_type": "stream",
     "text": [
      "Epoch 105, global step 5300: 'train_loss' was not in top 1\n"
     ]
    },
    {
     "name": "stdout",
     "output_type": "stream",
     "text": [
      "Epoch 106: : 50it [00:28,  1.73it/s, v_num=81, train_loss=0.293]"
     ]
    },
    {
     "name": "stderr",
     "output_type": "stream",
     "text": [
      "Epoch 106, global step 5350: 'train_loss' was not in top 1\n"
     ]
    },
    {
     "name": "stdout",
     "output_type": "stream",
     "text": [
      "Epoch 107: : 50it [00:27,  1.79it/s, v_num=81, train_loss=0.303]"
     ]
    },
    {
     "name": "stderr",
     "output_type": "stream",
     "text": [
      "Epoch 107, global step 5400: 'train_loss' was not in top 1\n"
     ]
    },
    {
     "name": "stdout",
     "output_type": "stream",
     "text": [
      "Epoch 108: : 50it [00:27,  1.80it/s, v_num=81, train_loss=0.292]"
     ]
    },
    {
     "name": "stderr",
     "output_type": "stream",
     "text": [
      "Epoch 108, global step 5450: 'train_loss' was not in top 1\n"
     ]
    },
    {
     "name": "stdout",
     "output_type": "stream",
     "text": [
      "Epoch 109: : 50it [00:28,  1.75it/s, v_num=81, train_loss=0.300]"
     ]
    },
    {
     "name": "stderr",
     "output_type": "stream",
     "text": [
      "Epoch 109, global step 5500: 'train_loss' was not in top 1\n"
     ]
    },
    {
     "name": "stdout",
     "output_type": "stream",
     "text": [
      "Epoch 110: : 50it [00:29,  1.70it/s, v_num=81, train_loss=0.311]"
     ]
    },
    {
     "name": "stderr",
     "output_type": "stream",
     "text": [
      "Epoch 110, global step 5550: 'train_loss' was not in top 1\n"
     ]
    },
    {
     "name": "stdout",
     "output_type": "stream",
     "text": [
      "Epoch 111: : 50it [00:28,  1.76it/s, v_num=81, train_loss=0.296]"
     ]
    },
    {
     "name": "stderr",
     "output_type": "stream",
     "text": [
      "Epoch 111, global step 5600: 'train_loss' was not in top 1\n"
     ]
    },
    {
     "name": "stdout",
     "output_type": "stream",
     "text": [
      "Epoch 112: : 50it [00:28,  1.74it/s, v_num=81, train_loss=0.276]"
     ]
    },
    {
     "name": "stderr",
     "output_type": "stream",
     "text": [
      "Epoch 112, global step 5650: 'train_loss' was not in top 1\n"
     ]
    },
    {
     "name": "stdout",
     "output_type": "stream",
     "text": [
      "Epoch 113: : 50it [00:28,  1.77it/s, v_num=81, train_loss=0.313]"
     ]
    },
    {
     "name": "stderr",
     "output_type": "stream",
     "text": [
      "Epoch 113, global step 5700: 'train_loss' was not in top 1\n"
     ]
    },
    {
     "name": "stdout",
     "output_type": "stream",
     "text": [
      "Epoch 114: : 50it [00:27,  1.81it/s, v_num=81, train_loss=0.307]"
     ]
    },
    {
     "name": "stderr",
     "output_type": "stream",
     "text": [
      "Epoch 114, global step 5750: 'train_loss' was not in top 1\n"
     ]
    },
    {
     "name": "stdout",
     "output_type": "stream",
     "text": [
      "Epoch 115: : 50it [00:28,  1.74it/s, v_num=81, train_loss=0.309]"
     ]
    },
    {
     "name": "stderr",
     "output_type": "stream",
     "text": [
      "Epoch 115, global step 5800: 'train_loss' was not in top 1\n"
     ]
    },
    {
     "name": "stdout",
     "output_type": "stream",
     "text": [
      "Epoch 116: : 50it [00:29,  1.71it/s, v_num=81, train_loss=0.291]"
     ]
    },
    {
     "name": "stderr",
     "output_type": "stream",
     "text": [
      "Epoch 116, global step 5850: 'train_loss' was not in top 1\n"
     ]
    },
    {
     "name": "stdout",
     "output_type": "stream",
     "text": [
      "Epoch 117: : 50it [00:28,  1.77it/s, v_num=81, train_loss=0.296]"
     ]
    },
    {
     "name": "stderr",
     "output_type": "stream",
     "text": [
      "Epoch 117, global step 5900: 'train_loss' was not in top 1\n"
     ]
    },
    {
     "name": "stdout",
     "output_type": "stream",
     "text": [
      "Epoch 118: : 50it [00:28,  1.77it/s, v_num=81, train_loss=0.335]"
     ]
    },
    {
     "name": "stderr",
     "output_type": "stream",
     "text": [
      "Epoch 118, global step 5950: 'train_loss' was not in top 1\n"
     ]
    },
    {
     "name": "stdout",
     "output_type": "stream",
     "text": [
      "Epoch 119: : 50it [00:27,  1.80it/s, v_num=81, train_loss=0.298]"
     ]
    },
    {
     "name": "stderr",
     "output_type": "stream",
     "text": [
      "Epoch 119, global step 6000: 'train_loss' was not in top 1\n"
     ]
    },
    {
     "name": "stdout",
     "output_type": "stream",
     "text": [
      "Epoch 120: : 50it [00:27,  1.79it/s, v_num=81, train_loss=0.300]"
     ]
    },
    {
     "name": "stderr",
     "output_type": "stream",
     "text": [
      "Epoch 120, global step 6050: 'train_loss' was not in top 1\n"
     ]
    },
    {
     "name": "stdout",
     "output_type": "stream",
     "text": [
      "Epoch 121: : 50it [00:29,  1.72it/s, v_num=81, train_loss=0.307]"
     ]
    },
    {
     "name": "stderr",
     "output_type": "stream",
     "text": [
      "Epoch 121, global step 6100: 'train_loss' was not in top 1\n"
     ]
    },
    {
     "name": "stdout",
     "output_type": "stream",
     "text": [
      "Epoch 122: : 50it [00:27,  1.79it/s, v_num=81, train_loss=0.286]"
     ]
    },
    {
     "name": "stderr",
     "output_type": "stream",
     "text": [
      "Epoch 122, global step 6150: 'train_loss' was not in top 1\n"
     ]
    },
    {
     "name": "stdout",
     "output_type": "stream",
     "text": [
      "Epoch 123: : 50it [00:28,  1.78it/s, v_num=81, train_loss=0.308]"
     ]
    },
    {
     "name": "stderr",
     "output_type": "stream",
     "text": [
      "Epoch 123, global step 6200: 'train_loss' was not in top 1\n"
     ]
    },
    {
     "name": "stdout",
     "output_type": "stream",
     "text": [
      "Epoch 124: : 50it [00:28,  1.77it/s, v_num=81, train_loss=0.277]"
     ]
    },
    {
     "name": "stderr",
     "output_type": "stream",
     "text": [
      "Epoch 124, global step 6250: 'train_loss' was not in top 1\n"
     ]
    },
    {
     "name": "stdout",
     "output_type": "stream",
     "text": [
      "Epoch 125: : 50it [00:27,  1.81it/s, v_num=81, train_loss=0.322]"
     ]
    },
    {
     "name": "stderr",
     "output_type": "stream",
     "text": [
      "Epoch 125, global step 6300: 'train_loss' was not in top 1\n"
     ]
    },
    {
     "name": "stdout",
     "output_type": "stream",
     "text": [
      "Epoch 126: : 50it [00:27,  1.79it/s, v_num=81, train_loss=0.308]"
     ]
    },
    {
     "name": "stderr",
     "output_type": "stream",
     "text": [
      "Epoch 126, global step 6350: 'train_loss' was not in top 1\n"
     ]
    },
    {
     "name": "stdout",
     "output_type": "stream",
     "text": [
      "Epoch 127: : 50it [00:27,  1.80it/s, v_num=81, train_loss=0.340]"
     ]
    },
    {
     "name": "stderr",
     "output_type": "stream",
     "text": [
      "Epoch 127, global step 6400: 'train_loss' was not in top 1\n"
     ]
    },
    {
     "name": "stdout",
     "output_type": "stream",
     "text": [
      "Epoch 128: : 50it [00:27,  1.80it/s, v_num=81, train_loss=0.312]"
     ]
    },
    {
     "name": "stderr",
     "output_type": "stream",
     "text": [
      "Epoch 128, global step 6450: 'train_loss' was not in top 1\n"
     ]
    },
    {
     "name": "stdout",
     "output_type": "stream",
     "text": [
      "Epoch 129: : 50it [00:27,  1.82it/s, v_num=81, train_loss=0.292]"
     ]
    },
    {
     "name": "stderr",
     "output_type": "stream",
     "text": [
      "Epoch 129, global step 6500: 'train_loss' was not in top 1\n"
     ]
    },
    {
     "name": "stdout",
     "output_type": "stream",
     "text": [
      "Epoch 130: : 50it [00:28,  1.78it/s, v_num=81, train_loss=0.304]"
     ]
    },
    {
     "name": "stderr",
     "output_type": "stream",
     "text": [
      "Epoch 130, global step 6550: 'train_loss' was not in top 1\n"
     ]
    },
    {
     "name": "stdout",
     "output_type": "stream",
     "text": [
      "Epoch 131: : 50it [00:28,  1.77it/s, v_num=81, train_loss=0.326]"
     ]
    },
    {
     "name": "stderr",
     "output_type": "stream",
     "text": [
      "Epoch 131, global step 6600: 'train_loss' was not in top 1\n"
     ]
    },
    {
     "name": "stdout",
     "output_type": "stream",
     "text": [
      "Epoch 132: : 50it [00:27,  1.80it/s, v_num=81, train_loss=0.299]"
     ]
    },
    {
     "name": "stderr",
     "output_type": "stream",
     "text": [
      "Epoch 132, global step 6650: 'train_loss' was not in top 1\n"
     ]
    },
    {
     "name": "stdout",
     "output_type": "stream",
     "text": [
      "Epoch 133: : 50it [00:28,  1.74it/s, v_num=81, train_loss=0.298]"
     ]
    },
    {
     "name": "stderr",
     "output_type": "stream",
     "text": [
      "Epoch 133, global step 6700: 'train_loss' was not in top 1\n"
     ]
    },
    {
     "name": "stdout",
     "output_type": "stream",
     "text": [
      "Epoch 134: : 50it [00:27,  1.81it/s, v_num=81, train_loss=0.283]"
     ]
    },
    {
     "name": "stderr",
     "output_type": "stream",
     "text": [
      "Epoch 134, global step 6750: 'train_loss' was not in top 1\n"
     ]
    },
    {
     "name": "stdout",
     "output_type": "stream",
     "text": [
      "Epoch 135: : 50it [00:27,  1.81it/s, v_num=81, train_loss=0.343]"
     ]
    },
    {
     "name": "stderr",
     "output_type": "stream",
     "text": [
      "Epoch 135, global step 6800: 'train_loss' was not in top 1\n"
     ]
    },
    {
     "name": "stdout",
     "output_type": "stream",
     "text": [
      "Epoch 136: : 50it [00:27,  1.83it/s, v_num=81, train_loss=0.342]"
     ]
    },
    {
     "name": "stderr",
     "output_type": "stream",
     "text": [
      "Epoch 136, global step 6850: 'train_loss' was not in top 1\n"
     ]
    },
    {
     "name": "stdout",
     "output_type": "stream",
     "text": [
      "Epoch 137: : 50it [00:27,  1.81it/s, v_num=81, train_loss=0.275]"
     ]
    },
    {
     "name": "stderr",
     "output_type": "stream",
     "text": [
      "Epoch 137, global step 6900: 'train_loss' was not in top 1\n"
     ]
    },
    {
     "name": "stdout",
     "output_type": "stream",
     "text": [
      "Epoch 138: : 50it [00:27,  1.82it/s, v_num=81, train_loss=0.337]"
     ]
    },
    {
     "name": "stderr",
     "output_type": "stream",
     "text": [
      "Epoch 138, global step 6950: 'train_loss' was not in top 1\n"
     ]
    },
    {
     "name": "stdout",
     "output_type": "stream",
     "text": [
      "Epoch 139: : 50it [00:28,  1.78it/s, v_num=81, train_loss=0.330]"
     ]
    },
    {
     "name": "stderr",
     "output_type": "stream",
     "text": [
      "Epoch 139, global step 7000: 'train_loss' was not in top 1\n"
     ]
    },
    {
     "name": "stdout",
     "output_type": "stream",
     "text": [
      "Epoch 140: : 50it [00:28,  1.78it/s, v_num=81, train_loss=0.317]"
     ]
    },
    {
     "name": "stderr",
     "output_type": "stream",
     "text": [
      "Epoch 140, global step 7050: 'train_loss' was not in top 1\n"
     ]
    },
    {
     "name": "stdout",
     "output_type": "stream",
     "text": [
      "Epoch 141: : 50it [00:28,  1.77it/s, v_num=81, train_loss=0.334]"
     ]
    },
    {
     "name": "stderr",
     "output_type": "stream",
     "text": [
      "Epoch 141, global step 7100: 'train_loss' was not in top 1\n"
     ]
    },
    {
     "name": "stdout",
     "output_type": "stream",
     "text": [
      "Epoch 142: : 50it [00:27,  1.79it/s, v_num=81, train_loss=0.332]"
     ]
    },
    {
     "name": "stderr",
     "output_type": "stream",
     "text": [
      "Epoch 142, global step 7150: 'train_loss' was not in top 1\n"
     ]
    },
    {
     "name": "stdout",
     "output_type": "stream",
     "text": [
      "Epoch 143: : 50it [00:27,  1.80it/s, v_num=81, train_loss=0.282]"
     ]
    },
    {
     "name": "stderr",
     "output_type": "stream",
     "text": [
      "Epoch 143, global step 7200: 'train_loss' was not in top 1\n"
     ]
    },
    {
     "name": "stdout",
     "output_type": "stream",
     "text": [
      "Epoch 144: : 50it [00:27,  1.79it/s, v_num=81, train_loss=0.328]"
     ]
    },
    {
     "name": "stderr",
     "output_type": "stream",
     "text": [
      "Epoch 144, global step 7250: 'train_loss' was not in top 1\n"
     ]
    },
    {
     "name": "stdout",
     "output_type": "stream",
     "text": [
      "Epoch 145: : 50it [00:27,  1.81it/s, v_num=81, train_loss=0.331]"
     ]
    },
    {
     "name": "stderr",
     "output_type": "stream",
     "text": [
      "Epoch 145, global step 7300: 'train_loss' was not in top 1\n"
     ]
    },
    {
     "name": "stdout",
     "output_type": "stream",
     "text": [
      "Epoch 146: : 50it [00:27,  1.79it/s, v_num=81, train_loss=0.302]"
     ]
    },
    {
     "name": "stderr",
     "output_type": "stream",
     "text": [
      "Epoch 146, global step 7350: 'train_loss' was not in top 1\n"
     ]
    },
    {
     "name": "stdout",
     "output_type": "stream",
     "text": [
      "Epoch 147: : 50it [00:27,  1.80it/s, v_num=81, train_loss=0.282]"
     ]
    },
    {
     "name": "stderr",
     "output_type": "stream",
     "text": [
      "Epoch 147, global step 7400: 'train_loss' was not in top 1\n"
     ]
    },
    {
     "name": "stdout",
     "output_type": "stream",
     "text": [
      "Epoch 148: : 50it [00:28,  1.76it/s, v_num=81, train_loss=0.286]"
     ]
    },
    {
     "name": "stderr",
     "output_type": "stream",
     "text": [
      "Epoch 148, global step 7450: 'train_loss' was not in top 1\n"
     ]
    },
    {
     "name": "stdout",
     "output_type": "stream",
     "text": [
      "Epoch 149: : 50it [00:28,  1.78it/s, v_num=81, train_loss=0.283]"
     ]
    },
    {
     "name": "stderr",
     "output_type": "stream",
     "text": [
      "Epoch 149, global step 7500: 'train_loss' was not in top 1\n"
     ]
    },
    {
     "name": "stdout",
     "output_type": "stream",
     "text": [
      "Epoch 150: : 50it [00:27,  1.79it/s, v_num=81, train_loss=0.316]"
     ]
    },
    {
     "name": "stderr",
     "output_type": "stream",
     "text": [
      "Epoch 150, global step 7550: 'train_loss' was not in top 1\n"
     ]
    },
    {
     "name": "stdout",
     "output_type": "stream",
     "text": [
      "Epoch 151: : 50it [00:27,  1.79it/s, v_num=81, train_loss=0.310]"
     ]
    },
    {
     "name": "stderr",
     "output_type": "stream",
     "text": [
      "Epoch 151, global step 7600: 'train_loss' was not in top 1\n"
     ]
    },
    {
     "name": "stdout",
     "output_type": "stream",
     "text": [
      "Epoch 152: : 50it [00:28,  1.75it/s, v_num=81, train_loss=0.333]"
     ]
    },
    {
     "name": "stderr",
     "output_type": "stream",
     "text": [
      "Epoch 152, global step 7650: 'train_loss' was not in top 1\n"
     ]
    },
    {
     "name": "stdout",
     "output_type": "stream",
     "text": [
      "Epoch 153: : 50it [00:28,  1.75it/s, v_num=81, train_loss=0.306]"
     ]
    },
    {
     "name": "stderr",
     "output_type": "stream",
     "text": [
      "Epoch 153, global step 7700: 'train_loss' was not in top 1\n"
     ]
    },
    {
     "name": "stdout",
     "output_type": "stream",
     "text": [
      "Epoch 154: : 50it [00:28,  1.78it/s, v_num=81, train_loss=0.289]"
     ]
    },
    {
     "name": "stderr",
     "output_type": "stream",
     "text": [
      "Epoch 154, global step 7750: 'train_loss' was not in top 1\n"
     ]
    },
    {
     "name": "stdout",
     "output_type": "stream",
     "text": [
      "Epoch 155: : 50it [00:28,  1.78it/s, v_num=81, train_loss=0.313]"
     ]
    },
    {
     "name": "stderr",
     "output_type": "stream",
     "text": [
      "Epoch 155, global step 7800: 'train_loss' was not in top 1\n"
     ]
    },
    {
     "name": "stdout",
     "output_type": "stream",
     "text": [
      "Epoch 156: : 50it [00:28,  1.77it/s, v_num=81, train_loss=0.289]"
     ]
    },
    {
     "name": "stderr",
     "output_type": "stream",
     "text": [
      "Epoch 156, global step 7850: 'train_loss' was not in top 1\n"
     ]
    },
    {
     "name": "stdout",
     "output_type": "stream",
     "text": [
      "Epoch 157: : 50it [00:27,  1.81it/s, v_num=81, train_loss=0.300]"
     ]
    },
    {
     "name": "stderr",
     "output_type": "stream",
     "text": [
      "Epoch 157, global step 7900: 'train_loss' was not in top 1\n"
     ]
    },
    {
     "name": "stdout",
     "output_type": "stream",
     "text": [
      "Epoch 158: : 50it [00:28,  1.78it/s, v_num=81, train_loss=0.292]"
     ]
    },
    {
     "name": "stderr",
     "output_type": "stream",
     "text": [
      "Epoch 158, global step 7950: 'train_loss' was not in top 1\n"
     ]
    },
    {
     "name": "stdout",
     "output_type": "stream",
     "text": [
      "Epoch 159: : 50it [00:27,  1.79it/s, v_num=81, train_loss=0.301]"
     ]
    },
    {
     "name": "stderr",
     "output_type": "stream",
     "text": [
      "Epoch 159, global step 8000: 'train_loss' was not in top 1\n"
     ]
    },
    {
     "name": "stdout",
     "output_type": "stream",
     "text": [
      "Epoch 160: : 50it [00:26,  1.88it/s, v_num=81, train_loss=0.299]"
     ]
    },
    {
     "name": "stderr",
     "output_type": "stream",
     "text": [
      "Epoch 160, global step 8050: 'train_loss' was not in top 1\n"
     ]
    },
    {
     "name": "stdout",
     "output_type": "stream",
     "text": [
      "Epoch 161: : 50it [00:26,  1.85it/s, v_num=81, train_loss=0.334]"
     ]
    },
    {
     "name": "stderr",
     "output_type": "stream",
     "text": [
      "Epoch 161, global step 8100: 'train_loss' was not in top 1\n"
     ]
    },
    {
     "name": "stdout",
     "output_type": "stream",
     "text": [
      "Epoch 162: : 50it [00:26,  1.89it/s, v_num=81, train_loss=0.302]"
     ]
    },
    {
     "name": "stderr",
     "output_type": "stream",
     "text": [
      "Epoch 162, global step 8150: 'train_loss' was not in top 1\n"
     ]
    },
    {
     "name": "stdout",
     "output_type": "stream",
     "text": [
      "Epoch 163: : 50it [00:26,  1.87it/s, v_num=81, train_loss=0.325]"
     ]
    },
    {
     "name": "stderr",
     "output_type": "stream",
     "text": [
      "Epoch 163, global step 8200: 'train_loss' was not in top 1\n"
     ]
    },
    {
     "name": "stdout",
     "output_type": "stream",
     "text": [
      "Epoch 164: : 50it [00:26,  1.88it/s, v_num=81, train_loss=0.324]"
     ]
    },
    {
     "name": "stderr",
     "output_type": "stream",
     "text": [
      "Epoch 164, global step 8250: 'train_loss' was not in top 1\n"
     ]
    },
    {
     "name": "stdout",
     "output_type": "stream",
     "text": [
      "Epoch 165: : 50it [00:26,  1.87it/s, v_num=81, train_loss=0.292]"
     ]
    },
    {
     "name": "stderr",
     "output_type": "stream",
     "text": [
      "Epoch 165, global step 8300: 'train_loss' was not in top 1\n"
     ]
    },
    {
     "name": "stdout",
     "output_type": "stream",
     "text": [
      "Epoch 166: : 50it [00:26,  1.87it/s, v_num=81, train_loss=0.350]"
     ]
    },
    {
     "name": "stderr",
     "output_type": "stream",
     "text": [
      "Epoch 166, global step 8350: 'train_loss' was not in top 1\n"
     ]
    },
    {
     "name": "stdout",
     "output_type": "stream",
     "text": [
      "Epoch 167: : 50it [00:26,  1.88it/s, v_num=81, train_loss=0.307]"
     ]
    },
    {
     "name": "stderr",
     "output_type": "stream",
     "text": [
      "Epoch 167, global step 8400: 'train_loss' was not in top 1\n"
     ]
    },
    {
     "name": "stdout",
     "output_type": "stream",
     "text": [
      "Epoch 168: : 50it [00:26,  1.86it/s, v_num=81, train_loss=0.292]"
     ]
    },
    {
     "name": "stderr",
     "output_type": "stream",
     "text": [
      "Epoch 168, global step 8450: 'train_loss' was not in top 1\n"
     ]
    },
    {
     "name": "stdout",
     "output_type": "stream",
     "text": [
      "Epoch 169: : 50it [00:26,  1.86it/s, v_num=81, train_loss=0.291]"
     ]
    },
    {
     "name": "stderr",
     "output_type": "stream",
     "text": [
      "Epoch 169, global step 8500: 'train_loss' was not in top 1\n"
     ]
    },
    {
     "name": "stdout",
     "output_type": "stream",
     "text": [
      "Epoch 170: : 50it [00:26,  1.86it/s, v_num=81, train_loss=0.270]"
     ]
    },
    {
     "name": "stderr",
     "output_type": "stream",
     "text": [
      "Epoch 170, global step 8550: 'train_loss' was not in top 1\n"
     ]
    },
    {
     "name": "stdout",
     "output_type": "stream",
     "text": [
      "Epoch 171: : 50it [00:26,  1.87it/s, v_num=81, train_loss=0.321]"
     ]
    },
    {
     "name": "stderr",
     "output_type": "stream",
     "text": [
      "Epoch 171, global step 8600: 'train_loss' was not in top 1\n"
     ]
    },
    {
     "name": "stdout",
     "output_type": "stream",
     "text": [
      "Epoch 172: : 50it [00:27,  1.83it/s, v_num=81, train_loss=0.315]"
     ]
    },
    {
     "name": "stderr",
     "output_type": "stream",
     "text": [
      "Epoch 172, global step 8650: 'train_loss' was not in top 1\n"
     ]
    },
    {
     "name": "stdout",
     "output_type": "stream",
     "text": [
      "Epoch 173: : 50it [00:27,  1.79it/s, v_num=81, train_loss=0.344]"
     ]
    },
    {
     "name": "stderr",
     "output_type": "stream",
     "text": [
      "Epoch 173, global step 8700: 'train_loss' was not in top 1\n"
     ]
    },
    {
     "name": "stdout",
     "output_type": "stream",
     "text": [
      "Epoch 174: : 50it [00:27,  1.79it/s, v_num=81, train_loss=0.310]"
     ]
    },
    {
     "name": "stderr",
     "output_type": "stream",
     "text": [
      "Epoch 174, global step 8750: 'train_loss' was not in top 1\n"
     ]
    },
    {
     "name": "stdout",
     "output_type": "stream",
     "text": [
      "Epoch 175: : 50it [00:28,  1.78it/s, v_num=81, train_loss=0.307]"
     ]
    },
    {
     "name": "stderr",
     "output_type": "stream",
     "text": [
      "Epoch 175, global step 8800: 'train_loss' was not in top 1\n"
     ]
    },
    {
     "name": "stdout",
     "output_type": "stream",
     "text": [
      "Epoch 176: : 50it [00:28,  1.77it/s, v_num=81, train_loss=0.306]"
     ]
    },
    {
     "name": "stderr",
     "output_type": "stream",
     "text": [
      "Epoch 176, global step 8850: 'train_loss' was not in top 1\n"
     ]
    },
    {
     "name": "stdout",
     "output_type": "stream",
     "text": [
      "Epoch 177: : 50it [00:28,  1.75it/s, v_num=81, train_loss=0.334]"
     ]
    },
    {
     "name": "stderr",
     "output_type": "stream",
     "text": [
      "Epoch 177, global step 8900: 'train_loss' was not in top 1\n"
     ]
    },
    {
     "name": "stdout",
     "output_type": "stream",
     "text": [
      "Epoch 178: : 50it [00:28,  1.76it/s, v_num=81, train_loss=0.310]"
     ]
    },
    {
     "name": "stderr",
     "output_type": "stream",
     "text": [
      "Epoch 178, global step 8950: 'train_loss' was not in top 1\n"
     ]
    },
    {
     "name": "stdout",
     "output_type": "stream",
     "text": [
      "Epoch 179: : 50it [00:28,  1.78it/s, v_num=81, train_loss=0.319]"
     ]
    },
    {
     "name": "stderr",
     "output_type": "stream",
     "text": [
      "Epoch 179, global step 9000: 'train_loss' was not in top 1\n"
     ]
    },
    {
     "name": "stdout",
     "output_type": "stream",
     "text": [
      "Epoch 180: : 50it [00:27,  1.79it/s, v_num=81, train_loss=0.343]"
     ]
    },
    {
     "name": "stderr",
     "output_type": "stream",
     "text": [
      "Epoch 180, global step 9050: 'train_loss' was not in top 1\n"
     ]
    },
    {
     "name": "stdout",
     "output_type": "stream",
     "text": [
      "Epoch 181: : 50it [00:27,  1.80it/s, v_num=81, train_loss=0.282]"
     ]
    },
    {
     "name": "stderr",
     "output_type": "stream",
     "text": [
      "Epoch 181, global step 9100: 'train_loss' was not in top 1\n"
     ]
    },
    {
     "name": "stdout",
     "output_type": "stream",
     "text": [
      "Epoch 182: : 50it [00:27,  1.81it/s, v_num=81, train_loss=0.344]"
     ]
    },
    {
     "name": "stderr",
     "output_type": "stream",
     "text": [
      "Epoch 182, global step 9150: 'train_loss' was not in top 1\n"
     ]
    },
    {
     "name": "stdout",
     "output_type": "stream",
     "text": [
      "Epoch 183: : 50it [00:27,  1.81it/s, v_num=81, train_loss=0.310]"
     ]
    },
    {
     "name": "stderr",
     "output_type": "stream",
     "text": [
      "Epoch 183, global step 9200: 'train_loss' was not in top 1\n"
     ]
    },
    {
     "name": "stdout",
     "output_type": "stream",
     "text": [
      "Epoch 184: : 50it [00:27,  1.79it/s, v_num=81, train_loss=0.307]"
     ]
    },
    {
     "name": "stderr",
     "output_type": "stream",
     "text": [
      "Epoch 184, global step 9250: 'train_loss' was not in top 1\n"
     ]
    },
    {
     "name": "stdout",
     "output_type": "stream",
     "text": [
      "Epoch 185: : 50it [00:27,  1.81it/s, v_num=81, train_loss=0.286]"
     ]
    },
    {
     "name": "stderr",
     "output_type": "stream",
     "text": [
      "Epoch 185, global step 9300: 'train_loss' was not in top 1\n"
     ]
    },
    {
     "name": "stdout",
     "output_type": "stream",
     "text": [
      "Epoch 186: : 50it [00:27,  1.80it/s, v_num=81, train_loss=0.304]"
     ]
    },
    {
     "name": "stderr",
     "output_type": "stream",
     "text": [
      "Epoch 186, global step 9350: 'train_loss' was not in top 1\n"
     ]
    },
    {
     "name": "stdout",
     "output_type": "stream",
     "text": [
      "Epoch 187: : 50it [00:28,  1.77it/s, v_num=81, train_loss=0.345]"
     ]
    },
    {
     "name": "stderr",
     "output_type": "stream",
     "text": [
      "Epoch 187, global step 9400: 'train_loss' was not in top 1\n"
     ]
    },
    {
     "name": "stdout",
     "output_type": "stream",
     "text": [
      "Epoch 188: : 50it [00:27,  1.79it/s, v_num=81, train_loss=0.291]"
     ]
    },
    {
     "name": "stderr",
     "output_type": "stream",
     "text": [
      "Epoch 188, global step 9450: 'train_loss' was not in top 1\n"
     ]
    },
    {
     "name": "stdout",
     "output_type": "stream",
     "text": [
      "Epoch 189: : 50it [00:28,  1.77it/s, v_num=81, train_loss=0.298]"
     ]
    },
    {
     "name": "stderr",
     "output_type": "stream",
     "text": [
      "Epoch 189, global step 9500: 'train_loss' was not in top 1\n"
     ]
    },
    {
     "name": "stdout",
     "output_type": "stream",
     "text": [
      "Epoch 190: : 50it [00:27,  1.79it/s, v_num=81, train_loss=0.286]"
     ]
    },
    {
     "name": "stderr",
     "output_type": "stream",
     "text": [
      "Epoch 190, global step 9550: 'train_loss' was not in top 1\n"
     ]
    },
    {
     "name": "stdout",
     "output_type": "stream",
     "text": [
      "Epoch 191: : 50it [00:28,  1.78it/s, v_num=81, train_loss=0.356]"
     ]
    },
    {
     "name": "stderr",
     "output_type": "stream",
     "text": [
      "Epoch 191, global step 9600: 'train_loss' was not in top 1\n"
     ]
    },
    {
     "name": "stdout",
     "output_type": "stream",
     "text": [
      "Epoch 192: : 50it [00:28,  1.78it/s, v_num=81, train_loss=0.284]"
     ]
    },
    {
     "name": "stderr",
     "output_type": "stream",
     "text": [
      "Epoch 192, global step 9650: 'train_loss' was not in top 1\n"
     ]
    },
    {
     "name": "stdout",
     "output_type": "stream",
     "text": [
      "Epoch 193: : 50it [00:28,  1.77it/s, v_num=81, train_loss=0.300]"
     ]
    },
    {
     "name": "stderr",
     "output_type": "stream",
     "text": [
      "Epoch 193, global step 9700: 'train_loss' was not in top 1\n"
     ]
    },
    {
     "name": "stdout",
     "output_type": "stream",
     "text": [
      "Epoch 194: : 50it [00:27,  1.79it/s, v_num=81, train_loss=0.304]"
     ]
    },
    {
     "name": "stderr",
     "output_type": "stream",
     "text": [
      "Epoch 194, global step 9750: 'train_loss' was not in top 1\n"
     ]
    },
    {
     "name": "stdout",
     "output_type": "stream",
     "text": [
      "Epoch 195: : 50it [00:28,  1.76it/s, v_num=81, train_loss=0.281]"
     ]
    },
    {
     "name": "stderr",
     "output_type": "stream",
     "text": [
      "Epoch 195, global step 9800: 'train_loss' was not in top 1\n"
     ]
    },
    {
     "name": "stdout",
     "output_type": "stream",
     "text": [
      "Epoch 196: : 50it [00:28,  1.78it/s, v_num=81, train_loss=0.335]"
     ]
    },
    {
     "name": "stderr",
     "output_type": "stream",
     "text": [
      "Epoch 196, global step 9850: 'train_loss' was not in top 1\n"
     ]
    },
    {
     "name": "stdout",
     "output_type": "stream",
     "text": [
      "Epoch 197: : 50it [00:28,  1.78it/s, v_num=81, train_loss=0.264]"
     ]
    },
    {
     "name": "stderr",
     "output_type": "stream",
     "text": [
      "Epoch 197, global step 9900: 'train_loss' was not in top 1\n"
     ]
    },
    {
     "name": "stdout",
     "output_type": "stream",
     "text": [
      "Epoch 198: : 50it [00:28,  1.78it/s, v_num=81, train_loss=0.315]"
     ]
    },
    {
     "name": "stderr",
     "output_type": "stream",
     "text": [
      "Epoch 198, global step 9950: 'train_loss' was not in top 1\n"
     ]
    },
    {
     "name": "stdout",
     "output_type": "stream",
     "text": [
      "Epoch 199: : 50it [00:29,  1.67it/s, v_num=81, train_loss=0.314]"
     ]
    },
    {
     "name": "stderr",
     "output_type": "stream",
     "text": [
      "Epoch 199, global step 10000: 'train_loss' was not in top 1\n"
     ]
    },
    {
     "name": "stdout",
     "output_type": "stream",
     "text": [
      "Epoch 200: : 50it [00:29,  1.67it/s, v_num=81, train_loss=0.325]"
     ]
    },
    {
     "name": "stderr",
     "output_type": "stream",
     "text": [
      "Epoch 200, global step 10050: 'train_loss' was not in top 1\n"
     ]
    },
    {
     "name": "stdout",
     "output_type": "stream",
     "text": [
      "Epoch 201: : 50it [00:29,  1.70it/s, v_num=81, train_loss=0.318]"
     ]
    },
    {
     "name": "stderr",
     "output_type": "stream",
     "text": [
      "Epoch 201, global step 10100: 'train_loss' was not in top 1\n"
     ]
    },
    {
     "name": "stdout",
     "output_type": "stream",
     "text": [
      "Epoch 202: : 50it [00:29,  1.70it/s, v_num=81, train_loss=0.308]"
     ]
    },
    {
     "name": "stderr",
     "output_type": "stream",
     "text": [
      "Epoch 202, global step 10150: 'train_loss' was not in top 1\n"
     ]
    },
    {
     "name": "stdout",
     "output_type": "stream",
     "text": [
      "Epoch 203: : 50it [00:29,  1.68it/s, v_num=81, train_loss=0.322]"
     ]
    },
    {
     "name": "stderr",
     "output_type": "stream",
     "text": [
      "Epoch 203, global step 10200: 'train_loss' was not in top 1\n"
     ]
    },
    {
     "name": "stdout",
     "output_type": "stream",
     "text": [
      "Epoch 204: : 50it [00:29,  1.69it/s, v_num=81, train_loss=0.328]"
     ]
    },
    {
     "name": "stderr",
     "output_type": "stream",
     "text": [
      "Epoch 204, global step 10250: 'train_loss' was not in top 1\n"
     ]
    },
    {
     "name": "stdout",
     "output_type": "stream",
     "text": [
      "Epoch 205: : 50it [00:29,  1.69it/s, v_num=81, train_loss=0.298]"
     ]
    },
    {
     "name": "stderr",
     "output_type": "stream",
     "text": [
      "Epoch 205, global step 10300: 'train_loss' was not in top 1\n"
     ]
    },
    {
     "name": "stdout",
     "output_type": "stream",
     "text": [
      "Epoch 206: : 50it [00:29,  1.71it/s, v_num=81, train_loss=0.342]"
     ]
    },
    {
     "name": "stderr",
     "output_type": "stream",
     "text": [
      "Epoch 206, global step 10350: 'train_loss' was not in top 1\n"
     ]
    },
    {
     "name": "stdout",
     "output_type": "stream",
     "text": [
      "Epoch 207: : 50it [00:29,  1.71it/s, v_num=81, train_loss=0.325]"
     ]
    },
    {
     "name": "stderr",
     "output_type": "stream",
     "text": [
      "Epoch 207, global step 10400: 'train_loss' was not in top 1\n"
     ]
    },
    {
     "name": "stdout",
     "output_type": "stream",
     "text": [
      "Epoch 208: : 50it [00:28,  1.74it/s, v_num=81, train_loss=0.288]"
     ]
    },
    {
     "name": "stderr",
     "output_type": "stream",
     "text": [
      "Epoch 208, global step 10450: 'train_loss' was not in top 1\n"
     ]
    },
    {
     "name": "stdout",
     "output_type": "stream",
     "text": [
      "Epoch 209: : 50it [00:29,  1.71it/s, v_num=81, train_loss=0.291]"
     ]
    },
    {
     "name": "stderr",
     "output_type": "stream",
     "text": [
      "Epoch 209, global step 10500: 'train_loss' was not in top 1\n"
     ]
    },
    {
     "name": "stdout",
     "output_type": "stream",
     "text": [
      "Epoch 210: : 50it [00:29,  1.71it/s, v_num=81, train_loss=0.285]"
     ]
    },
    {
     "name": "stderr",
     "output_type": "stream",
     "text": [
      "Epoch 210, global step 10550: 'train_loss' was not in top 1\n"
     ]
    },
    {
     "name": "stdout",
     "output_type": "stream",
     "text": [
      "Epoch 211: : 50it [00:30,  1.65it/s, v_num=81, train_loss=0.314]"
     ]
    },
    {
     "name": "stderr",
     "output_type": "stream",
     "text": [
      "Epoch 211, global step 10600: 'train_loss' was not in top 1\n"
     ]
    },
    {
     "name": "stdout",
     "output_type": "stream",
     "text": [
      "Epoch 212: : 50it [00:30,  1.66it/s, v_num=81, train_loss=0.284]"
     ]
    },
    {
     "name": "stderr",
     "output_type": "stream",
     "text": [
      "Epoch 212, global step 10650: 'train_loss' was not in top 1\n"
     ]
    },
    {
     "name": "stdout",
     "output_type": "stream",
     "text": [
      "Epoch 213: : 50it [00:29,  1.68it/s, v_num=81, train_loss=0.287]"
     ]
    },
    {
     "name": "stderr",
     "output_type": "stream",
     "text": [
      "Epoch 213, global step 10700: 'train_loss' was not in top 1\n"
     ]
    },
    {
     "name": "stdout",
     "output_type": "stream",
     "text": [
      "Epoch 214: : 50it [00:29,  1.69it/s, v_num=81, train_loss=0.280]"
     ]
    },
    {
     "name": "stderr",
     "output_type": "stream",
     "text": [
      "Epoch 214, global step 10750: 'train_loss' was not in top 1\n"
     ]
    },
    {
     "name": "stdout",
     "output_type": "stream",
     "text": [
      "Epoch 215: : 50it [00:29,  1.71it/s, v_num=81, train_loss=0.268]"
     ]
    },
    {
     "name": "stderr",
     "output_type": "stream",
     "text": [
      "Epoch 215, global step 10800: 'train_loss' was not in top 1\n"
     ]
    },
    {
     "name": "stdout",
     "output_type": "stream",
     "text": [
      "Epoch 216: : 50it [00:29,  1.71it/s, v_num=81, train_loss=0.308]"
     ]
    },
    {
     "name": "stderr",
     "output_type": "stream",
     "text": [
      "Epoch 216, global step 10850: 'train_loss' was not in top 1\n"
     ]
    },
    {
     "name": "stdout",
     "output_type": "stream",
     "text": [
      "Epoch 217: : 50it [00:29,  1.70it/s, v_num=81, train_loss=0.313]"
     ]
    },
    {
     "name": "stderr",
     "output_type": "stream",
     "text": [
      "Epoch 217, global step 10900: 'train_loss' was not in top 1\n"
     ]
    },
    {
     "name": "stdout",
     "output_type": "stream",
     "text": [
      "Epoch 218: : 50it [00:29,  1.69it/s, v_num=81, train_loss=0.309]"
     ]
    },
    {
     "name": "stderr",
     "output_type": "stream",
     "text": [
      "Epoch 218, global step 10950: 'train_loss' was not in top 1\n"
     ]
    },
    {
     "name": "stdout",
     "output_type": "stream",
     "text": [
      "Epoch 219: : 50it [00:29,  1.67it/s, v_num=81, train_loss=0.295]"
     ]
    },
    {
     "name": "stderr",
     "output_type": "stream",
     "text": [
      "Epoch 219, global step 11000: 'train_loss' was not in top 1\n"
     ]
    },
    {
     "name": "stdout",
     "output_type": "stream",
     "text": [
      "Epoch 220: : 50it [00:29,  1.68it/s, v_num=81, train_loss=0.355]"
     ]
    },
    {
     "name": "stderr",
     "output_type": "stream",
     "text": [
      "Epoch 220, global step 11050: 'train_loss' was not in top 1\n"
     ]
    },
    {
     "name": "stdout",
     "output_type": "stream",
     "text": [
      "Epoch 221: : 50it [00:29,  1.69it/s, v_num=81, train_loss=0.309]"
     ]
    },
    {
     "name": "stderr",
     "output_type": "stream",
     "text": [
      "Epoch 221, global step 11100: 'train_loss' was not in top 1\n"
     ]
    },
    {
     "name": "stdout",
     "output_type": "stream",
     "text": [
      "Epoch 222: : 50it [00:29,  1.68it/s, v_num=81, train_loss=0.286]"
     ]
    },
    {
     "name": "stderr",
     "output_type": "stream",
     "text": [
      "Epoch 222, global step 11150: 'train_loss' was not in top 1\n"
     ]
    },
    {
     "name": "stdout",
     "output_type": "stream",
     "text": [
      "Epoch 223: : 50it [00:29,  1.68it/s, v_num=81, train_loss=0.300]"
     ]
    },
    {
     "name": "stderr",
     "output_type": "stream",
     "text": [
      "Epoch 223, global step 11200: 'train_loss' was not in top 1\n"
     ]
    },
    {
     "name": "stdout",
     "output_type": "stream",
     "text": [
      "Epoch 224: : 50it [00:29,  1.72it/s, v_num=81, train_loss=0.316]"
     ]
    },
    {
     "name": "stderr",
     "output_type": "stream",
     "text": [
      "Epoch 224, global step 11250: 'train_loss' was not in top 1\n"
     ]
    },
    {
     "name": "stdout",
     "output_type": "stream",
     "text": [
      "Epoch 225: : 50it [00:29,  1.70it/s, v_num=81, train_loss=0.334]"
     ]
    },
    {
     "name": "stderr",
     "output_type": "stream",
     "text": [
      "Epoch 225, global step 11300: 'train_loss' was not in top 1\n"
     ]
    },
    {
     "name": "stdout",
     "output_type": "stream",
     "text": [
      "Epoch 226: : 50it [00:28,  1.74it/s, v_num=81, train_loss=0.301]"
     ]
    },
    {
     "name": "stderr",
     "output_type": "stream",
     "text": [
      "Epoch 226, global step 11350: 'train_loss' was not in top 1\n"
     ]
    },
    {
     "name": "stdout",
     "output_type": "stream",
     "text": [
      "Epoch 227: : 50it [00:30,  1.67it/s, v_num=81, train_loss=0.258]"
     ]
    },
    {
     "name": "stderr",
     "output_type": "stream",
     "text": [
      "Epoch 227, global step 11400: 'train_loss' reached 0.25776 (best 0.25776), saving model to '/root/project_submission_haiperformer/modelling/lightning_logs/version_81/checkpoints/epoch=227-step=11400.ckpt' as top 1\n"
     ]
    },
    {
     "name": "stdout",
     "output_type": "stream",
     "text": [
      "Epoch 228: : 50it [00:29,  1.71it/s, v_num=81, train_loss=0.322]"
     ]
    },
    {
     "name": "stderr",
     "output_type": "stream",
     "text": [
      "Epoch 228, global step 11450: 'train_loss' was not in top 1\n"
     ]
    },
    {
     "name": "stdout",
     "output_type": "stream",
     "text": [
      "Epoch 229: : 50it [00:29,  1.67it/s, v_num=81, train_loss=0.318]"
     ]
    },
    {
     "name": "stderr",
     "output_type": "stream",
     "text": [
      "Epoch 229, global step 11500: 'train_loss' was not in top 1\n"
     ]
    },
    {
     "name": "stdout",
     "output_type": "stream",
     "text": [
      "Epoch 230: : 50it [00:29,  1.71it/s, v_num=81, train_loss=0.346]"
     ]
    },
    {
     "name": "stderr",
     "output_type": "stream",
     "text": [
      "Epoch 230, global step 11550: 'train_loss' was not in top 1\n"
     ]
    },
    {
     "name": "stdout",
     "output_type": "stream",
     "text": [
      "Epoch 231: : 50it [00:29,  1.70it/s, v_num=81, train_loss=0.324]"
     ]
    },
    {
     "name": "stderr",
     "output_type": "stream",
     "text": [
      "Epoch 231, global step 11600: 'train_loss' was not in top 1\n"
     ]
    },
    {
     "name": "stdout",
     "output_type": "stream",
     "text": [
      "Epoch 232: : 50it [00:28,  1.75it/s, v_num=81, train_loss=0.340]"
     ]
    },
    {
     "name": "stderr",
     "output_type": "stream",
     "text": [
      "Epoch 232, global step 11650: 'train_loss' was not in top 1\n"
     ]
    },
    {
     "name": "stdout",
     "output_type": "stream",
     "text": [
      "Epoch 233: : 50it [00:27,  1.79it/s, v_num=81, train_loss=0.322]"
     ]
    },
    {
     "name": "stderr",
     "output_type": "stream",
     "text": [
      "Epoch 233, global step 11700: 'train_loss' was not in top 1\n"
     ]
    },
    {
     "name": "stdout",
     "output_type": "stream",
     "text": [
      "Epoch 234: : 50it [00:28,  1.77it/s, v_num=81, train_loss=0.288]"
     ]
    },
    {
     "name": "stderr",
     "output_type": "stream",
     "text": [
      "Epoch 234, global step 11750: 'train_loss' was not in top 1\n"
     ]
    },
    {
     "name": "stdout",
     "output_type": "stream",
     "text": [
      "Epoch 235: : 50it [00:28,  1.78it/s, v_num=81, train_loss=0.318]"
     ]
    },
    {
     "name": "stderr",
     "output_type": "stream",
     "text": [
      "Epoch 235, global step 11800: 'train_loss' was not in top 1\n"
     ]
    },
    {
     "name": "stdout",
     "output_type": "stream",
     "text": [
      "Epoch 236: : 50it [00:27,  1.79it/s, v_num=81, train_loss=0.307]"
     ]
    },
    {
     "name": "stderr",
     "output_type": "stream",
     "text": [
      "Epoch 236, global step 11850: 'train_loss' was not in top 1\n"
     ]
    },
    {
     "name": "stdout",
     "output_type": "stream",
     "text": [
      "Epoch 237: : 50it [00:27,  1.82it/s, v_num=81, train_loss=0.294]"
     ]
    },
    {
     "name": "stderr",
     "output_type": "stream",
     "text": [
      "Epoch 237, global step 11900: 'train_loss' was not in top 1\n"
     ]
    },
    {
     "name": "stdout",
     "output_type": "stream",
     "text": [
      "Epoch 238: : 50it [00:28,  1.77it/s, v_num=81, train_loss=0.333]"
     ]
    },
    {
     "name": "stderr",
     "output_type": "stream",
     "text": [
      "Epoch 238, global step 11950: 'train_loss' was not in top 1\n"
     ]
    },
    {
     "name": "stdout",
     "output_type": "stream",
     "text": [
      "Epoch 239: : 50it [00:28,  1.78it/s, v_num=81, train_loss=0.323]"
     ]
    },
    {
     "name": "stderr",
     "output_type": "stream",
     "text": [
      "Epoch 239, global step 12000: 'train_loss' was not in top 1\n"
     ]
    },
    {
     "name": "stdout",
     "output_type": "stream",
     "text": [
      "Epoch 240: : 50it [00:28,  1.77it/s, v_num=81, train_loss=0.315]"
     ]
    },
    {
     "name": "stderr",
     "output_type": "stream",
     "text": [
      "Epoch 240, global step 12050: 'train_loss' was not in top 1\n"
     ]
    },
    {
     "name": "stdout",
     "output_type": "stream",
     "text": [
      "Epoch 241: : 50it [00:28,  1.76it/s, v_num=81, train_loss=0.313]"
     ]
    },
    {
     "name": "stderr",
     "output_type": "stream",
     "text": [
      "Epoch 241, global step 12100: 'train_loss' was not in top 1\n"
     ]
    },
    {
     "name": "stdout",
     "output_type": "stream",
     "text": [
      "Epoch 242: : 50it [00:28,  1.74it/s, v_num=81, train_loss=0.344]"
     ]
    },
    {
     "name": "stderr",
     "output_type": "stream",
     "text": [
      "Epoch 242, global step 12150: 'train_loss' was not in top 1\n"
     ]
    },
    {
     "name": "stdout",
     "output_type": "stream",
     "text": [
      "Epoch 243: : 50it [00:28,  1.76it/s, v_num=81, train_loss=0.306]"
     ]
    },
    {
     "name": "stderr",
     "output_type": "stream",
     "text": [
      "Epoch 243, global step 12200: 'train_loss' was not in top 1\n"
     ]
    },
    {
     "name": "stdout",
     "output_type": "stream",
     "text": [
      "Epoch 244: : 50it [00:28,  1.77it/s, v_num=81, train_loss=0.280]"
     ]
    },
    {
     "name": "stderr",
     "output_type": "stream",
     "text": [
      "Epoch 244, global step 12250: 'train_loss' was not in top 1\n"
     ]
    },
    {
     "name": "stdout",
     "output_type": "stream",
     "text": [
      "Epoch 245: : 50it [00:28,  1.75it/s, v_num=81, train_loss=0.272]"
     ]
    },
    {
     "name": "stderr",
     "output_type": "stream",
     "text": [
      "Epoch 245, global step 12300: 'train_loss' was not in top 1\n"
     ]
    },
    {
     "name": "stdout",
     "output_type": "stream",
     "text": [
      "Epoch 246: : 50it [00:28,  1.76it/s, v_num=81, train_loss=0.289]"
     ]
    },
    {
     "name": "stderr",
     "output_type": "stream",
     "text": [
      "Epoch 246, global step 12350: 'train_loss' was not in top 1\n"
     ]
    },
    {
     "name": "stdout",
     "output_type": "stream",
     "text": [
      "Epoch 247: : 50it [00:28,  1.76it/s, v_num=81, train_loss=0.354]"
     ]
    },
    {
     "name": "stderr",
     "output_type": "stream",
     "text": [
      "Epoch 247, global step 12400: 'train_loss' was not in top 1\n"
     ]
    },
    {
     "name": "stdout",
     "output_type": "stream",
     "text": [
      "Epoch 248: : 50it [00:28,  1.76it/s, v_num=81, train_loss=0.291]"
     ]
    },
    {
     "name": "stderr",
     "output_type": "stream",
     "text": [
      "Epoch 248, global step 12450: 'train_loss' was not in top 1\n"
     ]
    },
    {
     "name": "stdout",
     "output_type": "stream",
     "text": [
      "Epoch 249: : 50it [00:28,  1.75it/s, v_num=81, train_loss=0.328]"
     ]
    },
    {
     "name": "stderr",
     "output_type": "stream",
     "text": [
      "Epoch 249, global step 12500: 'train_loss' was not in top 1\n"
     ]
    },
    {
     "name": "stdout",
     "output_type": "stream",
     "text": [
      "Epoch 250: : 50it [00:28,  1.76it/s, v_num=81, train_loss=0.333]"
     ]
    },
    {
     "name": "stderr",
     "output_type": "stream",
     "text": [
      "Epoch 250, global step 12550: 'train_loss' was not in top 1\n"
     ]
    },
    {
     "name": "stdout",
     "output_type": "stream",
     "text": [
      "Epoch 251: : 50it [00:28,  1.77it/s, v_num=81, train_loss=0.294]"
     ]
    },
    {
     "name": "stderr",
     "output_type": "stream",
     "text": [
      "Epoch 251, global step 12600: 'train_loss' was not in top 1\n"
     ]
    },
    {
     "name": "stdout",
     "output_type": "stream",
     "text": [
      "Epoch 252: : 50it [00:28,  1.77it/s, v_num=81, train_loss=0.307]"
     ]
    },
    {
     "name": "stderr",
     "output_type": "stream",
     "text": [
      "Epoch 252, global step 12650: 'train_loss' was not in top 1\n"
     ]
    },
    {
     "name": "stdout",
     "output_type": "stream",
     "text": [
      "Epoch 253: : 50it [00:28,  1.74it/s, v_num=81, train_loss=0.295]"
     ]
    },
    {
     "name": "stderr",
     "output_type": "stream",
     "text": [
      "Epoch 253, global step 12700: 'train_loss' was not in top 1\n"
     ]
    },
    {
     "name": "stdout",
     "output_type": "stream",
     "text": [
      "Epoch 254: : 50it [00:28,  1.76it/s, v_num=81, train_loss=0.283]"
     ]
    },
    {
     "name": "stderr",
     "output_type": "stream",
     "text": [
      "Epoch 254, global step 12750: 'train_loss' was not in top 1\n"
     ]
    },
    {
     "name": "stdout",
     "output_type": "stream",
     "text": [
      "Epoch 255: : 50it [00:28,  1.77it/s, v_num=81, train_loss=0.331]"
     ]
    },
    {
     "name": "stderr",
     "output_type": "stream",
     "text": [
      "Epoch 255, global step 12800: 'train_loss' was not in top 1\n"
     ]
    },
    {
     "name": "stdout",
     "output_type": "stream",
     "text": [
      "Epoch 256: : 50it [00:28,  1.75it/s, v_num=81, train_loss=0.328]"
     ]
    },
    {
     "name": "stderr",
     "output_type": "stream",
     "text": [
      "Epoch 256, global step 12850: 'train_loss' was not in top 1\n"
     ]
    },
    {
     "name": "stdout",
     "output_type": "stream",
     "text": [
      "Epoch 257: : 50it [00:28,  1.75it/s, v_num=81, train_loss=0.283]"
     ]
    },
    {
     "name": "stderr",
     "output_type": "stream",
     "text": [
      "Epoch 257, global step 12900: 'train_loss' was not in top 1\n"
     ]
    },
    {
     "name": "stdout",
     "output_type": "stream",
     "text": [
      "Epoch 258: : 50it [00:28,  1.75it/s, v_num=81, train_loss=0.277]"
     ]
    },
    {
     "name": "stderr",
     "output_type": "stream",
     "text": [
      "Epoch 258, global step 12950: 'train_loss' was not in top 1\n"
     ]
    },
    {
     "name": "stdout",
     "output_type": "stream",
     "text": [
      "Epoch 259: : 50it [00:28,  1.74it/s, v_num=81, train_loss=0.249]"
     ]
    },
    {
     "name": "stderr",
     "output_type": "stream",
     "text": [
      "Epoch 259, global step 13000: 'train_loss' reached 0.24911 (best 0.24911), saving model to '/root/project_submission_haiperformer/modelling/lightning_logs/version_81/checkpoints/epoch=259-step=13000.ckpt' as top 1\n"
     ]
    },
    {
     "name": "stdout",
     "output_type": "stream",
     "text": [
      "Epoch 260: : 50it [00:28,  1.73it/s, v_num=81, train_loss=0.280]"
     ]
    },
    {
     "name": "stderr",
     "output_type": "stream",
     "text": [
      "Epoch 260, global step 13050: 'train_loss' was not in top 1\n"
     ]
    },
    {
     "name": "stdout",
     "output_type": "stream",
     "text": [
      "Epoch 261: : 50it [00:28,  1.73it/s, v_num=81, train_loss=0.325]"
     ]
    },
    {
     "name": "stderr",
     "output_type": "stream",
     "text": [
      "Epoch 261, global step 13100: 'train_loss' was not in top 1\n"
     ]
    },
    {
     "name": "stdout",
     "output_type": "stream",
     "text": [
      "Epoch 262: : 50it [00:28,  1.74it/s, v_num=81, train_loss=0.297]"
     ]
    },
    {
     "name": "stderr",
     "output_type": "stream",
     "text": [
      "Epoch 262, global step 13150: 'train_loss' was not in top 1\n"
     ]
    },
    {
     "name": "stdout",
     "output_type": "stream",
     "text": [
      "Epoch 263: : 50it [00:28,  1.76it/s, v_num=81, train_loss=0.256]"
     ]
    },
    {
     "name": "stderr",
     "output_type": "stream",
     "text": [
      "Epoch 263, global step 13200: 'train_loss' was not in top 1\n"
     ]
    },
    {
     "name": "stdout",
     "output_type": "stream",
     "text": [
      "Epoch 264: : 50it [00:28,  1.73it/s, v_num=81, train_loss=0.312]"
     ]
    },
    {
     "name": "stderr",
     "output_type": "stream",
     "text": [
      "Epoch 264, global step 13250: 'train_loss' was not in top 1\n"
     ]
    },
    {
     "name": "stdout",
     "output_type": "stream",
     "text": [
      "Epoch 265: : 50it [00:28,  1.76it/s, v_num=81, train_loss=0.315]"
     ]
    },
    {
     "name": "stderr",
     "output_type": "stream",
     "text": [
      "Epoch 265, global step 13300: 'train_loss' was not in top 1\n"
     ]
    },
    {
     "name": "stdout",
     "output_type": "stream",
     "text": [
      "Epoch 266: : 50it [00:28,  1.75it/s, v_num=81, train_loss=0.329]"
     ]
    },
    {
     "name": "stderr",
     "output_type": "stream",
     "text": [
      "Epoch 266, global step 13350: 'train_loss' was not in top 1\n"
     ]
    },
    {
     "name": "stdout",
     "output_type": "stream",
     "text": [
      "Epoch 267: : 50it [00:28,  1.77it/s, v_num=81, train_loss=0.319]"
     ]
    },
    {
     "name": "stderr",
     "output_type": "stream",
     "text": [
      "Epoch 267, global step 13400: 'train_loss' was not in top 1\n"
     ]
    },
    {
     "name": "stdout",
     "output_type": "stream",
     "text": [
      "Epoch 268: : 50it [00:28,  1.75it/s, v_num=81, train_loss=0.294]"
     ]
    },
    {
     "name": "stderr",
     "output_type": "stream",
     "text": [
      "Epoch 268, global step 13450: 'train_loss' was not in top 1\n"
     ]
    },
    {
     "name": "stdout",
     "output_type": "stream",
     "text": [
      "Epoch 269: : 50it [00:28,  1.75it/s, v_num=81, train_loss=0.303]"
     ]
    },
    {
     "name": "stderr",
     "output_type": "stream",
     "text": [
      "Epoch 269, global step 13500: 'train_loss' was not in top 1\n"
     ]
    },
    {
     "name": "stdout",
     "output_type": "stream",
     "text": [
      "Epoch 270: : 50it [00:28,  1.75it/s, v_num=81, train_loss=0.316]"
     ]
    },
    {
     "name": "stderr",
     "output_type": "stream",
     "text": [
      "Epoch 270, global step 13550: 'train_loss' was not in top 1\n"
     ]
    },
    {
     "name": "stdout",
     "output_type": "stream",
     "text": [
      "Epoch 271: : 50it [00:28,  1.77it/s, v_num=81, train_loss=0.292]"
     ]
    },
    {
     "name": "stderr",
     "output_type": "stream",
     "text": [
      "Epoch 271, global step 13600: 'train_loss' was not in top 1\n"
     ]
    },
    {
     "name": "stdout",
     "output_type": "stream",
     "text": [
      "Epoch 272: : 50it [00:28,  1.77it/s, v_num=81, train_loss=0.310]"
     ]
    },
    {
     "name": "stderr",
     "output_type": "stream",
     "text": [
      "Epoch 272, global step 13650: 'train_loss' was not in top 1\n"
     ]
    },
    {
     "name": "stdout",
     "output_type": "stream",
     "text": [
      "Epoch 273: : 50it [00:28,  1.75it/s, v_num=81, train_loss=0.346]"
     ]
    },
    {
     "name": "stderr",
     "output_type": "stream",
     "text": [
      "Epoch 273, global step 13700: 'train_loss' was not in top 1\n"
     ]
    },
    {
     "name": "stdout",
     "output_type": "stream",
     "text": [
      "Epoch 274: : 50it [00:28,  1.74it/s, v_num=81, train_loss=0.301]"
     ]
    },
    {
     "name": "stderr",
     "output_type": "stream",
     "text": [
      "Epoch 274, global step 13750: 'train_loss' was not in top 1\n"
     ]
    },
    {
     "name": "stdout",
     "output_type": "stream",
     "text": [
      "Epoch 275: : 50it [00:28,  1.77it/s, v_num=81, train_loss=0.330]"
     ]
    },
    {
     "name": "stderr",
     "output_type": "stream",
     "text": [
      "Epoch 275, global step 13800: 'train_loss' was not in top 1\n"
     ]
    },
    {
     "name": "stdout",
     "output_type": "stream",
     "text": [
      "Epoch 276: : 50it [00:28,  1.78it/s, v_num=81, train_loss=0.324]"
     ]
    },
    {
     "name": "stderr",
     "output_type": "stream",
     "text": [
      "Epoch 276, global step 13850: 'train_loss' was not in top 1\n"
     ]
    },
    {
     "name": "stdout",
     "output_type": "stream",
     "text": [
      "Epoch 277: : 50it [00:28,  1.78it/s, v_num=81, train_loss=0.309]"
     ]
    },
    {
     "name": "stderr",
     "output_type": "stream",
     "text": [
      "Epoch 277, global step 13900: 'train_loss' was not in top 1\n"
     ]
    },
    {
     "name": "stdout",
     "output_type": "stream",
     "text": [
      "Epoch 278: : 50it [00:28,  1.77it/s, v_num=81, train_loss=0.310]"
     ]
    },
    {
     "name": "stderr",
     "output_type": "stream",
     "text": [
      "Epoch 278, global step 13950: 'train_loss' was not in top 1\n"
     ]
    },
    {
     "name": "stdout",
     "output_type": "stream",
     "text": [
      "Epoch 279: : 50it [00:27,  1.79it/s, v_num=81, train_loss=0.311]"
     ]
    },
    {
     "name": "stderr",
     "output_type": "stream",
     "text": [
      "Epoch 279, global step 14000: 'train_loss' was not in top 1\n"
     ]
    },
    {
     "name": "stdout",
     "output_type": "stream",
     "text": [
      "Epoch 280: : 50it [00:27,  1.79it/s, v_num=81, train_loss=0.309]"
     ]
    },
    {
     "name": "stderr",
     "output_type": "stream",
     "text": [
      "Epoch 280, global step 14050: 'train_loss' was not in top 1\n"
     ]
    },
    {
     "name": "stdout",
     "output_type": "stream",
     "text": [
      "Epoch 281: : 50it [00:29,  1.67it/s, v_num=81, train_loss=0.292]"
     ]
    },
    {
     "name": "stderr",
     "output_type": "stream",
     "text": [
      "Epoch 281, global step 14100: 'train_loss' was not in top 1\n"
     ]
    },
    {
     "name": "stdout",
     "output_type": "stream",
     "text": [
      "Epoch 282: : 50it [00:28,  1.74it/s, v_num=81, train_loss=0.312]"
     ]
    },
    {
     "name": "stderr",
     "output_type": "stream",
     "text": [
      "Epoch 282, global step 14150: 'train_loss' was not in top 1\n"
     ]
    },
    {
     "name": "stdout",
     "output_type": "stream",
     "text": [
      "Epoch 283: : 50it [00:28,  1.79it/s, v_num=81, train_loss=0.259]"
     ]
    },
    {
     "name": "stderr",
     "output_type": "stream",
     "text": [
      "Epoch 283, global step 14200: 'train_loss' was not in top 1\n"
     ]
    },
    {
     "name": "stdout",
     "output_type": "stream",
     "text": [
      "Epoch 284: : 50it [00:27,  1.79it/s, v_num=81, train_loss=0.298]"
     ]
    },
    {
     "name": "stderr",
     "output_type": "stream",
     "text": [
      "Epoch 284, global step 14250: 'train_loss' was not in top 1\n"
     ]
    },
    {
     "name": "stdout",
     "output_type": "stream",
     "text": [
      "Epoch 285: : 50it [00:27,  1.79it/s, v_num=81, train_loss=0.289]"
     ]
    },
    {
     "name": "stderr",
     "output_type": "stream",
     "text": [
      "Epoch 285, global step 14300: 'train_loss' was not in top 1\n"
     ]
    },
    {
     "name": "stdout",
     "output_type": "stream",
     "text": [
      "Epoch 286: : 50it [00:27,  1.81it/s, v_num=81, train_loss=0.322]"
     ]
    },
    {
     "name": "stderr",
     "output_type": "stream",
     "text": [
      "Epoch 286, global step 14350: 'train_loss' was not in top 1\n"
     ]
    },
    {
     "name": "stdout",
     "output_type": "stream",
     "text": [
      "Epoch 287: : 50it [00:27,  1.80it/s, v_num=81, train_loss=0.296]"
     ]
    },
    {
     "name": "stderr",
     "output_type": "stream",
     "text": [
      "Epoch 287, global step 14400: 'train_loss' was not in top 1\n"
     ]
    },
    {
     "name": "stdout",
     "output_type": "stream",
     "text": [
      "Epoch 288: : 50it [00:27,  1.80it/s, v_num=81, train_loss=0.319]"
     ]
    },
    {
     "name": "stderr",
     "output_type": "stream",
     "text": [
      "Epoch 288, global step 14450: 'train_loss' was not in top 1\n"
     ]
    },
    {
     "name": "stdout",
     "output_type": "stream",
     "text": [
      "Epoch 289: : 50it [00:27,  1.80it/s, v_num=81, train_loss=0.316]"
     ]
    },
    {
     "name": "stderr",
     "output_type": "stream",
     "text": [
      "Epoch 289, global step 14500: 'train_loss' was not in top 1\n"
     ]
    },
    {
     "name": "stdout",
     "output_type": "stream",
     "text": [
      "Epoch 290: : 50it [00:27,  1.80it/s, v_num=81, train_loss=0.314]"
     ]
    },
    {
     "name": "stderr",
     "output_type": "stream",
     "text": [
      "Epoch 290, global step 14550: 'train_loss' was not in top 1\n"
     ]
    },
    {
     "name": "stdout",
     "output_type": "stream",
     "text": [
      "Epoch 291: : 50it [00:27,  1.79it/s, v_num=81, train_loss=0.291]"
     ]
    },
    {
     "name": "stderr",
     "output_type": "stream",
     "text": [
      "Epoch 291, global step 14600: 'train_loss' was not in top 1\n"
     ]
    },
    {
     "name": "stdout",
     "output_type": "stream",
     "text": [
      "Epoch 292: : 50it [00:27,  1.80it/s, v_num=81, train_loss=0.292]"
     ]
    },
    {
     "name": "stderr",
     "output_type": "stream",
     "text": [
      "Epoch 292, global step 14650: 'train_loss' was not in top 1\n"
     ]
    },
    {
     "name": "stdout",
     "output_type": "stream",
     "text": [
      "Epoch 293: : 50it [00:28,  1.77it/s, v_num=81, train_loss=0.294]"
     ]
    },
    {
     "name": "stderr",
     "output_type": "stream",
     "text": [
      "Epoch 293, global step 14700: 'train_loss' was not in top 1\n"
     ]
    },
    {
     "name": "stdout",
     "output_type": "stream",
     "text": [
      "Epoch 294: : 50it [00:27,  1.79it/s, v_num=81, train_loss=0.320]"
     ]
    },
    {
     "name": "stderr",
     "output_type": "stream",
     "text": [
      "Epoch 294, global step 14750: 'train_loss' was not in top 1\n"
     ]
    },
    {
     "name": "stdout",
     "output_type": "stream",
     "text": [
      "Epoch 295: : 50it [00:28,  1.78it/s, v_num=81, train_loss=0.325]"
     ]
    },
    {
     "name": "stderr",
     "output_type": "stream",
     "text": [
      "Epoch 295, global step 14800: 'train_loss' was not in top 1\n"
     ]
    },
    {
     "name": "stdout",
     "output_type": "stream",
     "text": [
      "Epoch 296: : 50it [00:28,  1.78it/s, v_num=81, train_loss=0.274]"
     ]
    },
    {
     "name": "stderr",
     "output_type": "stream",
     "text": [
      "Epoch 296, global step 14850: 'train_loss' was not in top 1\n"
     ]
    },
    {
     "name": "stdout",
     "output_type": "stream",
     "text": [
      "Epoch 297: : 50it [00:27,  1.80it/s, v_num=81, train_loss=0.334]"
     ]
    },
    {
     "name": "stderr",
     "output_type": "stream",
     "text": [
      "Epoch 297, global step 14900: 'train_loss' was not in top 1\n"
     ]
    },
    {
     "name": "stdout",
     "output_type": "stream",
     "text": [
      "Epoch 298: : 50it [00:27,  1.79it/s, v_num=81, train_loss=0.322]"
     ]
    },
    {
     "name": "stderr",
     "output_type": "stream",
     "text": [
      "Epoch 298, global step 14950: 'train_loss' was not in top 1\n"
     ]
    },
    {
     "name": "stdout",
     "output_type": "stream",
     "text": [
      "Epoch 299: : 50it [00:27,  1.80it/s, v_num=81, train_loss=0.306]"
     ]
    },
    {
     "name": "stderr",
     "output_type": "stream",
     "text": [
      "Epoch 299, global step 15000: 'train_loss' was not in top 1\n"
     ]
    },
    {
     "name": "stdout",
     "output_type": "stream",
     "text": [
      "Epoch 300: : 50it [00:30,  1.66it/s, v_num=81, train_loss=0.301]"
     ]
    },
    {
     "name": "stderr",
     "output_type": "stream",
     "text": [
      "Epoch 300, global step 15050: 'train_loss' was not in top 1\n"
     ]
    },
    {
     "name": "stdout",
     "output_type": "stream",
     "text": [
      "Epoch 301: : 50it [00:29,  1.71it/s, v_num=81, train_loss=0.326]"
     ]
    },
    {
     "name": "stderr",
     "output_type": "stream",
     "text": [
      "Epoch 301, global step 15100: 'train_loss' was not in top 1\n"
     ]
    },
    {
     "name": "stdout",
     "output_type": "stream",
     "text": [
      "Epoch 302: : 50it [00:29,  1.68it/s, v_num=81, train_loss=0.292]"
     ]
    },
    {
     "name": "stderr",
     "output_type": "stream",
     "text": [
      "Epoch 302, global step 15150: 'train_loss' was not in top 1\n"
     ]
    },
    {
     "name": "stdout",
     "output_type": "stream",
     "text": [
      "Epoch 303: : 50it [00:28,  1.74it/s, v_num=81, train_loss=0.310]"
     ]
    },
    {
     "name": "stderr",
     "output_type": "stream",
     "text": [
      "Epoch 303, global step 15200: 'train_loss' was not in top 1\n"
     ]
    },
    {
     "name": "stdout",
     "output_type": "stream",
     "text": [
      "Epoch 304: : 50it [00:28,  1.76it/s, v_num=81, train_loss=0.297]"
     ]
    },
    {
     "name": "stderr",
     "output_type": "stream",
     "text": [
      "Epoch 304, global step 15250: 'train_loss' was not in top 1\n"
     ]
    },
    {
     "name": "stdout",
     "output_type": "stream",
     "text": [
      "Epoch 305: : 50it [00:28,  1.78it/s, v_num=81, train_loss=0.299]"
     ]
    },
    {
     "name": "stderr",
     "output_type": "stream",
     "text": [
      "Epoch 305, global step 15300: 'train_loss' was not in top 1\n"
     ]
    },
    {
     "name": "stdout",
     "output_type": "stream",
     "text": [
      "Epoch 306: : 50it [00:28,  1.75it/s, v_num=81, train_loss=0.324]"
     ]
    },
    {
     "name": "stderr",
     "output_type": "stream",
     "text": [
      "Epoch 306, global step 15350: 'train_loss' was not in top 1\n"
     ]
    },
    {
     "name": "stdout",
     "output_type": "stream",
     "text": [
      "Epoch 307: : 50it [00:29,  1.68it/s, v_num=81, train_loss=0.301]"
     ]
    },
    {
     "name": "stderr",
     "output_type": "stream",
     "text": [
      "Epoch 307, global step 15400: 'train_loss' was not in top 1\n"
     ]
    },
    {
     "name": "stdout",
     "output_type": "stream",
     "text": [
      "Epoch 308: : 50it [00:28,  1.73it/s, v_num=81, train_loss=0.292]"
     ]
    },
    {
     "name": "stderr",
     "output_type": "stream",
     "text": [
      "Epoch 308, global step 15450: 'train_loss' was not in top 1\n"
     ]
    },
    {
     "name": "stdout",
     "output_type": "stream",
     "text": [
      "Epoch 309: : 50it [00:28,  1.74it/s, v_num=81, train_loss=0.327]"
     ]
    },
    {
     "name": "stderr",
     "output_type": "stream",
     "text": [
      "Epoch 309, global step 15500: 'train_loss' was not in top 1\n"
     ]
    },
    {
     "name": "stdout",
     "output_type": "stream",
     "text": [
      "Epoch 310: : 50it [00:28,  1.77it/s, v_num=81, train_loss=0.325]"
     ]
    },
    {
     "name": "stderr",
     "output_type": "stream",
     "text": [
      "Epoch 310, global step 15550: 'train_loss' was not in top 1\n"
     ]
    },
    {
     "name": "stdout",
     "output_type": "stream",
     "text": [
      "Epoch 311: : 50it [00:28,  1.77it/s, v_num=81, train_loss=0.325]"
     ]
    },
    {
     "name": "stderr",
     "output_type": "stream",
     "text": [
      "Epoch 311, global step 15600: 'train_loss' was not in top 1\n"
     ]
    },
    {
     "name": "stdout",
     "output_type": "stream",
     "text": [
      "Epoch 312: : 50it [00:27,  1.80it/s, v_num=81, train_loss=0.271]"
     ]
    },
    {
     "name": "stderr",
     "output_type": "stream",
     "text": [
      "Epoch 312, global step 15650: 'train_loss' was not in top 1\n"
     ]
    },
    {
     "name": "stdout",
     "output_type": "stream",
     "text": [
      "Epoch 313: : 50it [00:28,  1.79it/s, v_num=81, train_loss=0.288]"
     ]
    },
    {
     "name": "stderr",
     "output_type": "stream",
     "text": [
      "Epoch 313, global step 15700: 'train_loss' was not in top 1\n"
     ]
    },
    {
     "name": "stdout",
     "output_type": "stream",
     "text": [
      "Epoch 314: : 50it [00:28,  1.78it/s, v_num=81, train_loss=0.313]"
     ]
    },
    {
     "name": "stderr",
     "output_type": "stream",
     "text": [
      "Epoch 314, global step 15750: 'train_loss' was not in top 1\n"
     ]
    },
    {
     "name": "stdout",
     "output_type": "stream",
     "text": [
      "Epoch 315: : 50it [00:29,  1.71it/s, v_num=81, train_loss=0.327]"
     ]
    },
    {
     "name": "stderr",
     "output_type": "stream",
     "text": [
      "Epoch 315, global step 15800: 'train_loss' was not in top 1\n"
     ]
    },
    {
     "name": "stdout",
     "output_type": "stream",
     "text": [
      "Epoch 316: : 50it [00:29,  1.69it/s, v_num=81, train_loss=0.339]"
     ]
    },
    {
     "name": "stderr",
     "output_type": "stream",
     "text": [
      "Epoch 316, global step 15850: 'train_loss' was not in top 1\n"
     ]
    },
    {
     "name": "stdout",
     "output_type": "stream",
     "text": [
      "Epoch 317: : 50it [00:29,  1.70it/s, v_num=81, train_loss=0.335]"
     ]
    },
    {
     "name": "stderr",
     "output_type": "stream",
     "text": [
      "Epoch 317, global step 15900: 'train_loss' was not in top 1\n"
     ]
    },
    {
     "name": "stdout",
     "output_type": "stream",
     "text": [
      "Epoch 318: : 50it [00:28,  1.77it/s, v_num=81, train_loss=0.355]"
     ]
    },
    {
     "name": "stderr",
     "output_type": "stream",
     "text": [
      "Epoch 318, global step 15950: 'train_loss' was not in top 1\n"
     ]
    },
    {
     "name": "stdout",
     "output_type": "stream",
     "text": [
      "Epoch 319: : 50it [00:28,  1.77it/s, v_num=81, train_loss=0.284]"
     ]
    },
    {
     "name": "stderr",
     "output_type": "stream",
     "text": [
      "Epoch 319, global step 16000: 'train_loss' was not in top 1\n"
     ]
    },
    {
     "name": "stdout",
     "output_type": "stream",
     "text": [
      "Epoch 320: : 50it [00:28,  1.75it/s, v_num=81, train_loss=0.296]"
     ]
    },
    {
     "name": "stderr",
     "output_type": "stream",
     "text": [
      "Epoch 320, global step 16050: 'train_loss' was not in top 1\n"
     ]
    },
    {
     "name": "stdout",
     "output_type": "stream",
     "text": [
      "Epoch 321: : 50it [00:28,  1.77it/s, v_num=81, train_loss=0.325]"
     ]
    },
    {
     "name": "stderr",
     "output_type": "stream",
     "text": [
      "Epoch 321, global step 16100: 'train_loss' was not in top 1\n"
     ]
    },
    {
     "name": "stdout",
     "output_type": "stream",
     "text": [
      "Epoch 322: : 50it [00:28,  1.77it/s, v_num=81, train_loss=0.311]"
     ]
    },
    {
     "name": "stderr",
     "output_type": "stream",
     "text": [
      "Epoch 322, global step 16150: 'train_loss' was not in top 1\n"
     ]
    },
    {
     "name": "stdout",
     "output_type": "stream",
     "text": [
      "Epoch 323: : 50it [00:28,  1.75it/s, v_num=81, train_loss=0.298]"
     ]
    },
    {
     "name": "stderr",
     "output_type": "stream",
     "text": [
      "Epoch 323, global step 16200: 'train_loss' was not in top 1\n"
     ]
    },
    {
     "name": "stdout",
     "output_type": "stream",
     "text": [
      "Epoch 324: : 50it [00:28,  1.73it/s, v_num=81, train_loss=0.323]"
     ]
    },
    {
     "name": "stderr",
     "output_type": "stream",
     "text": [
      "Epoch 324, global step 16250: 'train_loss' was not in top 1\n"
     ]
    },
    {
     "name": "stdout",
     "output_type": "stream",
     "text": [
      "Epoch 325: : 50it [00:29,  1.70it/s, v_num=81, train_loss=0.311]"
     ]
    },
    {
     "name": "stderr",
     "output_type": "stream",
     "text": [
      "Epoch 325, global step 16300: 'train_loss' was not in top 1\n"
     ]
    },
    {
     "name": "stdout",
     "output_type": "stream",
     "text": [
      "Epoch 326: : 50it [00:27,  1.79it/s, v_num=81, train_loss=0.291]"
     ]
    },
    {
     "name": "stderr",
     "output_type": "stream",
     "text": [
      "Epoch 326, global step 16350: 'train_loss' was not in top 1\n"
     ]
    },
    {
     "name": "stdout",
     "output_type": "stream",
     "text": [
      "Epoch 327: : 50it [00:28,  1.73it/s, v_num=81, train_loss=0.320]"
     ]
    },
    {
     "name": "stderr",
     "output_type": "stream",
     "text": [
      "Epoch 327, global step 16400: 'train_loss' was not in top 1\n"
     ]
    },
    {
     "name": "stdout",
     "output_type": "stream",
     "text": [
      "Epoch 328: : 50it [00:27,  1.80it/s, v_num=81, train_loss=0.299]"
     ]
    },
    {
     "name": "stderr",
     "output_type": "stream",
     "text": [
      "Epoch 328, global step 16450: 'train_loss' was not in top 1\n"
     ]
    },
    {
     "name": "stdout",
     "output_type": "stream",
     "text": [
      "Epoch 329: : 50it [00:28,  1.78it/s, v_num=81, train_loss=0.274]"
     ]
    },
    {
     "name": "stderr",
     "output_type": "stream",
     "text": [
      "Epoch 329, global step 16500: 'train_loss' was not in top 1\n"
     ]
    },
    {
     "name": "stdout",
     "output_type": "stream",
     "text": [
      "Epoch 330: : 50it [00:28,  1.78it/s, v_num=81, train_loss=0.327]"
     ]
    },
    {
     "name": "stderr",
     "output_type": "stream",
     "text": [
      "Epoch 330, global step 16550: 'train_loss' was not in top 1\n"
     ]
    },
    {
     "name": "stdout",
     "output_type": "stream",
     "text": [
      "Epoch 331: : 50it [00:28,  1.78it/s, v_num=81, train_loss=0.331]"
     ]
    },
    {
     "name": "stderr",
     "output_type": "stream",
     "text": [
      "Epoch 331, global step 16600: 'train_loss' was not in top 1\n"
     ]
    },
    {
     "name": "stdout",
     "output_type": "stream",
     "text": [
      "Epoch 332: : 50it [00:27,  1.80it/s, v_num=81, train_loss=0.370]"
     ]
    },
    {
     "name": "stderr",
     "output_type": "stream",
     "text": [
      "Epoch 332, global step 16650: 'train_loss' was not in top 1\n"
     ]
    },
    {
     "name": "stdout",
     "output_type": "stream",
     "text": [
      "Epoch 333: : 50it [00:29,  1.72it/s, v_num=81, train_loss=0.303]"
     ]
    },
    {
     "name": "stderr",
     "output_type": "stream",
     "text": [
      "Epoch 333, global step 16700: 'train_loss' was not in top 1\n"
     ]
    },
    {
     "name": "stdout",
     "output_type": "stream",
     "text": [
      "Epoch 334: : 50it [00:28,  1.75it/s, v_num=81, train_loss=0.327]"
     ]
    },
    {
     "name": "stderr",
     "output_type": "stream",
     "text": [
      "Epoch 334, global step 16750: 'train_loss' was not in top 1\n"
     ]
    },
    {
     "name": "stdout",
     "output_type": "stream",
     "text": [
      "Epoch 335: : 50it [00:28,  1.77it/s, v_num=81, train_loss=0.310]"
     ]
    },
    {
     "name": "stderr",
     "output_type": "stream",
     "text": [
      "Epoch 335, global step 16800: 'train_loss' was not in top 1\n"
     ]
    },
    {
     "name": "stdout",
     "output_type": "stream",
     "text": [
      "Epoch 336: : 50it [00:27,  1.80it/s, v_num=81, train_loss=0.296]"
     ]
    },
    {
     "name": "stderr",
     "output_type": "stream",
     "text": [
      "Epoch 336, global step 16850: 'train_loss' was not in top 1\n"
     ]
    },
    {
     "name": "stdout",
     "output_type": "stream",
     "text": [
      "Epoch 337: : 50it [00:28,  1.76it/s, v_num=81, train_loss=0.282]"
     ]
    },
    {
     "name": "stderr",
     "output_type": "stream",
     "text": [
      "Epoch 337, global step 16900: 'train_loss' was not in top 1\n"
     ]
    },
    {
     "name": "stdout",
     "output_type": "stream",
     "text": [
      "Epoch 338: : 50it [00:28,  1.78it/s, v_num=81, train_loss=0.308]"
     ]
    },
    {
     "name": "stderr",
     "output_type": "stream",
     "text": [
      "Epoch 338, global step 16950: 'train_loss' was not in top 1\n"
     ]
    },
    {
     "name": "stdout",
     "output_type": "stream",
     "text": [
      "Epoch 339: : 50it [00:28,  1.76it/s, v_num=81, train_loss=0.335]"
     ]
    },
    {
     "name": "stderr",
     "output_type": "stream",
     "text": [
      "Epoch 339, global step 17000: 'train_loss' was not in top 1\n"
     ]
    },
    {
     "name": "stdout",
     "output_type": "stream",
     "text": [
      "Epoch 340: : 50it [00:27,  1.80it/s, v_num=81, train_loss=0.318]"
     ]
    },
    {
     "name": "stderr",
     "output_type": "stream",
     "text": [
      "Epoch 340, global step 17050: 'train_loss' was not in top 1\n"
     ]
    },
    {
     "name": "stdout",
     "output_type": "stream",
     "text": [
      "Epoch 341: : 50it [00:27,  1.81it/s, v_num=81, train_loss=0.315]"
     ]
    },
    {
     "name": "stderr",
     "output_type": "stream",
     "text": [
      "Epoch 341, global step 17100: 'train_loss' was not in top 1\n"
     ]
    },
    {
     "name": "stdout",
     "output_type": "stream",
     "text": [
      "Epoch 342: : 50it [00:28,  1.73it/s, v_num=81, train_loss=0.308]"
     ]
    },
    {
     "name": "stderr",
     "output_type": "stream",
     "text": [
      "Epoch 342, global step 17150: 'train_loss' was not in top 1\n"
     ]
    },
    {
     "name": "stdout",
     "output_type": "stream",
     "text": [
      "Epoch 343: : 50it [00:27,  1.79it/s, v_num=81, train_loss=0.320]"
     ]
    },
    {
     "name": "stderr",
     "output_type": "stream",
     "text": [
      "Epoch 343, global step 17200: 'train_loss' was not in top 1\n"
     ]
    },
    {
     "name": "stdout",
     "output_type": "stream",
     "text": [
      "Epoch 344: : 50it [00:28,  1.75it/s, v_num=81, train_loss=0.300]"
     ]
    },
    {
     "name": "stderr",
     "output_type": "stream",
     "text": [
      "Epoch 344, global step 17250: 'train_loss' was not in top 1\n"
     ]
    },
    {
     "name": "stdout",
     "output_type": "stream",
     "text": [
      "Epoch 345: : 50it [00:29,  1.71it/s, v_num=81, train_loss=0.329]"
     ]
    },
    {
     "name": "stderr",
     "output_type": "stream",
     "text": [
      "Epoch 345, global step 17300: 'train_loss' was not in top 1\n"
     ]
    },
    {
     "name": "stdout",
     "output_type": "stream",
     "text": [
      "Epoch 346: : 50it [00:27,  1.80it/s, v_num=81, train_loss=0.277]"
     ]
    },
    {
     "name": "stderr",
     "output_type": "stream",
     "text": [
      "Epoch 346, global step 17350: 'train_loss' was not in top 1\n"
     ]
    },
    {
     "name": "stdout",
     "output_type": "stream",
     "text": [
      "Epoch 347: : 50it [00:27,  1.81it/s, v_num=81, train_loss=0.330]"
     ]
    },
    {
     "name": "stderr",
     "output_type": "stream",
     "text": [
      "Epoch 347, global step 17400: 'train_loss' was not in top 1\n"
     ]
    },
    {
     "name": "stdout",
     "output_type": "stream",
     "text": [
      "Epoch 348: : 50it [00:28,  1.78it/s, v_num=81, train_loss=0.327]"
     ]
    },
    {
     "name": "stderr",
     "output_type": "stream",
     "text": [
      "Epoch 348, global step 17450: 'train_loss' was not in top 1\n"
     ]
    },
    {
     "name": "stdout",
     "output_type": "stream",
     "text": [
      "Epoch 349: : 50it [00:28,  1.77it/s, v_num=81, train_loss=0.287]"
     ]
    },
    {
     "name": "stderr",
     "output_type": "stream",
     "text": [
      "Epoch 349, global step 17500: 'train_loss' was not in top 1\n"
     ]
    },
    {
     "name": "stdout",
     "output_type": "stream",
     "text": [
      "Epoch 350: : 50it [00:28,  1.74it/s, v_num=81, train_loss=0.270]"
     ]
    },
    {
     "name": "stderr",
     "output_type": "stream",
     "text": [
      "Epoch 350, global step 17550: 'train_loss' was not in top 1\n"
     ]
    },
    {
     "name": "stdout",
     "output_type": "stream",
     "text": [
      "Epoch 351: : 50it [00:27,  1.82it/s, v_num=81, train_loss=0.310]"
     ]
    },
    {
     "name": "stderr",
     "output_type": "stream",
     "text": [
      "Epoch 351, global step 17600: 'train_loss' was not in top 1\n"
     ]
    },
    {
     "name": "stdout",
     "output_type": "stream",
     "text": [
      "Epoch 352: : 50it [00:28,  1.77it/s, v_num=81, train_loss=0.263]"
     ]
    },
    {
     "name": "stderr",
     "output_type": "stream",
     "text": [
      "Epoch 352, global step 17650: 'train_loss' was not in top 1\n"
     ]
    },
    {
     "name": "stdout",
     "output_type": "stream",
     "text": [
      "Epoch 353: : 50it [00:28,  1.75it/s, v_num=81, train_loss=0.296]"
     ]
    },
    {
     "name": "stderr",
     "output_type": "stream",
     "text": [
      "Epoch 353, global step 17700: 'train_loss' was not in top 1\n"
     ]
    },
    {
     "name": "stdout",
     "output_type": "stream",
     "text": [
      "Epoch 354: : 50it [00:28,  1.74it/s, v_num=81, train_loss=0.276]"
     ]
    },
    {
     "name": "stderr",
     "output_type": "stream",
     "text": [
      "Epoch 354, global step 17750: 'train_loss' was not in top 1\n"
     ]
    },
    {
     "name": "stdout",
     "output_type": "stream",
     "text": [
      "Epoch 355: : 50it [00:28,  1.73it/s, v_num=81, train_loss=0.332]"
     ]
    },
    {
     "name": "stderr",
     "output_type": "stream",
     "text": [
      "Epoch 355, global step 17800: 'train_loss' was not in top 1\n"
     ]
    },
    {
     "name": "stdout",
     "output_type": "stream",
     "text": [
      "Epoch 356: : 50it [00:28,  1.75it/s, v_num=81, train_loss=0.304]"
     ]
    },
    {
     "name": "stderr",
     "output_type": "stream",
     "text": [
      "Epoch 356, global step 17850: 'train_loss' was not in top 1\n"
     ]
    },
    {
     "name": "stdout",
     "output_type": "stream",
     "text": [
      "Epoch 357: : 50it [00:29,  1.72it/s, v_num=81, train_loss=0.342]"
     ]
    },
    {
     "name": "stderr",
     "output_type": "stream",
     "text": [
      "Epoch 357, global step 17900: 'train_loss' was not in top 1\n"
     ]
    },
    {
     "name": "stdout",
     "output_type": "stream",
     "text": [
      "Epoch 358: : 50it [00:29,  1.71it/s, v_num=81, train_loss=0.350]"
     ]
    },
    {
     "name": "stderr",
     "output_type": "stream",
     "text": [
      "Epoch 358, global step 17950: 'train_loss' was not in top 1\n"
     ]
    },
    {
     "name": "stdout",
     "output_type": "stream",
     "text": [
      "Epoch 359: : 50it [00:28,  1.77it/s, v_num=81, train_loss=0.325]"
     ]
    },
    {
     "name": "stderr",
     "output_type": "stream",
     "text": [
      "Epoch 359, global step 18000: 'train_loss' was not in top 1\n"
     ]
    },
    {
     "name": "stdout",
     "output_type": "stream",
     "text": [
      "Epoch 360: : 50it [00:27,  1.80it/s, v_num=81, train_loss=0.309]"
     ]
    },
    {
     "name": "stderr",
     "output_type": "stream",
     "text": [
      "Epoch 360, global step 18050: 'train_loss' was not in top 1\n"
     ]
    },
    {
     "name": "stdout",
     "output_type": "stream",
     "text": [
      "Epoch 361: : 50it [00:28,  1.77it/s, v_num=81, train_loss=0.314]"
     ]
    },
    {
     "name": "stderr",
     "output_type": "stream",
     "text": [
      "Epoch 361, global step 18100: 'train_loss' was not in top 1\n"
     ]
    },
    {
     "name": "stdout",
     "output_type": "stream",
     "text": [
      "Epoch 432: : 50it [00:26,  1.87it/s, v_num=81, train_loss=0.289]"
     ]
    },
    {
     "name": "stderr",
     "output_type": "stream",
     "text": [
      "Epoch 432, global step 21650: 'train_loss' was not in top 1\n"
     ]
    },
    {
     "name": "stdout",
     "output_type": "stream",
     "text": [
      "Epoch 433: : 50it [00:26,  1.88it/s, v_num=81, train_loss=0.316]"
     ]
    },
    {
     "name": "stderr",
     "output_type": "stream",
     "text": [
      "Epoch 433, global step 21700: 'train_loss' was not in top 1\n"
     ]
    },
    {
     "name": "stdout",
     "output_type": "stream",
     "text": [
      "Epoch 434: : 50it [00:26,  1.86it/s, v_num=81, train_loss=0.293]"
     ]
    },
    {
     "name": "stderr",
     "output_type": "stream",
     "text": [
      "Epoch 434, global step 21750: 'train_loss' was not in top 1\n"
     ]
    },
    {
     "name": "stdout",
     "output_type": "stream",
     "text": [
      "Epoch 435: : 50it [00:26,  1.86it/s, v_num=81, train_loss=0.319]"
     ]
    },
    {
     "name": "stderr",
     "output_type": "stream",
     "text": [
      "Epoch 435, global step 21800: 'train_loss' was not in top 1\n"
     ]
    },
    {
     "name": "stdout",
     "output_type": "stream",
     "text": [
      "Epoch 436: : 50it [00:26,  1.85it/s, v_num=81, train_loss=0.300]"
     ]
    },
    {
     "name": "stderr",
     "output_type": "stream",
     "text": [
      "Epoch 436, global step 21850: 'train_loss' was not in top 1\n"
     ]
    },
    {
     "name": "stdout",
     "output_type": "stream",
     "text": [
      "Epoch 437: : 50it [00:26,  1.85it/s, v_num=81, train_loss=0.319]"
     ]
    },
    {
     "name": "stderr",
     "output_type": "stream",
     "text": [
      "Epoch 437, global step 21900: 'train_loss' was not in top 1\n"
     ]
    },
    {
     "name": "stdout",
     "output_type": "stream",
     "text": [
      "Epoch 438: : 50it [00:26,  1.87it/s, v_num=81, train_loss=0.307]"
     ]
    },
    {
     "name": "stderr",
     "output_type": "stream",
     "text": [
      "Epoch 438, global step 21950: 'train_loss' was not in top 1\n"
     ]
    },
    {
     "name": "stdout",
     "output_type": "stream",
     "text": [
      "Epoch 439: : 50it [00:26,  1.90it/s, v_num=81, train_loss=0.333]"
     ]
    },
    {
     "name": "stderr",
     "output_type": "stream",
     "text": [
      "Epoch 439, global step 22000: 'train_loss' was not in top 1\n"
     ]
    },
    {
     "name": "stdout",
     "output_type": "stream",
     "text": [
      "Epoch 440: : 50it [00:26,  1.89it/s, v_num=81, train_loss=0.286]"
     ]
    },
    {
     "name": "stderr",
     "output_type": "stream",
     "text": [
      "Epoch 440, global step 22050: 'train_loss' was not in top 1\n"
     ]
    },
    {
     "name": "stdout",
     "output_type": "stream",
     "text": [
      "Epoch 441: : 50it [00:26,  1.88it/s, v_num=81, train_loss=0.293]"
     ]
    },
    {
     "name": "stderr",
     "output_type": "stream",
     "text": [
      "Epoch 441, global step 22100: 'train_loss' was not in top 1\n"
     ]
    },
    {
     "name": "stdout",
     "output_type": "stream",
     "text": [
      "Epoch 442: : 50it [00:26,  1.86it/s, v_num=81, train_loss=0.328]"
     ]
    },
    {
     "name": "stderr",
     "output_type": "stream",
     "text": [
      "Epoch 442, global step 22150: 'train_loss' was not in top 1\n"
     ]
    },
    {
     "name": "stdout",
     "output_type": "stream",
     "text": [
      "Epoch 443: : 50it [00:26,  1.87it/s, v_num=81, train_loss=0.311]"
     ]
    },
    {
     "name": "stderr",
     "output_type": "stream",
     "text": [
      "Epoch 443, global step 22200: 'train_loss' was not in top 1\n"
     ]
    },
    {
     "name": "stdout",
     "output_type": "stream",
     "text": [
      "Epoch 444: : 50it [00:26,  1.87it/s, v_num=81, train_loss=0.350]"
     ]
    },
    {
     "name": "stderr",
     "output_type": "stream",
     "text": [
      "Epoch 444, global step 22250: 'train_loss' was not in top 1\n"
     ]
    },
    {
     "name": "stdout",
     "output_type": "stream",
     "text": [
      "Epoch 445: : 50it [00:26,  1.88it/s, v_num=81, train_loss=0.301]"
     ]
    },
    {
     "name": "stderr",
     "output_type": "stream",
     "text": [
      "Epoch 445, global step 22300: 'train_loss' was not in top 1\n"
     ]
    },
    {
     "name": "stdout",
     "output_type": "stream",
     "text": [
      "Epoch 446: : 50it [00:26,  1.88it/s, v_num=81, train_loss=0.307]"
     ]
    },
    {
     "name": "stderr",
     "output_type": "stream",
     "text": [
      "Epoch 446, global step 22350: 'train_loss' was not in top 1\n"
     ]
    },
    {
     "name": "stdout",
     "output_type": "stream",
     "text": [
      "Epoch 447: : 50it [00:26,  1.87it/s, v_num=81, train_loss=0.347]"
     ]
    },
    {
     "name": "stderr",
     "output_type": "stream",
     "text": [
      "Epoch 447, global step 22400: 'train_loss' was not in top 1\n"
     ]
    },
    {
     "name": "stdout",
     "output_type": "stream",
     "text": [
      "Epoch 448: : 50it [00:26,  1.88it/s, v_num=81, train_loss=0.330]"
     ]
    },
    {
     "name": "stderr",
     "output_type": "stream",
     "text": [
      "Epoch 448, global step 22450: 'train_loss' was not in top 1\n"
     ]
    },
    {
     "name": "stdout",
     "output_type": "stream",
     "text": [
      "Epoch 449: : 50it [00:26,  1.86it/s, v_num=81, train_loss=0.288]"
     ]
    },
    {
     "name": "stderr",
     "output_type": "stream",
     "text": [
      "Epoch 449, global step 22500: 'train_loss' was not in top 1\n"
     ]
    },
    {
     "name": "stdout",
     "output_type": "stream",
     "text": [
      "Epoch 450: : 50it [00:26,  1.89it/s, v_num=81, train_loss=0.302]"
     ]
    },
    {
     "name": "stderr",
     "output_type": "stream",
     "text": [
      "Epoch 450, global step 22550: 'train_loss' was not in top 1\n"
     ]
    },
    {
     "name": "stdout",
     "output_type": "stream",
     "text": [
      "Epoch 451: : 50it [00:26,  1.85it/s, v_num=81, train_loss=0.312]"
     ]
    },
    {
     "name": "stderr",
     "output_type": "stream",
     "text": [
      "Epoch 451, global step 22600: 'train_loss' was not in top 1\n"
     ]
    },
    {
     "name": "stdout",
     "output_type": "stream",
     "text": [
      "Epoch 452: : 50it [00:26,  1.89it/s, v_num=81, train_loss=0.295]"
     ]
    },
    {
     "name": "stderr",
     "output_type": "stream",
     "text": [
      "Epoch 452, global step 22650: 'train_loss' was not in top 1\n"
     ]
    },
    {
     "name": "stdout",
     "output_type": "stream",
     "text": [
      "Epoch 453: : 50it [00:26,  1.87it/s, v_num=81, train_loss=0.289]"
     ]
    },
    {
     "name": "stderr",
     "output_type": "stream",
     "text": [
      "Epoch 453, global step 22700: 'train_loss' was not in top 1\n"
     ]
    },
    {
     "name": "stdout",
     "output_type": "stream",
     "text": [
      "Epoch 454: : 50it [00:26,  1.89it/s, v_num=81, train_loss=0.329]"
     ]
    },
    {
     "name": "stderr",
     "output_type": "stream",
     "text": [
      "Epoch 454, global step 22750: 'train_loss' was not in top 1\n"
     ]
    },
    {
     "name": "stdout",
     "output_type": "stream",
     "text": [
      "Epoch 455: : 50it [00:26,  1.86it/s, v_num=81, train_loss=0.292]"
     ]
    },
    {
     "name": "stderr",
     "output_type": "stream",
     "text": [
      "Epoch 455, global step 22800: 'train_loss' was not in top 1\n"
     ]
    },
    {
     "name": "stdout",
     "output_type": "stream",
     "text": [
      "Epoch 456: : 50it [00:26,  1.86it/s, v_num=81, train_loss=0.328]"
     ]
    },
    {
     "name": "stderr",
     "output_type": "stream",
     "text": [
      "Epoch 456, global step 22850: 'train_loss' was not in top 1\n"
     ]
    },
    {
     "name": "stdout",
     "output_type": "stream",
     "text": [
      "Epoch 457: : 50it [00:26,  1.87it/s, v_num=81, train_loss=0.340]"
     ]
    },
    {
     "name": "stderr",
     "output_type": "stream",
     "text": [
      "Epoch 457, global step 22900: 'train_loss' was not in top 1\n"
     ]
    },
    {
     "name": "stdout",
     "output_type": "stream",
     "text": [
      "Epoch 458: : 50it [00:26,  1.86it/s, v_num=81, train_loss=0.295]"
     ]
    },
    {
     "name": "stderr",
     "output_type": "stream",
     "text": [
      "Epoch 458, global step 22950: 'train_loss' was not in top 1\n"
     ]
    },
    {
     "name": "stdout",
     "output_type": "stream",
     "text": [
      "Epoch 459: : 50it [00:26,  1.87it/s, v_num=81, train_loss=0.301]"
     ]
    },
    {
     "name": "stderr",
     "output_type": "stream",
     "text": [
      "Epoch 459, global step 23000: 'train_loss' was not in top 1\n"
     ]
    },
    {
     "name": "stdout",
     "output_type": "stream",
     "text": [
      "Epoch 460: : 50it [00:26,  1.87it/s, v_num=81, train_loss=0.324]"
     ]
    },
    {
     "name": "stderr",
     "output_type": "stream",
     "text": [
      "Epoch 460, global step 23050: 'train_loss' was not in top 1\n"
     ]
    },
    {
     "name": "stdout",
     "output_type": "stream",
     "text": [
      "Epoch 461: : 50it [00:26,  1.87it/s, v_num=81, train_loss=0.318]"
     ]
    },
    {
     "name": "stderr",
     "output_type": "stream",
     "text": [
      "Epoch 461, global step 23100: 'train_loss' was not in top 1\n"
     ]
    },
    {
     "name": "stdout",
     "output_type": "stream",
     "text": [
      "Epoch 462: : 50it [00:27,  1.85it/s, v_num=81, train_loss=0.305]"
     ]
    },
    {
     "name": "stderr",
     "output_type": "stream",
     "text": [
      "Epoch 462, global step 23150: 'train_loss' was not in top 1\n"
     ]
    },
    {
     "name": "stdout",
     "output_type": "stream",
     "text": [
      "Epoch 463: : 50it [00:26,  1.87it/s, v_num=81, train_loss=0.328]"
     ]
    },
    {
     "name": "stderr",
     "output_type": "stream",
     "text": [
      "Epoch 463, global step 23200: 'train_loss' was not in top 1\n"
     ]
    },
    {
     "name": "stdout",
     "output_type": "stream",
     "text": [
      "Epoch 464: : 50it [00:26,  1.86it/s, v_num=81, train_loss=0.325]"
     ]
    },
    {
     "name": "stderr",
     "output_type": "stream",
     "text": [
      "Epoch 464, global step 23250: 'train_loss' was not in top 1\n"
     ]
    },
    {
     "name": "stdout",
     "output_type": "stream",
     "text": [
      "Epoch 465: : 50it [00:26,  1.87it/s, v_num=81, train_loss=0.321]"
     ]
    },
    {
     "name": "stderr",
     "output_type": "stream",
     "text": [
      "Epoch 465, global step 23300: 'train_loss' was not in top 1\n"
     ]
    },
    {
     "name": "stdout",
     "output_type": "stream",
     "text": [
      "Epoch 466: : 50it [00:26,  1.86it/s, v_num=81, train_loss=0.313]"
     ]
    },
    {
     "name": "stderr",
     "output_type": "stream",
     "text": [
      "Epoch 466, global step 23350: 'train_loss' was not in top 1\n"
     ]
    },
    {
     "name": "stdout",
     "output_type": "stream",
     "text": [
      "Epoch 467: : 50it [00:26,  1.88it/s, v_num=81, train_loss=0.331]"
     ]
    },
    {
     "name": "stderr",
     "output_type": "stream",
     "text": [
      "Epoch 467, global step 23400: 'train_loss' was not in top 1\n"
     ]
    },
    {
     "name": "stdout",
     "output_type": "stream",
     "text": [
      "Epoch 468: : 50it [00:26,  1.88it/s, v_num=81, train_loss=0.299]"
     ]
    },
    {
     "name": "stderr",
     "output_type": "stream",
     "text": [
      "Epoch 468, global step 23450: 'train_loss' was not in top 1\n"
     ]
    },
    {
     "name": "stdout",
     "output_type": "stream",
     "text": [
      "Epoch 469: : 50it [00:26,  1.88it/s, v_num=81, train_loss=0.328]"
     ]
    },
    {
     "name": "stderr",
     "output_type": "stream",
     "text": [
      "Epoch 469, global step 23500: 'train_loss' was not in top 1\n"
     ]
    },
    {
     "name": "stdout",
     "output_type": "stream",
     "text": [
      "Epoch 470: : 50it [00:26,  1.85it/s, v_num=81, train_loss=0.326]"
     ]
    },
    {
     "name": "stderr",
     "output_type": "stream",
     "text": [
      "Epoch 470, global step 23550: 'train_loss' was not in top 1\n"
     ]
    },
    {
     "name": "stdout",
     "output_type": "stream",
     "text": [
      "Epoch 471: : 50it [00:26,  1.87it/s, v_num=81, train_loss=0.318]"
     ]
    },
    {
     "name": "stderr",
     "output_type": "stream",
     "text": [
      "Epoch 471, global step 23600: 'train_loss' was not in top 1\n"
     ]
    },
    {
     "name": "stdout",
     "output_type": "stream",
     "text": [
      "Epoch 472: : 50it [00:26,  1.88it/s, v_num=81, train_loss=0.307]"
     ]
    },
    {
     "name": "stderr",
     "output_type": "stream",
     "text": [
      "Epoch 472, global step 23650: 'train_loss' was not in top 1\n"
     ]
    },
    {
     "name": "stdout",
     "output_type": "stream",
     "text": [
      "Epoch 473: : 50it [00:26,  1.89it/s, v_num=81, train_loss=0.343]"
     ]
    },
    {
     "name": "stderr",
     "output_type": "stream",
     "text": [
      "Epoch 473, global step 23700: 'train_loss' was not in top 1\n"
     ]
    },
    {
     "name": "stdout",
     "output_type": "stream",
     "text": [
      "Epoch 474: : 50it [00:26,  1.90it/s, v_num=81, train_loss=0.278]"
     ]
    },
    {
     "name": "stderr",
     "output_type": "stream",
     "text": [
      "Epoch 474, global step 23750: 'train_loss' was not in top 1\n"
     ]
    },
    {
     "name": "stdout",
     "output_type": "stream",
     "text": [
      "Epoch 475: : 50it [00:26,  1.88it/s, v_num=81, train_loss=0.353]"
     ]
    },
    {
     "name": "stderr",
     "output_type": "stream",
     "text": [
      "Epoch 475, global step 23800: 'train_loss' was not in top 1\n"
     ]
    },
    {
     "name": "stdout",
     "output_type": "stream",
     "text": [
      "Epoch 476: : 50it [00:26,  1.86it/s, v_num=81, train_loss=0.339]"
     ]
    },
    {
     "name": "stderr",
     "output_type": "stream",
     "text": [
      "Epoch 476, global step 23850: 'train_loss' was not in top 1\n"
     ]
    },
    {
     "name": "stdout",
     "output_type": "stream",
     "text": [
      "Epoch 477: : 50it [00:26,  1.87it/s, v_num=81, train_loss=0.318]"
     ]
    },
    {
     "name": "stderr",
     "output_type": "stream",
     "text": [
      "Epoch 477, global step 23900: 'train_loss' was not in top 1\n"
     ]
    },
    {
     "name": "stdout",
     "output_type": "stream",
     "text": [
      "Epoch 478: : 50it [00:26,  1.87it/s, v_num=81, train_loss=0.279]"
     ]
    },
    {
     "name": "stderr",
     "output_type": "stream",
     "text": [
      "Epoch 478, global step 23950: 'train_loss' was not in top 1\n"
     ]
    },
    {
     "name": "stdout",
     "output_type": "stream",
     "text": [
      "Epoch 479: : 50it [00:26,  1.88it/s, v_num=81, train_loss=0.311]"
     ]
    },
    {
     "name": "stderr",
     "output_type": "stream",
     "text": [
      "Epoch 479, global step 24000: 'train_loss' was not in top 1\n"
     ]
    },
    {
     "name": "stdout",
     "output_type": "stream",
     "text": [
      "Epoch 480: : 50it [00:26,  1.86it/s, v_num=81, train_loss=0.323]"
     ]
    },
    {
     "name": "stderr",
     "output_type": "stream",
     "text": [
      "Epoch 480, global step 24050: 'train_loss' was not in top 1\n"
     ]
    },
    {
     "name": "stdout",
     "output_type": "stream",
     "text": [
      "Epoch 481: : 50it [00:26,  1.86it/s, v_num=81, train_loss=0.329]"
     ]
    },
    {
     "name": "stderr",
     "output_type": "stream",
     "text": [
      "Epoch 481, global step 24100: 'train_loss' was not in top 1\n"
     ]
    },
    {
     "name": "stdout",
     "output_type": "stream",
     "text": [
      "Epoch 482: : 50it [00:26,  1.88it/s, v_num=81, train_loss=0.330]"
     ]
    },
    {
     "name": "stderr",
     "output_type": "stream",
     "text": [
      "Epoch 482, global step 24150: 'train_loss' was not in top 1\n"
     ]
    },
    {
     "name": "stdout",
     "output_type": "stream",
     "text": [
      "Epoch 483: : 50it [00:26,  1.88it/s, v_num=81, train_loss=0.326]"
     ]
    },
    {
     "name": "stderr",
     "output_type": "stream",
     "text": [
      "Epoch 483, global step 24200: 'train_loss' was not in top 1\n"
     ]
    },
    {
     "name": "stdout",
     "output_type": "stream",
     "text": [
      "Epoch 484: : 50it [00:27,  1.80it/s, v_num=81, train_loss=0.331]"
     ]
    },
    {
     "name": "stderr",
     "output_type": "stream",
     "text": [
      "Epoch 484, global step 24250: 'train_loss' was not in top 1\n"
     ]
    },
    {
     "name": "stdout",
     "output_type": "stream",
     "text": [
      "Epoch 485: : 50it [00:27,  1.82it/s, v_num=81, train_loss=0.261]"
     ]
    },
    {
     "name": "stderr",
     "output_type": "stream",
     "text": [
      "Epoch 485, global step 24300: 'train_loss' was not in top 1\n"
     ]
    },
    {
     "name": "stdout",
     "output_type": "stream",
     "text": [
      "Epoch 486: : 50it [00:28,  1.79it/s, v_num=81, train_loss=0.315]"
     ]
    },
    {
     "name": "stderr",
     "output_type": "stream",
     "text": [
      "Epoch 486, global step 24350: 'train_loss' was not in top 1\n"
     ]
    },
    {
     "name": "stdout",
     "output_type": "stream",
     "text": [
      "Epoch 487: : 50it [00:27,  1.79it/s, v_num=81, train_loss=0.285]"
     ]
    },
    {
     "name": "stderr",
     "output_type": "stream",
     "text": [
      "Epoch 487, global step 24400: 'train_loss' was not in top 1\n"
     ]
    },
    {
     "name": "stdout",
     "output_type": "stream",
     "text": [
      "Epoch 488: : 50it [00:27,  1.81it/s, v_num=81, train_loss=0.343]"
     ]
    },
    {
     "name": "stderr",
     "output_type": "stream",
     "text": [
      "Epoch 488, global step 24450: 'train_loss' was not in top 1\n"
     ]
    },
    {
     "name": "stdout",
     "output_type": "stream",
     "text": [
      "Epoch 489: : 50it [00:27,  1.80it/s, v_num=81, train_loss=0.313]"
     ]
    },
    {
     "name": "stderr",
     "output_type": "stream",
     "text": [
      "Epoch 489, global step 24500: 'train_loss' was not in top 1\n"
     ]
    },
    {
     "name": "stdout",
     "output_type": "stream",
     "text": [
      "Epoch 490: : 50it [00:27,  1.79it/s, v_num=81, train_loss=0.307]"
     ]
    },
    {
     "name": "stderr",
     "output_type": "stream",
     "text": [
      "Epoch 490, global step 24550: 'train_loss' was not in top 1\n"
     ]
    },
    {
     "name": "stdout",
     "output_type": "stream",
     "text": [
      "Epoch 491: : 50it [00:27,  1.80it/s, v_num=81, train_loss=0.306]"
     ]
    },
    {
     "name": "stderr",
     "output_type": "stream",
     "text": [
      "Epoch 491, global step 24600: 'train_loss' was not in top 1\n"
     ]
    },
    {
     "name": "stdout",
     "output_type": "stream",
     "text": [
      "Epoch 492: : 50it [00:27,  1.79it/s, v_num=81, train_loss=0.315]"
     ]
    },
    {
     "name": "stderr",
     "output_type": "stream",
     "text": [
      "Epoch 492, global step 24650: 'train_loss' was not in top 1\n"
     ]
    },
    {
     "name": "stdout",
     "output_type": "stream",
     "text": [
      "Epoch 493: : 50it [00:28,  1.78it/s, v_num=81, train_loss=0.290]"
     ]
    },
    {
     "name": "stderr",
     "output_type": "stream",
     "text": [
      "Epoch 493, global step 24700: 'train_loss' was not in top 1\n"
     ]
    },
    {
     "name": "stdout",
     "output_type": "stream",
     "text": [
      "Epoch 494: : 50it [00:27,  1.80it/s, v_num=81, train_loss=0.290]"
     ]
    },
    {
     "name": "stderr",
     "output_type": "stream",
     "text": [
      "Epoch 494, global step 24750: 'train_loss' was not in top 1\n"
     ]
    },
    {
     "name": "stdout",
     "output_type": "stream",
     "text": [
      "Epoch 495: : 50it [00:28,  1.77it/s, v_num=81, train_loss=0.309]"
     ]
    },
    {
     "name": "stderr",
     "output_type": "stream",
     "text": [
      "Epoch 495, global step 24800: 'train_loss' was not in top 1\n"
     ]
    },
    {
     "name": "stdout",
     "output_type": "stream",
     "text": [
      "Epoch 496: : 50it [00:28,  1.76it/s, v_num=81, train_loss=0.321]"
     ]
    },
    {
     "name": "stderr",
     "output_type": "stream",
     "text": [
      "Epoch 496, global step 24850: 'train_loss' was not in top 1\n"
     ]
    },
    {
     "name": "stdout",
     "output_type": "stream",
     "text": [
      "Epoch 497: : 50it [00:28,  1.73it/s, v_num=81, train_loss=0.340]"
     ]
    },
    {
     "name": "stderr",
     "output_type": "stream",
     "text": [
      "Epoch 497, global step 24900: 'train_loss' was not in top 1\n"
     ]
    },
    {
     "name": "stdout",
     "output_type": "stream",
     "text": [
      "Epoch 498: : 50it [00:29,  1.72it/s, v_num=81, train_loss=0.290]"
     ]
    },
    {
     "name": "stderr",
     "output_type": "stream",
     "text": [
      "Epoch 498, global step 24950: 'train_loss' was not in top 1\n"
     ]
    },
    {
     "name": "stdout",
     "output_type": "stream",
     "text": [
      "Epoch 499: : 50it [00:28,  1.74it/s, v_num=81, train_loss=0.306]"
     ]
    },
    {
     "name": "stderr",
     "output_type": "stream",
     "text": [
      "Epoch 499, global step 25000: 'train_loss' was not in top 1\n"
     ]
    },
    {
     "name": "stdout",
     "output_type": "stream",
     "text": [
      "Epoch 500: : 50it [00:29,  1.72it/s, v_num=81, train_loss=0.314]"
     ]
    },
    {
     "name": "stderr",
     "output_type": "stream",
     "text": [
      "Epoch 500, global step 25050: 'train_loss' was not in top 1\n"
     ]
    },
    {
     "name": "stdout",
     "output_type": "stream",
     "text": [
      "Epoch 501: : 50it [00:29,  1.72it/s, v_num=81, train_loss=0.283]"
     ]
    },
    {
     "name": "stderr",
     "output_type": "stream",
     "text": [
      "Epoch 501, global step 25100: 'train_loss' was not in top 1\n"
     ]
    },
    {
     "name": "stdout",
     "output_type": "stream",
     "text": [
      "Epoch 502: : 50it [00:29,  1.72it/s, v_num=81, train_loss=0.341]"
     ]
    },
    {
     "name": "stderr",
     "output_type": "stream",
     "text": [
      "Epoch 502, global step 25150: 'train_loss' was not in top 1\n"
     ]
    },
    {
     "name": "stdout",
     "output_type": "stream",
     "text": [
      "Epoch 503: : 50it [00:28,  1.77it/s, v_num=81, train_loss=0.275]"
     ]
    },
    {
     "name": "stderr",
     "output_type": "stream",
     "text": [
      "Epoch 503, global step 25200: 'train_loss' was not in top 1\n"
     ]
    },
    {
     "name": "stdout",
     "output_type": "stream",
     "text": [
      "Epoch 504: : 50it [00:28,  1.78it/s, v_num=81, train_loss=0.311]"
     ]
    },
    {
     "name": "stderr",
     "output_type": "stream",
     "text": [
      "Epoch 504, global step 25250: 'train_loss' was not in top 1\n"
     ]
    },
    {
     "name": "stdout",
     "output_type": "stream",
     "text": [
      "Epoch 505: : 50it [00:28,  1.74it/s, v_num=81, train_loss=0.269]"
     ]
    },
    {
     "name": "stderr",
     "output_type": "stream",
     "text": [
      "Epoch 505, global step 25300: 'train_loss' was not in top 1\n"
     ]
    },
    {
     "name": "stdout",
     "output_type": "stream",
     "text": [
      "Epoch 506: : 50it [00:28,  1.78it/s, v_num=81, train_loss=0.326]"
     ]
    },
    {
     "name": "stderr",
     "output_type": "stream",
     "text": [
      "Epoch 506, global step 25350: 'train_loss' was not in top 1\n"
     ]
    },
    {
     "name": "stdout",
     "output_type": "stream",
     "text": [
      "Epoch 507: : 50it [00:28,  1.77it/s, v_num=81, train_loss=0.286]"
     ]
    },
    {
     "name": "stderr",
     "output_type": "stream",
     "text": [
      "Epoch 507, global step 25400: 'train_loss' was not in top 1\n"
     ]
    },
    {
     "name": "stdout",
     "output_type": "stream",
     "text": [
      "Epoch 508: : 50it [00:28,  1.74it/s, v_num=81, train_loss=0.344]"
     ]
    },
    {
     "name": "stderr",
     "output_type": "stream",
     "text": [
      "Epoch 508, global step 25450: 'train_loss' was not in top 1\n"
     ]
    },
    {
     "name": "stdout",
     "output_type": "stream",
     "text": [
      "Epoch 509: : 50it [00:27,  1.80it/s, v_num=81, train_loss=0.342]"
     ]
    },
    {
     "name": "stderr",
     "output_type": "stream",
     "text": [
      "Epoch 509, global step 25500: 'train_loss' was not in top 1\n"
     ]
    },
    {
     "name": "stdout",
     "output_type": "stream",
     "text": [
      "Epoch 510: : 50it [00:27,  1.79it/s, v_num=81, train_loss=0.311]"
     ]
    },
    {
     "name": "stderr",
     "output_type": "stream",
     "text": [
      "Epoch 510, global step 25550: 'train_loss' was not in top 1\n"
     ]
    },
    {
     "name": "stdout",
     "output_type": "stream",
     "text": [
      "Epoch 511: : 50it [00:29,  1.70it/s, v_num=81, train_loss=0.319]"
     ]
    },
    {
     "name": "stderr",
     "output_type": "stream",
     "text": [
      "Epoch 511, global step 25600: 'train_loss' was not in top 1\n"
     ]
    },
    {
     "name": "stdout",
     "output_type": "stream",
     "text": [
      "Epoch 512: : 50it [00:27,  1.80it/s, v_num=81, train_loss=0.286]"
     ]
    },
    {
     "name": "stderr",
     "output_type": "stream",
     "text": [
      "Epoch 512, global step 25650: 'train_loss' was not in top 1\n"
     ]
    },
    {
     "name": "stdout",
     "output_type": "stream",
     "text": [
      "Epoch 513: : 50it [00:27,  1.80it/s, v_num=81, train_loss=0.309]"
     ]
    },
    {
     "name": "stderr",
     "output_type": "stream",
     "text": [
      "Epoch 513, global step 25700: 'train_loss' was not in top 1\n"
     ]
    },
    {
     "name": "stdout",
     "output_type": "stream",
     "text": [
      "Epoch 514: : 50it [00:27,  1.81it/s, v_num=81, train_loss=0.338]"
     ]
    },
    {
     "name": "stderr",
     "output_type": "stream",
     "text": [
      "Epoch 514, global step 25750: 'train_loss' was not in top 1\n"
     ]
    },
    {
     "name": "stdout",
     "output_type": "stream",
     "text": [
      "Epoch 515: : 50it [00:28,  1.76it/s, v_num=81, train_loss=0.300]"
     ]
    },
    {
     "name": "stderr",
     "output_type": "stream",
     "text": [
      "Epoch 515, global step 25800: 'train_loss' was not in top 1\n"
     ]
    },
    {
     "name": "stdout",
     "output_type": "stream",
     "text": [
      "Epoch 516: : 50it [00:28,  1.77it/s, v_num=81, train_loss=0.285]"
     ]
    },
    {
     "name": "stderr",
     "output_type": "stream",
     "text": [
      "Epoch 516, global step 25850: 'train_loss' was not in top 1\n"
     ]
    },
    {
     "name": "stdout",
     "output_type": "stream",
     "text": [
      "Epoch 517: : 50it [00:29,  1.71it/s, v_num=81, train_loss=0.333]"
     ]
    },
    {
     "name": "stderr",
     "output_type": "stream",
     "text": [
      "Epoch 517, global step 25900: 'train_loss' was not in top 1\n"
     ]
    },
    {
     "name": "stdout",
     "output_type": "stream",
     "text": [
      "Epoch 518: : 50it [00:28,  1.73it/s, v_num=81, train_loss=0.334]"
     ]
    },
    {
     "name": "stderr",
     "output_type": "stream",
     "text": [
      "Epoch 518, global step 25950: 'train_loss' was not in top 1\n"
     ]
    },
    {
     "name": "stdout",
     "output_type": "stream",
     "text": [
      "Epoch 519: : 50it [00:27,  1.79it/s, v_num=81, train_loss=0.318]"
     ]
    },
    {
     "name": "stderr",
     "output_type": "stream",
     "text": [
      "Epoch 519, global step 26000: 'train_loss' was not in top 1\n"
     ]
    },
    {
     "name": "stdout",
     "output_type": "stream",
     "text": [
      "Epoch 520: : 50it [00:27,  1.81it/s, v_num=81, train_loss=0.304]"
     ]
    },
    {
     "name": "stderr",
     "output_type": "stream",
     "text": [
      "Epoch 520, global step 26050: 'train_loss' was not in top 1\n"
     ]
    },
    {
     "name": "stdout",
     "output_type": "stream",
     "text": [
      "Epoch 521: : 50it [00:27,  1.80it/s, v_num=81, train_loss=0.301]"
     ]
    },
    {
     "name": "stderr",
     "output_type": "stream",
     "text": [
      "Epoch 521, global step 26100: 'train_loss' was not in top 1\n"
     ]
    },
    {
     "name": "stdout",
     "output_type": "stream",
     "text": [
      "Epoch 522: : 50it [00:27,  1.79it/s, v_num=81, train_loss=0.348]"
     ]
    },
    {
     "name": "stderr",
     "output_type": "stream",
     "text": [
      "Epoch 522, global step 26150: 'train_loss' was not in top 1\n"
     ]
    },
    {
     "name": "stdout",
     "output_type": "stream",
     "text": [
      "Epoch 523: : 50it [00:28,  1.78it/s, v_num=81, train_loss=0.287]"
     ]
    },
    {
     "name": "stderr",
     "output_type": "stream",
     "text": [
      "Epoch 523, global step 26200: 'train_loss' was not in top 1\n"
     ]
    },
    {
     "name": "stdout",
     "output_type": "stream",
     "text": [
      "Epoch 524: : 50it [00:27,  1.80it/s, v_num=81, train_loss=0.293]"
     ]
    },
    {
     "name": "stderr",
     "output_type": "stream",
     "text": [
      "Epoch 524, global step 26250: 'train_loss' was not in top 1\n"
     ]
    },
    {
     "name": "stdout",
     "output_type": "stream",
     "text": [
      "Epoch 525: : 50it [00:27,  1.79it/s, v_num=81, train_loss=0.327]"
     ]
    },
    {
     "name": "stderr",
     "output_type": "stream",
     "text": [
      "Epoch 525, global step 26300: 'train_loss' was not in top 1\n"
     ]
    },
    {
     "name": "stdout",
     "output_type": "stream",
     "text": [
      "Epoch 526: : 50it [00:27,  1.79it/s, v_num=81, train_loss=0.296]"
     ]
    },
    {
     "name": "stderr",
     "output_type": "stream",
     "text": [
      "Epoch 526, global step 26350: 'train_loss' was not in top 1\n"
     ]
    },
    {
     "name": "stdout",
     "output_type": "stream",
     "text": [
      "Epoch 527: : 50it [00:27,  1.81it/s, v_num=81, train_loss=0.291]"
     ]
    },
    {
     "name": "stderr",
     "output_type": "stream",
     "text": [
      "Epoch 527, global step 26400: 'train_loss' was not in top 1\n"
     ]
    },
    {
     "name": "stdout",
     "output_type": "stream",
     "text": [
      "Epoch 528: : 50it [00:27,  1.80it/s, v_num=81, train_loss=0.270]"
     ]
    },
    {
     "name": "stderr",
     "output_type": "stream",
     "text": [
      "Epoch 528, global step 26450: 'train_loss' was not in top 1\n"
     ]
    },
    {
     "name": "stdout",
     "output_type": "stream",
     "text": [
      "Epoch 529: : 50it [00:28,  1.78it/s, v_num=81, train_loss=0.383]"
     ]
    },
    {
     "name": "stderr",
     "output_type": "stream",
     "text": [
      "Epoch 529, global step 26500: 'train_loss' was not in top 1\n"
     ]
    },
    {
     "name": "stdout",
     "output_type": "stream",
     "text": [
      "Epoch 530: : 50it [00:28,  1.78it/s, v_num=81, train_loss=0.298]"
     ]
    },
    {
     "name": "stderr",
     "output_type": "stream",
     "text": [
      "Epoch 530, global step 26550: 'train_loss' was not in top 1\n"
     ]
    },
    {
     "name": "stdout",
     "output_type": "stream",
     "text": [
      "Epoch 531: : 50it [00:28,  1.73it/s, v_num=81, train_loss=0.311]"
     ]
    },
    {
     "name": "stderr",
     "output_type": "stream",
     "text": [
      "Epoch 531, global step 26600: 'train_loss' was not in top 1\n"
     ]
    },
    {
     "name": "stdout",
     "output_type": "stream",
     "text": [
      "Epoch 532: : 50it [00:27,  1.79it/s, v_num=81, train_loss=0.301]"
     ]
    },
    {
     "name": "stderr",
     "output_type": "stream",
     "text": [
      "Epoch 532, global step 26650: 'train_loss' was not in top 1\n"
     ]
    },
    {
     "name": "stdout",
     "output_type": "stream",
     "text": [
      "Epoch 533: : 50it [00:27,  1.79it/s, v_num=81, train_loss=0.344]"
     ]
    },
    {
     "name": "stderr",
     "output_type": "stream",
     "text": [
      "Epoch 533, global step 26700: 'train_loss' was not in top 1\n"
     ]
    },
    {
     "name": "stdout",
     "output_type": "stream",
     "text": [
      "Epoch 534: : 50it [00:28,  1.77it/s, v_num=81, train_loss=0.297]"
     ]
    },
    {
     "name": "stderr",
     "output_type": "stream",
     "text": [
      "Epoch 534, global step 26750: 'train_loss' was not in top 1\n"
     ]
    },
    {
     "name": "stdout",
     "output_type": "stream",
     "text": [
      "Epoch 535: : 50it [00:27,  1.80it/s, v_num=81, train_loss=0.309]"
     ]
    },
    {
     "name": "stderr",
     "output_type": "stream",
     "text": [
      "Epoch 535, global step 26800: 'train_loss' was not in top 1\n"
     ]
    },
    {
     "name": "stdout",
     "output_type": "stream",
     "text": [
      "Epoch 536: : 50it [00:28,  1.76it/s, v_num=81, train_loss=0.330]"
     ]
    },
    {
     "name": "stderr",
     "output_type": "stream",
     "text": [
      "Epoch 536, global step 26850: 'train_loss' was not in top 1\n"
     ]
    },
    {
     "name": "stdout",
     "output_type": "stream",
     "text": [
      "Epoch 537: : 50it [00:27,  1.79it/s, v_num=81, train_loss=0.259]"
     ]
    },
    {
     "name": "stderr",
     "output_type": "stream",
     "text": [
      "Epoch 537, global step 26900: 'train_loss' was not in top 1\n"
     ]
    },
    {
     "name": "stdout",
     "output_type": "stream",
     "text": [
      "Epoch 538: : 50it [00:28,  1.78it/s, v_num=81, train_loss=0.329]"
     ]
    },
    {
     "name": "stderr",
     "output_type": "stream",
     "text": [
      "Epoch 538, global step 26950: 'train_loss' was not in top 1\n"
     ]
    },
    {
     "name": "stdout",
     "output_type": "stream",
     "text": [
      "Epoch 539: : 50it [00:27,  1.79it/s, v_num=81, train_loss=0.325]"
     ]
    },
    {
     "name": "stderr",
     "output_type": "stream",
     "text": [
      "Epoch 539, global step 27000: 'train_loss' was not in top 1\n"
     ]
    },
    {
     "name": "stdout",
     "output_type": "stream",
     "text": [
      "Epoch 540: : 50it [00:27,  1.80it/s, v_num=81, train_loss=0.318]"
     ]
    },
    {
     "name": "stderr",
     "output_type": "stream",
     "text": [
      "Epoch 540, global step 27050: 'train_loss' was not in top 1\n"
     ]
    },
    {
     "name": "stdout",
     "output_type": "stream",
     "text": [
      "Epoch 541: : 50it [00:27,  1.80it/s, v_num=81, train_loss=0.286]"
     ]
    },
    {
     "name": "stderr",
     "output_type": "stream",
     "text": [
      "Epoch 541, global step 27100: 'train_loss' was not in top 1\n"
     ]
    },
    {
     "name": "stdout",
     "output_type": "stream",
     "text": [
      "Epoch 542: : 50it [00:27,  1.82it/s, v_num=81, train_loss=0.303]"
     ]
    },
    {
     "name": "stderr",
     "output_type": "stream",
     "text": [
      "Epoch 542, global step 27150: 'train_loss' was not in top 1\n"
     ]
    },
    {
     "name": "stdout",
     "output_type": "stream",
     "text": [
      "Epoch 543: : 50it [00:28,  1.77it/s, v_num=81, train_loss=0.312]"
     ]
    },
    {
     "name": "stderr",
     "output_type": "stream",
     "text": [
      "Epoch 543, global step 27200: 'train_loss' was not in top 1\n"
     ]
    },
    {
     "name": "stdout",
     "output_type": "stream",
     "text": [
      "Epoch 544: : 50it [00:28,  1.78it/s, v_num=81, train_loss=0.281]"
     ]
    },
    {
     "name": "stderr",
     "output_type": "stream",
     "text": [
      "Epoch 544, global step 27250: 'train_loss' was not in top 1\n"
     ]
    },
    {
     "name": "stdout",
     "output_type": "stream",
     "text": [
      "Epoch 545: : 50it [00:28,  1.78it/s, v_num=81, train_loss=0.306]"
     ]
    },
    {
     "name": "stderr",
     "output_type": "stream",
     "text": [
      "Epoch 545, global step 27300: 'train_loss' was not in top 1\n"
     ]
    },
    {
     "name": "stdout",
     "output_type": "stream",
     "text": [
      "Epoch 546: : 50it [00:28,  1.78it/s, v_num=81, train_loss=0.302]"
     ]
    },
    {
     "name": "stderr",
     "output_type": "stream",
     "text": [
      "Epoch 546, global step 27350: 'train_loss' was not in top 1\n"
     ]
    },
    {
     "name": "stdout",
     "output_type": "stream",
     "text": [
      "Epoch 547: : 50it [00:27,  1.79it/s, v_num=81, train_loss=0.270]"
     ]
    },
    {
     "name": "stderr",
     "output_type": "stream",
     "text": [
      "Epoch 547, global step 27400: 'train_loss' was not in top 1\n"
     ]
    },
    {
     "name": "stdout",
     "output_type": "stream",
     "text": [
      "Epoch 548: : 50it [00:28,  1.75it/s, v_num=81, train_loss=0.332]"
     ]
    },
    {
     "name": "stderr",
     "output_type": "stream",
     "text": [
      "Epoch 548, global step 27450: 'train_loss' was not in top 1\n"
     ]
    },
    {
     "name": "stdout",
     "output_type": "stream",
     "text": [
      "Epoch 549: : 50it [00:27,  1.80it/s, v_num=81, train_loss=0.294]"
     ]
    },
    {
     "name": "stderr",
     "output_type": "stream",
     "text": [
      "Epoch 549, global step 27500: 'train_loss' was not in top 1\n"
     ]
    },
    {
     "name": "stdout",
     "output_type": "stream",
     "text": [
      "Epoch 550: : 50it [00:27,  1.82it/s, v_num=81, train_loss=0.312]"
     ]
    },
    {
     "name": "stderr",
     "output_type": "stream",
     "text": [
      "Epoch 550, global step 27550: 'train_loss' was not in top 1\n"
     ]
    },
    {
     "name": "stdout",
     "output_type": "stream",
     "text": [
      "Epoch 551: : 50it [00:27,  1.81it/s, v_num=81, train_loss=0.278]"
     ]
    },
    {
     "name": "stderr",
     "output_type": "stream",
     "text": [
      "Epoch 551, global step 27600: 'train_loss' was not in top 1\n"
     ]
    },
    {
     "name": "stdout",
     "output_type": "stream",
     "text": [
      "Epoch 552: : 50it [00:27,  1.79it/s, v_num=81, train_loss=0.290]"
     ]
    },
    {
     "name": "stderr",
     "output_type": "stream",
     "text": [
      "Epoch 552, global step 27650: 'train_loss' was not in top 1\n"
     ]
    },
    {
     "name": "stdout",
     "output_type": "stream",
     "text": [
      "Epoch 553: : 50it [00:28,  1.73it/s, v_num=81, train_loss=0.254]"
     ]
    },
    {
     "name": "stderr",
     "output_type": "stream",
     "text": [
      "Epoch 553, global step 27700: 'train_loss' was not in top 1\n"
     ]
    },
    {
     "name": "stdout",
     "output_type": "stream",
     "text": [
      "Epoch 554: : 50it [00:29,  1.71it/s, v_num=81, train_loss=0.309]"
     ]
    },
    {
     "name": "stderr",
     "output_type": "stream",
     "text": [
      "Epoch 554, global step 27750: 'train_loss' was not in top 1\n"
     ]
    },
    {
     "name": "stdout",
     "output_type": "stream",
     "text": [
      "Epoch 555: : 50it [00:29,  1.70it/s, v_num=81, train_loss=0.289]"
     ]
    },
    {
     "name": "stderr",
     "output_type": "stream",
     "text": [
      "Epoch 555, global step 27800: 'train_loss' was not in top 1\n"
     ]
    },
    {
     "name": "stdout",
     "output_type": "stream",
     "text": [
      "Epoch 556: : 50it [00:29,  1.71it/s, v_num=81, train_loss=0.375]"
     ]
    },
    {
     "name": "stderr",
     "output_type": "stream",
     "text": [
      "Epoch 556, global step 27850: 'train_loss' was not in top 1\n"
     ]
    },
    {
     "name": "stdout",
     "output_type": "stream",
     "text": [
      "Epoch 557: : 50it [00:29,  1.71it/s, v_num=81, train_loss=0.288]"
     ]
    },
    {
     "name": "stderr",
     "output_type": "stream",
     "text": [
      "Epoch 557, global step 27900: 'train_loss' was not in top 1\n"
     ]
    },
    {
     "name": "stdout",
     "output_type": "stream",
     "text": [
      "Epoch 558: : 50it [00:29,  1.71it/s, v_num=81, train_loss=0.281]"
     ]
    },
    {
     "name": "stderr",
     "output_type": "stream",
     "text": [
      "Epoch 558, global step 27950: 'train_loss' was not in top 1\n"
     ]
    },
    {
     "name": "stdout",
     "output_type": "stream",
     "text": [
      "Epoch 559: : 50it [00:28,  1.73it/s, v_num=81, train_loss=0.316]"
     ]
    },
    {
     "name": "stderr",
     "output_type": "stream",
     "text": [
      "Epoch 559, global step 28000: 'train_loss' was not in top 1\n"
     ]
    },
    {
     "name": "stdout",
     "output_type": "stream",
     "text": [
      "Epoch 560: : 50it [00:27,  1.79it/s, v_num=81, train_loss=0.317]"
     ]
    },
    {
     "name": "stderr",
     "output_type": "stream",
     "text": [
      "Epoch 560, global step 28050: 'train_loss' was not in top 1\n"
     ]
    },
    {
     "name": "stdout",
     "output_type": "stream",
     "text": [
      "Epoch 561: : 50it [00:28,  1.75it/s, v_num=81, train_loss=0.291]"
     ]
    },
    {
     "name": "stderr",
     "output_type": "stream",
     "text": [
      "Epoch 561, global step 28100: 'train_loss' was not in top 1\n"
     ]
    },
    {
     "name": "stdout",
     "output_type": "stream",
     "text": [
      "Epoch 562: : 50it [00:28,  1.74it/s, v_num=81, train_loss=0.283]"
     ]
    },
    {
     "name": "stderr",
     "output_type": "stream",
     "text": [
      "Epoch 562, global step 28150: 'train_loss' was not in top 1\n"
     ]
    },
    {
     "name": "stdout",
     "output_type": "stream",
     "text": [
      "Epoch 563: : 50it [00:28,  1.78it/s, v_num=81, train_loss=0.328]"
     ]
    },
    {
     "name": "stderr",
     "output_type": "stream",
     "text": [
      "Epoch 563, global step 28200: 'train_loss' was not in top 1\n"
     ]
    },
    {
     "name": "stdout",
     "output_type": "stream",
     "text": [
      "Epoch 564: : 50it [00:28,  1.78it/s, v_num=81, train_loss=0.337]"
     ]
    },
    {
     "name": "stderr",
     "output_type": "stream",
     "text": [
      "Epoch 564, global step 28250: 'train_loss' was not in top 1\n"
     ]
    },
    {
     "name": "stdout",
     "output_type": "stream",
     "text": [
      "Epoch 565: : 50it [00:27,  1.82it/s, v_num=81, train_loss=0.329]"
     ]
    },
    {
     "name": "stderr",
     "output_type": "stream",
     "text": [
      "Epoch 565, global step 28300: 'train_loss' was not in top 1\n"
     ]
    },
    {
     "name": "stdout",
     "output_type": "stream",
     "text": [
      "Epoch 566: : 50it [00:28,  1.77it/s, v_num=81, train_loss=0.310]"
     ]
    },
    {
     "name": "stderr",
     "output_type": "stream",
     "text": [
      "Epoch 566, global step 28350: 'train_loss' was not in top 1\n"
     ]
    },
    {
     "name": "stdout",
     "output_type": "stream",
     "text": [
      "Epoch 567: : 50it [00:27,  1.79it/s, v_num=81, train_loss=0.297]"
     ]
    },
    {
     "name": "stderr",
     "output_type": "stream",
     "text": [
      "Epoch 567, global step 28400: 'train_loss' was not in top 1\n"
     ]
    },
    {
     "name": "stdout",
     "output_type": "stream",
     "text": [
      "Epoch 568: : 50it [00:27,  1.80it/s, v_num=81, train_loss=0.350]"
     ]
    },
    {
     "name": "stderr",
     "output_type": "stream",
     "text": [
      "Epoch 568, global step 28450: 'train_loss' was not in top 1\n"
     ]
    },
    {
     "name": "stdout",
     "output_type": "stream",
     "text": [
      "Epoch 569: : 50it [00:27,  1.80it/s, v_num=81, train_loss=0.300]"
     ]
    },
    {
     "name": "stderr",
     "output_type": "stream",
     "text": [
      "Epoch 569, global step 28500: 'train_loss' was not in top 1\n"
     ]
    },
    {
     "name": "stdout",
     "output_type": "stream",
     "text": [
      "Epoch 570: : 50it [00:27,  1.80it/s, v_num=81, train_loss=0.291]"
     ]
    },
    {
     "name": "stderr",
     "output_type": "stream",
     "text": [
      "Epoch 570, global step 28550: 'train_loss' was not in top 1\n"
     ]
    },
    {
     "name": "stdout",
     "output_type": "stream",
     "text": [
      "Epoch 571: : 50it [00:27,  1.80it/s, v_num=81, train_loss=0.301]"
     ]
    },
    {
     "name": "stderr",
     "output_type": "stream",
     "text": [
      "Epoch 571, global step 28600: 'train_loss' was not in top 1\n"
     ]
    },
    {
     "name": "stdout",
     "output_type": "stream",
     "text": [
      "Epoch 572: : 50it [00:27,  1.81it/s, v_num=81, train_loss=0.309]"
     ]
    },
    {
     "name": "stderr",
     "output_type": "stream",
     "text": [
      "Epoch 572, global step 28650: 'train_loss' was not in top 1\n"
     ]
    },
    {
     "name": "stdout",
     "output_type": "stream",
     "text": [
      "Epoch 573: : 50it [00:27,  1.81it/s, v_num=81, train_loss=0.320]"
     ]
    },
    {
     "name": "stderr",
     "output_type": "stream",
     "text": [
      "Epoch 573, global step 28700: 'train_loss' was not in top 1\n"
     ]
    },
    {
     "name": "stdout",
     "output_type": "stream",
     "text": [
      "Epoch 574: : 50it [00:27,  1.80it/s, v_num=81, train_loss=0.287]"
     ]
    },
    {
     "name": "stderr",
     "output_type": "stream",
     "text": [
      "Epoch 574, global step 28750: 'train_loss' was not in top 1\n"
     ]
    },
    {
     "name": "stdout",
     "output_type": "stream",
     "text": [
      "Epoch 575: : 50it [00:29,  1.72it/s, v_num=81, train_loss=0.308]"
     ]
    },
    {
     "name": "stderr",
     "output_type": "stream",
     "text": [
      "Epoch 575, global step 28800: 'train_loss' was not in top 1\n"
     ]
    },
    {
     "name": "stdout",
     "output_type": "stream",
     "text": [
      "Epoch 576: : 50it [00:28,  1.76it/s, v_num=81, train_loss=0.254]"
     ]
    },
    {
     "name": "stderr",
     "output_type": "stream",
     "text": [
      "Epoch 576, global step 28850: 'train_loss' was not in top 1\n"
     ]
    },
    {
     "name": "stdout",
     "output_type": "stream",
     "text": [
      "Epoch 577: : 50it [00:27,  1.81it/s, v_num=81, train_loss=0.303]"
     ]
    },
    {
     "name": "stderr",
     "output_type": "stream",
     "text": [
      "Epoch 577, global step 28900: 'train_loss' was not in top 1\n"
     ]
    },
    {
     "name": "stdout",
     "output_type": "stream",
     "text": [
      "Epoch 578: : 50it [00:28,  1.79it/s, v_num=81, train_loss=0.297]"
     ]
    },
    {
     "name": "stderr",
     "output_type": "stream",
     "text": [
      "Epoch 578, global step 28950: 'train_loss' was not in top 1\n"
     ]
    },
    {
     "name": "stdout",
     "output_type": "stream",
     "text": [
      "Epoch 579: : 50it [00:27,  1.80it/s, v_num=81, train_loss=0.319]"
     ]
    },
    {
     "name": "stderr",
     "output_type": "stream",
     "text": [
      "Epoch 579, global step 29000: 'train_loss' was not in top 1\n"
     ]
    },
    {
     "name": "stdout",
     "output_type": "stream",
     "text": [
      "Epoch 580: : 50it [00:28,  1.74it/s, v_num=81, train_loss=0.321]"
     ]
    },
    {
     "name": "stderr",
     "output_type": "stream",
     "text": [
      "Epoch 580, global step 29050: 'train_loss' was not in top 1\n"
     ]
    },
    {
     "name": "stdout",
     "output_type": "stream",
     "text": [
      "Epoch 581: : 50it [00:27,  1.82it/s, v_num=81, train_loss=0.328]"
     ]
    },
    {
     "name": "stderr",
     "output_type": "stream",
     "text": [
      "Epoch 581, global step 29100: 'train_loss' was not in top 1\n"
     ]
    },
    {
     "name": "stdout",
     "output_type": "stream",
     "text": [
      "Epoch 582: : 50it [00:27,  1.80it/s, v_num=81, train_loss=0.338]"
     ]
    },
    {
     "name": "stderr",
     "output_type": "stream",
     "text": [
      "Epoch 582, global step 29150: 'train_loss' was not in top 1\n"
     ]
    },
    {
     "name": "stdout",
     "output_type": "stream",
     "text": [
      "Epoch 583: : 50it [00:27,  1.79it/s, v_num=81, train_loss=0.292]"
     ]
    },
    {
     "name": "stderr",
     "output_type": "stream",
     "text": [
      "Epoch 583, global step 29200: 'train_loss' was not in top 1\n"
     ]
    },
    {
     "name": "stdout",
     "output_type": "stream",
     "text": [
      "Epoch 584: : 50it [00:28,  1.78it/s, v_num=81, train_loss=0.315]"
     ]
    },
    {
     "name": "stderr",
     "output_type": "stream",
     "text": [
      "Epoch 584, global step 29250: 'train_loss' was not in top 1\n"
     ]
    },
    {
     "name": "stdout",
     "output_type": "stream",
     "text": [
      "Epoch 585: : 50it [00:27,  1.80it/s, v_num=81, train_loss=0.283]"
     ]
    },
    {
     "name": "stderr",
     "output_type": "stream",
     "text": [
      "Epoch 585, global step 29300: 'train_loss' was not in top 1\n"
     ]
    },
    {
     "name": "stdout",
     "output_type": "stream",
     "text": [
      "Epoch 586: : 50it [00:28,  1.78it/s, v_num=81, train_loss=0.260]"
     ]
    },
    {
     "name": "stderr",
     "output_type": "stream",
     "text": [
      "Epoch 586, global step 29350: 'train_loss' was not in top 1\n"
     ]
    },
    {
     "name": "stdout",
     "output_type": "stream",
     "text": [
      "Epoch 587: : 50it [00:27,  1.80it/s, v_num=81, train_loss=0.307]"
     ]
    },
    {
     "name": "stderr",
     "output_type": "stream",
     "text": [
      "Epoch 587, global step 29400: 'train_loss' was not in top 1\n"
     ]
    },
    {
     "name": "stdout",
     "output_type": "stream",
     "text": [
      "Epoch 588: : 50it [00:27,  1.83it/s, v_num=81, train_loss=0.329]"
     ]
    },
    {
     "name": "stderr",
     "output_type": "stream",
     "text": [
      "Epoch 588, global step 29450: 'train_loss' was not in top 1\n"
     ]
    },
    {
     "name": "stdout",
     "output_type": "stream",
     "text": [
      "Epoch 589: : 50it [00:27,  1.80it/s, v_num=81, train_loss=0.309]"
     ]
    },
    {
     "name": "stderr",
     "output_type": "stream",
     "text": [
      "Epoch 589, global step 29500: 'train_loss' was not in top 1\n"
     ]
    },
    {
     "name": "stdout",
     "output_type": "stream",
     "text": [
      "Epoch 590: : 50it [00:27,  1.79it/s, v_num=81, train_loss=0.314]"
     ]
    },
    {
     "name": "stderr",
     "output_type": "stream",
     "text": [
      "Epoch 590, global step 29550: 'train_loss' was not in top 1\n"
     ]
    },
    {
     "name": "stdout",
     "output_type": "stream",
     "text": [
      "Epoch 591: : 50it [00:28,  1.75it/s, v_num=81, train_loss=0.342]"
     ]
    },
    {
     "name": "stderr",
     "output_type": "stream",
     "text": [
      "Epoch 591, global step 29600: 'train_loss' was not in top 1\n"
     ]
    },
    {
     "name": "stdout",
     "output_type": "stream",
     "text": [
      "Epoch 592: : 50it [00:27,  1.79it/s, v_num=81, train_loss=0.295]"
     ]
    },
    {
     "name": "stderr",
     "output_type": "stream",
     "text": [
      "Epoch 592, global step 29650: 'train_loss' was not in top 1\n"
     ]
    },
    {
     "name": "stdout",
     "output_type": "stream",
     "text": [
      "Epoch 593: : 50it [00:28,  1.74it/s, v_num=81, train_loss=0.285]"
     ]
    },
    {
     "name": "stderr",
     "output_type": "stream",
     "text": [
      "Epoch 593, global step 29700: 'train_loss' was not in top 1\n"
     ]
    },
    {
     "name": "stdout",
     "output_type": "stream",
     "text": [
      "Epoch 594: : 50it [00:28,  1.77it/s, v_num=81, train_loss=0.313]"
     ]
    },
    {
     "name": "stderr",
     "output_type": "stream",
     "text": [
      "Epoch 594, global step 29750: 'train_loss' was not in top 1\n"
     ]
    },
    {
     "name": "stdout",
     "output_type": "stream",
     "text": [
      "Epoch 595: : 50it [00:28,  1.78it/s, v_num=81, train_loss=0.314]"
     ]
    },
    {
     "name": "stderr",
     "output_type": "stream",
     "text": [
      "Epoch 595, global step 29800: 'train_loss' was not in top 1\n"
     ]
    },
    {
     "name": "stdout",
     "output_type": "stream",
     "text": [
      "Epoch 596: : 50it [00:28,  1.78it/s, v_num=81, train_loss=0.342]"
     ]
    },
    {
     "name": "stderr",
     "output_type": "stream",
     "text": [
      "Epoch 596, global step 29850: 'train_loss' was not in top 1\n"
     ]
    },
    {
     "name": "stdout",
     "output_type": "stream",
     "text": [
      "Epoch 597: : 50it [00:29,  1.69it/s, v_num=81, train_loss=0.297]"
     ]
    },
    {
     "name": "stderr",
     "output_type": "stream",
     "text": [
      "Epoch 597, global step 29900: 'train_loss' was not in top 1\n"
     ]
    },
    {
     "name": "stdout",
     "output_type": "stream",
     "text": [
      "Epoch 598: : 50it [00:29,  1.72it/s, v_num=81, train_loss=0.332]"
     ]
    },
    {
     "name": "stderr",
     "output_type": "stream",
     "text": [
      "Epoch 598, global step 29950: 'train_loss' was not in top 1\n"
     ]
    },
    {
     "name": "stdout",
     "output_type": "stream",
     "text": [
      "Epoch 599: : 50it [00:29,  1.71it/s, v_num=81, train_loss=0.308]"
     ]
    },
    {
     "name": "stderr",
     "output_type": "stream",
     "text": [
      "Epoch 599, global step 30000: 'train_loss' was not in top 1\n"
     ]
    },
    {
     "name": "stdout",
     "output_type": "stream",
     "text": [
      "Epoch 600: : 50it [00:28,  1.73it/s, v_num=81, train_loss=0.310]"
     ]
    },
    {
     "name": "stderr",
     "output_type": "stream",
     "text": [
      "Epoch 600, global step 30050: 'train_loss' was not in top 1\n"
     ]
    },
    {
     "name": "stdout",
     "output_type": "stream",
     "text": [
      "Epoch 601: : 50it [00:29,  1.69it/s, v_num=81, train_loss=0.298]"
     ]
    },
    {
     "name": "stderr",
     "output_type": "stream",
     "text": [
      "Epoch 601, global step 30100: 'train_loss' was not in top 1\n"
     ]
    },
    {
     "name": "stdout",
     "output_type": "stream",
     "text": [
      "Epoch 602: : 50it [00:27,  1.79it/s, v_num=81, train_loss=0.305]"
     ]
    },
    {
     "name": "stderr",
     "output_type": "stream",
     "text": [
      "Epoch 602, global step 30150: 'train_loss' was not in top 1\n"
     ]
    },
    {
     "name": "stdout",
     "output_type": "stream",
     "text": [
      "Epoch 603: : 50it [00:27,  1.81it/s, v_num=81, train_loss=0.284]"
     ]
    },
    {
     "name": "stderr",
     "output_type": "stream",
     "text": [
      "Epoch 603, global step 30200: 'train_loss' was not in top 1\n"
     ]
    },
    {
     "name": "stdout",
     "output_type": "stream",
     "text": [
      "Epoch 604: : 50it [00:28,  1.77it/s, v_num=81, train_loss=0.326]"
     ]
    },
    {
     "name": "stderr",
     "output_type": "stream",
     "text": [
      "Epoch 604, global step 30250: 'train_loss' was not in top 1\n"
     ]
    },
    {
     "name": "stdout",
     "output_type": "stream",
     "text": [
      "Epoch 605: : 50it [00:28,  1.78it/s, v_num=81, train_loss=0.274]"
     ]
    },
    {
     "name": "stderr",
     "output_type": "stream",
     "text": [
      "Epoch 605, global step 30300: 'train_loss' was not in top 1\n"
     ]
    },
    {
     "name": "stdout",
     "output_type": "stream",
     "text": [
      "Epoch 606: : 50it [00:27,  1.82it/s, v_num=81, train_loss=0.305]"
     ]
    },
    {
     "name": "stderr",
     "output_type": "stream",
     "text": [
      "Epoch 606, global step 30350: 'train_loss' was not in top 1\n"
     ]
    },
    {
     "name": "stdout",
     "output_type": "stream",
     "text": [
      "Epoch 607: : 50it [00:28,  1.78it/s, v_num=81, train_loss=0.318]"
     ]
    },
    {
     "name": "stderr",
     "output_type": "stream",
     "text": [
      "Epoch 607, global step 30400: 'train_loss' was not in top 1\n"
     ]
    },
    {
     "name": "stdout",
     "output_type": "stream",
     "text": [
      "Epoch 608: : 50it [00:28,  1.74it/s, v_num=81, train_loss=0.304]"
     ]
    },
    {
     "name": "stderr",
     "output_type": "stream",
     "text": [
      "Epoch 608, global step 30450: 'train_loss' was not in top 1\n"
     ]
    },
    {
     "name": "stdout",
     "output_type": "stream",
     "text": [
      "Epoch 609: : 50it [00:28,  1.76it/s, v_num=81, train_loss=0.336]"
     ]
    },
    {
     "name": "stderr",
     "output_type": "stream",
     "text": [
      "Epoch 609, global step 30500: 'train_loss' was not in top 1\n"
     ]
    },
    {
     "name": "stdout",
     "output_type": "stream",
     "text": [
      "Epoch 610: : 50it [00:28,  1.75it/s, v_num=81, train_loss=0.320]"
     ]
    },
    {
     "name": "stderr",
     "output_type": "stream",
     "text": [
      "Epoch 610, global step 30550: 'train_loss' was not in top 1\n"
     ]
    },
    {
     "name": "stdout",
     "output_type": "stream",
     "text": [
      "Epoch 611: : 50it [00:27,  1.80it/s, v_num=81, train_loss=0.298]"
     ]
    },
    {
     "name": "stderr",
     "output_type": "stream",
     "text": [
      "Epoch 611, global step 30600: 'train_loss' was not in top 1\n"
     ]
    },
    {
     "name": "stdout",
     "output_type": "stream",
     "text": [
      "Epoch 612: : 50it [00:27,  1.79it/s, v_num=81, train_loss=0.308]"
     ]
    },
    {
     "name": "stderr",
     "output_type": "stream",
     "text": [
      "Epoch 612, global step 30650: 'train_loss' was not in top 1\n"
     ]
    },
    {
     "name": "stdout",
     "output_type": "stream",
     "text": [
      "Epoch 613: : 50it [00:27,  1.80it/s, v_num=81, train_loss=0.336]"
     ]
    },
    {
     "name": "stderr",
     "output_type": "stream",
     "text": [
      "Epoch 613, global step 30700: 'train_loss' was not in top 1\n"
     ]
    },
    {
     "name": "stdout",
     "output_type": "stream",
     "text": [
      "Epoch 614: : 50it [00:28,  1.75it/s, v_num=81, train_loss=0.333]"
     ]
    },
    {
     "name": "stderr",
     "output_type": "stream",
     "text": [
      "Epoch 614, global step 30750: 'train_loss' was not in top 1\n"
     ]
    },
    {
     "name": "stdout",
     "output_type": "stream",
     "text": [
      "Epoch 615: : 50it [00:27,  1.79it/s, v_num=81, train_loss=0.324]"
     ]
    },
    {
     "name": "stderr",
     "output_type": "stream",
     "text": [
      "Epoch 615, global step 30800: 'train_loss' was not in top 1\n"
     ]
    },
    {
     "name": "stdout",
     "output_type": "stream",
     "text": [
      "Epoch 616: : 50it [00:28,  1.78it/s, v_num=81, train_loss=0.307]"
     ]
    },
    {
     "name": "stderr",
     "output_type": "stream",
     "text": [
      "Epoch 616, global step 30850: 'train_loss' was not in top 1\n"
     ]
    },
    {
     "name": "stdout",
     "output_type": "stream",
     "text": [
      "Epoch 617: : 50it [00:28,  1.77it/s, v_num=81, train_loss=0.300]"
     ]
    },
    {
     "name": "stderr",
     "output_type": "stream",
     "text": [
      "Epoch 617, global step 30900: 'train_loss' was not in top 1\n"
     ]
    },
    {
     "name": "stdout",
     "output_type": "stream",
     "text": [
      "Epoch 618: : 50it [00:28,  1.76it/s, v_num=81, train_loss=0.328]"
     ]
    },
    {
     "name": "stderr",
     "output_type": "stream",
     "text": [
      "Epoch 618, global step 30950: 'train_loss' was not in top 1\n"
     ]
    },
    {
     "name": "stdout",
     "output_type": "stream",
     "text": [
      "Epoch 619: : 50it [00:28,  1.75it/s, v_num=81, train_loss=0.325]"
     ]
    },
    {
     "name": "stderr",
     "output_type": "stream",
     "text": [
      "Epoch 619, global step 31000: 'train_loss' was not in top 1\n"
     ]
    },
    {
     "name": "stdout",
     "output_type": "stream",
     "text": [
      "Epoch 620: : 50it [00:27,  1.81it/s, v_num=81, train_loss=0.289]"
     ]
    },
    {
     "name": "stderr",
     "output_type": "stream",
     "text": [
      "Epoch 620, global step 31050: 'train_loss' was not in top 1\n"
     ]
    },
    {
     "name": "stdout",
     "output_type": "stream",
     "text": [
      "Epoch 621: : 50it [00:28,  1.77it/s, v_num=81, train_loss=0.331]"
     ]
    },
    {
     "name": "stderr",
     "output_type": "stream",
     "text": [
      "Epoch 621, global step 31100: 'train_loss' was not in top 1\n"
     ]
    },
    {
     "name": "stdout",
     "output_type": "stream",
     "text": [
      "Epoch 622: : 50it [00:29,  1.69it/s, v_num=81, train_loss=0.287]"
     ]
    },
    {
     "name": "stderr",
     "output_type": "stream",
     "text": [
      "Epoch 622, global step 31150: 'train_loss' was not in top 1\n"
     ]
    },
    {
     "name": "stdout",
     "output_type": "stream",
     "text": [
      "Epoch 623: : 50it [00:29,  1.69it/s, v_num=81, train_loss=0.308]"
     ]
    },
    {
     "name": "stderr",
     "output_type": "stream",
     "text": [
      "Epoch 623, global step 31200: 'train_loss' was not in top 1\n"
     ]
    },
    {
     "name": "stdout",
     "output_type": "stream",
     "text": [
      "Epoch 624: : 50it [00:28,  1.75it/s, v_num=81, train_loss=0.313]"
     ]
    },
    {
     "name": "stderr",
     "output_type": "stream",
     "text": [
      "Epoch 624, global step 31250: 'train_loss' was not in top 1\n"
     ]
    },
    {
     "name": "stdout",
     "output_type": "stream",
     "text": [
      "Epoch 625: : 50it [00:28,  1.73it/s, v_num=81, train_loss=0.329]"
     ]
    },
    {
     "name": "stderr",
     "output_type": "stream",
     "text": [
      "Epoch 625, global step 31300: 'train_loss' was not in top 1\n"
     ]
    },
    {
     "name": "stdout",
     "output_type": "stream",
     "text": [
      "Epoch 626: : 50it [00:28,  1.77it/s, v_num=81, train_loss=0.319]"
     ]
    },
    {
     "name": "stderr",
     "output_type": "stream",
     "text": [
      "Epoch 626, global step 31350: 'train_loss' was not in top 1\n"
     ]
    },
    {
     "name": "stdout",
     "output_type": "stream",
     "text": [
      "Epoch 627: : 50it [00:28,  1.78it/s, v_num=81, train_loss=0.304]"
     ]
    },
    {
     "name": "stderr",
     "output_type": "stream",
     "text": [
      "Epoch 627, global step 31400: 'train_loss' was not in top 1\n"
     ]
    },
    {
     "name": "stdout",
     "output_type": "stream",
     "text": [
      "Epoch 628: : 50it [00:28,  1.78it/s, v_num=81, train_loss=0.289]"
     ]
    },
    {
     "name": "stderr",
     "output_type": "stream",
     "text": [
      "Epoch 628, global step 31450: 'train_loss' was not in top 1\n"
     ]
    },
    {
     "name": "stdout",
     "output_type": "stream",
     "text": [
      "Epoch 629: : 50it [00:27,  1.79it/s, v_num=81, train_loss=0.322]"
     ]
    },
    {
     "name": "stderr",
     "output_type": "stream",
     "text": [
      "Epoch 629, global step 31500: 'train_loss' was not in top 1\n"
     ]
    },
    {
     "name": "stdout",
     "output_type": "stream",
     "text": [
      "Epoch 630: : 50it [00:28,  1.78it/s, v_num=81, train_loss=0.291]"
     ]
    },
    {
     "name": "stderr",
     "output_type": "stream",
     "text": [
      "Epoch 630, global step 31550: 'train_loss' was not in top 1\n"
     ]
    },
    {
     "name": "stdout",
     "output_type": "stream",
     "text": [
      "Epoch 631: : 50it [00:28,  1.73it/s, v_num=81, train_loss=0.318]"
     ]
    },
    {
     "name": "stderr",
     "output_type": "stream",
     "text": [
      "Epoch 631, global step 31600: 'train_loss' was not in top 1\n"
     ]
    },
    {
     "name": "stdout",
     "output_type": "stream",
     "text": [
      "Epoch 632: : 50it [00:28,  1.73it/s, v_num=81, train_loss=0.305]"
     ]
    },
    {
     "name": "stderr",
     "output_type": "stream",
     "text": [
      "Epoch 632, global step 31650: 'train_loss' was not in top 1\n"
     ]
    },
    {
     "name": "stdout",
     "output_type": "stream",
     "text": [
      "Epoch 633: : 50it [00:28,  1.73it/s, v_num=81, train_loss=0.294]"
     ]
    },
    {
     "name": "stderr",
     "output_type": "stream",
     "text": [
      "Epoch 633, global step 31700: 'train_loss' was not in top 1\n"
     ]
    },
    {
     "name": "stdout",
     "output_type": "stream",
     "text": [
      "Epoch 634: : 50it [00:28,  1.76it/s, v_num=81, train_loss=0.303]"
     ]
    },
    {
     "name": "stderr",
     "output_type": "stream",
     "text": [
      "Epoch 634, global step 31750: 'train_loss' was not in top 1\n"
     ]
    },
    {
     "name": "stdout",
     "output_type": "stream",
     "text": [
      "Epoch 635: : 50it [00:27,  1.82it/s, v_num=81, train_loss=0.307]"
     ]
    },
    {
     "name": "stderr",
     "output_type": "stream",
     "text": [
      "Epoch 635, global step 31800: 'train_loss' was not in top 1\n"
     ]
    },
    {
     "name": "stdout",
     "output_type": "stream",
     "text": [
      "Epoch 636: : 50it [00:27,  1.80it/s, v_num=81, train_loss=0.308]"
     ]
    },
    {
     "name": "stderr",
     "output_type": "stream",
     "text": [
      "Epoch 636, global step 31850: 'train_loss' was not in top 1\n"
     ]
    },
    {
     "name": "stdout",
     "output_type": "stream",
     "text": [
      "Epoch 637: : 50it [00:28,  1.77it/s, v_num=81, train_loss=0.365]"
     ]
    },
    {
     "name": "stderr",
     "output_type": "stream",
     "text": [
      "Epoch 637, global step 31900: 'train_loss' was not in top 1\n"
     ]
    },
    {
     "name": "stdout",
     "output_type": "stream",
     "text": [
      "Epoch 638: : 50it [00:27,  1.79it/s, v_num=81, train_loss=0.297]"
     ]
    },
    {
     "name": "stderr",
     "output_type": "stream",
     "text": [
      "Epoch 638, global step 31950: 'train_loss' was not in top 1\n"
     ]
    },
    {
     "name": "stdout",
     "output_type": "stream",
     "text": [
      "Epoch 639: : 50it [00:27,  1.80it/s, v_num=81, train_loss=0.316]"
     ]
    },
    {
     "name": "stderr",
     "output_type": "stream",
     "text": [
      "Epoch 639, global step 32000: 'train_loss' was not in top 1\n"
     ]
    },
    {
     "name": "stdout",
     "output_type": "stream",
     "text": [
      "Epoch 640: : 50it [00:27,  1.80it/s, v_num=81, train_loss=0.323]"
     ]
    },
    {
     "name": "stderr",
     "output_type": "stream",
     "text": [
      "Epoch 640, global step 32050: 'train_loss' was not in top 1\n"
     ]
    },
    {
     "name": "stdout",
     "output_type": "stream",
     "text": [
      "Epoch 641: : 50it [00:28,  1.76it/s, v_num=81, train_loss=0.284]"
     ]
    },
    {
     "name": "stderr",
     "output_type": "stream",
     "text": [
      "Epoch 641, global step 32100: 'train_loss' was not in top 1\n"
     ]
    },
    {
     "name": "stdout",
     "output_type": "stream",
     "text": [
      "Epoch 642: : 50it [00:28,  1.76it/s, v_num=81, train_loss=0.302]"
     ]
    },
    {
     "name": "stderr",
     "output_type": "stream",
     "text": [
      "Epoch 642, global step 32150: 'train_loss' was not in top 1\n"
     ]
    },
    {
     "name": "stdout",
     "output_type": "stream",
     "text": [
      "Epoch 643: : 50it [00:27,  1.79it/s, v_num=81, train_loss=0.327]"
     ]
    },
    {
     "name": "stderr",
     "output_type": "stream",
     "text": [
      "Epoch 643, global step 32200: 'train_loss' was not in top 1\n"
     ]
    },
    {
     "name": "stdout",
     "output_type": "stream",
     "text": [
      "Epoch 644: : 50it [00:27,  1.79it/s, v_num=81, train_loss=0.318]"
     ]
    },
    {
     "name": "stderr",
     "output_type": "stream",
     "text": [
      "Epoch 644, global step 32250: 'train_loss' was not in top 1\n"
     ]
    },
    {
     "name": "stdout",
     "output_type": "stream",
     "text": [
      "Epoch 645: : 50it [00:27,  1.82it/s, v_num=81, train_loss=0.305]"
     ]
    },
    {
     "name": "stderr",
     "output_type": "stream",
     "text": [
      "Epoch 645, global step 32300: 'train_loss' was not in top 1\n"
     ]
    },
    {
     "name": "stdout",
     "output_type": "stream",
     "text": [
      "Epoch 646: : 50it [00:27,  1.80it/s, v_num=81, train_loss=0.276]"
     ]
    },
    {
     "name": "stderr",
     "output_type": "stream",
     "text": [
      "Epoch 646, global step 32350: 'train_loss' was not in top 1\n"
     ]
    },
    {
     "name": "stdout",
     "output_type": "stream",
     "text": [
      "Epoch 647: : 50it [00:27,  1.81it/s, v_num=81, train_loss=0.314]"
     ]
    },
    {
     "name": "stderr",
     "output_type": "stream",
     "text": [
      "Epoch 647, global step 32400: 'train_loss' was not in top 1\n"
     ]
    },
    {
     "name": "stdout",
     "output_type": "stream",
     "text": [
      "Epoch 648: : 50it [00:27,  1.80it/s, v_num=81, train_loss=0.288]"
     ]
    },
    {
     "name": "stderr",
     "output_type": "stream",
     "text": [
      "Epoch 648, global step 32450: 'train_loss' was not in top 1\n"
     ]
    },
    {
     "name": "stdout",
     "output_type": "stream",
     "text": [
      "Epoch 649: : 50it [00:28,  1.77it/s, v_num=81, train_loss=0.321]"
     ]
    },
    {
     "name": "stderr",
     "output_type": "stream",
     "text": [
      "Epoch 649, global step 32500: 'train_loss' was not in top 1\n"
     ]
    },
    {
     "name": "stdout",
     "output_type": "stream",
     "text": [
      "Epoch 650: : 50it [00:27,  1.79it/s, v_num=81, train_loss=0.335]"
     ]
    },
    {
     "name": "stderr",
     "output_type": "stream",
     "text": [
      "Epoch 650, global step 32550: 'train_loss' was not in top 1\n"
     ]
    },
    {
     "name": "stdout",
     "output_type": "stream",
     "text": [
      "Epoch 651: : 50it [00:28,  1.78it/s, v_num=81, train_loss=0.281]"
     ]
    },
    {
     "name": "stderr",
     "output_type": "stream",
     "text": [
      "Epoch 651, global step 32600: 'train_loss' was not in top 1\n"
     ]
    },
    {
     "name": "stdout",
     "output_type": "stream",
     "text": [
      "Epoch 652: : 50it [00:28,  1.77it/s, v_num=81, train_loss=0.347]"
     ]
    },
    {
     "name": "stderr",
     "output_type": "stream",
     "text": [
      "Epoch 652, global step 32650: 'train_loss' was not in top 1\n"
     ]
    },
    {
     "name": "stdout",
     "output_type": "stream",
     "text": [
      "Epoch 653: : 50it [00:28,  1.77it/s, v_num=81, train_loss=0.293]"
     ]
    },
    {
     "name": "stderr",
     "output_type": "stream",
     "text": [
      "Epoch 653, global step 32700: 'train_loss' was not in top 1\n"
     ]
    },
    {
     "name": "stdout",
     "output_type": "stream",
     "text": [
      "Epoch 654: : 50it [00:27,  1.79it/s, v_num=81, train_loss=0.306]"
     ]
    },
    {
     "name": "stderr",
     "output_type": "stream",
     "text": [
      "Epoch 654, global step 32750: 'train_loss' was not in top 1\n"
     ]
    },
    {
     "name": "stdout",
     "output_type": "stream",
     "text": [
      "Epoch 655: : 50it [00:27,  1.81it/s, v_num=81, train_loss=0.286]"
     ]
    },
    {
     "name": "stderr",
     "output_type": "stream",
     "text": [
      "Epoch 655, global step 32800: 'train_loss' was not in top 1\n"
     ]
    },
    {
     "name": "stdout",
     "output_type": "stream",
     "text": [
      "Epoch 656: : 50it [00:28,  1.75it/s, v_num=81, train_loss=0.350]"
     ]
    },
    {
     "name": "stderr",
     "output_type": "stream",
     "text": [
      "Epoch 656, global step 32850: 'train_loss' was not in top 1\n"
     ]
    },
    {
     "name": "stdout",
     "output_type": "stream",
     "text": [
      "Epoch 657: : 50it [00:28,  1.78it/s, v_num=81, train_loss=0.300]"
     ]
    },
    {
     "name": "stderr",
     "output_type": "stream",
     "text": [
      "Epoch 657, global step 32900: 'train_loss' was not in top 1\n"
     ]
    },
    {
     "name": "stdout",
     "output_type": "stream",
     "text": [
      "Epoch 658: : 50it [00:28,  1.78it/s, v_num=81, train_loss=0.348]"
     ]
    },
    {
     "name": "stderr",
     "output_type": "stream",
     "text": [
      "Epoch 658, global step 32950: 'train_loss' was not in top 1\n"
     ]
    },
    {
     "name": "stdout",
     "output_type": "stream",
     "text": [
      "Epoch 659: : 50it [00:27,  1.82it/s, v_num=81, train_loss=0.293]"
     ]
    },
    {
     "name": "stderr",
     "output_type": "stream",
     "text": [
      "Epoch 659, global step 33000: 'train_loss' was not in top 1\n"
     ]
    },
    {
     "name": "stdout",
     "output_type": "stream",
     "text": [
      "Epoch 660: : 50it [00:27,  1.81it/s, v_num=81, train_loss=0.306]"
     ]
    },
    {
     "name": "stderr",
     "output_type": "stream",
     "text": [
      "Epoch 660, global step 33050: 'train_loss' was not in top 1\n"
     ]
    },
    {
     "name": "stdout",
     "output_type": "stream",
     "text": [
      "Epoch 661: : 50it [00:28,  1.77it/s, v_num=81, train_loss=0.297]"
     ]
    },
    {
     "name": "stderr",
     "output_type": "stream",
     "text": [
      "Epoch 661, global step 33100: 'train_loss' was not in top 1\n"
     ]
    },
    {
     "name": "stdout",
     "output_type": "stream",
     "text": [
      "Epoch 662: : 50it [00:27,  1.79it/s, v_num=81, train_loss=0.269]"
     ]
    },
    {
     "name": "stderr",
     "output_type": "stream",
     "text": [
      "Epoch 662, global step 33150: 'train_loss' was not in top 1\n"
     ]
    },
    {
     "name": "stdout",
     "output_type": "stream",
     "text": [
      "Epoch 663: : 50it [00:27,  1.80it/s, v_num=81, train_loss=0.302]"
     ]
    },
    {
     "name": "stderr",
     "output_type": "stream",
     "text": [
      "Epoch 663, global step 33200: 'train_loss' was not in top 1\n"
     ]
    },
    {
     "name": "stdout",
     "output_type": "stream",
     "text": [
      "Epoch 980: : 5it [00:03,  1.58it/s, v_num=81, train_loss=0.305] "
     ]
    }
   ],
   "source": [
    "# Start Experiment\n",
    "forecasts, tss, agg_metrics = run_experiment(\n",
    "    input_paths=input_paths,\n",
    "    target_col=target_col,\n",
    "    prediction_length=prediction_length,\n",
    "    windows=windows,\n",
    "    past_rts_col=past_rts_col,\n",
    "    estimator=deepar_estimator,\n",
    ")"
   ]
  },
  {
   "cell_type": "code",
   "execution_count": null,
   "id": "72237209-08ae-42ba-af3f-4c4a6028f344",
   "metadata": {
    "tags": []
   },
   "outputs": [],
   "source": [
    "# Plot forecast\n",
    "plot_forecast(\n",
    "    tss=tss, \n",
    "    forecasts=forecasts, \n",
    "    # path=\"./plot.svg\",\n",
    ")"
   ]
  },
  {
   "cell_type": "code",
   "execution_count": null,
   "id": "a36dbe32-57b9-4d92-abc5-591a9948e7e7",
   "metadata": {},
   "outputs": [],
   "source": [
    "# Add experiment to database store\n",
    "experiment_config = Forecast_Experiment(\n",
    "    model = 'torch_deepar',\n",
    "    version = version,\n",
    "    data_config = {\n",
    "        'target':target_col,\n",
    "        'past_rts_col':past_rts_col,\n",
    "        'windows':windows,\n",
    "    },\n",
    "    model_config = {\n",
    "        'epochs':max_epochs,\n",
    "        'prediction_length':prediction_length,\n",
    "        'num_layers':num_layers,\n",
    "        'hidden_size':hidden_size,\n",
    "        'context_length':context_length,\n",
    "        'lr':lr,\n",
    "        'weight_decay':weight_decay,\n",
    "    },\n",
    "    MASE = agg_metrics['MASE'],\n",
    "    MAPE = agg_metrics['MAPE'],\n",
    "    RMSE = agg_metrics['RMSE'],\n",
    "    wQL_10 = agg_metrics['wQuantileLoss[0.1]'],\n",
    "    wQL_50 = agg_metrics['wQuantileLoss[0.5]'],\n",
    "    wQL_90 = agg_metrics['wQuantileLoss[0.9]'],\n",
    "    avg_wQL = agg_metrics['mean_wQuantileLoss']\n",
    ")\n",
    "session.add(experiment_config)\n",
    "session.commit()"
   ]
  },
  {
   "cell_type": "markdown",
   "id": "ab88f6d4-e890-41bb-9ab4-3a9523b18c30",
   "metadata": {
    "jp-MarkdownHeadingCollapsed": true,
    "tags": []
   },
   "source": [
    "## DeepState ([mx](https://github.com/awslabs/gluonts/blob/dev/src/gluonts/mx/model/deepstate/_estimator.py))"
   ]
  },
  {
   "cell_type": "markdown",
   "id": "827b8258-5a20-4598-a301-b91465d1cdcd",
   "metadata": {},
   "source": [
    "DeepState is a novel approach to probabilistic time series forecasting that combines state space models with deep learning. By parametrizing a per-time-series linear state space model with a jointly-learned recurrent neural network, our method retains desired properties of state space models such as data efficiency and interpretability, while making use of the ability to learn complex patterns from raw data offered by deep learning approaches."
   ]
  },
  {
   "cell_type": "code",
   "execution_count": 9,
   "id": "44abff25-80bb-4ebe-a376-d1e8312f6479",
   "metadata": {
    "tags": []
   },
   "outputs": [],
   "source": [
    "from gluonts.mx import DeepStateEstimator\n",
    "from gluonts.mx import Trainer"
   ]
  },
  {
   "cell_type": "code",
   "execution_count": 10,
   "id": "3fb5510f-278b-48b8-9e93-6f955156b850",
   "metadata": {
    "tags": []
   },
   "outputs": [],
   "source": [
    "# Data specs\n",
    "input_paths = [\n",
    "    \"../data_engineering/financial_ts/indices.csv\",\n",
    "    \"../data_engineering/financial_ts/ww_gdp.csv\",\n",
    "    \"../data_engineering/timeseries_data/ts_dgelt_events.csv\"\n",
    "]\n",
    "target_col = 'ts_MSCI_World'\n",
    "with open('./config/past_rts_cols.json', 'r') as fp:\n",
    "    past_rts_col = json.load(fp)['version_1']\n",
    "windows = 1\n",
    "\n",
    "# Estimator specs\n",
    "version = 1\n",
    "prediction_length=56\n",
    "num_layers=2\n",
    "hidden_size=20\n",
    "\n",
    "# Trainer specs\n",
    "max_epochs = 100\n",
    "lr = 1e-1\n",
    "weight_decay = 1e-4"
   ]
  },
  {
   "cell_type": "code",
   "execution_count": 11,
   "id": "990009b6-8107-4f2d-a7eb-d0b013f4048f",
   "metadata": {
    "tags": []
   },
   "outputs": [],
   "source": [
    "# Define estimator\n",
    "deepstate_estimator = DeepStateEstimator(\n",
    "    prediction_length=prediction_length,\n",
    "    num_layers=num_layers, \n",
    "    num_cells=hidden_size, \n",
    "    use_feat_static_cat=False,\n",
    "    cardinality=[],\n",
    "    trainer = Trainer(\n",
    "        epochs=max_epochs,\n",
    "        learning_rate=lr,\n",
    "        weight_decay=weight_decay,\n",
    "    ),\n",
    "    freq=\"W\",\n",
    ")"
   ]
  },
  {
   "cell_type": "code",
   "execution_count": null,
   "id": "f7e30987-b4de-41db-b228-d9bdaed3a658",
   "metadata": {
    "tags": []
   },
   "outputs": [
    {
     "name": "stderr",
     "output_type": "stream",
     "text": [
      "100%|██████████| 50/50 [01:40<00:00,  2.01s/it, epoch=1/100, avg_epoch_loss=6.5] \n",
      "100%|██████████| 50/50 [01:33<00:00,  1.86s/it, epoch=2/100, avg_epoch_loss=6.13]\n",
      "100%|██████████| 50/50 [01:33<00:00,  1.87s/it, epoch=3/100, avg_epoch_loss=5.97]\n",
      "100%|██████████| 50/50 [01:31<00:00,  1.82s/it, epoch=4/100, avg_epoch_loss=5.95]\n",
      "100%|██████████| 50/50 [01:30<00:00,  1.81s/it, epoch=5/100, avg_epoch_loss=5.9] \n",
      "100%|██████████| 50/50 [01:33<00:00,  1.86s/it, epoch=6/100, avg_epoch_loss=5.89]\n",
      "100%|██████████| 50/50 [01:33<00:00,  1.87s/it, epoch=7/100, avg_epoch_loss=5.77]\n",
      "100%|██████████| 50/50 [01:33<00:00,  1.86s/it, epoch=8/100, avg_epoch_loss=5.73]\n",
      "100%|██████████| 50/50 [01:33<00:00,  1.88s/it, epoch=9/100, avg_epoch_loss=5.65]\n",
      "100%|██████████| 50/50 [01:32<00:00,  1.86s/it, epoch=10/100, avg_epoch_loss=5.7] \n",
      "100%|██████████| 50/50 [01:29<00:00,  1.80s/it, epoch=11/100, avg_epoch_loss=5.6] \n",
      "100%|██████████| 50/50 [01:29<00:00,  1.80s/it, epoch=12/100, avg_epoch_loss=5.56]\n",
      "100%|██████████| 50/50 [01:29<00:00,  1.79s/it, epoch=13/100, avg_epoch_loss=5.64]\n",
      "100%|██████████| 50/50 [01:29<00:00,  1.80s/it, epoch=14/100, avg_epoch_loss=5.66]\n",
      "100%|██████████| 50/50 [01:30<00:00,  1.81s/it, epoch=15/100, avg_epoch_loss=5.5] \n",
      "100%|██████████| 50/50 [01:29<00:00,  1.80s/it, epoch=16/100, avg_epoch_loss=5.49]\n",
      "100%|██████████| 50/50 [01:29<00:00,  1.79s/it, epoch=17/100, avg_epoch_loss=5.51]\n",
      "100%|██████████| 50/50 [01:30<00:00,  1.80s/it, epoch=18/100, avg_epoch_loss=5.89]\n",
      "100%|██████████| 50/50 [01:30<00:00,  1.81s/it, epoch=19/100, avg_epoch_loss=5.75]\n",
      "100%|██████████| 50/50 [01:30<00:00,  1.80s/it, epoch=20/100, avg_epoch_loss=5.82]\n",
      "100%|██████████| 50/50 [01:29<00:00,  1.80s/it, epoch=21/100, avg_epoch_loss=5.74]\n",
      "100%|██████████| 50/50 [01:30<00:00,  1.81s/it, epoch=22/100, avg_epoch_loss=5.69]\n",
      "100%|██████████| 50/50 [01:30<00:00,  1.82s/it, epoch=23/100, avg_epoch_loss=5.64]\n",
      "100%|██████████| 50/50 [01:29<00:00,  1.80s/it, epoch=24/100, avg_epoch_loss=5.56]\n",
      "100%|██████████| 50/50 [01:30<00:00,  1.81s/it, epoch=26/100, avg_epoch_loss=5.54]\n",
      "100%|██████████| 50/50 [01:33<00:00,  1.87s/it, epoch=27/100, avg_epoch_loss=5.44]\n",
      "100%|██████████| 50/50 [01:33<00:00,  1.88s/it, epoch=28/100, avg_epoch_loss=5.32]\n",
      "100%|██████████| 50/50 [01:33<00:00,  1.86s/it, epoch=29/100, avg_epoch_loss=5.22]\n",
      "100%|██████████| 50/50 [01:33<00:00,  1.87s/it, epoch=30/100, avg_epoch_loss=5.18]\n",
      "100%|██████████| 50/50 [01:32<00:00,  1.85s/it, epoch=31/100, avg_epoch_loss=5.18]\n",
      "100%|██████████| 50/50 [01:31<00:00,  1.83s/it, epoch=32/100, avg_epoch_loss=5.11]\n",
      "100%|██████████| 50/50 [01:30<00:00,  1.82s/it, epoch=33/100, avg_epoch_loss=5.11]\n",
      "100%|██████████| 50/50 [01:30<00:00,  1.81s/it, epoch=34/100, avg_epoch_loss=5.02]\n",
      "100%|██████████| 50/50 [01:30<00:00,  1.81s/it, epoch=35/100, avg_epoch_loss=5.04]\n",
      "100%|██████████| 50/50 [01:29<00:00,  1.80s/it, epoch=36/100, avg_epoch_loss=4.89]\n",
      "100%|██████████| 50/50 [01:29<00:00,  1.79s/it, epoch=37/100, avg_epoch_loss=4.89]\n",
      "100%|██████████| 50/50 [01:30<00:00,  1.80s/it, epoch=38/100, avg_epoch_loss=5.84]\n",
      "100%|██████████| 50/50 [01:29<00:00,  1.80s/it, epoch=39/100, avg_epoch_loss=5.93]\n",
      "100%|██████████| 50/50 [01:29<00:00,  1.78s/it, epoch=40/100, avg_epoch_loss=5.65]\n",
      "100%|██████████| 50/50 [01:29<00:00,  1.80s/it, epoch=41/100, avg_epoch_loss=5.63]\n",
      "100%|██████████| 50/50 [01:33<00:00,  1.88s/it, epoch=42/100, avg_epoch_loss=5.51]\n",
      "100%|██████████| 50/50 [01:34<00:00,  1.88s/it, epoch=43/100, avg_epoch_loss=5.45]\n",
      "100%|██████████| 50/50 [01:34<00:00,  1.88s/it, epoch=44/100, avg_epoch_loss=5.43]\n",
      "100%|██████████| 50/50 [01:31<00:00,  1.84s/it, epoch=45/100, avg_epoch_loss=5.35]\n",
      "100%|██████████| 50/50 [01:31<00:00,  1.84s/it, epoch=46/100, avg_epoch_loss=5.34]\n",
      "100%|██████████| 50/50 [01:33<00:00,  1.87s/it, epoch=47/100, avg_epoch_loss=5.33]\n",
      "100%|██████████| 50/50 [01:30<00:00,  1.81s/it, epoch=48/100, avg_epoch_loss=5.19]\n",
      "100%|██████████| 50/50 [01:32<00:00,  1.85s/it, epoch=49/100, avg_epoch_loss=5.11]\n",
      "100%|██████████| 50/50 [01:31<00:00,  1.83s/it, epoch=50/100, avg_epoch_loss=4.94]\n",
      "100%|██████████| 50/50 [01:33<00:00,  1.88s/it, epoch=51/100, avg_epoch_loss=4.85]\n",
      "100%|██████████| 50/50 [01:33<00:00,  1.87s/it, epoch=52/100, avg_epoch_loss=4.76]\n",
      "100%|██████████| 50/50 [01:33<00:00,  1.86s/it, epoch=53/100, avg_epoch_loss=4.7] \n",
      "100%|██████████| 50/50 [01:34<00:00,  1.88s/it, epoch=54/100, avg_epoch_loss=5.28]\n",
      "100%|██████████| 50/50 [01:34<00:00,  1.89s/it, epoch=55/100, avg_epoch_loss=5.3] \n",
      "100%|██████████| 50/50 [01:35<00:00,  1.90s/it, epoch=56/100, avg_epoch_loss=5.17]\n",
      "100%|██████████| 50/50 [01:36<00:00,  1.93s/it, epoch=57/100, avg_epoch_loss=5.13]\n",
      "100%|██████████| 50/50 [01:35<00:00,  1.92s/it, epoch=58/100, avg_epoch_loss=5.09]\n",
      "100%|██████████| 50/50 [01:34<00:00,  1.90s/it, epoch=59/100, avg_epoch_loss=5.08]\n",
      "100%|██████████| 50/50 [01:34<00:00,  1.89s/it, epoch=60/100, avg_epoch_loss=5.03]\n",
      "100%|██████████| 50/50 [01:34<00:00,  1.89s/it, epoch=61/100, avg_epoch_loss=4.99]\n",
      "100%|██████████| 50/50 [01:35<00:00,  1.90s/it, epoch=62/100, avg_epoch_loss=4.92]\n",
      "100%|██████████| 50/50 [01:32<00:00,  1.84s/it, epoch=63/100, avg_epoch_loss=4.87]\n",
      "100%|██████████| 50/50 [01:33<00:00,  1.86s/it, epoch=64/100, avg_epoch_loss=4.71]\n",
      "100%|██████████| 50/50 [01:33<00:00,  1.86s/it, epoch=65/100, avg_epoch_loss=4.64]\n",
      "100%|██████████| 50/50 [01:33<00:00,  1.86s/it, epoch=66/100, avg_epoch_loss=4.58]\n",
      "100%|██████████| 50/50 [01:33<00:00,  1.87s/it, epoch=67/100, avg_epoch_loss=4.54]\n",
      "100%|██████████| 50/50 [01:32<00:00,  1.86s/it, epoch=68/100, avg_epoch_loss=4.5] \n",
      "100%|██████████| 50/50 [01:30<00:00,  1.81s/it, epoch=69/100, avg_epoch_loss=4.46]\n",
      "100%|██████████| 50/50 [01:29<00:00,  1.80s/it, epoch=74/100, avg_epoch_loss=4.3] \n",
      "100%|██████████| 50/50 [01:29<00:00,  1.80s/it, epoch=75/100, avg_epoch_loss=4.31]\n",
      "100%|██████████| 50/50 [01:29<00:00,  1.80s/it, epoch=76/100, avg_epoch_loss=4.28]\n",
      "100%|██████████| 50/50 [01:29<00:00,  1.79s/it, epoch=77/100, avg_epoch_loss=4.24]\n",
      "100%|██████████| 50/50 [01:29<00:00,  1.79s/it, epoch=78/100, avg_epoch_loss=4.24]\n",
      "100%|██████████| 50/50 [01:30<00:00,  1.81s/it, epoch=79/100, avg_epoch_loss=4.21]\n",
      "100%|██████████| 50/50 [01:33<00:00,  1.88s/it, epoch=80/100, avg_epoch_loss=4.2] \n",
      "100%|██████████| 50/50 [01:33<00:00,  1.86s/it, epoch=81/100, avg_epoch_loss=4.17]\n",
      "100%|██████████| 50/50 [01:33<00:00,  1.86s/it, epoch=82/100, avg_epoch_loss=4.13]\n",
      "100%|██████████| 50/50 [01:31<00:00,  1.84s/it, epoch=83/100, avg_epoch_loss=4.13]\n",
      "100%|██████████| 50/50 [01:33<00:00,  1.87s/it, epoch=84/100, avg_epoch_loss=4.1] \n",
      "100%|██████████| 50/50 [01:33<00:00,  1.87s/it, epoch=85/100, avg_epoch_loss=4.07]\n",
      "100%|██████████| 50/50 [01:34<00:00,  1.88s/it, epoch=86/100, avg_epoch_loss=4.23]\n",
      "100%|██████████| 50/50 [01:29<00:00,  1.79s/it, epoch=87/100, avg_epoch_loss=4.06]\n",
      "100%|██████████| 50/50 [01:32<00:00,  1.85s/it, epoch=88/100, avg_epoch_loss=3.98]\n",
      "100%|██████████| 50/50 [01:33<00:00,  1.86s/it, epoch=89/100, avg_epoch_loss=4.27]\n",
      "100%|██████████| 50/50 [01:33<00:00,  1.87s/it, epoch=90/100, avg_epoch_loss=5.43]\n",
      "100%|██████████| 50/50 [01:46<00:00,  2.13s/it, epoch=91/100, avg_epoch_loss=5.1] \n",
      "100%|██████████| 50/50 [01:47<00:00,  2.15s/it, epoch=92/100, avg_epoch_loss=4.98]\n",
      "100%|██████████| 50/50 [01:49<00:00,  2.19s/it, epoch=93/100, avg_epoch_loss=4.88]\n",
      "100%|██████████| 50/50 [01:47<00:00,  2.15s/it, epoch=94/100, avg_epoch_loss=4.78]\n",
      "100%|██████████| 50/50 [01:48<00:00,  2.16s/it, epoch=95/100, avg_epoch_loss=4.71]\n",
      "100%|██████████| 50/50 [01:46<00:00,  2.13s/it, epoch=96/100, avg_epoch_loss=4.64]\n",
      "100%|██████████| 50/50 [01:39<00:00,  1.98s/it, epoch=97/100, avg_epoch_loss=4.57]\n",
      "100%|██████████| 50/50 [01:30<00:00,  1.81s/it, epoch=98/100, avg_epoch_loss=4.38]\n",
      "100%|██████████| 50/50 [01:30<00:00,  1.80s/it, epoch=99/100, avg_epoch_loss=4.19]\n",
      "100%|██████████| 50/50 [01:33<00:00,  1.87s/it, epoch=100/100, avg_epoch_loss=4.13]\n",
      "Running evaluation: 1it [00:00,  3.58it/s]\n"
     ]
    }
   ],
   "source": [
    "# Start Experiment\n",
    "forecasts, tss, agg_metrics = run_experiment(\n",
    "    input_paths=input_paths,\n",
    "    target_col=target_col,\n",
    "    prediction_length=prediction_length,\n",
    "    windows=windows,\n",
    "    past_rts_col=past_rts_col,\n",
    "    estimator=deepstate_estimator,\n",
    ")"
   ]
  },
  {
   "cell_type": "code",
   "execution_count": 13,
   "id": "5799173a-ed67-4c22-a577-6942e6f28745",
   "metadata": {
    "tags": []
   },
   "outputs": [
    {
     "data": {
      "image/png": "[encoded data removed]",
      "text/plain": [
       "<Figure size 432x288 with 1 Axes>"
      ]
     },
     "metadata": {
      "needs_background": "light"
     },
     "output_type": "display_data"
    }
   ],
   "source": [
    "# Plot forecast\n",
    "plot_forecast(\n",
    "    tss=tss, \n",
    "    forecasts=forecasts, \n",
    "    # path=\"./plot.svg\",\n",
    ")"
   ]
  },
  {
   "cell_type": "code",
   "execution_count": 14,
   "id": "938d84d4-10c8-45bb-bf0e-d823ff04c327",
   "metadata": {
    "tags": []
   },
   "outputs": [],
   "source": [
    "# Add experiment to database store\n",
    "experiment_config = Forecast_Experiment(\n",
    "    model = 'mx_deepstate',\n",
    "    version = version,\n",
    "    data_config = {\n",
    "        'target':target_col,\n",
    "        'past_rts_col':past_rts_col,\n",
    "        'windows':windows,\n",
    "    },\n",
    "    model_config = {\n",
    "        'epochs':max_epochs,\n",
    "        'prediction_length':prediction_length,\n",
    "        'num_layers':num_layers,\n",
    "        'hidden_size':hidden_size,\n",
    "        'lr':lr,\n",
    "        'weight_decay':weight_decay,\n",
    "    },\n",
    "    MASE = agg_metrics['MASE'],\n",
    "    MAPE = agg_metrics['MAPE'],\n",
    "    RMSE = agg_metrics['RMSE'],\n",
    "    wQL_10 = agg_metrics['wQuantileLoss[0.1]'],\n",
    "    wQL_50 = agg_metrics['wQuantileLoss[0.5]'],\n",
    "    wQL_90 = agg_metrics['wQuantileLoss[0.9]'],\n",
    "    avg_wQL = agg_metrics['mean_wQuantileLoss']\n",
    ")\n",
    "session.add(experiment_config)\n",
    "session.commit() "
   ]
  },
  {
   "cell_type": "markdown",
   "id": "e1cbfe2d-c175-4846-8999-8c56aca7cbcf",
   "metadata": {
    "jp-MarkdownHeadingCollapsed": true,
    "tags": []
   },
   "source": [
    "## MQ-CNN ([mx](https://github.com/awslabs/gluonts/blob/dev/src/gluonts/mx/model/seq2seq/_mq_dnn_estimator.py))"
   ]
  },
  {
   "cell_type": "markdown",
   "id": "bbbc5d17-c691-4a4b-b57f-c82ef22ff9b2",
   "metadata": {},
   "source": [
    "MQ-CNN is a general probabilistic multi-step time series regression model. It exploits the expressiveness and temporal nature of Sequence-to-Sequence Neural Networks (e.g. recurrent and convolutional structures), the nonparametric nature of Quantile Regression and the efficiency of Direct Multi-Horizon Forecasting.\n"
   ]
  },
  {
   "cell_type": "code",
   "execution_count": 6,
   "id": "8430f487-7d10-4a37-ba99-8230db875ffc",
   "metadata": {
    "tags": []
   },
   "outputs": [],
   "source": [
    "from gluonts.mx import MQCNNEstimator\n",
    "from gluonts.mx import Trainer\n",
    "import mxnet as mx"
   ]
  },
  {
   "cell_type": "code",
   "execution_count": 7,
   "id": "cb96de68-bdc3-46d1-b70a-9d716ed17d3d",
   "metadata": {},
   "outputs": [],
   "source": [
    "# Data specs\n",
    "input_paths = [\n",
    "    \"../data_engineering/financial_ts/indices.csv\",\n",
    "    \"../data_engineering/financial_ts/ww_gdp.csv\",\n",
    "    \"../data_engineering/timeseries_data/ts_dgelt_events.csv\"\n",
    "]\n",
    "target_col = 'ts_MSCI_World'\n",
    "with open('./config/past_rts_cols.json', 'r') as fp:\n",
    "    past_rts_col = json.load(fp)['version_1']\n",
    "windows = 1\n",
    "\n",
    "# Estimator specs\n",
    "version = 1\n",
    "prediction_length=56\n",
    "decoder_mlp_dim_seq=[30]\n",
    "channels_seq=[30,30,30]\n",
    "use_past_feat_dynamic_real=True\n",
    "context_length=50\n",
    "\n",
    "# Trainer specs\n",
    "max_epochs = 200\n",
    "lr = 1e-1\n",
    "weight_decay = 1e-4\n",
    "ctx = mx.cpu() # mx.gpu()"
   ]
  },
  {
   "cell_type": "code",
   "execution_count": 8,
   "id": "4756d1e8-f9c3-498f-acd9-9adbeedaf8fa",
   "metadata": {
    "tags": []
   },
   "outputs": [],
   "source": [
    "mqcnn_estimator = MQCNNEstimator(\n",
    "    prediction_length=prediction_length,\n",
    "    channels_seq=channels_seq,  \n",
    "    use_past_feat_dynamic_real=use_past_feat_dynamic_real,\n",
    "    decoder_mlp_dim_seq=decoder_mlp_dim_seq, \n",
    "    context_length=context_length,\n",
    "    freq=\"W\",\n",
    "    trainer=Trainer(\n",
    "        ctx=ctx,\n",
    "        epochs=max_epochs,\n",
    "        learning_rate=lr,\n",
    "        weight_decay=weight_decay,\n",
    "    ),\n",
    ")"
   ]
  },
  {
   "cell_type": "code",
   "execution_count": null,
   "id": "d84ef8ff-8060-460c-8b53-2ea1f59dab3a",
   "metadata": {
    "tags": []
   },
   "outputs": [
    {
     "name": "stderr",
     "output_type": "stream",
     "text": [
      "100%|██████████| 50/50 [00:15<00:00,  3.24it/s, epoch=1/200, avg_epoch_loss=29]  \n",
      "100%|██████████| 50/50 [00:15<00:00,  3.23it/s, epoch=2/200, avg_epoch_loss=13]  \n",
      "100%|██████████| 50/50 [00:15<00:00,  3.22it/s, epoch=3/200, avg_epoch_loss=11.9]\n",
      "100%|██████████| 50/50 [00:15<00:00,  3.30it/s, epoch=4/200, avg_epoch_loss=13.8]\n",
      "100%|██████████| 50/50 [00:15<00:00,  3.28it/s, epoch=5/200, avg_epoch_loss=14.1]\n",
      "100%|██████████| 50/50 [00:15<00:00,  3.24it/s, epoch=6/200, avg_epoch_loss=14.6]\n",
      "100%|██████████| 50/50 [00:15<00:00,  3.14it/s, epoch=7/200, avg_epoch_loss=17]  \n",
      "100%|██████████| 50/50 [00:15<00:00,  3.27it/s, epoch=8/200, avg_epoch_loss=18.1]\n",
      "100%|██████████| 50/50 [00:15<00:00,  3.25it/s, epoch=9/200, avg_epoch_loss=17.8]\n",
      "100%|██████████| 50/50 [00:14<00:00,  3.35it/s, epoch=10/200, avg_epoch_loss=16.6]\n",
      "100%|██████████| 50/50 [00:15<00:00,  3.18it/s, epoch=11/200, avg_epoch_loss=17]  \n",
      "100%|██████████| 50/50 [00:15<00:00,  3.21it/s, epoch=12/200, avg_epoch_loss=16.1]\n",
      "100%|██████████| 50/50 [00:15<00:00,  3.24it/s, epoch=13/200, avg_epoch_loss=16.8]\n",
      "100%|██████████| 50/50 [00:15<00:00,  3.28it/s, epoch=14/200, avg_epoch_loss=11.6]\n",
      "100%|██████████| 50/50 [00:15<00:00,  3.24it/s, epoch=15/200, avg_epoch_loss=10.3]\n",
      "100%|██████████| 50/50 [00:15<00:00,  3.28it/s, epoch=16/200, avg_epoch_loss=9.93]\n",
      "100%|██████████| 50/50 [00:15<00:00,  3.28it/s, epoch=17/200, avg_epoch_loss=10.5]\n",
      "100%|██████████| 50/50 [00:15<00:00,  3.21it/s, epoch=18/200, avg_epoch_loss=10.8]\n",
      "100%|██████████| 50/50 [00:15<00:00,  3.15it/s, epoch=19/200, avg_epoch_loss=11]\n",
      "100%|██████████| 50/50 [00:14<00:00,  3.37it/s, epoch=20/200, avg_epoch_loss=11.2]\n",
      "100%|██████████| 50/50 [00:15<00:00,  3.26it/s, epoch=21/200, avg_epoch_loss=11.8]\n",
      "100%|██████████| 50/50 [00:15<00:00,  3.24it/s, epoch=22/200, avg_epoch_loss=11.6]\n",
      "100%|██████████| 50/50 [00:15<00:00,  3.26it/s, epoch=23/200, avg_epoch_loss=11.7]\n",
      "100%|██████████| 50/50 [00:15<00:00,  3.32it/s, epoch=24/200, avg_epoch_loss=12]  \n",
      "100%|██████████| 50/50 [00:15<00:00,  3.33it/s, epoch=25/200, avg_epoch_loss=11.2]\n",
      "100%|██████████| 50/50 [00:15<00:00,  3.27it/s, epoch=26/200, avg_epoch_loss=12.1]\n",
      "100%|██████████| 50/50 [00:15<00:00,  3.20it/s, epoch=27/200, avg_epoch_loss=8.51]\n",
      "100%|██████████| 50/50 [00:15<00:00,  3.15it/s, epoch=28/200, avg_epoch_loss=7.58]\n",
      "100%|██████████| 50/50 [00:16<00:00,  3.10it/s, epoch=29/200, avg_epoch_loss=7.28]\n",
      "100%|██████████| 50/50 [00:16<00:00,  3.00it/s, epoch=30/200, avg_epoch_loss=7.04]\n",
      "100%|██████████| 50/50 [00:16<00:00,  2.98it/s, epoch=31/200, avg_epoch_loss=7.34]\n",
      "100%|██████████| 50/50 [00:19<00:00,  2.54it/s, epoch=32/200, avg_epoch_loss=7.28]\n",
      "100%|██████████| 50/50 [00:28<00:00,  1.76it/s, epoch=33/200, avg_epoch_loss=6.82]\n",
      "100%|██████████| 50/50 [00:29<00:00,  1.69it/s, epoch=34/200, avg_epoch_loss=6.9] \n",
      "100%|██████████| 50/50 [00:30<00:00,  1.66it/s, epoch=35/200, avg_epoch_loss=7.12]\n",
      "100%|██████████| 50/50 [00:29<00:00,  1.67it/s, epoch=36/200, avg_epoch_loss=7.21]\n",
      "100%|██████████| 50/50 [00:30<00:00,  1.66it/s, epoch=37/200, avg_epoch_loss=7.41]\n",
      "100%|██████████| 50/50 [00:29<00:00,  1.68it/s, epoch=38/200, avg_epoch_loss=7.84]\n",
      "100%|██████████| 50/50 [00:30<00:00,  1.63it/s, epoch=39/200, avg_epoch_loss=7.07]\n",
      "100%|██████████| 50/50 [00:30<00:00,  1.65it/s, epoch=40/200, avg_epoch_loss=7.14]\n",
      "100%|██████████| 50/50 [00:30<00:00,  1.66it/s, epoch=41/200, avg_epoch_loss=7.06]\n",
      "100%|██████████| 50/50 [00:29<00:00,  1.67it/s, epoch=42/200, avg_epoch_loss=7.37]\n",
      "100%|██████████| 50/50 [00:30<00:00,  1.67it/s, epoch=43/200, avg_epoch_loss=7.06]\n",
      "100%|██████████| 50/50 [00:29<00:00,  1.68it/s, epoch=44/200, avg_epoch_loss=5.15]\n",
      "100%|██████████| 50/50 [00:29<00:00,  1.70it/s, epoch=45/200, avg_epoch_loss=4.59]\n",
      "100%|██████████| 50/50 [00:29<00:00,  1.68it/s, epoch=46/200, avg_epoch_loss=4.6] \n",
      "100%|██████████| 50/50 [00:30<00:00,  1.66it/s, epoch=47/200, avg_epoch_loss=4.57]\n",
      "100%|██████████| 50/50 [00:29<00:00,  1.67it/s, epoch=48/200, avg_epoch_loss=4.38]\n",
      "100%|██████████| 50/50 [00:29<00:00,  1.67it/s, epoch=49/200, avg_epoch_loss=4.21]\n",
      "100%|██████████| 50/50 [00:29<00:00,  1.67it/s, epoch=50/200, avg_epoch_loss=4.21]\n",
      "100%|██████████| 50/50 [00:30<00:00,  1.66it/s, epoch=51/200, avg_epoch_loss=4.29]\n",
      "100%|██████████| 50/50 [00:29<00:00,  1.68it/s, epoch=52/200, avg_epoch_loss=4.11]\n",
      "100%|██████████| 50/50 [00:29<00:00,  1.67it/s, epoch=53/200, avg_epoch_loss=4.32]\n",
      "100%|██████████| 50/50 [00:29<00:00,  1.72it/s, epoch=54/200, avg_epoch_loss=4.04]\n",
      "100%|██████████| 50/50 [00:29<00:00,  1.68it/s, epoch=55/200, avg_epoch_loss=4.15]\n",
      "100%|██████████| 50/50 [00:29<00:00,  1.67it/s, epoch=56/200, avg_epoch_loss=3.93]\n",
      "100%|██████████| 50/50 [00:29<00:00,  1.67it/s, epoch=57/200, avg_epoch_loss=3.92]\n",
      "100%|██████████| 50/50 [00:29<00:00,  1.70it/s, epoch=58/200, avg_epoch_loss=4.04]\n",
      "100%|██████████| 50/50 [00:29<00:00,  1.68it/s, epoch=59/200, avg_epoch_loss=3.91]\n",
      "100%|██████████| 50/50 [00:29<00:00,  1.69it/s, epoch=60/200, avg_epoch_loss=3.94]\n",
      "100%|██████████| 50/50 [00:29<00:00,  1.68it/s, epoch=61/200, avg_epoch_loss=3.73]\n",
      "100%|██████████| 50/50 [00:29<00:00,  1.67it/s, epoch=62/200, avg_epoch_loss=3.79]\n",
      "100%|██████████| 50/50 [00:29<00:00,  1.68it/s, epoch=63/200, avg_epoch_loss=3.94]\n",
      "100%|██████████| 50/50 [00:29<00:00,  1.67it/s, epoch=64/200, avg_epoch_loss=3.93]\n",
      "100%|██████████| 50/50 [00:29<00:00,  1.68it/s, epoch=65/200, avg_epoch_loss=3.87]\n",
      "100%|██████████| 50/50 [00:29<00:00,  1.68it/s, epoch=66/200, avg_epoch_loss=3.83]\n",
      "100%|██████████| 50/50 [00:30<00:00,  1.65it/s, epoch=67/200, avg_epoch_loss=3.84]\n",
      "100%|██████████| 50/50 [00:29<00:00,  1.69it/s, epoch=68/200, avg_epoch_loss=3.75]\n",
      "100%|██████████| 50/50 [00:29<00:00,  1.68it/s, epoch=69/200, avg_epoch_loss=3.86]\n",
      "100%|██████████| 50/50 [00:29<00:00,  1.69it/s, epoch=70/200, avg_epoch_loss=3.57]\n",
      "100%|██████████| 50/50 [00:30<00:00,  1.66it/s, epoch=71/200, avg_epoch_loss=3.67]\n",
      "100%|██████████| 50/50 [00:29<00:00,  1.68it/s, epoch=72/200, avg_epoch_loss=3.56]\n",
      "100%|██████████| 50/50 [00:29<00:00,  1.68it/s, epoch=73/200, avg_epoch_loss=3.66]\n",
      "100%|██████████| 50/50 [00:29<00:00,  1.67it/s, epoch=74/200, avg_epoch_loss=3.7] \n",
      "100%|██████████| 50/50 [00:29<00:00,  1.68it/s, epoch=75/200, avg_epoch_loss=3.71]\n",
      "100%|██████████| 50/50 [00:29<00:00,  1.68it/s, epoch=76/200, avg_epoch_loss=3.59]\n",
      "100%|██████████| 50/50 [00:30<00:00,  1.65it/s, epoch=77/200, avg_epoch_loss=3.57]\n",
      "100%|██████████| 50/50 [00:29<00:00,  1.67it/s, epoch=78/200, avg_epoch_loss=3.37]\n",
      "100%|██████████| 50/50 [00:29<00:00,  1.68it/s, epoch=79/200, avg_epoch_loss=3.43]\n",
      "100%|██████████| 50/50 [00:29<00:00,  1.67it/s, epoch=80/200, avg_epoch_loss=3.54]\n",
      "100%|██████████| 50/50 [00:29<00:00,  1.67it/s, epoch=81/200, avg_epoch_loss=3.5] \n",
      "100%|██████████| 50/50 [00:29<00:00,  1.69it/s, epoch=82/200, avg_epoch_loss=3.4] \n",
      "100%|██████████| 50/50 [00:29<00:00,  1.69it/s, epoch=83/200, avg_epoch_loss=3.52]\n",
      "100%|██████████| 50/50 [00:29<00:00,  1.70it/s, epoch=84/200, avg_epoch_loss=3.34]\n",
      "100%|██████████| 50/50 [00:29<00:00,  1.68it/s, epoch=85/200, avg_epoch_loss=3.24]\n",
      "100%|██████████| 50/50 [00:29<00:00,  1.69it/s, epoch=86/200, avg_epoch_loss=3.17]\n",
      "100%|██████████| 50/50 [00:29<00:00,  1.69it/s, epoch=87/200, avg_epoch_loss=3.35]\n",
      "100%|██████████| 50/50 [00:29<00:00,  1.67it/s, epoch=88/200, avg_epoch_loss=3.5] \n",
      "100%|██████████| 50/50 [00:29<00:00,  1.67it/s, epoch=89/200, avg_epoch_loss=3.28]\n",
      "100%|██████████| 50/50 [00:29<00:00,  1.68it/s, epoch=90/200, avg_epoch_loss=3.33]\n",
      "100%|██████████| 50/50 [00:30<00:00,  1.66it/s, epoch=91/200, avg_epoch_loss=3.26]\n",
      "100%|██████████| 50/50 [00:29<00:00,  1.68it/s, epoch=92/200, avg_epoch_loss=3.3] \n",
      "100%|██████████| 50/50 [00:29<00:00,  1.69it/s, epoch=93/200, avg_epoch_loss=3.26]\n",
      "100%|██████████| 50/50 [00:29<00:00,  1.71it/s, epoch=94/200, avg_epoch_loss=3.35]\n",
      "100%|██████████| 50/50 [00:29<00:00,  1.69it/s, epoch=95/200, avg_epoch_loss=3.34]\n",
      "100%|██████████| 50/50 [00:29<00:00,  1.69it/s, epoch=96/200, avg_epoch_loss=3.25]\n",
      "100%|██████████| 50/50 [00:29<00:00,  1.68it/s, epoch=97/200, avg_epoch_loss=2.5] \n",
      "100%|██████████| 50/50 [00:29<00:00,  1.71it/s, epoch=98/200, avg_epoch_loss=2.32]\n",
      "100%|██████████| 50/50 [00:29<00:00,  1.71it/s, epoch=99/200, avg_epoch_loss=2.34]\n",
      "100%|██████████| 50/50 [00:29<00:00,  1.69it/s, epoch=100/200, avg_epoch_loss=2.28]\n",
      "100%|██████████| 50/50 [00:29<00:00,  1.69it/s, epoch=101/200, avg_epoch_loss=2.27]\n",
      "100%|██████████| 50/50 [00:29<00:00,  1.70it/s, epoch=102/200, avg_epoch_loss=2.25]\n",
      "100%|██████████| 50/50 [00:29<00:00,  1.70it/s, epoch=103/200, avg_epoch_loss=2.2] \n",
      "100%|██████████| 50/50 [00:29<00:00,  1.68it/s, epoch=104/200, avg_epoch_loss=2.28]\n",
      "100%|██████████| 50/50 [00:28<00:00,  1.73it/s, epoch=105/200, avg_epoch_loss=2.31]\n",
      "100%|██████████| 50/50 [00:29<00:00,  1.68it/s, epoch=106/200, avg_epoch_loss=2.3] \n",
      "100%|██████████| 50/50 [00:29<00:00,  1.72it/s, epoch=107/200, avg_epoch_loss=2.3] \n",
      "100%|██████████| 50/50 [00:29<00:00,  1.68it/s, epoch=108/200, avg_epoch_loss=2.27]\n",
      "100%|██████████| 50/50 [00:29<00:00,  1.69it/s, epoch=109/200, avg_epoch_loss=2.29]\n",
      "100%|██████████| 50/50 [00:30<00:00,  1.67it/s, epoch=110/200, avg_epoch_loss=2.33]\n",
      "100%|██████████| 50/50 [00:29<00:00,  1.69it/s, epoch=111/200, avg_epoch_loss=2.23]\n",
      "100%|██████████| 50/50 [00:29<00:00,  1.69it/s, epoch=112/200, avg_epoch_loss=2.2] \n",
      "100%|██████████| 50/50 [00:28<00:00,  1.74it/s, epoch=113/200, avg_epoch_loss=2.22]\n",
      "100%|██████████| 50/50 [00:29<00:00,  1.70it/s, epoch=114/200, avg_epoch_loss=1.89]\n",
      "100%|██████████| 50/50 [00:28<00:00,  1.73it/s, epoch=115/200, avg_epoch_loss=1.81]\n",
      "100%|██████████| 50/50 [00:29<00:00,  1.69it/s, epoch=116/200, avg_epoch_loss=1.79]\n",
      "100%|██████████| 50/50 [00:29<00:00,  1.71it/s, epoch=117/200, avg_epoch_loss=1.78]\n",
      "100%|██████████| 50/50 [00:30<00:00,  1.66it/s, epoch=118/200, avg_epoch_loss=1.78]\n",
      "100%|██████████| 50/50 [00:29<00:00,  1.71it/s, epoch=119/200, avg_epoch_loss=1.81]\n",
      "100%|██████████| 50/50 [00:29<00:00,  1.68it/s, epoch=120/200, avg_epoch_loss=1.8] \n",
      "100%|██████████| 50/50 [00:29<00:00,  1.69it/s, epoch=121/200, avg_epoch_loss=1.79]\n",
      "100%|██████████| 50/50 [00:29<00:00,  1.69it/s, epoch=122/200, avg_epoch_loss=1.79]\n",
      "100%|██████████| 50/50 [00:29<00:00,  1.68it/s, epoch=123/200, avg_epoch_loss=1.78]\n",
      "100%|██████████| 50/50 [00:29<00:00,  1.69it/s, epoch=124/200, avg_epoch_loss=1.78]\n",
      "100%|██████████| 50/50 [00:29<00:00,  1.72it/s, epoch=125/200, avg_epoch_loss=1.78]\n",
      "100%|██████████| 50/50 [00:30<00:00,  1.66it/s, epoch=126/200, avg_epoch_loss=1.77]\n",
      "100%|██████████| 50/50 [00:29<00:00,  1.70it/s, epoch=127/200, avg_epoch_loss=1.77]\n",
      "100%|██████████| 50/50 [00:29<00:00,  1.69it/s, epoch=128/200, avg_epoch_loss=1.77]\n",
      "100%|██████████| 50/50 [00:29<00:00,  1.70it/s, epoch=129/200, avg_epoch_loss=1.78]\n",
      "100%|██████████| 50/50 [00:29<00:00,  1.69it/s, epoch=130/200, avg_epoch_loss=1.75]\n",
      "100%|██████████| 50/50 [00:29<00:00,  1.69it/s, epoch=131/200, avg_epoch_loss=1.73]\n",
      "100%|██████████| 50/50 [00:29<00:00,  1.69it/s, epoch=132/200, avg_epoch_loss=1.75]\n",
      "100%|██████████| 50/50 [00:28<00:00,  1.73it/s, epoch=133/200, avg_epoch_loss=1.69]\n",
      "100%|██████████| 50/50 [00:29<00:00,  1.68it/s, epoch=134/200, avg_epoch_loss=1.73]\n",
      "100%|██████████| 50/50 [00:29<00:00,  1.68it/s, epoch=135/200, avg_epoch_loss=1.75]\n",
      "100%|██████████| 50/50 [00:30<00:00,  1.65it/s, epoch=136/200, avg_epoch_loss=1.77]\n",
      "100%|██████████| 50/50 [00:29<00:00,  1.69it/s, epoch=137/200, avg_epoch_loss=1.79]\n",
      "100%|██████████| 50/50 [00:29<00:00,  1.68it/s, epoch=138/200, avg_epoch_loss=1.77]\n",
      "100%|██████████| 50/50 [00:29<00:00,  1.72it/s, epoch=139/200, avg_epoch_loss=1.77]\n",
      "100%|██████████| 50/50 [00:29<00:00,  1.71it/s, epoch=140/200, avg_epoch_loss=1.77]\n",
      "100%|██████████| 50/50 [00:29<00:00,  1.71it/s, epoch=141/200, avg_epoch_loss=1.79]\n",
      "100%|██████████| 50/50 [00:29<00:00,  1.68it/s, epoch=142/200, avg_epoch_loss=1.76]\n",
      "100%|██████████| 50/50 [00:29<00:00,  1.69it/s, epoch=143/200, avg_epoch_loss=1.78]\n",
      "100%|██████████| 50/50 [00:29<00:00,  1.68it/s, epoch=144/200, avg_epoch_loss=1.6] \n",
      "100%|██████████| 50/50 [00:29<00:00,  1.70it/s, epoch=145/200, avg_epoch_loss=1.56]\n",
      "100%|██████████| 50/50 [00:29<00:00,  1.69it/s, epoch=146/200, avg_epoch_loss=1.55]\n",
      "100%|██████████| 50/50 [00:29<00:00,  1.68it/s, epoch=147/200, avg_epoch_loss=1.53]\n",
      "100%|██████████| 50/50 [00:29<00:00,  1.67it/s, epoch=148/200, avg_epoch_loss=1.53]\n",
      "100%|██████████| 50/50 [00:29<00:00,  1.69it/s, epoch=149/200, avg_epoch_loss=1.52]\n",
      "100%|██████████| 50/50 [00:29<00:00,  1.68it/s, epoch=150/200, avg_epoch_loss=1.51]\n",
      "100%|██████████| 50/50 [00:29<00:00,  1.69it/s, epoch=151/200, avg_epoch_loss=1.51]\n",
      "100%|██████████| 50/50 [00:29<00:00,  1.70it/s, epoch=152/200, avg_epoch_loss=1.5]\n",
      "100%|██████████| 50/50 [00:29<00:00,  1.70it/s, epoch=153/200, avg_epoch_loss=1.5]\n",
      "100%|██████████| 50/50 [00:29<00:00,  1.69it/s, epoch=154/200, avg_epoch_loss=1.52]\n",
      "100%|██████████| 50/50 [00:29<00:00,  1.70it/s, epoch=155/200, avg_epoch_loss=1.52]\n",
      "100%|██████████| 50/50 [00:29<00:00,  1.72it/s, epoch=156/200, avg_epoch_loss=1.51]\n",
      "100%|██████████| 50/50 [00:29<00:00,  1.69it/s, epoch=157/200, avg_epoch_loss=1.5]\n",
      "100%|██████████| 50/50 [00:29<00:00,  1.68it/s, epoch=158/200, avg_epoch_loss=1.5] \n",
      "100%|██████████| 50/50 [00:29<00:00,  1.71it/s, epoch=159/200, avg_epoch_loss=1.5] \n",
      "100%|██████████| 50/50 [00:29<00:00,  1.69it/s, epoch=160/200, avg_epoch_loss=1.5] \n",
      "100%|██████████| 50/50 [00:29<00:00,  1.67it/s, epoch=161/200, avg_epoch_loss=1.51]\n",
      "100%|██████████| 50/50 [00:29<00:00,  1.67it/s, epoch=162/200, avg_epoch_loss=1.5]\n",
      "100%|██████████| 50/50 [00:29<00:00,  1.68it/s, epoch=163/200, avg_epoch_loss=1.51]\n",
      "100%|██████████| 50/50 [00:29<00:00,  1.68it/s, epoch=164/200, avg_epoch_loss=1.51]\n",
      "100%|██████████| 50/50 [00:29<00:00,  1.69it/s, epoch=165/200, avg_epoch_loss=1.5] \n",
      "100%|██████████| 50/50 [00:29<00:00,  1.68it/s, epoch=166/200, avg_epoch_loss=1.49]\n",
      "100%|██████████| 50/50 [00:29<00:00,  1.70it/s, epoch=167/200, avg_epoch_loss=1.48]\n",
      "100%|██████████| 50/50 [00:29<00:00,  1.72it/s, epoch=168/200, avg_epoch_loss=1.48]\n",
      "100%|██████████| 50/50 [00:29<00:00,  1.71it/s, epoch=169/200, avg_epoch_loss=1.49]\n",
      "100%|██████████| 50/50 [00:29<00:00,  1.70it/s, epoch=170/200, avg_epoch_loss=1.48]\n",
      "100%|██████████| 50/50 [00:29<00:00,  1.67it/s, epoch=171/200, avg_epoch_loss=1.47]\n",
      "100%|██████████| 50/50 [00:29<00:00,  1.69it/s, epoch=172/200, avg_epoch_loss=1.48]\n",
      "100%|██████████| 50/50 [00:29<00:00,  1.70it/s, epoch=173/200, avg_epoch_loss=1.48]\n",
      "100%|██████████| 50/50 [00:29<00:00,  1.68it/s, epoch=174/200, avg_epoch_loss=1.48]\n",
      "100%|██████████| 50/50 [00:29<00:00,  1.67it/s, epoch=175/200, avg_epoch_loss=1.48]\n",
      "100%|██████████| 50/50 [00:29<00:00,  1.69it/s, epoch=176/200, avg_epoch_loss=1.47]\n",
      "100%|██████████| 50/50 [00:29<00:00,  1.69it/s, epoch=177/200, avg_epoch_loss=1.48]\n",
      "100%|██████████| 50/50 [00:29<00:00,  1.72it/s, epoch=178/200, avg_epoch_loss=1.48]\n",
      "100%|██████████| 50/50 [00:29<00:00,  1.71it/s, epoch=179/200, avg_epoch_loss=1.5]\n",
      "100%|██████████| 50/50 [00:29<00:00,  1.71it/s, epoch=180/200, avg_epoch_loss=1.46]\n",
      "100%|██████████| 50/50 [00:29<00:00,  1.71it/s, epoch=181/200, avg_epoch_loss=1.46]\n",
      "100%|██████████| 50/50 [00:28<00:00,  1.73it/s, epoch=182/200, avg_epoch_loss=1.47]\n",
      "100%|██████████| 50/50 [00:29<00:00,  1.71it/s, epoch=183/200, avg_epoch_loss=1.47]\n",
      "100%|██████████| 50/50 [00:29<00:00,  1.72it/s, epoch=184/200, avg_epoch_loss=1.46]\n",
      "100%|██████████| 50/50 [00:29<00:00,  1.68it/s, epoch=185/200, avg_epoch_loss=1.44]\n",
      "100%|██████████| 50/50 [00:29<00:00,  1.72it/s, epoch=186/200, avg_epoch_loss=1.44]\n",
      "100%|██████████| 50/50 [00:29<00:00,  1.70it/s, epoch=187/200, avg_epoch_loss=1.45]\n",
      "100%|██████████| 50/50 [00:29<00:00,  1.68it/s, epoch=188/200, avg_epoch_loss=1.46]\n",
      "100%|██████████| 50/50 [00:29<00:00,  1.68it/s, epoch=189/200, avg_epoch_loss=1.46]\n",
      "100%|██████████| 50/50 [00:29<00:00,  1.72it/s, epoch=190/200, avg_epoch_loss=1.46]\n",
      "100%|██████████| 50/50 [00:29<00:00,  1.67it/s, epoch=191/200, avg_epoch_loss=1.46]\n",
      "100%|██████████| 50/50 [00:29<00:00,  1.69it/s, epoch=192/200, avg_epoch_loss=1.46]\n",
      "100%|██████████| 50/50 [00:29<00:00,  1.69it/s, epoch=193/200, avg_epoch_loss=1.48]\n",
      "100%|██████████| 50/50 [00:29<00:00,  1.72it/s, epoch=194/200, avg_epoch_loss=1.49]\n",
      "100%|██████████| 50/50 [00:29<00:00,  1.70it/s, epoch=195/200, avg_epoch_loss=1.48]\n",
      "100%|██████████| 50/50 [00:29<00:00,  1.67it/s, epoch=196/200, avg_epoch_loss=1.48]\n",
      "100%|██████████| 50/50 [00:29<00:00,  1.68it/s, epoch=197/200, avg_epoch_loss=1.38]\n",
      "100%|██████████| 50/50 [00:29<00:00,  1.72it/s, epoch=198/200, avg_epoch_loss=1.36]\n",
      "100%|██████████| 50/50 [00:29<00:00,  1.69it/s, epoch=199/200, avg_epoch_loss=1.35]\n",
      "100%|██████████| 50/50 [00:29<00:00,  1.70it/s, epoch=200/200, avg_epoch_loss=1.35]\n",
      "Running evaluation: 1it [00:00,  6.59it/s]\n"
     ]
    }
   ],
   "source": [
    "# Start Experiment\n",
    "forecasts, tss, agg_metrics = run_experiment(\n",
    "    input_paths=input_paths,\n",
    "    target_col=target_col,\n",
    "    prediction_length=prediction_length,\n",
    "    windows=windows,\n",
    "    past_rts_col=past_rts_col,\n",
    "    estimator=mqcnn_estimator,\n",
    ")"
   ]
  },
  {
   "cell_type": "code",
   "execution_count": 4,
   "id": "c9f7eab6-682c-411f-9009-c4a1aa7d0159",
   "metadata": {
    "tags": []
   },
   "outputs": [
    {
     "ename": "NameError",
     "evalue": "name 'tss' is not defined",
     "output_type": "error",
     "traceback": [
      "\u001b[0;31m---------------------------------------------------------------------------\u001b[0m",
      "\u001b[0;31mNameError\u001b[0m                                 Traceback (most recent call last)",
      "\u001b[0;32m<ipython-input-4-44076264607c>\u001b[0m in \u001b[0;36m<module>\u001b[0;34m\u001b[0m\n\u001b[1;32m      1\u001b[0m \u001b[0;31m# Plot forecast\u001b[0m\u001b[0;34m\u001b[0m\u001b[0;34m\u001b[0m\u001b[0m\n\u001b[1;32m      2\u001b[0m plot_forecast(\n\u001b[0;32m----> 3\u001b[0;31m     \u001b[0mtss\u001b[0m\u001b[0;34m=\u001b[0m\u001b[0mtss\u001b[0m\u001b[0;34m,\u001b[0m\u001b[0;34m\u001b[0m\u001b[0;34m\u001b[0m\u001b[0m\n\u001b[0m\u001b[1;32m      4\u001b[0m     \u001b[0mforecasts\u001b[0m\u001b[0;34m=\u001b[0m\u001b[0mforecasts\u001b[0m\u001b[0;34m,\u001b[0m\u001b[0;34m\u001b[0m\u001b[0;34m\u001b[0m\u001b[0m\n\u001b[1;32m      5\u001b[0m     \u001b[0mpath\u001b[0m\u001b[0;34m=\u001b[0m\u001b[0;34m\"./plot.svg\"\u001b[0m\u001b[0;34m,\u001b[0m\u001b[0;34m\u001b[0m\u001b[0;34m\u001b[0m\u001b[0m\n",
      "\u001b[0;31mNameError\u001b[0m: name 'tss' is not defined"
     ]
    }
   ],
   "source": [
    "# Plot forecast\n",
    "plot_forecast(\n",
    "    tss=tss, \n",
    "    forecasts=forecasts, \n",
    "    # path=\"./plot.svg\",\n",
    ")"
   ]
  },
  {
   "cell_type": "code",
   "execution_count": null,
   "id": "b9a3000d-5888-4b19-b79d-9ebd467389b5",
   "metadata": {
    "tags": []
   },
   "outputs": [],
   "source": [
    "# Add experiment to database store\n",
    "experiment_config = Forecast_Experiment(\n",
    "    model = 'mx_cnnqr',\n",
    "    version = version,\n",
    "    data_config = {\n",
    "        'target':target_col,\n",
    "        'past_rts_col':past_rts_col,\n",
    "        'windows':windows,\n",
    "    },\n",
    "    model_config = {\n",
    "        'epochs':max_epochs,\n",
    "        'prediction_length':prediction_length,\n",
    "        'channels_seq':channels_seq,\n",
    "        'decoder_mlp_dim_seq':decoder_mlp_dim_seq,\n",
    "        'use_past_feat_dynamic_real':use_past_feat_dynamic_real,\n",
    "        'context_length':context_length,\n",
    "        'lr':lr,\n",
    "        'weight_decay':weight_decay,\n",
    "    },\n",
    "    MASE = agg_metrics['MASE'],\n",
    "    MAPE = agg_metrics['MAPE'],\n",
    "    RMSE = agg_metrics['RMSE'],\n",
    "    wQL_10 = agg_metrics['wQuantileLoss[0.1]'],\n",
    "    wQL_50 = agg_metrics['wQuantileLoss[0.5]'],\n",
    "    wQL_90 = agg_metrics['wQuantileLoss[0.9]'],\n",
    "    avg_wQL = agg_metrics['mean_wQuantileLoss']\n",
    ")\n",
    "session.add(experiment_config)\n",
    "session.commit() \n",
    "print(\"done\")"
   ]
  },
  {
   "cell_type": "code",
   "execution_count": null,
   "id": "c4cc6018-20b0-43e4-ab96-5ab830492534",
   "metadata": {},
   "outputs": [],
   "source": []
  }
 ],
 "metadata": {
  "availableInstances": [
   {
    "_defaultOrder": 0,
    "_isFastLaunch": true,
    "category": "General purpose",
    "gpuNum": 0,
    "hideHardwareSpecs": false,
    "memoryGiB": 4,
    "name": "ml.t3.medium",
    "vcpuNum": 2
   },
   {
    "_defaultOrder": 1,
    "_isFastLaunch": false,
    "category": "General purpose",
    "gpuNum": 0,
    "hideHardwareSpecs": false,
    "memoryGiB": 8,
    "name": "ml.t3.large",
    "vcpuNum": 2
   },
   {
    "_defaultOrder": 2,
    "_isFastLaunch": false,
    "category": "General purpose",
    "gpuNum": 0,
    "hideHardwareSpecs": false,
    "memoryGiB": 16,
    "name": "ml.t3.xlarge",
    "vcpuNum": 4
   },
   {
    "_defaultOrder": 3,
    "_isFastLaunch": false,
    "category": "General purpose",
    "gpuNum": 0,
    "hideHardwareSpecs": false,
    "memoryGiB": 32,
    "name": "ml.t3.2xlarge",
    "vcpuNum": 8
   },
   {
    "_defaultOrder": 4,
    "_isFastLaunch": true,
    "category": "General purpose",
    "gpuNum": 0,
    "hideHardwareSpecs": false,
    "memoryGiB": 8,
    "name": "ml.m5.large",
    "vcpuNum": 2
   },
   {
    "_defaultOrder": 5,
    "_isFastLaunch": false,
    "category": "General purpose",
    "gpuNum": 0,
    "hideHardwareSpecs": false,
    "memoryGiB": 16,
    "name": "ml.m5.xlarge",
    "vcpuNum": 4
   },
   {
    "_defaultOrder": 6,
    "_isFastLaunch": false,
    "category": "General purpose",
    "gpuNum": 0,
    "hideHardwareSpecs": false,
    "memoryGiB": 32,
    "name": "ml.m5.2xlarge",
    "vcpuNum": 8
   },
   {
    "_defaultOrder": 7,
    "_isFastLaunch": false,
    "category": "General purpose",
    "gpuNum": 0,
    "hideHardwareSpecs": false,
    "memoryGiB": 64,
    "name": "ml.m5.4xlarge",
    "vcpuNum": 16
   },
   {
    "_defaultOrder": 8,
    "_isFastLaunch": false,
    "category": "General purpose",
    "gpuNum": 0,
    "hideHardwareSpecs": false,
    "memoryGiB": 128,
    "name": "ml.m5.8xlarge",
    "vcpuNum": 32
   },
   {
    "_defaultOrder": 9,
    "_isFastLaunch": false,
    "category": "General purpose",
    "gpuNum": 0,
    "hideHardwareSpecs": false,
    "memoryGiB": 192,
    "name": "ml.m5.12xlarge",
    "vcpuNum": 48
   },
   {
    "_defaultOrder": 10,
    "_isFastLaunch": false,
    "category": "General purpose",
    "gpuNum": 0,
    "hideHardwareSpecs": false,
    "memoryGiB": 256,
    "name": "ml.m5.16xlarge",
    "vcpuNum": 64
   },
   {
    "_defaultOrder": 11,
    "_isFastLaunch": false,
    "category": "General purpose",
    "gpuNum": 0,
    "hideHardwareSpecs": false,
    "memoryGiB": 384,
    "name": "ml.m5.24xlarge",
    "vcpuNum": 96
   },
   {
    "_defaultOrder": 12,
    "_isFastLaunch": false,
    "category": "General purpose",
    "gpuNum": 0,
    "hideHardwareSpecs": false,
    "memoryGiB": 8,
    "name": "ml.m5d.large",
    "vcpuNum": 2
   },
   {
    "_defaultOrder": 13,
    "_isFastLaunch": false,
    "category": "General purpose",
    "gpuNum": 0,
    "hideHardwareSpecs": false,
    "memoryGiB": 16,
    "name": "ml.m5d.xlarge",
    "vcpuNum": 4
   },
   {
    "_defaultOrder": 14,
    "_isFastLaunch": false,
    "category": "General purpose",
    "gpuNum": 0,
    "hideHardwareSpecs": false,
    "memoryGiB": 32,
    "name": "ml.m5d.2xlarge",
    "vcpuNum": 8
   },
   {
    "_defaultOrder": 15,
    "_isFastLaunch": false,
    "category": "General purpose",
    "gpuNum": 0,
    "hideHardwareSpecs": false,
    "memoryGiB": 64,
    "name": "ml.m5d.4xlarge",
    "vcpuNum": 16
   },
   {
    "_defaultOrder": 16,
    "_isFastLaunch": false,
    "category": "General purpose",
    "gpuNum": 0,
    "hideHardwareSpecs": false,
    "memoryGiB": 128,
    "name": "ml.m5d.8xlarge",
    "vcpuNum": 32
   },
   {
    "_defaultOrder": 17,
    "_isFastLaunch": false,
    "category": "General purpose",
    "gpuNum": 0,
    "hideHardwareSpecs": false,
    "memoryGiB": 192,
    "name": "ml.m5d.12xlarge",
    "vcpuNum": 48
   },
   {
    "_defaultOrder": 18,
    "_isFastLaunch": false,
    "category": "General purpose",
    "gpuNum": 0,
    "hideHardwareSpecs": false,
    "memoryGiB": 256,
    "name": "ml.m5d.16xlarge",
    "vcpuNum": 64
   },
   {
    "_defaultOrder": 19,
    "_isFastLaunch": false,
    "category": "General purpose",
    "gpuNum": 0,
    "hideHardwareSpecs": false,
    "memoryGiB": 384,
    "name": "ml.m5d.24xlarge",
    "vcpuNum": 96
   },
   {
    "_defaultOrder": 20,
    "_isFastLaunch": false,
    "category": "General purpose",
    "gpuNum": 0,
    "hideHardwareSpecs": true,
    "memoryGiB": 0,
    "name": "ml.geospatial.interactive",
    "supportedImageNames": [
     "sagemaker-geospatial-v1-0"
    ],
    "vcpuNum": 0
   },
   {
    "_defaultOrder": 21,
    "_isFastLaunch": true,
    "category": "Compute optimized",
    "gpuNum": 0,
    "hideHardwareSpecs": false,
    "memoryGiB": 4,
    "name": "ml.c5.large",
    "vcpuNum": 2
   },
   {
    "_defaultOrder": 22,
    "_isFastLaunch": false,
    "category": "Compute optimized",
    "gpuNum": 0,
    "hideHardwareSpecs": false,
    "memoryGiB": 8,
    "name": "ml.c5.xlarge",
    "vcpuNum": 4
   },
   {
    "_defaultOrder": 23,
    "_isFastLaunch": false,
    "category": "Compute optimized",
    "gpuNum": 0,
    "hideHardwareSpecs": false,
    "memoryGiB": 16,
    "name": "ml.c5.2xlarge",
    "vcpuNum": 8
   },
   {
    "_defaultOrder": 24,
    "_isFastLaunch": false,
    "category": "Compute optimized",
    "gpuNum": 0,
    "hideHardwareSpecs": false,
    "memoryGiB": 32,
    "name": "ml.c5.4xlarge",
    "vcpuNum": 16
   },
   {
    "_defaultOrder": 25,
    "_isFastLaunch": false,
    "category": "Compute optimized",
    "gpuNum": 0,
    "hideHardwareSpecs": false,
    "memoryGiB": 72,
    "name": "ml.c5.9xlarge",
    "vcpuNum": 36
   },
   {
    "_defaultOrder": 26,
    "_isFastLaunch": false,
    "category": "Compute optimized",
    "gpuNum": 0,
    "hideHardwareSpecs": false,
    "memoryGiB": 96,
    "name": "ml.c5.12xlarge",
    "vcpuNum": 48
   },
   {
    "_defaultOrder": 27,
    "_isFastLaunch": false,
    "category": "Compute optimized",
    "gpuNum": 0,
    "hideHardwareSpecs": false,
    "memoryGiB": 144,
    "name": "ml.c5.18xlarge",
    "vcpuNum": 72
   },
   {
    "_defaultOrder": 28,
    "_isFastLaunch": false,
    "category": "Compute optimized",
    "gpuNum": 0,
    "hideHardwareSpecs": false,
    "memoryGiB": 192,
    "name": "ml.c5.24xlarge",
    "vcpuNum": 96
   },
   {
    "_defaultOrder": 29,
    "_isFastLaunch": true,
    "category": "Accelerated computing",
    "gpuNum": 1,
    "hideHardwareSpecs": false,
    "memoryGiB": 16,
    "name": "ml.g4dn.xlarge",
    "vcpuNum": 4
   },
   {
    "_defaultOrder": 30,
    "_isFastLaunch": false,
    "category": "Accelerated computing",
    "gpuNum": 1,
    "hideHardwareSpecs": false,
    "memoryGiB": 32,
    "name": "ml.g4dn.2xlarge",
    "vcpuNum": 8
   },
   {
    "_defaultOrder": 31,
    "_isFastLaunch": false,
    "category": "Accelerated computing",
    "gpuNum": 1,
    "hideHardwareSpecs": false,
    "memoryGiB": 64,
    "name": "ml.g4dn.4xlarge",
    "vcpuNum": 16
   },
   {
    "_defaultOrder": 32,
    "_isFastLaunch": false,
    "category": "Accelerated computing",
    "gpuNum": 1,
    "hideHardwareSpecs": false,
    "memoryGiB": 128,
    "name": "ml.g4dn.8xlarge",
    "vcpuNum": 32
   },
   {
    "_defaultOrder": 33,
    "_isFastLaunch": false,
    "category": "Accelerated computing",
    "gpuNum": 4,
    "hideHardwareSpecs": false,
    "memoryGiB": 192,
    "name": "ml.g4dn.12xlarge",
    "vcpuNum": 48
   },
   {
    "_defaultOrder": 34,
    "_isFastLaunch": false,
    "category": "Accelerated computing",
    "gpuNum": 1,
    "hideHardwareSpecs": false,
    "memoryGiB": 256,
    "name": "ml.g4dn.16xlarge",
    "vcpuNum": 64
   },
   {
    "_defaultOrder": 35,
    "_isFastLaunch": false,
    "category": "Accelerated computing",
    "gpuNum": 1,
    "hideHardwareSpecs": false,
    "memoryGiB": 61,
    "name": "ml.p3.2xlarge",
    "vcpuNum": 8
   },
   {
    "_defaultOrder": 36,
    "_isFastLaunch": false,
    "category": "Accelerated computing",
    "gpuNum": 4,
    "hideHardwareSpecs": false,
    "memoryGiB": 244,
    "name": "ml.p3.8xlarge",
    "vcpuNum": 32
   },
   {
    "_defaultOrder": 37,
    "_isFastLaunch": false,
    "category": "Accelerated computing",
    "gpuNum": 8,
    "hideHardwareSpecs": false,
    "memoryGiB": 488,
    "name": "ml.p3.16xlarge",
    "vcpuNum": 64
   },
   {
    "_defaultOrder": 38,
    "_isFastLaunch": false,
    "category": "Accelerated computing",
    "gpuNum": 8,
    "hideHardwareSpecs": false,
    "memoryGiB": 768,
    "name": "ml.p3dn.24xlarge",
    "vcpuNum": 96
   },
   {
    "_defaultOrder": 39,
    "_isFastLaunch": false,
    "category": "Memory Optimized",
    "gpuNum": 0,
    "hideHardwareSpecs": false,
    "memoryGiB": 16,
    "name": "ml.r5.large",
    "vcpuNum": 2
   },
   {
    "_defaultOrder": 40,
    "_isFastLaunch": false,
    "category": "Memory Optimized",
    "gpuNum": 0,
    "hideHardwareSpecs": false,
    "memoryGiB": 32,
    "name": "ml.r5.xlarge",
    "vcpuNum": 4
   },
   {
    "_defaultOrder": 41,
    "_isFastLaunch": false,
    "category": "Memory Optimized",
    "gpuNum": 0,
    "hideHardwareSpecs": false,
    "memoryGiB": 64,
    "name": "ml.r5.2xlarge",
    "vcpuNum": 8
   },
   {
    "_defaultOrder": 42,
    "_isFastLaunch": false,
    "category": "Memory Optimized",
    "gpuNum": 0,
    "hideHardwareSpecs": false,
    "memoryGiB": 128,
    "name": "ml.r5.4xlarge",
    "vcpuNum": 16
   },
   {
    "_defaultOrder": 43,
    "_isFastLaunch": false,
    "category": "Memory Optimized",
    "gpuNum": 0,
    "hideHardwareSpecs": false,
    "memoryGiB": 256,
    "name": "ml.r5.8xlarge",
    "vcpuNum": 32
   },
   {
    "_defaultOrder": 44,
    "_isFastLaunch": false,
    "category": "Memory Optimized",
    "gpuNum": 0,
    "hideHardwareSpecs": false,
    "memoryGiB": 384,
    "name": "ml.r5.12xlarge",
    "vcpuNum": 48
   },
   {
    "_defaultOrder": 45,
    "_isFastLaunch": false,
    "category": "Memory Optimized",
    "gpuNum": 0,
    "hideHardwareSpecs": false,
    "memoryGiB": 512,
    "name": "ml.r5.16xlarge",
    "vcpuNum": 64
   },
   {
    "_defaultOrder": 46,
    "_isFastLaunch": false,
    "category": "Memory Optimized",
    "gpuNum": 0,
    "hideHardwareSpecs": false,
    "memoryGiB": 768,
    "name": "ml.r5.24xlarge",
    "vcpuNum": 96
   },
   {
    "_defaultOrder": 47,
    "_isFastLaunch": false,
    "category": "Accelerated computing",
    "gpuNum": 1,
    "hideHardwareSpecs": false,
    "memoryGiB": 16,
    "name": "ml.g5.xlarge",
    "vcpuNum": 4
   },
   {
    "_defaultOrder": 48,
    "_isFastLaunch": false,
    "category": "Accelerated computing",
    "gpuNum": 1,
    "hideHardwareSpecs": false,
    "memoryGiB": 32,
    "name": "ml.g5.2xlarge",
    "vcpuNum": 8
   },
   {
    "_defaultOrder": 49,
    "_isFastLaunch": false,
    "category": "Accelerated computing",
    "gpuNum": 1,
    "hideHardwareSpecs": false,
    "memoryGiB": 64,
    "name": "ml.g5.4xlarge",
    "vcpuNum": 16
   },
   {
    "_defaultOrder": 50,
    "_isFastLaunch": false,
    "category": "Accelerated computing",
    "gpuNum": 1,
    "hideHardwareSpecs": false,
    "memoryGiB": 128,
    "name": "ml.g5.8xlarge",
    "vcpuNum": 32
   },
   {
    "_defaultOrder": 51,
    "_isFastLaunch": false,
    "category": "Accelerated computing",
    "gpuNum": 1,
    "hideHardwareSpecs": false,
    "memoryGiB": 256,
    "name": "ml.g5.16xlarge",
    "vcpuNum": 64
   },
   {
    "_defaultOrder": 52,
    "_isFastLaunch": false,
    "category": "Accelerated computing",
    "gpuNum": 4,
    "hideHardwareSpecs": false,
    "memoryGiB": 192,
    "name": "ml.g5.12xlarge",
    "vcpuNum": 48
   },
   {
    "_defaultOrder": 53,
    "_isFastLaunch": false,
    "category": "Accelerated computing",
    "gpuNum": 4,
    "hideHardwareSpecs": false,
    "memoryGiB": 384,
    "name": "ml.g5.24xlarge",
    "vcpuNum": 96
   },
   {
    "_defaultOrder": 54,
    "_isFastLaunch": false,
    "category": "Accelerated computing",
    "gpuNum": 8,
    "hideHardwareSpecs": false,
    "memoryGiB": 768,
    "name": "ml.g5.48xlarge",
    "vcpuNum": 192
   },
   {
    "_defaultOrder": 55,
    "_isFastLaunch": false,
    "category": "Accelerated computing",
    "gpuNum": 8,
    "hideHardwareSpecs": false,
    "memoryGiB": 1152,
    "name": "ml.p4d.24xlarge",
    "vcpuNum": 96
   },
   {
    "_defaultOrder": 56,
    "_isFastLaunch": false,
    "category": "Accelerated computing",
    "gpuNum": 8,
    "hideHardwareSpecs": false,
    "memoryGiB": 1152,
    "name": "ml.p4de.24xlarge",
    "vcpuNum": 96
   }
  ],
  "instance_type": "ml.c5.2xlarge",
  "kernelspec": {
   "display_name": "Python 3 (PyTorch 1.13 Python 3.9 GPU Optimized)",
   "language": "python",
   "name": "python3__SAGEMAKER_INTERNAL__arn:aws:sagemaker:us-east-1:081325390199:image/pytorch-1.13-gpu-py39"
  },
  "language_info": {
   "codemirror_mode": {
    "name": "ipython",
    "version": 3
   },
   "file_extension": ".py",
   "mimetype": "text/x-python",
   "name": "python",
   "nbconvert_exporter": "python",
   "pygments_lexer": "ipython3",
   "version": "3.9.16"
  }
 },
 "nbformat": 4,
 "nbformat_minor": 5
}
