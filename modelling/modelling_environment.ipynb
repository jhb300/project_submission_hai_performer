{
 "cells": [
  {
   "cell_type": "markdown",
   "id": "6fa28662-5b05-40c9-990e-dc92fc73f41e",
   "metadata": {
    "tags": []
   },
   "source": [
    "# Modelling Exploration Notebook V1\n",
    "\n",
    "This Notebook compares different forecast models provided by GluonTS. <br />\n",
    "Experiments are run using Python 3.9 and PyTorch 1.13. <br />\n",
    "Compared were:\n",
    "\n",
    "- DeepAR (Salinas et al. 2020): [torch impl](https://github.com/awslabs/gluonts/blob/dev/src/gluonts/torch/model/deepar/estimator.py)\n",
    "- DeepState (Rangapuram et al. 2018): [mx impl](https://github.com/awslabs/gluonts/blob/dev/src/gluonts/mx/model/deepstate/_estimator.py)\n",
    "- MQ-CNN (Wen et al. 2017): [mx impl](https://github.com/awslabs/gluonts/blob/dev/src/gluonts/mx/model/seq2seq/_mq_dnn_estimator.py)\n"
   ]
  },
  {
   "cell_type": "code",
   "execution_count": null,
   "id": "4c944b69-de31-4244-b298-156b6361a813",
   "metadata": {
    "tags": []
   },
   "outputs": [],
   "source": [
    "# Imports experiment script\n",
    "from src.forecast_experiment import run_experiment\n",
    "from src.forecast_util import plot_forecast\n",
    "\n",
    "# Import packages\n",
    "from datetime import timedelta\n",
    "import json\n",
    "import pickle"
   ]
  },
  {
   "cell_type": "markdown",
   "id": "f7caf1fd-5419-4ed7-88fd-caf84c4e6b2f",
   "metadata": {
    "tags": []
   },
   "source": [
    "## Experiment Overview\n"
   ]
  },
  {
   "cell_type": "markdown",
   "id": "97643bac-9bd2-4fb2-af8b-a27d4b3500f7",
   "metadata": {
    "tags": []
   },
   "source": [
    "### Define Configuration Store\n"
   ]
  },
  {
   "cell_type": "code",
   "execution_count": null,
   "id": "5f018390-c368-46f7-8e78-cf7c0f95faf4",
   "metadata": {
    "tags": []
   },
   "outputs": [],
   "source": [
    "from sqlalchemy import create_engine, Column, Integer, Float, String, PickleType, select\n",
    "from sqlalchemy.orm import declarative_base\n",
    "from sqlalchemy.orm import sessionmaker"
   ]
  },
  {
   "cell_type": "code",
   "execution_count": null,
   "id": "0eddc5a7-7e1b-4820-a421-e42692bc7f0c",
   "metadata": {
    "tags": []
   },
   "outputs": [],
   "source": [
    "Base = declarative_base()\n",
    "\n",
    "\n",
    "class Forecast_Experiment(Base):\n",
    "    __tablename__ = \"forecast_experiment\"\n",
    "    id = Column(\"id\", Integer, primary_key=True)\n",
    "    model = Column(\"model name\", String(20))\n",
    "    version = Column(\"version\", Integer)\n",
    "    data_config = Column(\"data_config\", PickleType)\n",
    "    model_config = Column(\"model_config\", PickleType)\n",
    "    MASE = Column(\"MASE\", Float)\n",
    "    MAPE = Column(\"MAPE\", Float)\n",
    "    RMSE = Column(\"RMSE\", Float)\n",
    "    wQL_10 = Column(\"wQL_10\", Float)\n",
    "    wQL_50 = Column(\"wQL_50\", Float)\n",
    "    wQL_90 = Column(\"wQL_90\", Float)\n",
    "    avg_wQL = Column(\"avg_wQL\", Float)"
   ]
  },
  {
   "cell_type": "code",
   "execution_count": null,
   "id": "290176bd-2fba-4211-8c57-0e52740e2c86",
   "metadata": {
    "tags": []
   },
   "outputs": [],
   "source": [
    "engine = create_engine(\"sqlite:///./config/forecast_config_v2.db\")\n",
    "\n",
    "Base.metadata.create_all(bind=engine)\n",
    "Session = sessionmaker(bind=engine)\n",
    "session = Session()"
   ]
  },
  {
   "cell_type": "markdown",
   "id": "6b5025c1-20ab-4590-80e6-7a1bae15b5c8",
   "metadata": {
    "jp-MarkdownHeadingCollapsed": true,
    "tags": []
   },
   "source": [
    "### Explore Experiments\n"
   ]
  },
  {
   "cell_type": "markdown",
   "id": "c727ec93-8e7b-402d-b333-4a462bc30b24",
   "metadata": {},
   "source": [
    "The model name follows this naming convention: {framework}\\_{model_name}. <br />\n",
    "\n",
    "- The framework specifies the Machine Learning Framework used to implement the model (mxnet, torch, tensorflow)\n",
    "- The model_name specifies the Algorithm used (e.g. DeepAR).\n",
    "\n",
    "The version field is used to track the stage of experiments as defined below. This means general progression of modelling insights as well as updated data sources.\n",
    "\n",
    "- version 1: first exploration\n",
    "  - \"../data_engineering/financial_ts/indices.csv\",\n",
    "  - \"../data_engineering/financial_ts/ww_gdp.csv\",\n",
    "  - \"../data_engineering/timeseries_data/ts_dgelt_events.csv\"\n",
    "- version 2: specific exploration\n",
    "  - \"../data_engineering/financial_ts/indices.csv\",\n",
    "  - \"../data_engineering/financial_ts/ww_gdp.csv\",\n",
    "  - \"../data_engineering/timeseries_data/ts_gdelt_5k_per_year_data.csv\"\n"
   ]
  },
  {
   "cell_type": "code",
   "execution_count": null,
   "id": "0d5fa574-5d77-4e53-a979-ccf1c60c21b7",
   "metadata": {
    "tags": []
   },
   "outputs": [],
   "source": [
    "# Query experiment Table and print results:\n",
    "q1 = select(Forecast_Experiment).order_by(Forecast_Experiment.avg_wQL)\n",
    "q1_result = session.execute(q1)\n",
    "\n",
    "for s in q1_result.scalars():\n",
    "    print(\n",
    "        f\"\"\"{s.model}: {s.version} \n",
    "        - model_config: {str(s.model_config)[1:-1].replace(\"'\",\"\")}:\n",
    "        - MAPE: {s.MAPE},\n",
    "        - avg_wQL: {s.avg_wQL},\n",
    "        \"\"\"\n",
    "    )"
   ]
  },
  {
   "cell_type": "markdown",
   "id": "9311b35a-d43c-4502-878c-9fd0773ad097",
   "metadata": {
    "jp-MarkdownHeadingCollapsed": true,
    "tags": []
   },
   "source": [
    "### Migrate Experiments\n"
   ]
  },
  {
   "cell_type": "markdown",
   "id": "e7181a0d-1fda-43bb-90be-6204d1f9f71c",
   "metadata": {},
   "source": [
    "The Experiments from the modelling_experimentation_v1 notebook are stored in two different tables. <br>\n",
    "They are exported to a json file with the following code to read the file and store previous experiments in the new database with dynamic config attributes.\n"
   ]
  },
  {
   "cell_type": "code",
   "execution_count": null,
   "id": "8af8550e-8bc6-4e4f-aa90-a382316c3edd",
   "metadata": {
    "tags": []
   },
   "outputs": [],
   "source": [
    "# Opening JSON file\n",
    "with open(\"data_v2.json\") as json_file:\n",
    "    data = json.load(json_file)"
   ]
  },
  {
   "cell_type": "code",
   "execution_count": null,
   "id": "e61a2f2e-bc86-43e1-a679-03c1bdf8098a",
   "metadata": {
    "tags": []
   },
   "outputs": [],
   "source": [
    "for e in data:\n",
    "    experiment_config = Forecast_Experiment(\n",
    "        model=e[\"name\"],\n",
    "        version=1,\n",
    "        data_config={\n",
    "            \"target\": e[\"target\"],\n",
    "            \"past_rts_col\": e[\"past_rts_col\"],\n",
    "            \"windows\": 1,\n",
    "        },\n",
    "        model_config={\n",
    "            \"epochs\": e[\"epochs\"],\n",
    "            \"prediction_length\": e[\"prediction_length\"],\n",
    "            \"num_layers\": e[\"num_layers\"],\n",
    "            \"hidden_size\": e[\"hidden_size\"],\n",
    "            # 'context_length':e['context_length'],\n",
    "            \"lr\": e[\"lr\"],\n",
    "            \"weight_decay\": e[\"weight_decay\"],\n",
    "        },\n",
    "        MASE=e[\"MASE\"],\n",
    "        MAPE=e[\"MAPE\"],\n",
    "        RMSE=e[\"RMSE\"],\n",
    "        wQL_10=e[\"wQL_10\"],\n",
    "        wQL_50=e[\"wQL_50\"],\n",
    "        wQL_90=e[\"wQL_90\"],\n",
    "        avg_wQL=e[\"avg_wQL\"],\n",
    "    )\n",
    "    session.add(experiment_config)\n",
    "    session.commit()"
   ]
  },
  {
   "cell_type": "markdown",
   "id": "6064ad00-6aeb-4a4b-81f7-1d0bb4ead289",
   "metadata": {
    "tags": []
   },
   "source": [
    "## DeepAR ([torch](https://github.com/awslabs/gluonts/blob/dev/src/gluonts/torch/model/deepar/estimator.py))\n"
   ]
  },
  {
   "cell_type": "markdown",
   "id": "630727a2-99a1-43a1-816e-c8ebb79bc83f",
   "metadata": {},
   "source": [
    "DeepAR is a methodology for producing accurate probabilistic forecasts, based on training an autoregressive recurrent neural network model on a large number of related time series.\n"
   ]
  },
  {
   "cell_type": "code",
   "execution_count": null,
   "id": "c2309421-6814-40f1-a4b0-19c3adb59411",
   "metadata": {
    "tags": []
   },
   "outputs": [],
   "source": [
    "from gluonts.torch import DeepAREstimator"
   ]
  },
  {
   "cell_type": "code",
   "execution_count": null,
   "id": "c056fdcc-6c1f-4f1a-a783-27889e87af49",
   "metadata": {
    "tags": []
   },
   "outputs": [],
   "source": [
    "# Data specs\n",
    "input_paths = [\n",
    "    \"../data_engineering/financial_ts/indices.csv\",\n",
    "    \"../data_engineering/financial_ts/ww_gdp.csv\",\n",
    "    \"../data_engineering/timeseries_data/ts_gdelt_5k_per_year_data.csv\",\n",
    "]\n",
    "\n",
    "target_col = \"ts_S&P\"  # switch to ts_S&P\n",
    "with open(\"./config/past_rts_cols_v2.json\", \"r\") as fp:\n",
    "    past_rts_col = json.load(fp)[\"version_2\"]\n",
    "windows = 8\n",
    "\n",
    "# Estimator specs\n",
    "version = 2\n",
    "prediction_length = 52\n",
    "max_epochs = 100\n",
    "num_layers = 3\n",
    "hidden_size = 20\n",
    "context_length = 200\n",
    "weight_decay = 1e-15\n",
    "lr = 0.001\n",
    "offset = -(prediction_length * windows)\n",
    "\n",
    "# Trainer specs\n",
    "accelerator = \"cpu\"\n",
    "devices = \"auto\""
   ]
  },
  {
   "cell_type": "code",
   "execution_count": null,
   "id": "fb0fe261-1e72-47c7-b972-a6354e7a326a",
   "metadata": {
    "tags": []
   },
   "outputs": [],
   "source": [
    "# Define estimator\n",
    "deepar_estimator = DeepAREstimator(\n",
    "    prediction_length=prediction_length,\n",
    "    num_layers=num_layers,\n",
    "    hidden_size=hidden_size,\n",
    "    weight_decay=weight_decay,\n",
    "    context_length=context_length,\n",
    "    lr=lr,\n",
    "    freq=\"W\",\n",
    "    trainer_kwargs={\n",
    "        \"max_epochs\": max_epochs,\n",
    "        \"accelerator\": accelerator,\n",
    "        \"devices\": devices,\n",
    "    },\n",
    ")"
   ]
  },
  {
   "cell_type": "code",
   "execution_count": null,
   "id": "7fbecab8-444d-4fe4-bde3-1569fc5eb167",
   "metadata": {
    "tags": []
   },
   "outputs": [],
   "source": [
    "# Start Experiment\n",
    "forecasts, tss, agg_metrics = run_experiment(\n",
    "    input_paths=input_paths,\n",
    "    target_col=target_col,\n",
    "    prediction_length=prediction_length,\n",
    "    windows=windows,\n",
    "    offset=offset,\n",
    "    past_rts_col=past_rts_col,\n",
    "    estimator=deepar_estimator,\n",
    ")"
   ]
  },
  {
   "cell_type": "code",
   "execution_count": null,
   "id": "72237209-08ae-42ba-af3f-4c4a6028f344",
   "metadata": {
    "tags": []
   },
   "outputs": [],
   "source": [
    "# Plot forecast\n",
    "plot_forecast(\n",
    "    tss=tss,\n",
    "    forecasts=forecasts,\n",
    "    path=\"./8year_test.svg\",\n",
    ")"
   ]
  },
  {
   "cell_type": "code",
   "execution_count": null,
   "id": "4cd98f23-0253-4e67-b0ba-1fb9f5653190",
   "metadata": {
    "tags": []
   },
   "outputs": [],
   "source": [
    "with open(\"8year_test_tss.pkl\", \"wb\") as outp:\n",
    "    pickle.dump(tss, outp, pickle.HIGHEST_PROTOCOL)\n",
    "\n",
    "with open(\"8year_test_forecasts.pkl\", \"wb\") as outp:\n",
    "    pickle.dump(forecasts, outp, pickle.HIGHEST_PROTOCOL)"
   ]
  },
  {
   "cell_type": "code",
   "execution_count": null,
   "id": "a36dbe32-57b9-4d92-abc5-591a9948e7e7",
   "metadata": {},
   "outputs": [],
   "source": [
    "# Add experiment to database store\n",
    "experiment_config = Forecast_Experiment(\n",
    "    model=\"torch_deepar_8year_v6\",\n",
    "    version=version,\n",
    "    data_config={\n",
    "        \"target\": target_col,\n",
    "        \"past_rts_col\": past_rts_col,\n",
    "        \"windows\": windows,\n",
    "    },\n",
    "    model_config={\n",
    "        \"epochs\": max_epochs,\n",
    "        \"prediction_length\": prediction_length,\n",
    "        \"num_layers\": num_layers,\n",
    "        \"hidden_size\": hidden_size,\n",
    "        \"context_length\": context_length,\n",
    "        \"lr\": lr,\n",
    "        \"weight_decay\": weight_decay,\n",
    "    },\n",
    "    MASE=agg_metrics[\"MASE\"],\n",
    "    MAPE=agg_metrics[\"MAPE\"],\n",
    "    RMSE=agg_metrics[\"RMSE\"],\n",
    "    wQL_10=agg_metrics[\"wQuantileLoss[0.1]\"],\n",
    "    wQL_50=agg_metrics[\"wQuantileLoss[0.5]\"],\n",
    "    wQL_90=agg_metrics[\"wQuantileLoss[0.9]\"],\n",
    "    avg_wQL=agg_metrics[\"mean_wQuantileLoss\"],\n",
    ")\n",
    "session.add(experiment_config)\n",
    "session.commit()"
   ]
  },
  {
   "cell_type": "markdown",
   "id": "ab88f6d4-e890-41bb-9ab4-3a9523b18c30",
   "metadata": {
    "tags": []
   },
   "source": [
    "## DeepState ([mx](https://github.com/awslabs/gluonts/blob/dev/src/gluonts/mx/model/deepstate/_estimator.py))\n"
   ]
  },
  {
   "cell_type": "markdown",
   "id": "827b8258-5a20-4598-a301-b91465d1cdcd",
   "metadata": {},
   "source": [
    "DeepState is a novel approach to probabilistic time series forecasting that combines state space models with deep learning. By parametrizing a per-time-series linear state space model with a jointly-learned recurrent neural network, our method retains desired properties of state space models such as data efficiency and interpretability, while making use of the ability to learn complex patterns from raw data offered by deep learning approaches.\n"
   ]
  },
  {
   "cell_type": "code",
   "execution_count": null,
   "id": "44abff25-80bb-4ebe-a376-d1e8312f6479",
   "metadata": {
    "tags": []
   },
   "outputs": [],
   "source": [
    "from gluonts.mx import DeepStateEstimator\n",
    "from gluonts.mx import Trainer"
   ]
  },
  {
   "cell_type": "code",
   "execution_count": null,
   "id": "3fb5510f-278b-48b8-9e93-6f955156b850",
   "metadata": {
    "tags": []
   },
   "outputs": [],
   "source": [
    "# Data specs\n",
    "input_paths = [\n",
    "    \"../data_engineering/financial_ts/indices.csv\",\n",
    "    \"../data_engineering/financial_ts/ww_gdp.csv\",\n",
    "    \"../data_engineering/timeseries_data/ts_dgelt_events.csv\",\n",
    "]\n",
    "\n",
    "target_col = \"ts_MSCI_World\"\n",
    "with open(\"./config/past_rts_cols.json\", \"r\") as fp:\n",
    "    past_rts_col = json.load(fp)[\"version_1\"]\n",
    "windows = 1\n",
    "\n",
    "# Estimator specs\n",
    "version = 1\n",
    "prediction_length = 56\n",
    "num_layers = 2\n",
    "hidden_size = 20\n",
    "\n",
    "# Trainer specs\n",
    "max_epochs = 100\n",
    "lr = 1e-1\n",
    "weight_decay = 1e-4"
   ]
  },
  {
   "cell_type": "code",
   "execution_count": null,
   "id": "990009b6-8107-4f2d-a7eb-d0b013f4048f",
   "metadata": {
    "tags": []
   },
   "outputs": [],
   "source": [
    "# Define estimator\n",
    "deepstate_estimator = DeepStateEstimator(\n",
    "    prediction_length=prediction_length,\n",
    "    num_layers=num_layers,\n",
    "    num_cells=hidden_size,\n",
    "    use_feat_static_cat=False,\n",
    "    cardinality=[],\n",
    "    trainer=Trainer(\n",
    "        epochs=max_epochs,\n",
    "        learning_rate=lr,\n",
    "        weight_decay=weight_decay,\n",
    "    ),\n",
    "    freq=\"W\",\n",
    ")"
   ]
  },
  {
   "cell_type": "code",
   "execution_count": null,
   "id": "f7e30987-b4de-41db-b228-d9bdaed3a658",
   "metadata": {
    "tags": []
   },
   "outputs": [],
   "source": [
    "# Start Experiment\n",
    "forecasts, tss, agg_metrics = run_experiment(\n",
    "    input_paths=input_paths,\n",
    "    target_col=target_col,\n",
    "    prediction_length=prediction_length,\n",
    "    windows=windows,\n",
    "    past_rts_col=past_rts_col,\n",
    "    estimator=deepstate_estimator,\n",
    ")"
   ]
  },
  {
   "cell_type": "code",
   "execution_count": null,
   "id": "5799173a-ed67-4c22-a577-6942e6f28745",
   "metadata": {
    "tags": []
   },
   "outputs": [],
   "source": [
    "# Plot forecast\n",
    "plot_forecast(\n",
    "    tss=tss,\n",
    "    forecasts=forecasts,\n",
    "    # path=\"./plot.svg\",\n",
    ")"
   ]
  },
  {
   "cell_type": "code",
   "execution_count": null,
   "id": "938d84d4-10c8-45bb-bf0e-d823ff04c327",
   "metadata": {
    "tags": []
   },
   "outputs": [],
   "source": [
    "# Add experiment to database store\n",
    "experiment_config = Forecast_Experiment(\n",
    "    model=\"mx_deepstate\",\n",
    "    version=version,\n",
    "    data_config={\n",
    "        \"target\": target_col,\n",
    "        \"past_rts_col\": past_rts_col,\n",
    "        \"windows\": windows,\n",
    "    },\n",
    "    model_config={\n",
    "        \"epochs\": max_epochs,\n",
    "        \"prediction_length\": prediction_length,\n",
    "        \"num_layers\": num_layers,\n",
    "        \"hidden_size\": hidden_size,\n",
    "        \"lr\": lr,\n",
    "        \"weight_decay\": weight_decay,\n",
    "    },\n",
    "    MASE=agg_metrics[\"MASE\"],\n",
    "    MAPE=agg_metrics[\"MAPE\"],\n",
    "    RMSE=agg_metrics[\"RMSE\"],\n",
    "    wQL_10=agg_metrics[\"wQuantileLoss[0.1]\"],\n",
    "    wQL_50=agg_metrics[\"wQuantileLoss[0.5]\"],\n",
    "    wQL_90=agg_metrics[\"wQuantileLoss[0.9]\"],\n",
    "    avg_wQL=agg_metrics[\"mean_wQuantileLoss\"],\n",
    ")\n",
    "session.add(experiment_config)\n",
    "session.commit()"
   ]
  },
  {
   "cell_type": "markdown",
   "id": "e1cbfe2d-c175-4846-8999-8c56aca7cbcf",
   "metadata": {
    "tags": []
   },
   "source": [
    "## MQ-CNN ([mx](https://github.com/awslabs/gluonts/blob/dev/src/gluonts/mx/model/seq2seq/_mq_dnn_estimator.py))\n"
   ]
  },
  {
   "cell_type": "markdown",
   "id": "bbbc5d17-c691-4a4b-b57f-c82ef22ff9b2",
   "metadata": {},
   "source": [
    "MQ-CNN is a general probabilistic multi-step time series regression model. It exploits the expressiveness and temporal nature of Sequence-to-Sequence Neural Networks (e.g. recurrent and convolutional structures), the nonparametric nature of Quantile Regression and the efficiency of Direct Multi-Horizon Forecasting.\n"
   ]
  },
  {
   "cell_type": "code",
   "execution_count": null,
   "id": "8430f487-7d10-4a37-ba99-8230db875ffc",
   "metadata": {
    "tags": []
   },
   "outputs": [],
   "source": [
    "from gluonts.mx import MQCNNEstimator\n",
    "from gluonts.mx import Trainer\n",
    "import mxnet as mx"
   ]
  },
  {
   "cell_type": "code",
   "execution_count": null,
   "id": "cb96de68-bdc3-46d1-b70a-9d716ed17d3d",
   "metadata": {},
   "outputs": [],
   "source": [
    "# Data specs\n",
    "input_paths = [\n",
    "    \"../data_engineering/financial_ts/indices.csv\",\n",
    "    \"../data_engineering/financial_ts/ww_gdp.csv\",\n",
    "    \"../data_engineering/timeseries_data/ts_dgelt_events.csv\",\n",
    "]\n",
    "\n",
    "target_col = \"ts_MSCI_World\"\n",
    "with open(\"./config/past_rts_cols.json\", \"r\") as fp:\n",
    "    past_rts_col = json.load(fp)[\"version_1\"]\n",
    "windows = 1\n",
    "\n",
    "# Estimator specs\n",
    "version = 1\n",
    "prediction_length = 56\n",
    "decoder_mlp_dim_seq = [30]\n",
    "channels_seq = [30, 30, 30]\n",
    "use_past_feat_dynamic_real = True\n",
    "context_length = 50\n",
    "\n",
    "# Trainer specs\n",
    "max_epochs = 200\n",
    "lr = 1e-1\n",
    "weight_decay = 1e-4\n",
    "ctx = mx.cpu()  # mx.gpu()"
   ]
  },
  {
   "cell_type": "code",
   "execution_count": null,
   "id": "4756d1e8-f9c3-498f-acd9-9adbeedaf8fa",
   "metadata": {
    "tags": []
   },
   "outputs": [],
   "source": [
    "mqcnn_estimator = MQCNNEstimator(\n",
    "    prediction_length=prediction_length,\n",
    "    channels_seq=channels_seq,\n",
    "    use_past_feat_dynamic_real=use_past_feat_dynamic_real,\n",
    "    decoder_mlp_dim_seq=decoder_mlp_dim_seq,\n",
    "    context_length=context_length,\n",
    "    freq=\"W\",\n",
    "    trainer=Trainer(\n",
    "        ctx=ctx,\n",
    "        epochs=max_epochs,\n",
    "        learning_rate=lr,\n",
    "        weight_decay=weight_decay,\n",
    "    ),\n",
    ")"
   ]
  },
  {
   "cell_type": "code",
   "execution_count": null,
   "id": "d84ef8ff-8060-460c-8b53-2ea1f59dab3a",
   "metadata": {
    "tags": []
   },
   "outputs": [],
   "source": [
    "# Start Experiment\n",
    "forecasts, tss, agg_metrics = run_experiment(\n",
    "    input_paths=input_paths,\n",
    "    target_col=target_col,\n",
    "    prediction_length=prediction_length,\n",
    "    windows=windows,\n",
    "    past_rts_col=past_rts_col,\n",
    "    estimator=mqcnn_estimator,\n",
    ")"
   ]
  },
  {
   "cell_type": "code",
   "execution_count": null,
   "id": "c9f7eab6-682c-411f-9009-c4a1aa7d0159",
   "metadata": {
    "tags": []
   },
   "outputs": [],
   "source": [
    "# Plot forecast\n",
    "plot_forecast(\n",
    "    tss=tss,\n",
    "    forecasts=forecasts,\n",
    "    # path=\"./plot.svg\",\n",
    ")"
   ]
  },
  {
   "cell_type": "code",
   "execution_count": null,
   "id": "b9a3000d-5888-4b19-b79d-9ebd467389b5",
   "metadata": {
    "tags": []
   },
   "outputs": [],
   "source": [
    "# Add experiment to database store\n",
    "experiment_config = Forecast_Experiment(\n",
    "    model=\"mx_cnnqr\",\n",
    "    version=version,\n",
    "    data_config={\n",
    "        \"target\": target_col,\n",
    "        \"past_rts_col\": past_rts_col,\n",
    "        \"windows\": windows,\n",
    "    },\n",
    "    model_config={\n",
    "        \"epochs\": max_epochs,\n",
    "        \"prediction_length\": prediction_length,\n",
    "        \"channels_seq\": channels_seq,\n",
    "        \"decoder_mlp_dim_seq\": decoder_mlp_dim_seq,\n",
    "        \"use_past_feat_dynamic_real\": use_past_feat_dynamic_real,\n",
    "        \"context_length\": context_length,\n",
    "        \"lr\": lr,\n",
    "        \"weight_decay\": weight_decay,\n",
    "    },\n",
    "    MASE=agg_metrics[\"MASE\"],\n",
    "    MAPE=agg_metrics[\"MAPE\"],\n",
    "    RMSE=agg_metrics[\"RMSE\"],\n",
    "    wQL_10=agg_metrics[\"wQuantileLoss[0.1]\"],\n",
    "    wQL_50=agg_metrics[\"wQuantileLoss[0.5]\"],\n",
    "    wQL_90=agg_metrics[\"wQuantileLoss[0.9]\"],\n",
    "    avg_wQL=agg_metrics[\"mean_wQuantileLoss\"],\n",
    ")\n",
    "session.add(experiment_config)\n",
    "session.commit()\n",
    "print(\"done\")"
   ]
  }
 ],
 "metadata": {
  "availableInstances": [
   {
    "_defaultOrder": 0,
    "_isFastLaunch": true,
    "category": "General purpose",
    "gpuNum": 0,
    "hideHardwareSpecs": false,
    "memoryGiB": 4,
    "name": "ml.t3.medium",
    "vcpuNum": 2
   },
   {
    "_defaultOrder": 1,
    "_isFastLaunch": false,
    "category": "General purpose",
    "gpuNum": 0,
    "hideHardwareSpecs": false,
    "memoryGiB": 8,
    "name": "ml.t3.large",
    "vcpuNum": 2
   },
   {
    "_defaultOrder": 2,
    "_isFastLaunch": false,
    "category": "General purpose",
    "gpuNum": 0,
    "hideHardwareSpecs": false,
    "memoryGiB": 16,
    "name": "ml.t3.xlarge",
    "vcpuNum": 4
   },
   {
    "_defaultOrder": 3,
    "_isFastLaunch": false,
    "category": "General purpose",
    "gpuNum": 0,
    "hideHardwareSpecs": false,
    "memoryGiB": 32,
    "name": "ml.t3.2xlarge",
    "vcpuNum": 8
   },
   {
    "_defaultOrder": 4,
    "_isFastLaunch": true,
    "category": "General purpose",
    "gpuNum": 0,
    "hideHardwareSpecs": false,
    "memoryGiB": 8,
    "name": "ml.m5.large",
    "vcpuNum": 2
   },
   {
    "_defaultOrder": 5,
    "_isFastLaunch": false,
    "category": "General purpose",
    "gpuNum": 0,
    "hideHardwareSpecs": false,
    "memoryGiB": 16,
    "name": "ml.m5.xlarge",
    "vcpuNum": 4
   },
   {
    "_defaultOrder": 6,
    "_isFastLaunch": false,
    "category": "General purpose",
    "gpuNum": 0,
    "hideHardwareSpecs": false,
    "memoryGiB": 32,
    "name": "ml.m5.2xlarge",
    "vcpuNum": 8
   },
   {
    "_defaultOrder": 7,
    "_isFastLaunch": false,
    "category": "General purpose",
    "gpuNum": 0,
    "hideHardwareSpecs": false,
    "memoryGiB": 64,
    "name": "ml.m5.4xlarge",
    "vcpuNum": 16
   },
   {
    "_defaultOrder": 8,
    "_isFastLaunch": false,
    "category": "General purpose",
    "gpuNum": 0,
    "hideHardwareSpecs": false,
    "memoryGiB": 128,
    "name": "ml.m5.8xlarge",
    "vcpuNum": 32
   },
   {
    "_defaultOrder": 9,
    "_isFastLaunch": false,
    "category": "General purpose",
    "gpuNum": 0,
    "hideHardwareSpecs": false,
    "memoryGiB": 192,
    "name": "ml.m5.12xlarge",
    "vcpuNum": 48
   },
   {
    "_defaultOrder": 10,
    "_isFastLaunch": false,
    "category": "General purpose",
    "gpuNum": 0,
    "hideHardwareSpecs": false,
    "memoryGiB": 256,
    "name": "ml.m5.16xlarge",
    "vcpuNum": 64
   },
   {
    "_defaultOrder": 11,
    "_isFastLaunch": false,
    "category": "General purpose",
    "gpuNum": 0,
    "hideHardwareSpecs": false,
    "memoryGiB": 384,
    "name": "ml.m5.24xlarge",
    "vcpuNum": 96
   },
   {
    "_defaultOrder": 12,
    "_isFastLaunch": false,
    "category": "General purpose",
    "gpuNum": 0,
    "hideHardwareSpecs": false,
    "memoryGiB": 8,
    "name": "ml.m5d.large",
    "vcpuNum": 2
   },
   {
    "_defaultOrder": 13,
    "_isFastLaunch": false,
    "category": "General purpose",
    "gpuNum": 0,
    "hideHardwareSpecs": false,
    "memoryGiB": 16,
    "name": "ml.m5d.xlarge",
    "vcpuNum": 4
   },
   {
    "_defaultOrder": 14,
    "_isFastLaunch": false,
    "category": "General purpose",
    "gpuNum": 0,
    "hideHardwareSpecs": false,
    "memoryGiB": 32,
    "name": "ml.m5d.2xlarge",
    "vcpuNum": 8
   },
   {
    "_defaultOrder": 15,
    "_isFastLaunch": false,
    "category": "General purpose",
    "gpuNum": 0,
    "hideHardwareSpecs": false,
    "memoryGiB": 64,
    "name": "ml.m5d.4xlarge",
    "vcpuNum": 16
   },
   {
    "_defaultOrder": 16,
    "_isFastLaunch": false,
    "category": "General purpose",
    "gpuNum": 0,
    "hideHardwareSpecs": false,
    "memoryGiB": 128,
    "name": "ml.m5d.8xlarge",
    "vcpuNum": 32
   },
   {
    "_defaultOrder": 17,
    "_isFastLaunch": false,
    "category": "General purpose",
    "gpuNum": 0,
    "hideHardwareSpecs": false,
    "memoryGiB": 192,
    "name": "ml.m5d.12xlarge",
    "vcpuNum": 48
   },
   {
    "_defaultOrder": 18,
    "_isFastLaunch": false,
    "category": "General purpose",
    "gpuNum": 0,
    "hideHardwareSpecs": false,
    "memoryGiB": 256,
    "name": "ml.m5d.16xlarge",
    "vcpuNum": 64
   },
   {
    "_defaultOrder": 19,
    "_isFastLaunch": false,
    "category": "General purpose",
    "gpuNum": 0,
    "hideHardwareSpecs": false,
    "memoryGiB": 384,
    "name": "ml.m5d.24xlarge",
    "vcpuNum": 96
   },
   {
    "_defaultOrder": 20,
    "_isFastLaunch": false,
    "category": "General purpose",
    "gpuNum": 0,
    "hideHardwareSpecs": true,
    "memoryGiB": 0,
    "name": "ml.geospatial.interactive",
    "supportedImageNames": [
     "sagemaker-geospatial-v1-0"
    ],
    "vcpuNum": 0
   },
   {
    "_defaultOrder": 21,
    "_isFastLaunch": true,
    "category": "Compute optimized",
    "gpuNum": 0,
    "hideHardwareSpecs": false,
    "memoryGiB": 4,
    "name": "ml.c5.large",
    "vcpuNum": 2
   },
   {
    "_defaultOrder": 22,
    "_isFastLaunch": false,
    "category": "Compute optimized",
    "gpuNum": 0,
    "hideHardwareSpecs": false,
    "memoryGiB": 8,
    "name": "ml.c5.xlarge",
    "vcpuNum": 4
   },
   {
    "_defaultOrder": 23,
    "_isFastLaunch": false,
    "category": "Compute optimized",
    "gpuNum": 0,
    "hideHardwareSpecs": false,
    "memoryGiB": 16,
    "name": "ml.c5.2xlarge",
    "vcpuNum": 8
   },
   {
    "_defaultOrder": 24,
    "_isFastLaunch": false,
    "category": "Compute optimized",
    "gpuNum": 0,
    "hideHardwareSpecs": false,
    "memoryGiB": 32,
    "name": "ml.c5.4xlarge",
    "vcpuNum": 16
   },
   {
    "_defaultOrder": 25,
    "_isFastLaunch": false,
    "category": "Compute optimized",
    "gpuNum": 0,
    "hideHardwareSpecs": false,
    "memoryGiB": 72,
    "name": "ml.c5.9xlarge",
    "vcpuNum": 36
   },
   {
    "_defaultOrder": 26,
    "_isFastLaunch": false,
    "category": "Compute optimized",
    "gpuNum": 0,
    "hideHardwareSpecs": false,
    "memoryGiB": 96,
    "name": "ml.c5.12xlarge",
    "vcpuNum": 48
   },
   {
    "_defaultOrder": 27,
    "_isFastLaunch": false,
    "category": "Compute optimized",
    "gpuNum": 0,
    "hideHardwareSpecs": false,
    "memoryGiB": 144,
    "name": "ml.c5.18xlarge",
    "vcpuNum": 72
   },
   {
    "_defaultOrder": 28,
    "_isFastLaunch": false,
    "category": "Compute optimized",
    "gpuNum": 0,
    "hideHardwareSpecs": false,
    "memoryGiB": 192,
    "name": "ml.c5.24xlarge",
    "vcpuNum": 96
   },
   {
    "_defaultOrder": 29,
    "_isFastLaunch": true,
    "category": "Accelerated computing",
    "gpuNum": 1,
    "hideHardwareSpecs": false,
    "memoryGiB": 16,
    "name": "ml.g4dn.xlarge",
    "vcpuNum": 4
   },
   {
    "_defaultOrder": 30,
    "_isFastLaunch": false,
    "category": "Accelerated computing",
    "gpuNum": 1,
    "hideHardwareSpecs": false,
    "memoryGiB": 32,
    "name": "ml.g4dn.2xlarge",
    "vcpuNum": 8
   },
   {
    "_defaultOrder": 31,
    "_isFastLaunch": false,
    "category": "Accelerated computing",
    "gpuNum": 1,
    "hideHardwareSpecs": false,
    "memoryGiB": 64,
    "name": "ml.g4dn.4xlarge",
    "vcpuNum": 16
   },
   {
    "_defaultOrder": 32,
    "_isFastLaunch": false,
    "category": "Accelerated computing",
    "gpuNum": 1,
    "hideHardwareSpecs": false,
    "memoryGiB": 128,
    "name": "ml.g4dn.8xlarge",
    "vcpuNum": 32
   },
   {
    "_defaultOrder": 33,
    "_isFastLaunch": false,
    "category": "Accelerated computing",
    "gpuNum": 4,
    "hideHardwareSpecs": false,
    "memoryGiB": 192,
    "name": "ml.g4dn.12xlarge",
    "vcpuNum": 48
   },
   {
    "_defaultOrder": 34,
    "_isFastLaunch": false,
    "category": "Accelerated computing",
    "gpuNum": 1,
    "hideHardwareSpecs": false,
    "memoryGiB": 256,
    "name": "ml.g4dn.16xlarge",
    "vcpuNum": 64
   },
   {
    "_defaultOrder": 35,
    "_isFastLaunch": false,
    "category": "Accelerated computing",
    "gpuNum": 1,
    "hideHardwareSpecs": false,
    "memoryGiB": 61,
    "name": "ml.p3.2xlarge",
    "vcpuNum": 8
   },
   {
    "_defaultOrder": 36,
    "_isFastLaunch": false,
    "category": "Accelerated computing",
    "gpuNum": 4,
    "hideHardwareSpecs": false,
    "memoryGiB": 244,
    "name": "ml.p3.8xlarge",
    "vcpuNum": 32
   },
   {
    "_defaultOrder": 37,
    "_isFastLaunch": false,
    "category": "Accelerated computing",
    "gpuNum": 8,
    "hideHardwareSpecs": false,
    "memoryGiB": 488,
    "name": "ml.p3.16xlarge",
    "vcpuNum": 64
   },
   {
    "_defaultOrder": 38,
    "_isFastLaunch": false,
    "category": "Accelerated computing",
    "gpuNum": 8,
    "hideHardwareSpecs": false,
    "memoryGiB": 768,
    "name": "ml.p3dn.24xlarge",
    "vcpuNum": 96
   },
   {
    "_defaultOrder": 39,
    "_isFastLaunch": false,
    "category": "Memory Optimized",
    "gpuNum": 0,
    "hideHardwareSpecs": false,
    "memoryGiB": 16,
    "name": "ml.r5.large",
    "vcpuNum": 2
   },
   {
    "_defaultOrder": 40,
    "_isFastLaunch": false,
    "category": "Memory Optimized",
    "gpuNum": 0,
    "hideHardwareSpecs": false,
    "memoryGiB": 32,
    "name": "ml.r5.xlarge",
    "vcpuNum": 4
   },
   {
    "_defaultOrder": 41,
    "_isFastLaunch": false,
    "category": "Memory Optimized",
    "gpuNum": 0,
    "hideHardwareSpecs": false,
    "memoryGiB": 64,
    "name": "ml.r5.2xlarge",
    "vcpuNum": 8
   },
   {
    "_defaultOrder": 42,
    "_isFastLaunch": false,
    "category": "Memory Optimized",
    "gpuNum": 0,
    "hideHardwareSpecs": false,
    "memoryGiB": 128,
    "name": "ml.r5.4xlarge",
    "vcpuNum": 16
   },
   {
    "_defaultOrder": 43,
    "_isFastLaunch": false,
    "category": "Memory Optimized",
    "gpuNum": 0,
    "hideHardwareSpecs": false,
    "memoryGiB": 256,
    "name": "ml.r5.8xlarge",
    "vcpuNum": 32
   },
   {
    "_defaultOrder": 44,
    "_isFastLaunch": false,
    "category": "Memory Optimized",
    "gpuNum": 0,
    "hideHardwareSpecs": false,
    "memoryGiB": 384,
    "name": "ml.r5.12xlarge",
    "vcpuNum": 48
   },
   {
    "_defaultOrder": 45,
    "_isFastLaunch": false,
    "category": "Memory Optimized",
    "gpuNum": 0,
    "hideHardwareSpecs": false,
    "memoryGiB": 512,
    "name": "ml.r5.16xlarge",
    "vcpuNum": 64
   },
   {
    "_defaultOrder": 46,
    "_isFastLaunch": false,
    "category": "Memory Optimized",
    "gpuNum": 0,
    "hideHardwareSpecs": false,
    "memoryGiB": 768,
    "name": "ml.r5.24xlarge",
    "vcpuNum": 96
   },
   {
    "_defaultOrder": 47,
    "_isFastLaunch": false,
    "category": "Accelerated computing",
    "gpuNum": 1,
    "hideHardwareSpecs": false,
    "memoryGiB": 16,
    "name": "ml.g5.xlarge",
    "vcpuNum": 4
   },
   {
    "_defaultOrder": 48,
    "_isFastLaunch": false,
    "category": "Accelerated computing",
    "gpuNum": 1,
    "hideHardwareSpecs": false,
    "memoryGiB": 32,
    "name": "ml.g5.2xlarge",
    "vcpuNum": 8
   },
   {
    "_defaultOrder": 49,
    "_isFastLaunch": false,
    "category": "Accelerated computing",
    "gpuNum": 1,
    "hideHardwareSpecs": false,
    "memoryGiB": 64,
    "name": "ml.g5.4xlarge",
    "vcpuNum": 16
   },
   {
    "_defaultOrder": 50,
    "_isFastLaunch": false,
    "category": "Accelerated computing",
    "gpuNum": 1,
    "hideHardwareSpecs": false,
    "memoryGiB": 128,
    "name": "ml.g5.8xlarge",
    "vcpuNum": 32
   },
   {
    "_defaultOrder": 51,
    "_isFastLaunch": false,
    "category": "Accelerated computing",
    "gpuNum": 1,
    "hideHardwareSpecs": false,
    "memoryGiB": 256,
    "name": "ml.g5.16xlarge",
    "vcpuNum": 64
   },
   {
    "_defaultOrder": 52,
    "_isFastLaunch": false,
    "category": "Accelerated computing",
    "gpuNum": 4,
    "hideHardwareSpecs": false,
    "memoryGiB": 192,
    "name": "ml.g5.12xlarge",
    "vcpuNum": 48
   },
   {
    "_defaultOrder": 53,
    "_isFastLaunch": false,
    "category": "Accelerated computing",
    "gpuNum": 4,
    "hideHardwareSpecs": false,
    "memoryGiB": 384,
    "name": "ml.g5.24xlarge",
    "vcpuNum": 96
   },
   {
    "_defaultOrder": 54,
    "_isFastLaunch": false,
    "category": "Accelerated computing",
    "gpuNum": 8,
    "hideHardwareSpecs": false,
    "memoryGiB": 768,
    "name": "ml.g5.48xlarge",
    "vcpuNum": 192
   },
   {
    "_defaultOrder": 55,
    "_isFastLaunch": false,
    "category": "Accelerated computing",
    "gpuNum": 8,
    "hideHardwareSpecs": false,
    "memoryGiB": 1152,
    "name": "ml.p4d.24xlarge",
    "vcpuNum": 96
   },
   {
    "_defaultOrder": 56,
    "_isFastLaunch": false,
    "category": "Accelerated computing",
    "gpuNum": 8,
    "hideHardwareSpecs": false,
    "memoryGiB": 1152,
    "name": "ml.p4de.24xlarge",
    "vcpuNum": 96
   }
  ],
  "instance_type": "ml.g4dn.xlarge",
  "kernelspec": {
   "display_name": "Python 3 (ipykernel)",
   "language": "python",
   "name": "python3"
  },
  "language_info": {
   "codemirror_mode": {
    "name": "ipython",
    "version": 3
   },
   "file_extension": ".py",
   "mimetype": "text/x-python",
   "name": "python",
   "nbconvert_exporter": "python",
   "pygments_lexer": "ipython3",
   "version": "3.9.13"
  }
 },
 "nbformat": 4,
 "nbformat_minor": 5
}
